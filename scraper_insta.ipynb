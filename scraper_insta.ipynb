{
 "cells": [
  {
   "cell_type": "code",
   "execution_count": null,
   "metadata": {},
   "outputs": [],
   "source": [
    "!pip3 install instaloader"
   ]
  },
  {
   "cell_type": "code",
   "execution_count": null,
   "metadata": {},
   "outputs": [],
   "source": [
    "!instaloader --login ademarco93"
   ]
  },
  {
   "cell_type": "code",
   "execution_count": null,
   "metadata": {},
   "outputs": [],
   "source": [
    "!instaloader -l gabbate0912"
   ]
  },
  {
   "cell_type": "code",
   "execution_count": null,
   "metadata": {},
   "outputs": [],
   "source": [
    "USER=\"ademarco93\""
   ]
  },
  {
   "cell_type": "code",
   "execution_count": 151,
   "metadata": {},
   "outputs": [],
   "source": [
    "from instaloader import Instaloader, Profile, Post\n",
    "from datetime import datetime, timedelta"
   ]
  },
  {
   "cell_type": "code",
   "execution_count": 150,
   "metadata": {},
   "outputs": [],
   "source": [
    "#francia , spagna, italia, germania, america, cina, \n",
    "lista_profili = [\"lemondefr\", \"elmundo_es\",\"corriere\",\"nzz\",\"nytimes\",\"globeandmail\",\"ukr_pravda\",\"izvestia_ru\"]"
   ]
  },
  {
   "cell_type": "code",
   "execution_count": 79,
   "metadata": {},
   "outputs": [
    {
     "name": "stdout",
     "output_type": "stream",
     "text": [
      "Loaded session from C:\\Users\\Francesco\\AppData\\Local\\Instaloader\\session-ademarco93.\n"
     ]
    }
   ],
   "source": [
    "L = Instaloader()\n",
    "L.load_session_from_file(USER)"
   ]
  },
  {
   "cell_type": "code",
   "execution_count": 35,
   "metadata": {},
   "outputs": [],
   "source": [
    "# chiave dizionario profilo, valore lista di post\n",
    "dictPost = {}"
   ]
  },
  {
   "cell_type": "code",
   "execution_count": 37,
   "metadata": {},
   "outputs": [],
   "source": [
    "for profilo in lista_profili:\n",
    "    profile_content = Profile.from_username(L.context, profilo)\n",
    "    listaPost=[]\n",
    "    for post in profile_content.get_posts():\n",
    "        if post.date.month > 4:\n",
    "            continue\n",
    "        if post.date.month < 4:\n",
    "            break\n",
    "        listaPost.append(post)\n",
    "    dictPost[profilo] = listaPost"
   ]
  },
  {
   "cell_type": "code",
   "execution_count": 48,
   "metadata": {},
   "outputs": [],
   "source": [
    "dictPost2={profilo:sorted(lista, key=lambda x: x.likes+x.comments, reverse=True) for profilo, lista in dictPost.items()}"
   ]
  },
  {
   "cell_type": "code",
   "execution_count": 59,
   "metadata": {},
   "outputs": [],
   "source": [
    "dictPost3={profilo:lista[:5] for profilo, lista in dictPost2.items()}"
   ]
  },
  {
   "cell_type": "code",
   "execution_count": null,
   "metadata": {},
   "outputs": [],
   "source": [
    "dictPost4={}\n",
    "n_limit=298\n",
    "for profilo,posts in dictPost3.items():\n",
    "    dictPost4[profilo]=[]\n",
    "    for post in posts:\n",
    "        postSistemato={\n",
    "        \"id\":post.shortcode,\n",
    "        \"date\":str(post.date),\n",
    "        \"caption\":post.caption,\n",
    "        \"caption_mentions\":post.caption_mentions,\n",
    "        \"captions_hashtags\":post.caption_hashtags,\n",
    "        \"n_comments\":post.comments,\n",
    "        \"n_likes\":post.likes,\n",
    "        \"comments\":[]        \n",
    "        }\n",
    "        i=0\n",
    "        for comment in post.get_comments():\n",
    "            commentSistemato={\n",
    "                \"id\":comment.id,\n",
    "                \"date\":str(comment.created_at_utc),\n",
    "                \"text\":comment.text,\n",
    "                \"likes\":comment.likes_count,\n",
    "                \"owner\":comment.owner.username,\n",
    "            }\n",
    "            postSistemato[\"comments\"].append(commentSistemato)\n",
    "            i+=1\n",
    "            if i>n_limit:\n",
    "                break\n",
    "        dictPost4[profilo].append(postSistemato)"
   ]
  },
  {
   "cell_type": "code",
   "execution_count": null,
   "metadata": {},
   "outputs": [],
   "source": [
    "import json"
   ]
  },
  {
   "cell_type": "code",
   "execution_count": 159,
   "metadata": {},
   "outputs": [],
   "source": [
    "json.dump(dictPost4, open(\"dictCompleto.json\", \"w\"))"
   ]
  }
 ],
 "metadata": {
  "interpreter": {
   "hash": "2c5217a3946e5a84d5ff067ec86c6c29aba46ea34fb35a222c2c09d02c172ab5"
  },
  "kernelspec": {
   "display_name": "Python 3.9.12 64-bit",
   "language": "python",
   "name": "python3"
  },
  "language_info": {
   "codemirror_mode": {
    "name": "ipython",
    "version": 3
   },
   "file_extension": ".py",
   "mimetype": "text/x-python",
   "name": "python",
   "nbconvert_exporter": "python",
   "pygments_lexer": "ipython3",
   "version": "3.9.12"
  },
  "orig_nbformat": 4
 },
 "nbformat": 4,
 "nbformat_minor": 2
}
