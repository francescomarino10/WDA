{
 "cells": [
  {
   "cell_type": "code",
   "execution_count": null,
   "metadata": {},
   "outputs": [],
   "source": [
    "!pip3 install instaloader"
   ]
  },
  {
   "cell_type": "code",
   "execution_count": 14,
   "metadata": {},
   "outputs": [
    {
     "name": "stdout",
     "output_type": "stream",
     "text": [
      "Loaded session from C:\\Users\\Francesco\\AppData\\Local\\Instaloader\\session-ademarco93.\n",
      "Logged in as ademarco93.\n",
      "Saved session to C:\\Users\\Francesco\\AppData\\Local\\Instaloader\\session-ademarco93.\n",
      "No targets were specified, thus nothing has been downloaded.\n"
     ]
    }
   ],
   "source": [
    "!instaloader --login ademarco93"
   ]
  },
  {
   "cell_type": "code",
   "execution_count": null,
   "metadata": {},
   "outputs": [],
   "source": [
    "!instaloader -l gabbate0912"
   ]
  },
  {
   "cell_type": "code",
   "execution_count": null,
   "metadata": {},
   "outputs": [],
   "source": [
    "USER=\"ademarco93\""
   ]
  },
  {
   "cell_type": "code",
   "execution_count": 24,
   "metadata": {},
   "outputs": [],
   "source": [
    "from instaloader import Instaloader, Profile, Hashtag\n",
    "from datetime import datetime, timedelta"
   ]
  },
  {
   "cell_type": "code",
   "execution_count": 150,
   "metadata": {},
   "outputs": [],
   "source": [
    "#francia , spagna, italia, germania, america, cina, \n",
    "lista_profili = [\"lemondefr\", \"elmundo_es\",\"corriere\",\"nzz\",\"nytimes\",\"globeandmail\",\"ukr_pravda\",\"izvestia_ru\"]"
   ]
  },
  {
   "cell_type": "code",
   "execution_count": null,
   "metadata": {},
   "outputs": [],
   "source": [
    "now=datetime.now()\n",
    "date_limit=now-timedelta(days=30)"
   ]
  },
  {
   "cell_type": "code",
   "execution_count": 31,
   "metadata": {},
   "outputs": [],
   "source": [
    "L = Instaloader()"
   ]
  },
  {
   "cell_type": "code",
   "execution_count": 33,
   "metadata": {},
   "outputs": [],
   "source": [
    "dictHash={}"
   ]
  },
  {
   "cell_type": "code",
   "execution_count": 34,
   "metadata": {},
   "outputs": [],
   "source": [
    "hashtag = Hashtag.from_name(L.context, \"russia\")\n",
    "dictHash[hashtag.name]=[]\n",
    "i=0\n",
    "for post in hashtag.get_posts():\n",
    "    dictHash[hashtag.name].append(post)\n",
    "    i=i+1\n",
    "    if i>=10:\n",
    "        break"
   ]
  },
  {
   "cell_type": "code",
   "execution_count": 18,
   "metadata": {},
   "outputs": [],
   "source": [
    "profile_content = Profile.from_username(L.context, \"nytimes\")\n",
    "listaPost=[]\n",
    "i=0\n",
    "for post in profile_content.get_posts():\n",
    "    if post.caption_hashtags:\n",
    "        listaPost.append(post)\n",
    "        i+=1\n",
    "    if i>=100:\n",
    "        break"
   ]
  },
  {
   "cell_type": "code",
   "execution_count": 23,
   "metadata": {},
   "outputs": [
    {
     "data": {
      "text/plain": [
       "'Looking back at the #YearInPictures, November 2021 \\u2063\\n\\nOxford, Michigan, Nov. 30: Students during a vigil after a gunman shot 11 people at Oxford High School, killing four students. A 15-year-old boy was charged in the attack, and so were his parents, who bought him the gun. 📸 @nickhagenphoto\\n\\nBrunswick, Georgia, Nov. 24: Wanda Cooper-Jones, the mother of Ahmaud Arbery, leaving the courthouse after a jury found three white men guilty in the murder of her son, whose killing helped inspire racial justice protests last year. 📸 @nicole_craine \\n\\nBruzgi, Belarus, Nov. 16: Migrants desperate to reach the European Union camped in squalor near the Poland-Belarus border. They were caught in a standoff between Belarus, which encouraged migrants to come, and Poland, which fought to keep them out. 📸 @mjrhill\\n\\nManhattan, Nov. 2: Health care providers mobilized nationally for a fresh wave of Covid inoculations, as children ages 5 to 11, like Otto Linn-Walton, became eligible for the Pfizer-BioNTech vaccine. 📸 @jamesestrin\\n\\nFlathead Reservation, Montana, Nov. 25: Michael Irvine hunts with his son Michael and grandson Andrew. The Irvines, members of the Confederated Salish and Kootenai Tribes, hunt each year on Thanksgiving and meet for a meal, but do not celebrate the history of the holiday. 📸 @tailyrirvine\\n\\nRiverside, California, Nov. 12: The football team at the California School for the Deaf, Riverside, dominated their opponents to become championship contenders in their division, electrifying a campus that had seen more than a few athletic defeats. 📸 @adamperez22\\n\\nRoxbury, Connecticut, Nov. 21: Stephen Sondheim, the driving force behind some of Broadway’s most beloved shows, at home a few days before he died at 91. 📸 @danieldorsa \\n\\nManhattan, Nov. 18: After the U.S. reopened its borders on Nov. 8 to vaccinated foreign travelers for the first time in 18 months, international tourists began trickling back to New York, including to Times Square. 📸 @gabbyjones.jpeg'"
      ]
     },
     "execution_count": 23,
     "metadata": {},
     "output_type": "execute_result"
    }
   ],
   "source": [
    "listaPost[20].caption"
   ]
  },
  {
   "cell_type": "code",
   "execution_count": null,
   "metadata": {},
   "outputs": [],
   "source": [
    "for post in listaPost:\n",
    "    for hashtag in post.caption_hashtags:\n",
    "        if hashtag in dizHashtags:\n",
    "            dizHashtags[hashtag]+=1\n",
    "        else:\n",
    "            dizHashtags[hashtag]=1"
   ]
  },
  {
   "cell_type": "code",
   "execution_count": 19,
   "metadata": {},
   "outputs": [
    {
     "name": "stdout",
     "output_type": "stream",
     "text": [
      "['roevwade', 'abortion', 'nytarchives']\n",
      "['nytopinion']\n",
      "['nytopinion']\n",
      "['metoo']\n",
      "['nytopinion']\n",
      "['uvalde', 'nytopinion']\n",
      "['theconventlife']\n",
      "['metoo']\n",
      "['standwithukraine']\n",
      "['tdesignissue']\n",
      "['metoo']\n",
      "['ukraine', 'russia', 'nytopinion']\n",
      "['laurensmithfields', 'justiceforlaurensmithfields']\n",
      "['nyfw']\n",
      "['nytarchives', 'valentinesday', 'love']\n",
      "['beijing2022']\n",
      "['52places']\n",
      "['52places']\n",
      "['52places']\n",
      "['yearinpictures']\n",
      "['yearinpictures']\n",
      "['yearinpictures']\n",
      "['yearinpictures']\n",
      "['roomoftheday']\n",
      "['yearinpictures']\n",
      "['yearinpictures']\n",
      "['yearinpictures']\n",
      "['yearinpictures']\n",
      "['yearinpictures']\n",
      "['yearinpictures']\n",
      "['yearinpictures']\n",
      "['yearinpictures']\n",
      "['yearinpictures', 'yearinpictures']\n",
      "['t25dishesnyc']\n",
      "['yearinpictures', 'yearinpictures']\n",
      "['climatechange', 'climatechangedme', 'climatecrisis', 'climatestrike', 'facetheclimateemergency', 'nytopinion']\n",
      "['oscarssowhite', 'santassowhite']\n",
      "['nytcookies']\n",
      "['sidesgiving']\n",
      "['freebritney']\n",
      "['slaysians']\n",
      "['netflixwalkout']\n",
      "['metoo', 'metoo']\n",
      "['metoo']\n",
      "['metoo']\n",
      "['jenpsaki', 'psakibomb']\n",
      "['theworldthroughalens']\n",
      "['t25rooms', 't25buildings']\n",
      "['helpturkey']\n",
      "['freebritney']\n",
      "['metoo']\n",
      "['vanlife']\n",
      "['freebritney']\n",
      "['blackhistorycontinued']\n",
      "['tiktokfood']\n",
      "['adrianskickback']\n",
      "['metoo']\n",
      "['stopasianhate', 'stopasianhate']\n",
      "['songsofcomfort']\n",
      "['justiceforvicha', 'stopasianhate']\n",
      "['52places']\n",
      "['shrooms']\n",
      "['freebritney']\n",
      "['52places']\n",
      "['52places']\n",
      "['52places']\n",
      "['yearinpictures']\n",
      "['yearinpictures']\n",
      "['yearinpictures']\n",
      "['yearinpictures']\n",
      "['covid19']\n",
      "['yearinpictures']\n",
      "['metoo']\n",
      "['yearinpictures']\n",
      "['yearinpictures']\n",
      "['yearinpictures']\n",
      "['yearinpictures']\n",
      "['wintersolstice', 'winter']\n",
      "['yearinpictures']\n",
      "['yearinpictures']\n",
      "['nythouseparty']\n",
      "['yearinpictures']\n",
      "['yearinpictures', 'yearinpictures', 'yearinpictures']\n",
      "['yearinpictures', 'yearinpictures']\n",
      "['nytopinion']\n",
      "['coronavirus', 'cdc']\n",
      "['tbt']\n",
      "['thanksgiving']\n",
      "['artistsupportpledge', 'artistsupportpledge']\n",
      "['nytpies']\n",
      "['pandemic', 'pandemicart']\n",
      "['vegetarian']\n",
      "['metoo']\n",
      "['metoo', 'metoo']\n",
      "['metoo']\n",
      "['nyfw']\n",
      "['nyfw']\n",
      "['tbt']\n",
      "['soapstone', 'isabelduprat']\n",
      "['nytassignment']\n"
     ]
    }
   ],
   "source": [
    "for post in listaPost:\n",
    "    print(post.caption_hashtags)"
   ]
  },
  {
   "cell_type": "code",
   "execution_count": 12,
   "metadata": {},
   "outputs": [
    {
     "data": {
      "text/plain": [
       "[<Post CfebJ8HA9YF>,\n",
       " <Post CfeTai1LpjV>,\n",
       " <Post CfeEBJ-uwUq>,\n",
       " <Post Cfcwx37sXqq>,\n",
       " <Post CfcgXRahCom>,\n",
       " <Post CfcRyCFgJgk>,\n",
       " <Post CfcCIBFhHfl>,\n",
       " <Post Cfb-i7Eu-1e>,\n",
       " <Post CfbsXfWACi6>,\n",
       " <Post Cfbg_L4O89h>,\n",
       " <Post CfaLBhah0Dy>,\n",
       " <Post CfZ4NIKAeIP>]"
      ]
     },
     "execution_count": 12,
     "metadata": {},
     "output_type": "execute_result"
    }
   ],
   "source": [
    "listaPost"
   ]
  },
  {
   "cell_type": "code",
   "execution_count": 7,
   "metadata": {},
   "outputs": [
    {
     "name": "stdout",
     "output_type": "stream",
     "text": [
      "[]\n",
      "['roevwade', 'abortion', 'nytarchives']\n",
      "[]\n",
      "[]\n",
      "[]\n",
      "[]\n",
      "[]\n",
      "[]\n",
      "[]\n",
      "[]\n",
      "[]\n",
      "[]\n",
      "[]\n",
      "[]\n",
      "[]\n",
      "[]\n",
      "[]\n",
      "[]\n",
      "[]\n",
      "[]\n",
      "[]\n",
      "[]\n",
      "[]\n",
      "[]\n",
      "[]\n",
      "[]\n",
      "[]\n",
      "[]\n",
      "[]\n",
      "[]\n",
      "[]\n",
      "[]\n",
      "[]\n",
      "[]\n",
      "[]\n",
      "['nytopinion']\n",
      "[]\n",
      "[]\n",
      "[]\n",
      "[]\n",
      "[]\n",
      "[]\n",
      "[]\n",
      "[]\n",
      "[]\n",
      "[]\n",
      "[]\n",
      "[]\n",
      "[]\n",
      "[]\n",
      "[]\n",
      "[]\n",
      "[]\n",
      "[]\n",
      "[]\n",
      "[]\n",
      "[]\n",
      "[]\n",
      "[]\n",
      "[]\n",
      "[]\n",
      "[]\n",
      "[]\n",
      "[]\n",
      "[]\n",
      "[]\n",
      "[]\n",
      "[]\n",
      "[]\n",
      "[]\n",
      "[]\n",
      "[]\n",
      "[]\n",
      "[]\n",
      "[]\n",
      "[]\n",
      "[]\n",
      "[]\n",
      "[]\n",
      "[]\n",
      "[]\n",
      "[]\n",
      "[]\n",
      "[]\n",
      "[]\n",
      "[]\n",
      "[]\n",
      "[]\n",
      "[]\n",
      "[]\n",
      "[]\n",
      "[]\n",
      "[]\n",
      "[]\n",
      "[]\n",
      "[]\n",
      "[]\n",
      "[]\n",
      "[]\n",
      "[]\n"
     ]
    }
   ],
   "source": [
    "for i in listaPost:\n",
    "    print(i.caption_hashtags)"
   ]
  },
  {
   "cell_type": "code",
   "execution_count": 17,
   "metadata": {},
   "outputs": [
    {
     "name": "stdout",
     "output_type": "stream",
     "text": [
      "Loaded session from C:\\Users\\Francesco\\AppData\\Local\\Instaloader\\session-ademarco93.\n"
     ]
    }
   ],
   "source": [
    "L = Instaloader()\n",
    "L.load_session_from_file(\"ademarco93\")"
   ]
  },
  {
   "cell_type": "code",
   "execution_count": 35,
   "metadata": {},
   "outputs": [],
   "source": [
    "# chiave dizionario profilo, valore lista di post\n",
    "dictPost = {}"
   ]
  },
  {
   "cell_type": "code",
   "execution_count": 37,
   "metadata": {},
   "outputs": [],
   "source": [
    "for profilo in lista_profili:\n",
    "    profile_content = Profile.from_username(L.context, profilo)\n",
    "    listaPost=[]\n",
    "    for post in profile_content.get_posts():\n",
    "        if post.date.month > 4:\n",
    "            continue\n",
    "        if post.date.month < 4:\n",
    "            break\n",
    "        listaPost.append(post)\n",
    "    dictPost[profilo] = listaPost"
   ]
  },
  {
   "cell_type": "code",
   "execution_count": 48,
   "metadata": {},
   "outputs": [],
   "source": [
    "dictPost2={profilo:sorted(lista, key=lambda x: x.likes+x.comments, reverse=True) for profilo, lista in dictPost.items()}"
   ]
  },
  {
   "cell_type": "code",
   "execution_count": 59,
   "metadata": {},
   "outputs": [],
   "source": [
    "dictPost3={profilo:lista[:5] for profilo, lista in dictPost2.items()}"
   ]
  },
  {
   "cell_type": "code",
   "execution_count": null,
   "metadata": {},
   "outputs": [],
   "source": [
    "dictPost4={}\n",
    "n_limit=298\n",
    "for profilo,posts in dictPost3.items():\n",
    "    dictPost4[profilo]=[]\n",
    "    for post in posts:\n",
    "        postSistemato={\n",
    "        \"id\":post.shortcode,\n",
    "        \"date\":str(post.date),\n",
    "        \"caption\":post.caption,\n",
    "        \"caption_mentions\":post.caption_mentions,\n",
    "        \"captions_hashtags\":post.caption_hashtags,\n",
    "        \"n_comments\":post.comments,\n",
    "        \"n_likes\":post.likes,\n",
    "        \"comments\":[]        \n",
    "        }\n",
    "        i=0\n",
    "        for comment in post.get_comments():\n",
    "            commentSistemato={\n",
    "                \"id\":comment.id,\n",
    "                \"date\":str(comment.created_at_utc),\n",
    "                \"text\":comment.text,\n",
    "                \"likes\":comment.likes_count,\n",
    "                \"owner\":comment.owner.username,\n",
    "            }\n",
    "            postSistemato[\"comments\"].append(commentSistemato)\n",
    "            i+=1\n",
    "            if i>n_limit:\n",
    "                break\n",
    "        dictPost4[profilo].append(postSistemato)"
   ]
  },
  {
   "cell_type": "code",
   "execution_count": null,
   "metadata": {},
   "outputs": [],
   "source": [
    "import json"
   ]
  },
  {
   "cell_type": "code",
   "execution_count": 159,
   "metadata": {},
   "outputs": [],
   "source": [
    "json.dump(dictPost4, open(\"dictCompleto.json\", \"w\"))"
   ]
  }
 ],
 "metadata": {
  "interpreter": {
   "hash": "2c5217a3946e5a84d5ff067ec86c6c29aba46ea34fb35a222c2c09d02c172ab5"
  },
  "kernelspec": {
   "display_name": "Python 3.9.12 64-bit",
   "language": "python",
   "name": "python3"
  },
  "language_info": {
   "codemirror_mode": {
    "name": "ipython",
    "version": 3
   },
   "file_extension": ".py",
   "mimetype": "text/x-python",
   "name": "python",
   "nbconvert_exporter": "python",
   "pygments_lexer": "ipython3",
   "version": "3.9.12"
  },
  "orig_nbformat": 4
 },
 "nbformat": 4,
 "nbformat_minor": 2
}
