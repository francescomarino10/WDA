{
 "cells": [
  {
   "cell_type": "code",
   "execution_count": 1,
   "metadata": {},
   "outputs": [
    {
     "name": "stdout",
     "output_type": "stream",
     "text": [
      "10\n"
     ]
    }
   ],
   "source": [
    "with open(\"dataset\\#abortion.txt\") as file:\n",
    "    documentsAbortion=file.read().split(\"\\n\\n\")\n",
    "print(len(documentsAbortion))"
   ]
  },
  {
   "cell_type": "code",
   "execution_count": 2,
   "metadata": {},
   "outputs": [
    {
     "name": "stdout",
     "output_type": "stream",
     "text": [
      "12\n"
     ]
    }
   ],
   "source": [
    "with open(\"dataset\\#climate.txt\") as file:\n",
    "    documentsClimate=file.read().split(\"\\n\\n\")\n",
    "print(len(documentsClimate))"
   ]
  },
  {
   "cell_type": "code",
   "execution_count": 3,
   "metadata": {},
   "outputs": [
    {
     "name": "stdout",
     "output_type": "stream",
     "text": [
      "9\n"
     ]
    }
   ],
   "source": [
    "with open(\"dataset\\#covid.txt\") as file:\n",
    "    documentsCovid=file.read().split(\"\\n\\n\")\n",
    "print(len(documentsCovid))"
   ]
  },
  {
   "cell_type": "code",
   "execution_count": 4,
   "metadata": {},
   "outputs": [
    {
     "name": "stdout",
     "output_type": "stream",
     "text": [
      "19\n"
     ]
    }
   ],
   "source": [
    "with open(\"dataset\\#food.txt\") as file:\n",
    "    documentsFood=file.read().split(\"\\n\\n\")\n",
    "print(len(documentsFood))"
   ]
  },
  {
   "cell_type": "code",
   "execution_count": 5,
   "metadata": {},
   "outputs": [
    {
     "name": "stdout",
     "output_type": "stream",
     "text": [
      "13\n"
     ]
    }
   ],
   "source": [
    "with open(\"dataset\\#guns_violence.txt\") as file:\n",
    "    documentsGunViolence=file.read().split(\"\\n\\n\")\n",
    "print(len(documentsGunViolence))"
   ]
  },
  {
   "cell_type": "code",
   "execution_count": 6,
   "metadata": {},
   "outputs": [
    {
     "name": "stdout",
     "output_type": "stream",
     "text": [
      "8\n"
     ]
    }
   ],
   "source": [
    "with open(\"dataset\\#LGBTQ.txt\") as file:\n",
    "    documentsLGBTQ=file.read().split(\"\\n\\n\")\n",
    "print(len(documentsLGBTQ))"
   ]
  },
  {
   "cell_type": "code",
   "execution_count": 7,
   "metadata": {},
   "outputs": [
    {
     "name": "stdout",
     "output_type": "stream",
     "text": [
      "15\n"
     ]
    }
   ],
   "source": [
    "with open(\"dataset\\#politics.txt\") as file:\n",
    "    documentsPolitics=file.read().split(\"\\n\\n\")\n",
    "print(len(documentsPolitics))"
   ]
  },
  {
   "cell_type": "code",
   "execution_count": 8,
   "metadata": {},
   "outputs": [
    {
     "name": "stdout",
     "output_type": "stream",
     "text": [
      "26\n"
     ]
    }
   ],
   "source": [
    "with open(\"dataset\\#sport.txt\") as file:\n",
    "    documentsSport=file.read().split(\"\\n\\n\")\n",
    "print(len(documentsSport))"
   ]
  },
  {
   "cell_type": "code",
   "execution_count": 9,
   "metadata": {},
   "outputs": [
    {
     "name": "stdout",
     "output_type": "stream",
     "text": [
      "9\n"
     ]
    }
   ],
   "source": [
    "with open(\"dataset\\#ukraine.txt\") as file:\n",
    "    documentsUkraine=file.read().split(\"\\n\\n\")\n",
    "print(len(documentsUkraine))"
   ]
  },
  {
   "cell_type": "code",
   "execution_count": 10,
   "metadata": {},
   "outputs": [],
   "source": [
    "allDocuments=\\\n",
    "documentsAbortion+\\\n",
    "documentsClimate+\\\n",
    "documentsCovid+\\\n",
    "documentsFood+\\\n",
    "documentsGunViolence+\\\n",
    "documentsLGBTQ+\\\n",
    "documentsPolitics+\\\n",
    "documentsSport+\\\n",
    "documentsUkraine"
   ]
  },
  {
   "cell_type": "code",
   "execution_count": 11,
   "metadata": {},
   "outputs": [
    {
     "data": {
      "text/plain": [
       "121"
      ]
     },
     "execution_count": 11,
     "metadata": {},
     "output_type": "execute_result"
    }
   ],
   "source": [
    "len(allDocuments)"
   ]
  },
  {
   "cell_type": "code",
   "execution_count": 12,
   "metadata": {},
   "outputs": [],
   "source": [
    "import json"
   ]
  },
  {
   "cell_type": "code",
   "execution_count": 13,
   "metadata": {},
   "outputs": [],
   "source": [
    "json.dump(allDocuments, open(\"allDocuments3.json\", \"w\"))"
   ]
  },
  {
   "cell_type": "code",
   "execution_count": null,
   "metadata": {},
   "outputs": [],
   "source": []
  }
 ],
 "metadata": {
  "interpreter": {
   "hash": "2c5217a3946e5a84d5ff067ec86c6c29aba46ea34fb35a222c2c09d02c172ab5"
  },
  "kernelspec": {
   "display_name": "Python 3.9.12 ('base')",
   "language": "python",
   "name": "python3"
  },
  "language_info": {
   "codemirror_mode": {
    "name": "ipython",
    "version": 3
   },
   "file_extension": ".py",
   "mimetype": "text/x-python",
   "name": "python",
   "nbconvert_exporter": "python",
   "pygments_lexer": "ipython3",
   "version": "3.9.12"
  },
  "orig_nbformat": 4
 },
 "nbformat": 4,
 "nbformat_minor": 2
}
