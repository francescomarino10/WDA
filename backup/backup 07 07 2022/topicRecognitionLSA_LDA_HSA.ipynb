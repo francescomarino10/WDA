{
  "cells": [
    {
      "cell_type": "code",
      "execution_count": 16,
      "metadata": {
        "id": "OWxBUGszJCUG"
      },
      "outputs": [],
      "source": [
        "import funzioni_topic_detection as ftd"
      ]
    },
    {
      "cell_type": "code",
      "execution_count": 11,
      "metadata": {
        "id": "IEonHZttdj6Q"
      },
      "outputs": [],
      "source": [
        "corpus=[\"https://colab.research.google.com/drive/1dduOM7M3RubSeqpogrM1H7PhL2S9ZMbt#scrollTo=1eeVrjeBpn1x\",\n",
        "        \"is not happy capitol riot vote forces , not happy Republican to pick truth or Trump not good is not yours\",\n",
        "        \"EU not good agrees to allow entry to vaccinated travelers\",\n",
        "        \"Why the United Nation is stuck on the Israeli-Palestinian conflict\",\n",
        "        \"New York attorney general adds 'criminal capacity' to probe of Trump Organization\",\n",
        "        \"Given the recent accusations against the European Commission on land registry, beach resorts, PNRR, public accounts, etc., it is clear that many think that the EU should behave as if it were our ATM that gives money and is silent. But the ATM gives you your money, the EU gives us other people's money.\",\n",
        "        \"ANSA FORUM | Lega secretary Matteo Salvini responds live to questions from director Luigi Contu and colleague of the political-parliamentary editorial staff Michela Suglia #ANSA\",\n",
        "        \"Murder Willy, Bianchi in the courtroom: I didn't even touch him with a finger\",\n",
        "        \"The positives at #vaiolodellescimmie in Lombardy have risen to three. The Region has already communicated the protocol that hospitals must follow in the event of symptoms appearing\",\n",
        "        \"An assault rifle in the hand of an 18-year-old. An assault rifle. #Texas\",\n",
        "        \"Transfer market live: Pogba-Juve in the final close, Napoli and Fiorentina on Deulofeu [by Giulio Cardone, Enrico De Lellis]\",\n",
        "        \"#Economia circular and #gestione environmental: limits and opportunities. The #aziende must carefully screen #investimenti , #costi and perspectives and must show #flessibilità and a rapid propensity for change\",\n",
        "        \"Fire on the island of Stromboli, flames extinguished after a night of fire #ANSA\",\n",
        "        \"A new anti-cancer vaccine, tested in mice and monkeys, has been shown to be able to break down the defenses that tumors put in place to protect themselves from attacks by the immune system by blocking diseased cells\",\n",
        "        \"Term of the day: Computational fluid dynamics Definition: The numerical solution of flow equations in practical problems such as aircraft design or hydraulic structures.\",\n",
        "        \"The mayor of Kiev: 'The Russian war will not stop in Ukraine'\",\n",
        "        \"The killer of elementary school in #Uvalde in #Texas Salvador Ramos worked in a restaurant not far from the scene of the massacre. He would have been able to save around 4,000 dollars (3.7 thousand euros) to buy the weapons he used in the massacre\"]"
      ]
    },
    {
      "cell_type": "code",
      "execution_count": null,
      "metadata": {},
      "outputs": [],
      "source": [
        "frase=['the war is a universal conflict ukraine fire']"
      ]
    },
    {
      "cell_type": "markdown",
      "metadata": {},
      "source": [
        "LSA"
      ]
    },
    {
      "cell_type": "code",
      "execution_count": null,
      "metadata": {
        "id": "6tHy9Xn25fzi"
      },
      "outputs": [],
      "source": [
        "lsaModel=ftd.LSAModel(corpus)\n",
        "lsaModel.result_TopicLSA(frase)\n",
        "lsaModel.result_TopicLSAMax(frase)\n",
        "lsaModel.print_topics()"
      ]
    },
    {
      "cell_type": "markdown",
      "metadata": {
        "id": "JZdy-qZaGwCq"
      },
      "source": [
        "LDA"
      ]
    },
    {
      "cell_type": "code",
      "execution_count": null,
      "metadata": {
        "colab": {
          "base_uri": "https://localhost:8080/",
          "height": 235
        },
        "id": "G3MbKo3eJCUJ",
        "outputId": "4df616e0-bea2-4534-e30f-7391eca9a461"
      },
      "outputs": [],
      "source": [
        "ldaModel=ftd.LDAModel(corpus)\n",
        "ldaModel.result_TopicLDA(frase)\n",
        "ldaModel.result_TopicLDAMax(frase)\n",
        "ldaModel.print_topics()\n",
        "ldaModel.grafico_LDA()"
      ]
    },
    {
      "cell_type": "markdown",
      "metadata": {
        "id": "ifGebaDDYci7"
      },
      "source": [
        "HDP"
      ]
    },
    {
      "cell_type": "code",
      "execution_count": null,
      "metadata": {
        "id": "wI9vTDChJCUJ"
      },
      "outputs": [],
      "source": [
        "hdpModel=ftd.HDPModel(corpus)\n",
        "hdpModel.result_TopicHDP(frase)\n",
        "hdpModel.result_TopicHDPMax(frase)\n",
        "hdpModel.print_topics()"
      ]
    }
  ],
  "metadata": {
    "colab": {
      "collapsed_sections": [],
      "name": "TOPIC_RECOGNITION_DEF(1).ipynb",
      "provenance": []
    },
    "interpreter": {
      "hash": "2c5217a3946e5a84d5ff067ec86c6c29aba46ea34fb35a222c2c09d02c172ab5"
    },
    "kernelspec": {
      "display_name": "Python 3.9.12 ('base')",
      "language": "python",
      "name": "python3"
    },
    "language_info": {
      "codemirror_mode": {
        "name": "ipython",
        "version": 3
      },
      "file_extension": ".py",
      "mimetype": "text/x-python",
      "name": "python",
      "nbconvert_exporter": "python",
      "pygments_lexer": "ipython3",
      "version": "3.9.12"
    }
  },
  "nbformat": 4,
  "nbformat_minor": 0
}
