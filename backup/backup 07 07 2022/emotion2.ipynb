{
 "cells": [
  {
   "cell_type": "code",
   "execution_count": 1,
   "metadata": {},
   "outputs": [],
   "source": [
    "import funzioni_emotion_classification as fec"
   ]
  },
  {
   "cell_type": "code",
   "execution_count": 2,
   "metadata": {},
   "outputs": [],
   "source": [
    "mnb=fec.ModelEmotionDetection()"
   ]
  },
  {
   "cell_type": "code",
   "execution_count": 3,
   "metadata": {},
   "outputs": [],
   "source": [
    "#mnb.vectorizer.transform([\"hello word\",\"world\"])"
   ]
  },
  {
   "cell_type": "code",
   "execution_count": 19,
   "metadata": {},
   "outputs": [
    {
     "data": {
      "text/plain": [
       "[('happiness', 0.41788838120547595),\n",
       " ('love', 0.19097943748673582),\n",
       " ('worry', 0.1517985371102188),\n",
       " ('neutral', 0.09071434435428938),\n",
       " ('sadness', 0.07117025699490541),\n",
       " ('relief', 0.02997189811619409),\n",
       " ('surprise', 0.02678958452817298),\n",
       " ('fun', 0.009671490595188889),\n",
       " ('hate', 0.004934114482944284),\n",
       " ('enthusiasm', 0.0033896501516762875),\n",
       " ('empty', 0.0019989346669773765),\n",
       " ('boredom', 0.00046307391610999666),\n",
       " ('anger', 0.00023029639110994874)]"
      ]
     },
     "execution_count": 19,
     "metadata": {},
     "output_type": "execute_result"
    }
   ],
   "source": [
    "mnb.get_prob(\"i'm happy\")"
   ]
  }
 ],
 "metadata": {
  "interpreter": {
   "hash": "2c5217a3946e5a84d5ff067ec86c6c29aba46ea34fb35a222c2c09d02c172ab5"
  },
  "kernelspec": {
   "display_name": "Python 3.9.12 ('base')",
   "language": "python",
   "name": "python3"
  },
  "language_info": {
   "codemirror_mode": {
    "name": "ipython",
    "version": 3
   },
   "file_extension": ".py",
   "mimetype": "text/x-python",
   "name": "python",
   "nbconvert_exporter": "python",
   "pygments_lexer": "ipython3",
   "version": "3.9.12"
  },
  "orig_nbformat": 4
 },
 "nbformat": 4,
 "nbformat_minor": 2
}
