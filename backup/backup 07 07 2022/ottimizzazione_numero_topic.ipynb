{
 "cells": [
  {
   "cell_type": "code",
   "execution_count": 93,
   "metadata": {},
   "outputs": [],
   "source": [
    "import json\n",
    "import funzioni_topic_detection as ftd\n",
    "import funzioni_preprocessing_text as fpt\n",
    "import gensim\n",
    "from gensim.models import TfidfModel\n",
    "from gensim.models import CoherenceModel\n",
    "\n",
    "from sklearn.feature_extraction.text import TfidfVectorizer\n",
    "from sklearn.decomposition import TruncatedSVD\n",
    "\n",
    "import itertools\n",
    "\n",
    "from scipy import sparse"
   ]
  },
  {
   "cell_type": "code",
   "execution_count": 61,
   "metadata": {},
   "outputs": [],
   "source": [
    "corpus=json.load(open('dataset/allDocuments3.json'))"
   ]
  },
  {
   "cell_type": "code",
   "execution_count": 62,
   "metadata": {},
   "outputs": [],
   "source": [
    "postPuliti,bigram_mdl=fpt.clear_corpus(corpus)"
   ]
  },
  {
   "cell_type": "code",
   "execution_count": 127,
   "metadata": {},
   "outputs": [],
   "source": [
    "id2word = gensim.corpora.Dictionary(postPuliti)\n",
    "\n",
    "corpus2 = [id2word.doc2bow(doc) for doc in postPuliti]\n",
    "tfidf = TfidfModel(corpus2, id2word=id2word)\n",
    "tfidfCorpus=[tfidf[bow] for bow in corpus2]\n",
    "\n",
    "low_value = 0.01\n",
    "low_value_words = []\n",
    "for bow in corpus2:\n",
    "    low_value_words += [id for id, value in tfidf[bow] if value < low_value]\n",
    "id2word.filter_tokens(low_value_words)\n",
    "new_corpus2=[]\n",
    "newPostPuliti=[]\n",
    "for doc in postPuliti:\n",
    "    if bow:=id2word.doc2bow(doc):\n",
    "        new_corpus2.append(bow)\n",
    "        newPostPuliti.append(doc)\n",
    "\n",
    "# new_corpus2 = [id2word.doc2bow(doc) for doc in postPuliti]"
   ]
  },
  {
   "cell_type": "code",
   "execution_count": 131,
   "metadata": {},
   "outputs": [],
   "source": [
    "## LSA\n",
    "n_topics=9\n",
    "n_iter=300\n",
    "cutoff_tf_idf=0.01\n",
    "\n",
    "lemmatized_bigram_string=[' '.join(word) for word in postPuliti]\n",
    "vectorizer = TfidfVectorizer()\n",
    "M=vectorizer.fit_transform(lemmatized_bigram_string)\n",
    "M=M.toarray()\n",
    "row,column=M.shape\n",
    "for i, j in itertools.product(range(row), range(column)):\n",
    "    if M[i][j]<cutoff_tf_idf:\n",
    "        M[i][j]=0\n",
    "M=sparse.csr_matrix(M)\n",
    "\n",
    "termini=vectorizer.get_feature_names_out().tolist()\n",
    "lsa = TruncatedSVD(n_components=n_topics,n_iter=n_iter)\n",
    "lsa.fit(M)\n",
    "p =   {f\"concetto_{str(i)}\": list(\n",
    "            sorted(zip(termini, abs(j)), key=lambda x: x[1],\n",
    "                   reverse=True)[:10])\n",
    "        for i, j in enumerate(lsa.components_)}\n",
    "#concetti=self.print_topics()"
   ]
  },
  {
   "cell_type": "code",
   "execution_count": null,
   "metadata": {},
   "outputs": [],
   "source": [
    "for idx,val in p.items():\n",
    "    print(idx,val)"
   ]
  },
  {
   "cell_type": "code",
   "execution_count": 130,
   "metadata": {},
   "outputs": [
    {
     "data": {
      "text/plain": [
       "0.6047672480533677"
      ]
     },
     "execution_count": 130,
     "metadata": {},
     "output_type": "execute_result"
    }
   ],
   "source": [
    "lsimodel=gensim.models.lsimodel.LsiModel(new_corpus2, num_topics=9, id2word=id2word)\n",
    "cm=CoherenceModel(model=lsimodel, texts=newPostPuliti, coherence='c_v')\n",
    "cm.get_coherence()"
   ]
  },
  {
   "cell_type": "code",
   "execution_count": null,
   "metadata": {},
   "outputs": [],
   "source": [
    "lsimodel.print_topics()"
   ]
  },
  {
   "cell_type": "code",
   "execution_count": 68,
   "metadata": {},
   "outputs": [
    {
     "data": {
      "text/plain": [
       "0.6002049322041375"
      ]
     },
     "execution_count": 68,
     "metadata": {},
     "output_type": "execute_result"
    }
   ],
   "source": [
    "ldamodel=gensim.models.ldamodel.LdaModel(new_corpus2, num_topics=6, id2word=id2word)\n",
    "cm=CoherenceModel(model=ldamodel, texts=newPostPuliti, coherence='c_v')\n",
    "cm.get_coherence()"
   ]
  },
  {
   "cell_type": "code",
   "execution_count": 70,
   "metadata": {},
   "outputs": [
    {
     "data": {
      "text/plain": [
       "0.8087552707983293"
      ]
     },
     "execution_count": 70,
     "metadata": {},
     "output_type": "execute_result"
    }
   ],
   "source": [
    "hdpmodel=gensim.models.hdpmodel.HdpModel(new_corpus2, id2word=id2word)\n",
    "cm=CoherenceModel(model=hdpmodel, texts=newPostPuliti, coherence='c_v')\n",
    "cm.get_coherence()"
   ]
  },
  {
   "cell_type": "code",
   "execution_count": 88,
   "metadata": {},
   "outputs": [],
   "source": [
    "ldaModelDict={}"
   ]
  },
  {
   "cell_type": "code",
   "execution_count": 89,
   "metadata": {},
   "outputs": [],
   "source": [
    "coerenza=[]"
   ]
  },
  {
   "cell_type": "code",
   "execution_count": 90,
   "metadata": {},
   "outputs": [
    {
     "name": "stdout",
     "output_type": "stream",
     "text": [
      "5 0.574031881126854\n",
      "6 0.5706359985688749\n",
      "7 0.5681038782623872\n",
      "8 0.5475679478327901\n",
      "9 0.5277335970546938\n",
      "10 0.5338069201579148\n",
      "11 0.5399432661891232\n",
      "12 0.5352632364712719\n",
      "13 0.5253499380106903\n",
      "14 0.5573260544616905\n",
      "15 0.4823984756952028\n"
     ]
    }
   ],
   "source": [
    "for i in range(5,16):\n",
    "    ldamodel=gensim.models.ldamodel.LdaModel(new_corpus2, num_topics=i, id2word=id2word,random_state=33)\n",
    "    ldaModelDict[i]=ldamodel\n",
    "    cm=CoherenceModel(model=ldamodel, texts=newPostPuliti, coherence='c_v')\n",
    "    coerenza.append((i,cm.get_coherence()))\n",
    "    print(i,cm.get_coherence())"
   ]
  },
  {
   "cell_type": "code",
   "execution_count": 97,
   "metadata": {},
   "outputs": [],
   "source": [
    "from matplotlib import pyplot as plt"
   ]
  },
  {
   "cell_type": "code",
   "execution_count": 76,
   "metadata": {},
   "outputs": [
    {
     "data": {
      "image/png": "[encoded data removed]",
      "text/plain": [
       "<Figure size 432x288 with 1 Axes>"
      ]
     },
     "metadata": {
      "needs_background": "light"
     },
     "output_type": "display_data"
    }
   ],
   "source": [
    "plt.plot([x[0] for x in coerenza],[x[1] for x in coerenza],marker='o',color='r',linestyle='--',label='coerenza')\n",
    "plt.show()"
   ]
  },
  {
   "cell_type": "code",
   "execution_count": 98,
   "metadata": {},
   "outputs": [
    {
     "data": {
      "image/png": "[encoded data removed]",
      "text/plain": [
       "<Figure size 432x288 with 1 Axes>"
      ]
     },
     "metadata": {
      "needs_background": "light"
     },
     "output_type": "display_data"
    }
   ],
   "source": [
    "plt.plot([x[0] for x in coerenza],[x[1] for x in coerenza],marker='o',color='r',linestyle='--',label='coerenza')\n",
    "plt.show()"
   ]
  },
  {
   "cell_type": "code",
   "execution_count": 99,
   "metadata": {},
   "outputs": [
    {
     "name": "stdout",
     "output_type": "stream",
     "text": [
      "0.4926540969912195\n"
     ]
    }
   ],
   "source": [
    "ldamodel=gensim.models.ldamodel.LdaModel(new_corpus2, num_topics=6, id2word=id2word,passes=100, iterations = 200, random_state=65,minimum_probability=0.1)\n",
    "cm=CoherenceModel(model=ldamodel, texts=newPostPuliti, coherence='c_v')\n",
    "print(cm.get_coherence())"
   ]
  },
  {
   "cell_type": "code",
   "execution_count": 44,
   "metadata": {},
   "outputs": [
    {
     "name": "stdout",
     "output_type": "stream",
     "text": [
      "(0, '0.026*\"miah\" + 0.021*\"hochul\" + 0.016*\"northern_california\" + 0.016*\"blaze\" + 0.016*\"attack_health\" + 0.016*\"life_save\" + 0.016*\"humanitarian\" + 0.016*\"health_worker\" + 0.016*\"convention\" + 0.016*\"general_election\"')\n",
      "(1, '0.024*\"avocado\" + 0.024*\"philip\" + 0.024*\"tornado\" + 0.024*\"miner\" + 0.024*\"holiday\" + 0.017*\"dressing\" + 0.017*\"herb\" + 0.017*\"salad\" + 0.017*\"caper\" + 0.017*\"monarchy\"')\n",
      "(2, '0.029*\"disney\" + 0.024*\"journalist\" + 0.019*\"disney_world\" + 0.019*\"gay_days\" + 0.019*\"summer_temperature\" + 0.019*\"dyke\" + 0.019*\"roesie\" + 0.015*\"judge\" + 0.015*\"peppermint\" + 0.015*\"obama\"')\n",
      "(3, '0.038*\"birria\" + 0.024*\"odesa\" + 0.024*\"theater\" + 0.024*\"opera\" + 0.024*\"mccraw\" + 0.016*\"casualty\" + 0.016*\"trench\" + 0.016*\"veklenko\" + 0.016*\"estimate_people\" + 0.016*\"grave\"')\n",
      "(4, '0.026*\"funeral\" + 0.026*\"cake\" + 0.021*\"merkel\" + 0.021*\"human_coalition\" + 0.016*\"greek\" + 0.016*\"ice\" + 0.016*\"tea\" + 0.016*\"matzo\" + 0.011*\"tokyo\" + 0.011*\"numb\"')\n",
      "(5, '0.028*\"yang\" + 0.023*\"cnn\" + 0.017*\"zucker\" + 0.017*\"barr\" + 0.017*\"vaccinate\" + 0.012*\"delay\" + 0.012*\"cuomo\" + 0.012*\"memo\" + 0.012*\"warnermedia\" + 0.012*\"relationship\"')\n"
     ]
    }
   ],
   "source": [
    "topics = ldamodel.print_topics(num_words=10)\n",
    "for topic in topics:\n",
    "    print(topic)"
   ]
  }
 ],
 "metadata": {
  "interpreter": {
   "hash": "2c5217a3946e5a84d5ff067ec86c6c29aba46ea34fb35a222c2c09d02c172ab5"
  },
  "kernelspec": {
   "display_name": "Python 3.9.12 ('base')",
   "language": "python",
   "name": "python3"
  },
  "language_info": {
   "codemirror_mode": {
    "name": "ipython",
    "version": 3
   },
   "file_extension": ".py",
   "mimetype": "text/x-python",
   "name": "python",
   "nbconvert_exporter": "python",
   "pygments_lexer": "ipython3",
   "version": "3.9.12"
  },
  "orig_nbformat": 4
 },
 "nbformat": 4,
 "nbformat_minor": 2
}
