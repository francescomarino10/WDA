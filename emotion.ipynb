{
 "cells": [
  {
   "cell_type": "code",
   "execution_count": 1,
   "metadata": {},
   "outputs": [],
   "source": [
    "from sklearn.metrics import accuracy_score, classification_report\n",
    "import funzioni_preprocessing_text as fpt\n",
    "import joblib\n",
    "from sklearn.naive_bayes import MultinomialNB\n",
    "import pandas as pd\n",
    "from collections import Counter\n",
    "from sklearn.feature_extraction.text import TfidfVectorizer\n",
    "from sklearn.model_selection import train_test_split"
   ]
  },
  {
   "cell_type": "code",
   "execution_count": 2,
   "metadata": {},
   "outputs": [],
   "source": [
    "df=pd.read_csv(\"dataset/text_emotion_esercizio.csv\")\n",
    "df=df[[\"content\",\"sentiment\"]]\n",
    "xy_input=(df[\"content\"],df[\"sentiment\"])\n",
    "#model=fec.ModelEmotionDetection(xy_input=(df.content,df.sentiment),save=True)"
   ]
  },
  {
   "cell_type": "code",
   "execution_count": 3,
   "metadata": {},
   "outputs": [],
   "source": [
    "bigramLS_post,bigram_mdl=fpt.clear_corpus(xy_input[0])"
   ]
  },
  {
   "cell_type": "code",
   "execution_count": 10,
   "metadata": {},
   "outputs": [],
   "source": [
    "counterBigram=[Counter(tmp) for tmp in bigramLS_post]"
   ]
  },
  {
   "cell_type": "code",
   "execution_count": 13,
   "metadata": {},
   "outputs": [],
   "source": [
    "vectorizer = TfidfVectorizer()"
   ]
  },
  {
   "cell_type": "code",
   "execution_count": 15,
   "metadata": {},
   "outputs": [],
   "source": [
    "lemmatized_bigram_string=[' '.join(word) for word in bigramLS_post]"
   ]
  },
  {
   "cell_type": "code",
   "execution_count": 16,
   "metadata": {},
   "outputs": [],
   "source": [
    "X_all=vectorizer.fit_transform(lemmatized_bigram_string)"
   ]
  },
  {
   "cell_type": "code",
   "execution_count": 17,
   "metadata": {},
   "outputs": [],
   "source": [
    "y_all=list(xy_input[1])"
   ]
  },
  {
   "cell_type": "code",
   "execution_count": 18,
   "metadata": {},
   "outputs": [
    {
     "data": {
      "text/plain": [
       "MultinomialNB()"
      ]
     },
     "execution_count": 18,
     "metadata": {},
     "output_type": "execute_result"
    }
   ],
   "source": [
    "X_train, X_test, y_train, y_test = train_test_split(X_all, y_all, test_size = 0.2, random_state = 123)\n",
    "mnb = MultinomialNB()\n",
    "# self.mnb.fit(X_train, y_train)\n",
    "mnb.fit(X_all, y_all)"
   ]
  },
  {
   "cell_type": "code",
   "execution_count": 22,
   "metadata": {},
   "outputs": [],
   "source": [
    "asTrain,crTrain=get_information_model(y_train,X_train)\n",
    "asTest,crTest=get_information_model(y_test,X_test)"
   ]
  },
  {
   "cell_type": "code",
   "execution_count": 19,
   "metadata": {},
   "outputs": [],
   "source": [
    "from sklearn.metrics import accuracy_score, classification_report"
   ]
  },
  {
   "cell_type": "code",
   "execution_count": 21,
   "metadata": {},
   "outputs": [],
   "source": [
    "# def get_information_model_train():\n",
    "# print(\"Accuracy Train:\",self.asTrain)\n",
    "# print(self.crTrain)\n",
    "\n",
    "# def get_information_model_test():\n",
    "# print(\"Accuracy Test:\",self.asTest)\n",
    "# print(self.crTest)\n",
    "\n",
    "def get_information_model(y,X):\n",
    "    global mnb\n",
    "    return (accuracy_score(y, mnb.predict(X)),classification_report(y, mnb.predict(X),zero_division=0))"
   ]
  },
  {
   "cell_type": "code",
   "execution_count": null,
   "metadata": {},
   "outputs": [],
   "source": [
    "import joblib"
   ]
  },
  {
   "cell_type": "code",
   "execution_count": 26,
   "metadata": {},
   "outputs": [
    {
     "data": {
      "text/plain": [
       "['modelEmotion/crTest.pkl']"
      ]
     },
     "execution_count": 26,
     "metadata": {},
     "output_type": "execute_result"
    }
   ],
   "source": [
    "joblib.dump(mnb, 'modelEmotion/mnb.pkl')\n",
    "joblib.dump(vectorizer, 'modelEmotion/vectorizer.pkl')\n",
    "joblib.dump(bigram_mdl, 'modelEmotion/bigram_mdl.pkl')\n",
    "joblib.dump(asTrain, 'modelEmotion/asTrain.pkl')\n",
    "joblib.dump(asTest, 'modelEmotion/asTest.pkl')\n",
    "joblib.dump(crTrain, 'modelEmotion/crTrain.pkl')\n",
    "joblib.dump(crTest, 'modelEmotion/crTest.pkl')"
   ]
  }
 ],
 "metadata": {
  "interpreter": {
   "hash": "2c5217a3946e5a84d5ff067ec86c6c29aba46ea34fb35a222c2c09d02c172ab5"
  },
  "kernelspec": {
   "display_name": "Python 3.9.12 ('base')",
   "language": "python",
   "name": "python3"
  },
  "language_info": {
   "codemirror_mode": {
    "name": "ipython",
    "version": 3
   },
   "file_extension": ".py",
   "mimetype": "text/x-python",
   "name": "python",
   "nbconvert_exporter": "python",
   "pygments_lexer": "ipython3",
   "version": "3.9.12"
  },
  "orig_nbformat": 4
 },
 "nbformat": 4,
 "nbformat_minor": 2
}
