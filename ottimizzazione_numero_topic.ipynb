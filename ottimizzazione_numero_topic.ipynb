{
 "cells": [
  {
   "cell_type": "code",
   "execution_count": 27,
   "metadata": {},
   "outputs": [],
   "source": [
    "import json\n",
    "import funzioni_topic_detection as ftd\n",
    "import funzioni_preprocessing_text as fpt\n",
    "import gensim\n",
    "from gensim.models import TfidfModel\n",
    "from gensim.models import CoherenceModel\n",
    "from sklearn.feature_extraction.text import TfidfVectorizer\n",
    "from sklearn.decomposition import TruncatedSVD\n",
    "import itertools\n",
    "from scipy import sparse\n",
    "import matplotlib.pyplot as plt\n",
    "plt.rcParams[\"figure.dpi\"] = 120"
   ]
  },
  {
   "cell_type": "code",
   "execution_count": 4,
   "metadata": {},
   "outputs": [],
   "source": [
    "corpus=json.load(open('dataset/allDocuments.json'))"
   ]
  },
  {
   "cell_type": "code",
   "execution_count": 5,
   "metadata": {},
   "outputs": [],
   "source": [
    "postPuliti,bigram_mdl=fpt.clear_corpus(corpus)"
   ]
  },
  {
   "cell_type": "code",
   "execution_count": 6,
   "metadata": {},
   "outputs": [],
   "source": [
    "id2word = gensim.corpora.Dictionary(postPuliti)\n",
    "\n",
    "corpus2 = [id2word.doc2bow(doc) for doc in postPuliti]\n",
    "tfidf = TfidfModel(corpus2, id2word=id2word)\n",
    "tfidfCorpus=[tfidf[bow] for bow in corpus2]\n",
    "\n",
    "low_value = 0.01\n",
    "low_value_words = []\n",
    "for bow in corpus2:\n",
    "    low_value_words += [id for id, value in tfidf[bow] if value < low_value]\n",
    "id2word.filter_tokens(low_value_words)\n",
    "new_corpus2=[]\n",
    "newPostPuliti=[]\n",
    "for doc in postPuliti:\n",
    "    if bow:=id2word.doc2bow(doc):\n",
    "        new_corpus2.append(bow)\n",
    "        newPostPuliti.append(doc)"
   ]
  },
  {
   "cell_type": "code",
   "execution_count": 7,
   "metadata": {},
   "outputs": [],
   "source": [
    "n_iter=300\n",
    "cutoff_tf_idf=0.01\n",
    "lemmatized_bigram_string=[' '.join(word) for word in postPuliti]\n",
    "vectorizer = TfidfVectorizer()\n",
    "M=vectorizer.fit_transform(lemmatized_bigram_string)\n",
    "M=M.toarray()\n",
    "row,column=M.shape\n",
    "for i, j in itertools.product(range(row), range(column)):\n",
    "    if M[i][j]<cutoff_tf_idf:\n",
    "        M[i][j]=0\n",
    "M=sparse.csr_matrix(M)\n",
    "\n",
    "termini=vectorizer.get_feature_names_out().tolist()"
   ]
  },
  {
   "cell_type": "code",
   "execution_count": 2,
   "metadata": {},
   "outputs": [],
   "source": [
    "import math\n",
    "def get_umass_score(dt_matrix, i, j):\n",
    "    zo_matrix = (dt_matrix > 0).astype(int)\n",
    "    col_i, col_j = zo_matrix[:, i], zo_matrix[:, j]\n",
    "    col_ij = col_i + col_j\n",
    "    col_ij = (col_ij == 2).astype(int)    \n",
    "    Di, Dij = col_i.sum(), col_ij.sum()    \n",
    "    return math.log((Dij + 1) / Di)\n",
    "\n",
    "def get_topic_coherence(dt_matrix, topic, n_top_words):\n",
    "    indexed_topic = zip(topic, range(len(topic)))\n",
    "    topic_top = sorted(indexed_topic, key=lambda x: 1 - x[0])[:n_top_words]\n",
    "    coherence = 0\n",
    "    for j_index in range(len(topic_top)):\n",
    "        for i_index in range(j_index - 1):\n",
    "            i = topic_top[i_index][1]\n",
    "            j = topic_top[j_index][1]\n",
    "            coherence += get_umass_score(dt_matrix, i, j)\n",
    "    return coherence\n",
    "\n",
    "def get_average_topic_coherence(dt_matrix, topics, n_top_words):\n",
    "    total_coherence = 0\n",
    "    for i in range(len(topics)):\n",
    "        total_coherence += get_topic_coherence(dt_matrix, topics[i], n_top_words)\n",
    "    return total_coherence / len(topics)"
   ]
  },
  {
   "cell_type": "code",
   "execution_count": 11,
   "metadata": {},
   "outputs": [],
   "source": [
    "lsaCoerenza={}"
   ]
  },
  {
   "cell_type": "code",
   "execution_count": 30,
   "metadata": {},
   "outputs": [],
   "source": [
    "for n_topics in range(5, 16):\n",
    "    lsa = TruncatedSVD(n_components=n_topics, n_iter=300, random_state=42)\n",
    "    lsa.fit(M)\n",
    "    avg_coherence = get_average_topic_coherence(M, lsa.components_, 10)\n",
    "    lsaCoerenza[n_topics]=abs(avg_coherence)"
   ]
  },
  {
   "cell_type": "code",
   "execution_count": 31,
   "metadata": {},
   "outputs": [
    {
     "data": {
      "image/png": "[encoded data removed]",
      "text/plain": [
       "<Figure size 720x480 with 1 Axes>"
      ]
     },
     "metadata": {
      "needs_background": "light"
     },
     "output_type": "display_data"
    }
   ],
   "source": [
    "plt.plot(lsaCoerenza.keys(),lsaCoerenza.values(),marker='o',color='red')\n",
    "plt.show()"
   ]
  },
  {
   "cell_type": "code",
   "execution_count": 43,
   "metadata": {},
   "outputs": [
    {
     "data": {
      "text/plain": [
       "TruncatedSVD(n_components=9, n_iter=300, random_state=33)"
      ]
     },
     "execution_count": 43,
     "metadata": {},
     "output_type": "execute_result"
    }
   ],
   "source": [
    "lsa = TruncatedSVD(n_components=9, n_iter=300, random_state=42)\n",
    "lsa.fit(M)"
   ]
  },
  {
   "cell_type": "code",
   "execution_count": 44,
   "metadata": {},
   "outputs": [
    {
     "data": {
      "text/plain": [
       "-32.588856374164315"
      ]
     },
     "execution_count": 44,
     "metadata": {},
     "output_type": "execute_result"
    }
   ],
   "source": [
    "get_average_topic_coherence(M, lsa.components_, 10)"
   ]
  },
  {
   "cell_type": "code",
   "execution_count": 41,
   "metadata": {},
   "outputs": [
    {
     "name": "stdout",
     "output_type": "stream",
     "text": [
      "('concetto_0', [('abortion', 0.2006920420366065), ('woman', 0.1604103037336443), ('people', 0.14209279096839356), ('state', 0.13982631825179778), ('year', 0.13866849797289285), ('city', 0.1229442813408486), ('decision', 0.1084569768271079), ('texas', 0.1025033515639509), ('week', 0.09686218514012232), ('change', 0.08667193026953877)])\n",
      "('concetto_1', [('abortion', 0.3843048484459958), ('woman', 0.31594572526763515), ('state', 0.19422983393939366), ('decision', 0.15378283339293664), ('supreme_court', 0.11971678386187366), ('baby', 0.11772566306698849), ('covid', 0.11086182815112271), ('city', 0.10649721062934417), ('clinic', 0.09154424246275011), ('people', 0.09152607050634626)])\n",
      "('concetto_2', [('covid', 0.4389971229778675), ('vaccinate', 0.20888336733639562), ('good', 0.1787917540285268), ('high_risk', 0.17195004090524524), ('virus_cause', 0.12980648620511026), ('illness', 0.11145196570793699), ('prematurely', 0.11145196570793699), ('sick', 0.11145196570793699), ('protect', 0.10992584114116055), ('school', 0.1032720586489529)])\n",
      "('concetto_3', [('covid', 0.27527266902792985), ('win', 0.16932282869735743), ('vaccinate', 0.13664418981974966), ('recipe', 0.131498231052992), ('photographer', 0.1213807304534546), ('high_risk', 0.11253514479653012), ('protect', 0.10361061724215237), ('texas', 0.0979632423410725), ('school', 0.09467845165591617), ('great', 0.0906461224285667)])\n",
      "('concetto_4', [('recipe', 0.1942035299244418), ('win', 0.13002556998006104), ('cake', 0.12674794154513874), ('use', 0.11517998323155296), ('mushroom', 0.10881140726846245), ('dish', 0.10385980078021781), ('sweet', 0.10204628888895555), ('week', 0.10175226357836387), ('sauce', 0.1001807650345411), ('roll', 0.09494512168682419)])\n",
      "('concetto_5', [('photographer', 0.24402658866753732), ('win', 0.23516469919642224), ('gallery', 0.1383587517748849), ('marc_aspland', 0.1383587517748849), ('heat_wave', 0.110027071041452), ('covid', 0.1015436618297715), ('climate_change', 0.10139318833973564), ('vote', 0.09354850187394231), ('time', 0.09126325108089961), ('victory', 0.09106336492376646)])\n",
      "('concetto_6', [('march', 0.35496527421147084), ('pride', 0.2540783383608315), ('gay', 0.21562462549988515), ('annual_pride', 0.17640922194023473), ('revelers', 0.17640922194023473), ('rule', 0.13736743972646756), ('marchers', 0.13400254618367224), ('nervous', 0.13400254618367224), ('express', 0.13119233575500078), ('concern', 0.1209001158895493)])\n",
      "('concetto_7', [('photographer', 0.16594308732428614), ('climate_change', 0.14870524772895652), ('war', 0.14773181119670492), ('heat_wave', 0.13424088351231864), ('ukrainian', 0.1218900513958727), ('ukraine', 0.12026447246380764), ('city', 0.11933190022748626), ('russia', 0.11315395045490101), ('russian', 0.0989784158917844), ('researcher', 0.09675844824189372)])\n",
      "('concetto_8', [('photographer', 0.26263681506717057), ('gallery', 0.15008144813571), ('marc_aspland', 0.15008144813571), ('win', 0.140954874751506), ('olympics', 0.12372136624306158), ('tokyo', 0.11697441273687385), ('look', 0.11539596434629483), ('race', 0.11330930997437823), ('roesie', 0.11079413089890962), ('picture', 0.10684533676119556)])\n"
     ]
    }
   ],
   "source": [
    "for i in [(f\"concetto_{str(i)}\", list(sorted(zip(termini, abs(j)), key=lambda x: x[1],reverse=True)[:10]))\\\n",
    "    for i, j in enumerate(lsa.components_)]:\n",
    "    print(i)"
   ]
  },
  {
   "cell_type": "code",
   "execution_count": null,
   "metadata": {},
   "outputs": [],
   "source": [
    "coerenzaLSI=[]\n",
    "for i in range(5,16):\n",
    "    lsimodel=gensim.models.lsimodel.LsiModel(new_corpus2, num_topics=i, id2word=id2word,random_seed=42)\n",
    "    cm=CoherenceModel(model=lsimodel, texts=newPostPuliti, coherence='c_v')\n",
    "    coerenzaLSI.append((i,cm.get_coherence()))\n",
    "    print(i,cm.get_coherence())"
   ]
  },
  {
   "cell_type": "code",
   "execution_count": 72,
   "metadata": {},
   "outputs": [
    {
     "data": {
      "image/png": "[encoded data removed]",
      "text/plain": [
       "<Figure size 720x480 with 1 Axes>"
      ]
     },
     "metadata": {
      "needs_background": "light"
     },
     "output_type": "display_data"
    }
   ],
   "source": [
    "plt.plot([x[0] for x in coerenzaLSI],[x[1] for x in coerenzaLSI],marker='o',color='r',linestyle='--')\n",
    "plt.show()"
   ]
  },
  {
   "cell_type": "code",
   "execution_count": 73,
   "metadata": {},
   "outputs": [],
   "source": [
    "lsimodel=gensim.models.lsimodel.LsiModel(new_corpus2, num_topics=14, id2word=id2word,random_seed=42)"
   ]
  },
  {
   "cell_type": "code",
   "execution_count": 74,
   "metadata": {},
   "outputs": [
    {
     "data": {
      "text/plain": [
       "[(0,\n",
       "  '0.309*\"abortion\" + 0.261*\"woman\" + 0.201*\"year\" + 0.179*\"state\" + 0.155*\"people\" + 0.141*\"city\" + 0.134*\"baby\" + 0.113*\"change\" + 0.097*\"texas\" + 0.092*\"new\"'),\n",
       " (1,\n",
       "  '0.365*\"abortion\" + 0.335*\"woman\" + -0.185*\"city\" + 0.164*\"baby\" + -0.163*\"heat_wave\" + 0.142*\"state\" + -0.117*\"people\" + -0.113*\"climate_change\" + -0.106*\"researcher\" + -0.088*\"ukraine\"'),\n",
       " (2,\n",
       "  '0.250*\"heat_wave\" + -0.240*\"vote\" + -0.176*\"party\" + 0.167*\"researcher\" + -0.166*\"hochul\" + 0.160*\"climate_change\" + -0.151*\"win\" + -0.129*\"primary\" + -0.124*\"general_election\" + 0.098*\"extreme\"'),\n",
       " (3,\n",
       "  '-0.186*\"vote\" + -0.177*\"heat_wave\" + 0.170*\"attack\" + -0.152*\"party\" + -0.151*\"year\" + -0.148*\"hochul\" + -0.136*\"win\" + 0.125*\"ukraine\" + -0.121*\"climate_change\" + -0.119*\"researcher\"'),\n",
       " (4,\n",
       "  '-0.196*\"miah\" + -0.179*\"school\" + 0.176*\"city\" + 0.175*\"war\" + -0.163*\"attack\" + -0.151*\"student\" + 0.150*\"ukraine\" + -0.135*\"classroom\" + -0.131*\"shooting\" + 0.126*\"ukrainian\"'),\n",
       " (5,\n",
       "  '0.276*\"high\" + 0.270*\"storm\" + 0.259*\"foot\" + 0.248*\"park\" + 0.210*\"fall\" + 0.144*\"cause\" + 0.141*\"dry\" + 0.129*\"flood\" + 0.124*\"rain\" + 0.124*\"snow\"'),\n",
       " (6,\n",
       "  '0.333*\"attack\" + 0.195*\"service\" + 0.149*\"humanitarian\" + 0.136*\"access\" + 0.115*\"need\" + 0.107*\"act\" + 0.106*\"heat_wave\" + 0.104*\"woman\" + -0.103*\"storm\" + 0.102*\"infrastructure\"'),\n",
       " (7,\n",
       "  '-0.247*\"party\" + -0.191*\"year\" + -0.160*\"johnson\" + 0.152*\"city\" + 0.120*\"hochul\" + -0.110*\"dyke\" + -0.106*\"new\" + -0.106*\"attack\" + 0.101*\"woman\" + 0.099*\"primary\"'),\n",
       " (8,\n",
       "  '0.236*\"effect\" + 0.226*\"state\" + -0.212*\"woman\" + 0.198*\"florida\" + -0.169*\"baby\" + -0.166*\"party\" + 0.156*\"patient\" + 0.134*\"law\" + 0.133*\"procedure\" + 0.127*\"new\"'),\n",
       " (9,\n",
       "  '0.238*\"dyke\" + 0.193*\"pride\" + 0.144*\"event\" + -0.133*\"johnson\" + 0.130*\"ve\" + 0.130*\"word\" + 0.124*\"sex\" + 0.119*\"dyke_day\" + 0.119*\"reclaim\" + 0.119*\"organizer\"'),\n",
       " (10,\n",
       "  '0.198*\"miah\" + -0.187*\"journalist\" + -0.159*\"parliament\" + 0.156*\"party\" + -0.148*\"protect\" + -0.144*\"president\" + 0.114*\"vote\" + -0.114*\"violence\" + 0.102*\"johnson\" + -0.101*\"work\"'),\n",
       " (11,\n",
       "  '0.193*\"president\" + 0.161*\"miah\" + -0.150*\"party\" + 0.131*\"biden\" + -0.119*\"city\" + -0.116*\"service\" + -0.109*\"johnson\" + -0.098*\"people\" + 0.097*\"obama\" + 0.096*\"vice_president\"'),\n",
       " (12,\n",
       "  '0.172*\"time\" + 0.159*\"covid\" + 0.143*\"mental_health\" + -0.137*\"firearm\" + 0.136*\"decision\" + 0.134*\"fear\" + -0.121*\"country\" + 0.119*\"police\" + -0.118*\"law\" + -0.118*\"assault_weapon\"'),\n",
       " (13,\n",
       "  '0.247*\"journalist\" + 0.204*\"parliament\" + 0.145*\"work\" + 0.121*\"protect\" + -0.107*\"woman\" + -0.102*\"decision\" + 0.099*\"democratic_society\" + 0.099*\"mechanism\" + 0.099*\"journalism\" + 0.099*\"independent\"')]"
      ]
     },
     "execution_count": 74,
     "metadata": {},
     "output_type": "execute_result"
    }
   ],
   "source": [
    "lsimodel.print_topics()"
   ]
  },
  {
   "cell_type": "code",
   "execution_count": 46,
   "metadata": {},
   "outputs": [
    {
     "data": {
      "text/plain": [
       "0.5341676070889525"
      ]
     },
     "execution_count": 46,
     "metadata": {},
     "output_type": "execute_result"
    }
   ],
   "source": [
    "lsimodel=gensim.models.lsimodel.LsiModel(new_corpus2, num_topics=9, id2word=id2word,random_seed=42)"
   ]
  },
  {
   "cell_type": "code",
   "execution_count": 48,
   "metadata": {},
   "outputs": [
    {
     "data": {
      "text/plain": [
       "[(0,\n",
       "  '-0.309*\"abortion\" + -0.261*\"woman\" + -0.201*\"year\" + -0.179*\"state\" + -0.155*\"people\" + -0.141*\"city\" + -0.134*\"baby\" + -0.113*\"change\" + -0.097*\"texas\" + -0.092*\"new\"'),\n",
       " (1,\n",
       "  '0.365*\"abortion\" + 0.335*\"woman\" + -0.185*\"city\" + 0.164*\"baby\" + -0.163*\"heat_wave\" + 0.142*\"state\" + -0.117*\"people\" + -0.113*\"climate_change\" + -0.106*\"researcher\" + -0.088*\"ukraine\"'),\n",
       " (2,\n",
       "  '0.250*\"heat_wave\" + -0.240*\"vote\" + -0.176*\"party\" + 0.167*\"researcher\" + -0.166*\"hochul\" + 0.160*\"climate_change\" + -0.151*\"win\" + -0.129*\"primary\" + -0.124*\"general_election\" + 0.098*\"extreme\"'),\n",
       " (3,\n",
       "  '-0.186*\"vote\" + -0.177*\"heat_wave\" + 0.170*\"attack\" + -0.152*\"party\" + -0.151*\"year\" + -0.148*\"hochul\" + -0.136*\"win\" + 0.125*\"ukraine\" + -0.121*\"climate_change\" + -0.119*\"researcher\"'),\n",
       " (4,\n",
       "  '-0.196*\"miah\" + -0.179*\"school\" + 0.176*\"city\" + 0.175*\"war\" + -0.163*\"attack\" + -0.151*\"student\" + 0.150*\"ukraine\" + -0.135*\"classroom\" + -0.131*\"shooting\" + 0.126*\"ukrainian\"'),\n",
       " (5,\n",
       "  '-0.276*\"high\" + -0.270*\"storm\" + -0.259*\"foot\" + -0.248*\"park\" + -0.210*\"fall\" + -0.144*\"cause\" + -0.141*\"dry\" + -0.129*\"flood\" + -0.124*\"rain\" + -0.124*\"snow\"'),\n",
       " (6,\n",
       "  '-0.333*\"attack\" + -0.195*\"service\" + -0.149*\"humanitarian\" + -0.136*\"access\" + -0.115*\"need\" + -0.107*\"act\" + -0.106*\"heat_wave\" + -0.104*\"woman\" + 0.103*\"storm\" + -0.102*\"infrastructure\"'),\n",
       " (7,\n",
       "  '-0.247*\"party\" + -0.191*\"year\" + -0.160*\"johnson\" + 0.152*\"city\" + 0.120*\"hochul\" + -0.110*\"dyke\" + -0.106*\"new\" + -0.106*\"attack\" + 0.101*\"woman\" + 0.099*\"primary\"'),\n",
       " (8,\n",
       "  '0.236*\"effect\" + 0.226*\"state\" + -0.213*\"woman\" + 0.198*\"florida\" + -0.169*\"baby\" + -0.166*\"party\" + 0.156*\"patient\" + 0.134*\"law\" + 0.133*\"procedure\" + 0.127*\"new\"')]"
      ]
     },
     "execution_count": 48,
     "metadata": {},
     "output_type": "execute_result"
    }
   ],
   "source": [
    "lsimodel.print_topics()"
   ]
  },
  {
   "cell_type": "code",
   "execution_count": 57,
   "metadata": {},
   "outputs": [],
   "source": [
    "ldaModelDict={}"
   ]
  },
  {
   "cell_type": "code",
   "execution_count": null,
   "metadata": {},
   "outputs": [],
   "source": [
    "coerenza=[]\n",
    "for i in range(5,16):\n",
    "    ldamodel=gensim.models.ldamodel.LdaModel(new_corpus2, num_topics=i, id2word=id2word,random_state=42)\n",
    "    ldaModelDict[i]=ldamodel\n",
    "    cm=CoherenceModel(model=ldamodel, texts=newPostPuliti, coherence='c_v')\n",
    "    coerenza.append((i,cm.get_coherence()))\n",
    "    print(i,cm.get_coherence())"
   ]
  },
  {
   "cell_type": "code",
   "execution_count": 75,
   "metadata": {},
   "outputs": [
    {
     "data": {
      "image/png": "[encoded data removed]",
      "text/plain": [
       "<Figure size 720x480 with 1 Axes>"
      ]
     },
     "metadata": {
      "needs_background": "light"
     },
     "output_type": "display_data"
    }
   ],
   "source": [
    "plt.plot([x[0] for x in coerenza],[x[1] for x in coerenza],marker='o',color='r',linestyle='--')\n",
    "plt.show()"
   ]
  },
  {
   "cell_type": "code",
   "execution_count": 112,
   "metadata": {},
   "outputs": [],
   "source": [
    "ldamodel=gensim.models.ldamodel.LdaModel(new_corpus2, num_topics=10, id2word=id2word,alpha=10,random_state=42)"
   ]
  },
  {
   "cell_type": "code",
   "execution_count": 113,
   "metadata": {},
   "outputs": [
    {
     "name": "stdout",
     "output_type": "stream",
     "text": [
      "(0, '0.005*\"year\" + 0.003*\"city\" + 0.003*\"people\" + 0.003*\"state\" + 0.002*\"abortion\" + 0.002*\"week\" + 0.002*\"woman\" + 0.002*\"use\" + 0.002*\"life\" + 0.002*\"decision\"')\n",
      "(1, '0.004*\"people\" + 0.003*\"state\" + 0.003*\"year\" + 0.003*\"city\" + 0.003*\"abortion\" + 0.003*\"new\" + 0.002*\"time\" + 0.002*\"change\" + 0.002*\"help\" + 0.002*\"use\"')\n",
      "(2, '0.004*\"people\" + 0.004*\"year\" + 0.004*\"city\" + 0.003*\"state\" + 0.003*\"abortion\" + 0.003*\"use\" + 0.002*\"change\" + 0.002*\"woman\" + 0.002*\"time\" + 0.002*\"new\"')\n",
      "(3, '0.004*\"people\" + 0.004*\"year\" + 0.003*\"state\" + 0.003*\"abortion\" + 0.003*\"use\" + 0.003*\"city\" + 0.002*\"woman\" + 0.002*\"high\" + 0.002*\"week\" + 0.002*\"new\"')\n",
      "(4, '0.004*\"year\" + 0.004*\"city\" + 0.003*\"abortion\" + 0.003*\"new\" + 0.003*\"people\" + 0.002*\"woman\" + 0.002*\"president\" + 0.002*\"use\" + 0.002*\"state\" + 0.002*\"life\"')\n",
      "(5, '0.004*\"year\" + 0.004*\"people\" + 0.003*\"abortion\" + 0.003*\"state\" + 0.002*\"time\" + 0.002*\"week\" + 0.002*\"city\" + 0.002*\"protect\" + 0.002*\"new\" + 0.002*\"change\"')\n",
      "(6, '0.004*\"people\" + 0.003*\"year\" + 0.003*\"city\" + 0.003*\"abortion\" + 0.003*\"state\" + 0.002*\"change\" + 0.002*\"attack\" + 0.002*\"week\" + 0.002*\"use\" + 0.002*\"woman\"')\n",
      "(7, '0.004*\"year\" + 0.003*\"people\" + 0.003*\"city\" + 0.003*\"state\" + 0.003*\"abortion\" + 0.002*\"use\" + 0.002*\"new\" + 0.002*\"change\" + 0.002*\"decision\" + 0.002*\"week\"')\n",
      "(8, '0.004*\"year\" + 0.004*\"people\" + 0.003*\"woman\" + 0.003*\"abortion\" + 0.003*\"city\" + 0.002*\"state\" + 0.002*\"week\" + 0.002*\"new\" + 0.002*\"decision\" + 0.002*\"time\"')\n",
      "(9, '0.004*\"year\" + 0.004*\"people\" + 0.003*\"state\" + 0.002*\"abortion\" + 0.002*\"use\" + 0.002*\"protect\" + 0.002*\"woman\" + 0.002*\"city\" + 0.002*\"time\" + 0.002*\"week\"')\n"
     ]
    }
   ],
   "source": [
    "for i in ldamodel.print_topics():\n",
    "    print(i)"
   ]
  },
  {
   "cell_type": "code",
   "execution_count": null,
   "metadata": {},
   "outputs": [],
   "source": [
    "hdpModelDict={}"
   ]
  },
  {
   "cell_type": "code",
   "execution_count": null,
   "metadata": {},
   "outputs": [],
   "source": [
    "coerenzaHDP=[]\n",
    "for i in range(5,16):\n",
    "    hdpmodel=gensim.models.hdpmodelmodel.HdpModel(new_corpus2,id2word=id2word,random_state=42)\n",
    "    hdpModelDict[i]=hdpmodel\n",
    "    cm=CoherenceModel(model=hdpmodel, texts=newPostPuliti, coherence='c_v')\n",
    "    coerenzaHDP.append((i,cm.get_coherence()))\n",
    "    print(i,cm.get_coherence())"
   ]
  },
  {
   "cell_type": "code",
   "execution_count": 125,
   "metadata": {},
   "outputs": [
    {
     "data": {
      "text/plain": [
       "0.7888567685163492"
      ]
     },
     "execution_count": 125,
     "metadata": {},
     "output_type": "execute_result"
    }
   ],
   "source": [
    "hdpmodel=gensim.models.hdpmodel.HdpModel(new_corpus2, id2word=id2word)\n",
    "cm=CoherenceModel(model=hdpmodel, texts=newPostPuliti, coherence='c_v')\n",
    "cm.get_coherence()"
   ]
  },
  {
   "cell_type": "code",
   "execution_count": 126,
   "metadata": {},
   "outputs": [
    {
     "data": {
      "text/plain": [
       "[(0,\n",
       "  '0.004*stat + 0.003*hollywood + 0.002*base + 0.002*stricken + 0.002*exception + 0.002*son + 0.002*begin + 0.002*sotomayor + 0.002*not_direct + 0.002*prime_minister'),\n",
       " (1,\n",
       "  '0.004*man + 0.003*speak + 0.003*lawton + 0.003*round + 0.002*manchester + 0.002*current + 0.002*note + 0.002*story + 0.002*quietly + 0.002*dixie_fire'),\n",
       " (2,\n",
       "  '0.003*dark + 0.003*warm + 0.003*distress + 0.003*yell + 0.002*breaststroke + 0.002*forthcoming + 0.002*discovery + 0.002*melt + 0.002*americans + 0.002*rainfall'),\n",
       " (3,\n",
       "  '0.003*thompson + 0.002*scarcity + 0.002*peculiar + 0.002*respite + 0.002*strain + 0.002*hyon + 0.002*constitution + 0.002*northeast + 0.002*fly + 0.002*loaf'),\n",
       " (4,\n",
       "  '0.003*maze + 0.002*christian + 0.002*barricade + 0.002*provide + 0.002*tight + 0.002*not_wear + 0.002*columbia + 0.002*fairly + 0.002*mykolaiv + 0.002*wreck'),\n",
       " (5,\n",
       "  '0.003*apply + 0.003*chile + 0.002*accelerate + 0.002*bar + 0.002*politico + 0.002*classmate + 0.002*consider + 0.002*pose + 0.002*ground + 0.002*pungent'),\n",
       " (6,\n",
       "  '0.003*not_elect + 0.003*recall + 0.003*uprising + 0.003*barack_obama + 0.002*mob + 0.002*media + 0.002*hold_round + 0.002*behave + 0.002*frittata + 0.002*dumpling'),\n",
       " (7,\n",
       "  '0.002*center + 0.002*cornichon + 0.002*region + 0.002*achievement + 0.002*downing + 0.002*water + 0.002*commenter + 0.002*abortion_right + 0.002*supreme_court + 0.002*antiwar'),\n",
       " (8,\n",
       "  '0.004*eighth + 0.002*lone + 0.002*flee + 0.002*close + 0.002*disclose + 0.002*figurehead + 0.002*supermarket + 0.002*coal + 0.002*diverge + 0.002*not_gun'),\n",
       " (9,\n",
       "  '0.004*suspect + 0.003*relapse + 0.003*raheem + 0.003*stuart + 0.002*abortion_right + 0.002*powder + 0.002*senate + 0.002*roe_overturn + 0.002*twitter + 0.002*study'),\n",
       " (10,\n",
       "  '0.003*heat + 0.003*marine + 0.003*inhabitant + 0.002*shortage + 0.002*turbulent + 0.002*loss + 0.002*garden + 0.002*brad + 0.002*bat + 0.002*dr'),\n",
       " (11,\n",
       "  '0.003*suit + 0.003*texas + 0.003*palace + 0.002*supreme_court + 0.002*come + 0.002*depend + 0.002*university + 0.002*rubizhne + 0.002*pop + 0.002*cope'),\n",
       " (12,\n",
       "  '0.003*finished + 0.003*committee + 0.003*iron + 0.003*gov_ron + 0.003*veklenko + 0.002*reservist + 0.002*chant + 0.002*charred + 0.002*brief + 0.002*burial'),\n",
       " (13,\n",
       "  '0.002*times + 0.002*study + 0.002*town + 0.002*lockdown + 0.002*pearl + 0.002*finished + 0.002*abortion_access + 0.002*prior + 0.002*cnn + 0.002*passing'),\n",
       " (14,\n",
       "  '0.003*balance + 0.002*watch + 0.002*personally + 0.002*tomato + 0.002*use + 0.002*toll + 0.002*attract + 0.002*november + 0.002*destruction + 0.002*exercise'),\n",
       " (15,\n",
       "  '0.003*great + 0.003*unconscionable + 0.003*stew + 0.003*power + 0.003*scene + 0.002*sole + 0.002*simon + 0.002*crushed + 0.002*wiktoria + 0.002*eastern'),\n",
       " (16,\n",
       "  '0.003*vaccine + 0.003*prince_philip + 0.002*dead + 0.002*kill_gunman + 0.002*abortion + 0.002*crucial + 0.002*breyer + 0.002*clean + 0.002*hollywood + 0.002*possible'),\n",
       " (17,\n",
       "  '0.003*know + 0.003*national + 0.002*cessation + 0.002*god + 0.002*desantis + 0.002*palace + 0.002*happiness + 0.002*history + 0.002*estimate + 0.002*undergird'),\n",
       " (18,\n",
       "  '0.002*unofficial + 0.002*mission + 0.002*bill + 0.002*essentially + 0.002*injured + 0.002*opportunity + 0.002*finally + 0.002*early + 0.002*regularly + 0.002*gravedigger'),\n",
       " (19,\n",
       "  '0.003*partner + 0.002*achieve + 0.002*mission + 0.002*hopefully + 0.002*politico + 0.002*smith + 0.002*claim + 0.002*december + 0.002*acquire + 0.002*july')]"
      ]
     },
     "execution_count": 126,
     "metadata": {},
     "output_type": "execute_result"
    }
   ],
   "source": [
    "hdpmodel.print_topics()"
   ]
  }
 ],
 "metadata": {
  "interpreter": {
   "hash": "2c5217a3946e5a84d5ff067ec86c6c29aba46ea34fb35a222c2c09d02c172ab5"
  },
  "kernelspec": {
   "display_name": "Python 3.9.12 ('base')",
   "language": "python",
   "name": "python3"
  },
  "language_info": {
   "codemirror_mode": {
    "name": "ipython",
    "version": 3
   },
   "file_extension": ".py",
   "mimetype": "text/x-python",
   "name": "python",
   "nbconvert_exporter": "python",
   "pygments_lexer": "ipython3",
   "version": "3.9.12"
  },
  "orig_nbformat": 4
 },
 "nbformat": 4,
 "nbformat_minor": 2
}
