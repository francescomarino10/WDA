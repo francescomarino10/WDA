{
 "cells": [
  {
   "cell_type": "code",
   "execution_count": null,
   "metadata": {},
   "outputs": [],
   "source": [
    "testo=testo1\n",
    "max_len=500\n",
    "testoSplitted=[]\n",
    "while(len(testo)>max_len):\n",
    "    idx=testo[:max_len].rfind(\".\")\n",
    "    testoSmall=testo[:idx+1]\n",
    "    testoSplitted.append(\" \".join(testoSmall.split()))\n",
    "    testo=testo[idx+1:]\n",
    "testoSplitted.append(\" \".join(testo.split()))\n",
    "t = \"\".join(traduci(\" \".join(txt.split())) for txt in testoSplitted)\n",
    "print(t)"
   ]
  },
  {
   "cell_type": "code",
   "execution_count": 1,
   "metadata": {},
   "outputs": [],
   "source": [
    "import json\n",
    "import datetime"
   ]
  },
  {
   "cell_type": "code",
   "execution_count": 2,
   "metadata": {},
   "outputs": [],
   "source": [
    "texts=json.load(open(\"dataset/dictCompleto.json\"))"
   ]
  },
  {
   "cell_type": "code",
   "execution_count": 3,
   "metadata": {},
   "outputs": [
    {
     "data": {
      "text/plain": [
       "dict_keys(['globeandmail', 'ukr_pravda', 'izvestia_ru', 'lemondefr', 'elmundo_es', 'corriere', 'nzz', 'nytimes'])"
      ]
     },
     "execution_count": 3,
     "metadata": {},
     "output_type": "execute_result"
    }
   ],
   "source": [
    "texts.keys()"
   ]
  },
  {
   "cell_type": "code",
   "execution_count": null,
   "metadata": {},
   "outputs": [],
   "source": [
    "for page,list in texts.items():\n",
    "    for post in list:\n",
    "        min=datetime.datetime.now()\n",
    "        max=datetime.datetime.fromisoformat(post[\"date\"])\n",
    "        for comment in post[\"comments\"]:\n",
    "            if datetime.datetime.fromisoformat(comment[\"date\"])<min:\n",
    "                min=datetime.datetime.fromisoformat(comment[\"date\"])\n",
    "            if datetime.datetime.fromisoformat(comment[\"date\"])>max:\n",
    "                max=datetime.datetime.fromisoformat(comment[\"date\"])\n",
    "        print(post[\"id\"],datetime.datetime.fromisoformat(post[\"date\"]),min,max,max-min)\n"
   ]
  },
  {
   "cell_type": "code",
   "execution_count": 4,
   "metadata": {},
   "outputs": [],
   "source": [
    "allPost=[]\n",
    "for page,list in texts.items():\n",
    "    allPost.extend(iter(list))"
   ]
  },
  {
   "cell_type": "code",
   "execution_count": 6,
   "metadata": {},
   "outputs": [],
   "source": [
    "listaDate=[datetime.datetime.fromisoformat(comment[\"date\"]) for comment in allPost[0][\"comments\"]]"
   ]
  },
  {
   "cell_type": "code",
   "execution_count": 31,
   "metadata": {},
   "outputs": [],
   "source": [
    "listaDate2=[x.timestamp() for x in listaDate]"
   ]
  },
  {
   "cell_type": "code",
   "execution_count": 33,
   "metadata": {},
   "outputs": [
    {
     "data": {
      "text/plain": [
       "float"
      ]
     },
     "execution_count": 33,
     "metadata": {},
     "output_type": "execute_result"
    }
   ],
   "source": [
    "type(listaDate[0].timestamp())"
   ]
  },
  {
   "cell_type": "code",
   "execution_count": 8,
   "metadata": {},
   "outputs": [
    {
     "data": {
      "text/plain": [
       "datetime.datetime(2022, 4, 26, 16, 49, 26)"
      ]
     },
     "execution_count": 8,
     "metadata": {},
     "output_type": "execute_result"
    }
   ],
   "source": [
    "min(listaDate)"
   ]
  },
  {
   "cell_type": "code",
   "execution_count": 16,
   "metadata": {},
   "outputs": [],
   "source": [
    "s=sorted(allPost,key=lambda x:max(datetime.datetime.fromisoformat(comment[\"date\"]) for comment in x[\"comments\"])-min(datetime.datetime.fromisoformat(comment[\"date\"]) for comment in x[\"comments\"]),reverse=True)"
   ]
  },
  {
   "cell_type": "code",
   "execution_count": 22,
   "metadata": {},
   "outputs": [],
   "source": [
    "import google_trans_new as gtn\n",
    "translator = gtn.google_translator()"
   ]
  },
  {
   "cell_type": "code",
   "execution_count": 29,
   "metadata": {},
   "outputs": [
    {
     "data": {
      "text/plain": [
       "'Le note numeriche vengono eliminate e puoi passare dal corso senza limite di suspense  Sono alcune delle novità che porta la nuova istruzione secondaria del governo della coalizione, ma non le uniche. Li spezziamo, punto per punto, in questa giostra.  ✍ Olga R. Sanmartín  #Education #se #gobnera #educacionescundaria '"
      ]
     },
     "execution_count": 29,
     "metadata": {},
     "output_type": "execute_result"
    }
   ],
   "source": [
    "translator.translate(s[6][\"caption\"],lang_tgt=\"it\")"
   ]
  },
  {
   "cell_type": "code",
   "execution_count": 17,
   "metadata": {},
   "outputs": [
    {
     "name": "stdout",
     "output_type": "stream",
     "text": [
      "Cb9iyYhqAQf 2022-04-05 07:50:46 <built-in function min> <built-in function max> 83 days, 22:51:35\n",
      "Cb2tRT0O9Gz 2022-04-02 16:07:41 <built-in function min> <built-in function max> 78 days, 8:41:57\n",
      "Cb-opnSrETX 2022-04-05 18:01:14 <built-in function min> <built-in function max> 53 days, 11:07:01\n",
      "Cc0kniOssYS 2022-04-26 16:44:59 <built-in function min> <built-in function max> 41 days, 7:39:42\n",
      "CcZGla-pKsb 2022-04-16 00:43:03 <built-in function min> <built-in function max> 29 days, 15:46:12\n",
      "CcyBkF7sdes 2022-04-25 17:00:12 <built-in function min> <built-in function max> 18 days, 1:57:26\n",
      "Cbza_m8NiV1 2022-04-01 09:30:15 <built-in function min> <built-in function max> 15 days, 19:25:41\n",
      "CcQwZFluWT5 2022-04-12 18:55:13 <built-in function min> <built-in function max> 15 days, 0:43:17\n",
      "CcD0xHyuAy3 2022-04-07 18:23:19 <built-in function min> <built-in function max> 13 days, 17:44:54\n",
      "Cc2t9RcjAJJ 2022-04-27 12:45:06 <built-in function min> <built-in function max> 12 days, 0:27:25\n",
      "Ccm-bgFNJrv 2022-04-21 10:01:10 <built-in function min> <built-in function max> 10 days, 15:24:35\n",
      "CcgR2UirAem 2022-04-18 19:36:12 <built-in function min> <built-in function max> 9 days, 9:01:47\n",
      "Ccc-d3FOQJU 2022-04-17 12:49:05 <built-in function min> <built-in function max> 8 days, 23:05:57\n",
      "Cchmp3uj7qm 2022-04-19 07:57:13 <built-in function min> <built-in function max> 7 days, 23:00:32\n",
      "CccsJx7j5kW 2022-04-17 10:09:05 <built-in function min> <built-in function max> 7 days, 18:54:06\n",
      "CcLZAzUgVCy 2022-04-10 16:54:46 <built-in function min> <built-in function max> 7 days, 15:56:57\n",
      "Cb7T0T7tLlR 2022-04-04 11:01:28 <built-in function min> <built-in function max> 6 days, 7:39:49\n",
      "CcKQk6uDTnP 2022-04-10 06:21:46 <built-in function min> <built-in function max> 6 days, 4:29:47\n",
      "CcqFwTSNUqK 2022-04-22 15:02:55 <built-in function min> <built-in function max> 6 days, 0:08:12\n",
      "CcDyK5bK7g0 2022-04-07 18:00:37 <built-in function min> <built-in function max> 5 days, 3:50:11\n",
      "CcAbHoLDD37 2022-04-06 10:44:38 <built-in function min> <built-in function max> 4 days, 20:58:20\n",
      "CbzrLDjDiLw 2022-04-01 11:51:38 <built-in function min> <built-in function max> 4 days, 8:04:40\n",
      "Ccv22tgrnAH 2022-04-24 20:48:08 <built-in function min> <built-in function max> 3 days, 21:25:28\n",
      "Ccdn1EvruvD 2022-04-17 18:50:31 <built-in function min> <built-in function max> 3 days, 2:57:38\n",
      "Ccz-pKmtLq3 2022-04-26 11:13:09 <built-in function min> <built-in function max> 2 days, 19:23:06\n",
      "Cb7ewiXgJji 2022-04-04 12:37:04 <built-in function min> <built-in function max> 2 days, 18:50:36\n",
      "CcSTjUBjLE7 2022-04-13 09:21:41 <built-in function min> <built-in function max> 2 days, 18:44:32\n",
      "CcQ6PutIJv1 2022-04-12 20:21:19 <built-in function min> <built-in function max> 2 days, 12:40:46\n",
      "CcINDQhN1fm 2022-04-09 11:12:28 <built-in function min> <built-in function max> 2 days, 10:34:18\n",
      "Cb-JZnhDsTw 2022-04-05 13:28:10 <built-in function min> <built-in function max> 2 days, 6:38:05\n",
      "CcQjq-xDWWG 2022-04-12 17:04:42 <built-in function min> <built-in function max> 2 days, 4:51:49\n",
      "Cc7hWy5qdXU 2022-04-29 09:31:10 <built-in function min> <built-in function max> 2 days, 2:48:22\n",
      "Cc22ASDKd5B 2022-04-27 13:55:24 <built-in function min> <built-in function max> 1 day, 21:35:14\n",
      "CcNNpfCj_tQ 2022-04-11 09:53:54 <built-in function min> <built-in function max> 1 day, 21:12:35\n",
      "CcOB1gysbFc 2022-04-11 17:29:55 <built-in function min> <built-in function max> 1 day, 14:07:22\n",
      "Cb5FTRctunI 2022-04-03 14:16:09 <built-in function min> <built-in function max> 1 day, 13:46:43\n",
      "CcYfaxINMBN 2022-04-15 19:00:49 <built-in function min> <built-in function max> 1 day, 7:34:34\n",
      "Cc7UTEFtTdB 2022-04-29 07:37:04 <built-in function min> <built-in function max> 1 day, 3:17:18\n",
      "Ccc_4uEIuUF 2022-04-17 13:01:29 <built-in function min> <built-in function max> 1 day, 2:46:29\n",
      "CcM0vgvjAPo 2022-04-11 06:16:16 <built-in function min> <built-in function max> 1 day, 0:37:09\n"
     ]
    }
   ],
   "source": [
    "for post in s:\n",
    "    minD=datetime.datetime.now()\n",
    "    maxD=datetime.datetime.fromisoformat(post[\"date\"])\n",
    "    for comment in post[\"comments\"]:\n",
    "        if datetime.datetime.fromisoformat(comment[\"date\"])<minD:\n",
    "            minD=datetime.datetime.fromisoformat(comment[\"date\"])\n",
    "        if datetime.datetime.fromisoformat(comment[\"date\"])>maxD:\n",
    "            maxD=datetime.datetime.fromisoformat(comment[\"date\"])\n",
    "    print(post[\"id\"],datetime.datetime.fromisoformat(post[\"date\"]),min,max,maxD-minD)"
   ]
  }
 ],
 "metadata": {
  "interpreter": {
   "hash": "2c5217a3946e5a84d5ff067ec86c6c29aba46ea34fb35a222c2c09d02c172ab5"
  },
  "kernelspec": {
   "display_name": "Python 3.9.12 ('base')",
   "language": "python",
   "name": "python3"
  },
  "language_info": {
   "codemirror_mode": {
    "name": "ipython",
    "version": 3
   },
   "file_extension": ".py",
   "mimetype": "text/x-python",
   "name": "python",
   "nbconvert_exporter": "python",
   "pygments_lexer": "ipython3",
   "version": "3.9.12"
  },
  "orig_nbformat": 4
 },
 "nbformat": 4,
 "nbformat_minor": 2
}
