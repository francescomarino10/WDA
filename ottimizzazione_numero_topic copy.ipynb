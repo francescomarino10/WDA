{
 "cells": [
  {
   "cell_type": "code",
   "execution_count": 1,
   "metadata": {},
   "outputs": [],
   "source": [
    "import json\n",
    "import funzioni_topic_detection as ftd\n",
    "import funzioni_preprocessing_text as fpt\n",
    "import gensim\n",
    "from gensim.models import TfidfModel\n",
    "from gensim.models import CoherenceModel"
   ]
  },
  {
   "cell_type": "code",
   "execution_count": 30,
   "metadata": {},
   "outputs": [],
   "source": [
    "corpus=json.load(open('dataset/allDocuments3.json'))"
   ]
  },
  {
   "cell_type": "code",
   "execution_count": 31,
   "metadata": {},
   "outputs": [],
   "source": [
    "post,bigram_mdl=fpt.clear_corpus(corpus)"
   ]
  },
  {
   "cell_type": "code",
   "execution_count": 44,
   "metadata": {},
   "outputs": [],
   "source": [
    "id2word = gensim.corpora.Dictionary(post)\n",
    "\n",
    "corpus2 = [id2word.doc2bow(doc) for doc in post]\n",
    "tfidf = TfidfModel(corpus2, id2word=id2word)\n",
    "tfidfCorpus=[tfidf[bow] for bow in corpus2]\n",
    "\n",
    "low_value = 0.2\n",
    "low_value_words = []\n",
    "for bow in corpus2:\n",
    "    low_value_words += [id for id, value in tfidf[bow] if value < low_value]\n",
    "id2word.filter_tokens(low_value_words)\n",
    "new_corpus2 = [id2word.doc2bow(doc) for doc in post]"
   ]
  },
  {
   "cell_type": "code",
   "execution_count": 35,
   "metadata": {},
   "outputs": [
    {
     "name": "stdout",
     "output_type": "stream",
     "text": [
      "121\n",
      "7\n",
      "114\n"
     ]
    }
   ],
   "source": [
    "i = sum(len(row) == 0 for row in new_corpus2)\n",
    "print(len(new_corpus2))\n",
    "print(i)\n",
    "print(len(new_corpus2)-i)"
   ]
  },
  {
   "cell_type": "code",
   "execution_count": 17,
   "metadata": {},
   "outputs": [],
   "source": [
    "ldaModelDict={}"
   ]
  },
  {
   "cell_type": "code",
   "execution_count": 18,
   "metadata": {},
   "outputs": [],
   "source": [
    "coerenza=[]"
   ]
  },
  {
   "cell_type": "code",
   "execution_count": 40,
   "metadata": {},
   "outputs": [
    {
     "name": "stderr",
     "output_type": "stream",
     "text": [
      "c:\\Users\\Francesco\\Anaconda3\\lib\\site-packages\\sklearn\\utils\\deprecation.py:87: FutureWarning: Function get_feature_names is deprecated; get_feature_names is deprecated in 1.0 and will be removed in 1.2. Please use get_feature_names_out instead.\n",
      "  warnings.warn(msg, category=FutureWarning)\n"
     ]
    }
   ],
   "source": [
    "lsaNostro=ftd.LSAModel(corpus,6)"
   ]
  },
  {
   "cell_type": "code",
   "execution_count": 43,
   "metadata": {},
   "outputs": [
    {
     "name": "stdout",
     "output_type": "stream",
     "text": [
      "concetto_0 [('abortion', 0.20069204203660657), ('woman', 0.16041030373364437), ('people', 0.1420927909683935), ('state', 0.13982631825179775), ('year', 0.1386684979728929)]\n",
      "concetto_1 [('abortion', 0.38430484844599544), ('woman', 0.31594572526763465), ('state', 0.19422983393939403), ('decision', 0.15378283339293644), ('supreme_court', 0.11971678386187369)]\n",
      "concetto_2 [('covid', 0.438997122977878), ('vaccinate', 0.20888336733640098), ('good', 0.17879175402852654), ('high_risk', 0.17195004090524962), ('virus_cause', 0.12980648620511318)]\n",
      "concetto_3 [('covid', 0.2752726690279104), ('win', 0.16932282869735715), ('vaccinate', 0.1366441898197403), ('recipe', 0.13149823105300137), ('photographer', 0.12138073045345606)]\n",
      "concetto_4 [('recipe', 0.19420352992443704), ('win', 0.1300255699800624), ('cake', 0.1267479415451357), ('use', 0.1151799832315496), ('mushroom', 0.10881140726846011)]\n",
      "concetto_5 [('photographer', 0.24402658866752547), ('win', 0.2351646991963985), ('gallery', 0.13835875177487786), ('marc_aspland', 0.13835875177487786), ('heat_wave', 0.11002707104145075)]\n"
     ]
    }
   ],
   "source": [
    "for topic,list in lsaNostro.print_topics().items():\n",
    "    print(topic,list)"
   ]
  },
  {
   "cell_type": "code",
   "execution_count": 37,
   "metadata": {},
   "outputs": [
    {
     "name": "stderr",
     "output_type": "stream",
     "text": [
      "c:\\Users\\Francesco\\Anaconda3\\lib\\site-packages\\gensim\\topic_coherence\\direct_confirmation_measure.py:204: RuntimeWarning: divide by zero encountered in double_scalars\n",
      "  m_lr_i = np.log(numerator / denominator)\n",
      "c:\\Users\\Francesco\\Anaconda3\\lib\\site-packages\\gensim\\topic_coherence\\indirect_confirmation_measure.py:323: RuntimeWarning: invalid value encountered in double_scalars\n",
      "  return cv1.T.dot(cv2)[0, 0] / (_magnitude(cv1) * _magnitude(cv2))\n"
     ]
    },
    {
     "data": {
      "text/plain": [
       "nan"
      ]
     },
     "execution_count": 37,
     "metadata": {},
     "output_type": "execute_result"
    }
   ],
   "source": [
    "lsimodel=gensim.models.lsimodel.LsiModel(new_corpus2, num_topics=6, id2word=id2word)\n",
    "cm=CoherenceModel(model=lsimodel, texts=post, coherence='c_v')\n",
    "cm.get_coherence()"
   ]
  },
  {
   "cell_type": "code",
   "execution_count": 45,
   "metadata": {},
   "outputs": [
    {
     "name": "stderr",
     "output_type": "stream",
     "text": [
      "c:\\Users\\Francesco\\Anaconda3\\lib\\site-packages\\gensim\\topic_coherence\\direct_confirmation_measure.py:204: RuntimeWarning: divide by zero encountered in double_scalars\n",
      "  m_lr_i = np.log(numerator / denominator)\n",
      "c:\\Users\\Francesco\\Anaconda3\\lib\\site-packages\\gensim\\topic_coherence\\indirect_confirmation_measure.py:323: RuntimeWarning: invalid value encountered in double_scalars\n",
      "  return cv1.T.dot(cv2)[0, 0] / (_magnitude(cv1) * _magnitude(cv2))\n"
     ]
    },
    {
     "data": {
      "text/plain": [
       "nan"
      ]
     },
     "execution_count": 45,
     "metadata": {},
     "output_type": "execute_result"
    }
   ],
   "source": [
    "ldamodel=gensim.models.ldamodel.LdaModel(new_corpus2, num_topics=6, id2word=id2word)\n",
    "cm=CoherenceModel(model=ldamodel, texts=post, coherence='c_v')\n",
    "cm.get_coherence()"
   ]
  },
  {
   "cell_type": "code",
   "execution_count": 38,
   "metadata": {},
   "outputs": [
    {
     "name": "stdout",
     "output_type": "stream",
     "text": [
      "(0, '0.549*\"hochul\" + 0.412*\"general_election\" + 0.275*\"voter\" + 0.275*\"primary_tuesday\" + 0.275*\"republicans\" + 0.275*\"democrats\" + 0.275*\"williams\" + 0.275*\"win_democratic\" + 0.275*\"zeldin\" + -0.000*\"inbetween\"')\n",
      "(1, '0.556*\"lysychansk\" + 0.332*\"bury\" + 0.308*\"sievierodonetsk\" + 0.278*\"veklenko\" + 0.278*\"trench\" + 0.278*\"grave\" + 0.278*\"mass_grave\" + 0.278*\"estimate_people\" + 0.278*\"casualty\" + 0.062*\"funeral\"')\n",
      "(2, '0.655*\"firearm\" + 0.421*\"handgun\" + 0.421*\"trudeau\" + 0.311*\"assault_weapon\" + 0.280*\"buyback_program\" + 0.094*\"gun_ownership\" + 0.094*\"proxy\" + 0.061*\"average\" + 0.047*\"ownership\" + 0.047*\"commit\"')\n",
      "(3, '-0.720*\"journalist\" + -0.288*\"independent\" + -0.288*\"mechanism\" + -0.288*\"journalism\" + -0.288*\"sassoli\" + -0.288*\"democratic_society\" + 0.154*\"cnn\" + 0.116*\"zucker\" + 0.077*\"warnermedia\" + 0.077*\"memo\"')\n",
      "(4, '-0.576*\"cnn\" + -0.432*\"zucker\" + -0.288*\"memo\" + -0.288*\"warnermedia\" + -0.288*\"company\" + -0.288*\"relationship\" + -0.288*\"cuomo\" + -0.193*\"journalist\" + -0.077*\"democratic_society\" + -0.077*\"mechanism\"')\n",
      "(5, '-0.628*\"dyke\" + -0.329*\"sex\" + -0.314*\"identity\" + -0.314*\"label\" + -0.314*\"reclaim\" + -0.314*\"dyke_day\" + -0.314*\"organizer\" + -0.017*\"transgender\" + -0.016*\"revelers\" + -0.016*\"annual_pride\"')\n"
     ]
    }
   ],
   "source": [
    "for topic in lsimodel.show_topics():\n",
    "    print(topic)"
   ]
  },
  {
   "cell_type": "code",
   "execution_count": 19,
   "metadata": {},
   "outputs": [
    {
     "name": "stderr",
     "output_type": "stream",
     "text": [
      "c:\\Users\\Francesco\\Anaconda3\\lib\\site-packages\\gensim\\topic_coherence\\direct_confirmation_measure.py:204: RuntimeWarning: divide by zero encountered in double_scalars\n",
      "  m_lr_i = np.log(numerator / denominator)\n",
      "c:\\Users\\Francesco\\Anaconda3\\lib\\site-packages\\gensim\\topic_coherence\\indirect_confirmation_measure.py:323: RuntimeWarning: invalid value encountered in double_scalars\n",
      "  return cv1.T.dot(cv2)[0, 0] / (_magnitude(cv1) * _magnitude(cv2))\n"
     ]
    },
    {
     "name": "stdout",
     "output_type": "stream",
     "text": [
      "5 nan\n",
      "6 nan\n",
      "7 nan\n",
      "8 nan\n",
      "9 nan\n",
      "10 nan\n",
      "11 nan\n",
      "12 nan\n",
      "13 nan\n",
      "14 nan\n",
      "15 nan\n"
     ]
    }
   ],
   "source": [
    "#ldamodel=gensim.models.ldamodel.LdaModel(new_corpus2, num_topics=7, id2word=id2word,passes=50, iterations=100, eval_every = 10, random_state=20)\n",
    "for i in range(5,16):\n",
    "    ldamodel=gensim.models.ldamodel.LdaModel(new_corpus2, num_topics=i, id2word=id2word,passes=50)\n",
    "    ldaModelDict[i]=ldamodel\n",
    "    cm=CoherenceModel(model=ldamodel, texts=post, coherence='c_v')\n",
    "    coerenza.append((i,cm.get_coherence()))\n",
    "    print(i,cm.get_coherence())"
   ]
  },
  {
   "cell_type": "code",
   "execution_count": 22,
   "metadata": {},
   "outputs": [
    {
     "name": "stderr",
     "output_type": "stream",
     "text": [
      "c:\\Users\\Francesco\\Anaconda3\\lib\\site-packages\\gensim\\topic_coherence\\direct_confirmation_measure.py:204: RuntimeWarning: divide by zero encountered in double_scalars\n",
      "  m_lr_i = np.log(numerator / denominator)\n",
      "c:\\Users\\Francesco\\Anaconda3\\lib\\site-packages\\gensim\\topic_coherence\\indirect_confirmation_measure.py:323: RuntimeWarning: invalid value encountered in double_scalars\n",
      "  return cv1.T.dot(cv2)[0, 0] / (_magnitude(cv1) * _magnitude(cv2))\n"
     ]
    },
    {
     "data": {
      "text/plain": [
       "nan"
      ]
     },
     "execution_count": 22,
     "metadata": {},
     "output_type": "execute_result"
    }
   ],
   "source": [
    "cm=CoherenceModel(model=ldaModelDict[5], texts=post, coherence='c_v')\n",
    "cm.get_coherence()"
   ]
  },
  {
   "cell_type": "code",
   "execution_count": 71,
   "metadata": {},
   "outputs": [],
   "source": [
    "from matplotlib import pyplot as plt"
   ]
  },
  {
   "cell_type": "code",
   "execution_count": 76,
   "metadata": {},
   "outputs": [
    {
     "data": {
      "image/png": "[encoded data removed]",
      "text/plain": [
       "<Figure size 432x288 with 1 Axes>"
      ]
     },
     "metadata": {
      "needs_background": "light"
     },
     "output_type": "display_data"
    }
   ],
   "source": [
    "plt.plot([x[0] for x in coerenza],[x[1] for x in coerenza],marker='o',color='r',linestyle='--',label='coerenza')\n",
    "plt.show()"
   ]
  },
  {
   "cell_type": "code",
   "execution_count": 99,
   "metadata": {},
   "outputs": [
    {
     "name": "stdout",
     "output_type": "stream",
     "text": [
      "0.4926540969912195\n"
     ]
    }
   ],
   "source": [
    "ldamodel=gensim.models.ldamodel.LdaModel(new_corpus2, num_topics=6, id2word=id2word,passes=100, iterations = 200, random_state=65,minimum_probability=0.1)\n",
    "cm=CoherenceModel(model=ldamodel, texts=post, coherence='c_v')\n",
    "print(cm.get_coherence())"
   ]
  },
  {
   "cell_type": "code",
   "execution_count": 100,
   "metadata": {},
   "outputs": [
    {
     "name": "stdout",
     "output_type": "stream",
     "text": [
      "(0, '0.035*\"birria\" + 0.021*\"tokyo\" + 0.021*\"barr\" + 0.021*\"miner\" + 0.015*\"olympic\" + 0.015*\"tom\" + 0.015*\"deadly_shooting\" + 0.015*\"proxy\" + 0.015*\"ownership\" + 0.015*\"gun_ownership\"')\n",
      "(1, '0.023*\"roesie\" + 0.018*\"funeral\" + 0.018*\"blaze\" + 0.018*\"northern_california\" + 0.018*\"greek\" + 0.018*\"peppermint\" + 0.018*\"philip\" + 0.018*\"mccraw\" + 0.018*\"overrule_roe\" + 0.012*\"clean\"')\n",
      "(2, '0.027*\"journalist\" + 0.027*\"miah\" + 0.022*\"dyke\" + 0.017*\"tornado\" + 0.011*\"delay\" + 0.011*\"mechanism\" + 0.011*\"sassoli\" + 0.011*\"independent\" + 0.011*\"democratic_society\" + 0.011*\"journalism\"')\n",
      "(3, '0.025*\"cake\" + 0.020*\"summer_temperature\" + 0.020*\"human_coalition\" + 0.015*\"avocado\" + 0.015*\"opera\" + 0.015*\"odesa\" + 0.015*\"theater\" + 0.015*\"tea\" + 0.015*\"obama\" + 0.015*\"matzo\"')\n",
      "(4, '0.043*\"disney\" + 0.029*\"gay_days\" + 0.029*\"disney_world\" + 0.029*\"merkel\" + 0.022*\"ice\" + 0.022*\"ghana\" + 0.015*\"twitter\" + 0.015*\"democracy\" + 0.015*\"george_bush\" + 0.015*\"indoor_air\"')\n",
      "(5, '0.027*\"yang\" + 0.022*\"cnn\" + 0.022*\"hochul\" + 0.017*\"judge\" + 0.017*\"zucker\" + 0.017*\"life_save\" + 0.017*\"humanitarian\" + 0.017*\"health_worker\" + 0.017*\"attack_health\" + 0.017*\"convention\"')\n"
     ]
    }
   ],
   "source": [
    "for topic in ldamodel.show_topics():\n",
    "    print(topic)"
   ]
  },
  {
   "cell_type": "code",
   "execution_count": 85,
   "metadata": {},
   "outputs": [
    {
     "data": {
      "text/plain": [
       "(6, 0.5002188753181677)"
      ]
     },
     "execution_count": 85,
     "metadata": {},
     "output_type": "execute_result"
    }
   ],
   "source": [
    "coerenza[1]"
   ]
  },
  {
   "cell_type": "code",
   "execution_count": 44,
   "metadata": {},
   "outputs": [
    {
     "name": "stdout",
     "output_type": "stream",
     "text": [
      "(0, '0.026*\"miah\" + 0.021*\"hochul\" + 0.016*\"northern_california\" + 0.016*\"blaze\" + 0.016*\"attack_health\" + 0.016*\"life_save\" + 0.016*\"humanitarian\" + 0.016*\"health_worker\" + 0.016*\"convention\" + 0.016*\"general_election\"')\n",
      "(1, '0.024*\"avocado\" + 0.024*\"philip\" + 0.024*\"tornado\" + 0.024*\"miner\" + 0.024*\"holiday\" + 0.017*\"dressing\" + 0.017*\"herb\" + 0.017*\"salad\" + 0.017*\"caper\" + 0.017*\"monarchy\"')\n",
      "(2, '0.029*\"disney\" + 0.024*\"journalist\" + 0.019*\"disney_world\" + 0.019*\"gay_days\" + 0.019*\"summer_temperature\" + 0.019*\"dyke\" + 0.019*\"roesie\" + 0.015*\"judge\" + 0.015*\"peppermint\" + 0.015*\"obama\"')\n",
      "(3, '0.038*\"birria\" + 0.024*\"odesa\" + 0.024*\"theater\" + 0.024*\"opera\" + 0.024*\"mccraw\" + 0.016*\"casualty\" + 0.016*\"trench\" + 0.016*\"veklenko\" + 0.016*\"estimate_people\" + 0.016*\"grave\"')\n",
      "(4, '0.026*\"funeral\" + 0.026*\"cake\" + 0.021*\"merkel\" + 0.021*\"human_coalition\" + 0.016*\"greek\" + 0.016*\"ice\" + 0.016*\"tea\" + 0.016*\"matzo\" + 0.011*\"tokyo\" + 0.011*\"numb\"')\n",
      "(5, '0.028*\"yang\" + 0.023*\"cnn\" + 0.017*\"zucker\" + 0.017*\"barr\" + 0.017*\"vaccinate\" + 0.012*\"delay\" + 0.012*\"cuomo\" + 0.012*\"memo\" + 0.012*\"warnermedia\" + 0.012*\"relationship\"')\n"
     ]
    }
   ],
   "source": [
    "topics = ldamodel.print_topics(num_words=10)\n",
    "for topic in topics:\n",
    "    print(topic)"
   ]
  },
  {
   "cell_type": "code",
   "execution_count": 112,
   "metadata": {},
   "outputs": [],
   "source": [
    "lsaModel=ftd.LSAModel(corpus,9)"
   ]
  },
  {
   "cell_type": "code",
   "execution_count": 113,
   "metadata": {},
   "outputs": [
    {
     "name": "stdout",
     "output_type": "stream",
     "text": [
      "concetto_0 [('abortion', 0.17374447348491195), ('state', 0.14472682790600244), ('people', 0.1330914495588752), ('woman', 0.12685370729557643), ('year', 0.12365213945873108)]\n",
      "concetto_1 [('abortion', 0.30904657856621326), ('woman', 0.21591812133773575), ('state', 0.19078286912384534), ('supreme_court', 0.15573643144933236), ('decision', 0.13362336725760965)]\n",
      "concetto_2 [('recipe', 0.16306263300367874), ('student', 0.14797321080413928), ('school', 0.14115596771459793), ('classroom', 0.1295372758120732), ('miah', 0.12287329123192114)]\n",
      "concetto_3 [('covid', 0.4168989341270857), ('vaccinate', 0.23611424460975422), ('high_risk', 0.19183428784762513), ('people', 0.16649739751920736), ('photographer', 0.15909164532562486)]\n",
      "concetto_4 [('photographer', 0.2376855582900477), ('recipe', 0.18567040503527082), ('marc_aspland', 0.1708769468720108), ('gallery_app', 0.12668605114844902), ('bradley_ormesher', 0.1123938031720013)]\n",
      "concetto_5 [('photographer', 0.24974928675217423), ('marc_aspland', 0.19536137818858945), ('covid', 0.18505239014107266), ('gallery_app', 0.1466722434315202), ('bradley_ormesher', 0.12243487062408238)]\n",
      "concetto_6 [('climate_change', 0.1569315002655687), ('win', 0.1503866278334482), ('heat_wave', 0.12114351675931374), ('war', 0.1195781755522763), ('president', 0.11707588513409245)]\n",
      "concetto_7 [('final_euro', 0.1962123976066968), ('penalty', 0.1942422138460046), ('italy', 0.1917869271400937), ('lose', 0.18783024721459451), ('england', 0.17425733399723772)]\n",
      "concetto_8 [('win', 0.19915502774132768), ('vote', 0.15545246948302474), ('woman', 0.1299570173406448), ('war', 0.12382438023517923), ('abortion', 0.11600104991782993)]\n"
     ]
    }
   ],
   "source": [
    "for topic,val in lsaModel.print_topics().items():\n",
    "    print(topic,val)"
   ]
  },
  {
   "cell_type": "code",
   "execution_count": 78,
   "metadata": {},
   "outputs": [
    {
     "name": "stdout",
     "output_type": "stream",
     "text": [
      "0.001*\"school\" + 0.001*\"shooting\" + 0.001*\"insight\" + 0.001*\"student\" + 0.001*\"people\" + 0.001*\"classroom\" + 0.001*\"use\" + 0.001*\"tournament\" + 0.001*\"illinois\" + 0.001*\"team_game\"\n",
      "[(2, 0.9802472)]\n"
     ]
    }
   ],
   "source": [
    "post=corpus[1]\n",
    "lista_token = list(gensim.utils.tokenize(fpt.remove_link_menzione(fel.converti_emoji(post)), lower=True))\n",
    "lemmatized_string=[wnl.lemmatize(words) for words in fpt.find_and_merge_not(lista_token,ENGLISH_STOP_WORDS)]\n",
    "post_clear = bigram_mdl[lemmatized_string]\n",
    "post2 = post_clear\n",
    "post3 = dictionary.doc2bow(post2)\n",
    "result = ldamodel10.get_document_topics(post3)\n",
    "massimo = max(result, key=lambda x: x[1])[0]\n",
    "print(ldamodel10.print_topic(massimo, topn=10))\n",
    "print(result)"
   ]
  },
  {
   "cell_type": "code",
   "execution_count": 114,
   "metadata": {},
   "outputs": [],
   "source": [
    "from sklearn.feature_extraction.text import TfidfVectorizer\n",
    "from sklearn.decomposition import TruncatedSVD"
   ]
  },
  {
   "cell_type": "code",
   "execution_count": 163,
   "metadata": {},
   "outputs": [],
   "source": [
    "lemmatized_bigram_string=[' '.join(word) for word in post]\n",
    "vectorizer = TfidfVectorizer()\n",
    "M=vectorizer.fit_transform(lemmatized_bigram_string)\n",
    "M=M.toarray()\n",
    "row,column=M.shape\n",
    "for i, j in itertools.product(range(row), range(column)):\n",
    "    if M[i][j]<0.2:\n",
    "        M[i][j]=0\n",
    "M=sparse.csr_matrix(M)\n",
    "\n",
    "termini=vectorizer.get_feature_names()\n",
    "lsa = TruncatedSVD(n_components=9,n_iter=5000)\n",
    "lsa.fit(M)\n",
    "p =   {f\"concetto_{str(i)}\": list(\n",
    "            sorted(zip(termini, abs(j)), key=lambda x: x[1],\n",
    "                   reverse=True)[:5])\n",
    "        for i, j in enumerate(lsa.components_)}\n",
    "#concetti=self.print_topics()"
   ]
  },
  {
   "cell_type": "code",
   "execution_count": 164,
   "metadata": {},
   "outputs": [
    {
     "name": "stdout",
     "output_type": "stream",
     "text": [
      "concetto_0 [('photographer', 0.4082417479854554), ('marc_aspland', 0.3897306555933293), ('gallery_app', 0.29936131497552304), ('bradley_ormesher', 0.2503573801113368), ('sport', 0.1704445325205576)]\n",
      "concetto_1 [('final_euro', 0.2944314503068907), ('italy', 0.2763018830118222), ('penalty', 0.24849179898037013), ('game', 0.22873856049387187), ('lose', 0.2116256339306996)]\n",
      "concetto_2 [('vaccinate', 0.26256365172371227), ('tokyo', 0.24469956829550782), ('team', 0.24397273016854568), ('high_risk', 0.2209704767164458), ('covid', 0.2019549192251259)]\n",
      "concetto_3 [('vaccinate', 0.28988343894656826), ('high_risk', 0.2563417860414636), ('covid', 0.23952485936222653), ('tokyo', 0.19507340984716315), ('people', 0.1859986260259599)]\n",
      "concetto_4 [('roll', 0.33955869370936004), ('dough', 0.2623937753927637), ('fresh', 0.2479999556151825), ('classic', 0.21023285314051543), ('warm', 0.17976543752510263)]\n",
      "concetto_5 [('england', 0.3401710964051735), ('story', 0.1906072648894822), ('authoritative', 0.15950179482279142), ('lanka', 0.15950179482279142), ('root', 0.15950179482279142)]\n",
      "concetto_6 [('adam_peaty', 0.3310536480600085), ('tell_matt', 0.27691985581878), ('tom', 0.2419641603482189), ('breaststroke', 0.23880200987237554), ('dickinson', 0.23880200987237554)]\n",
      "concetto_7 [('astonishing', 0.3697262872090637), ('cristiano', 0.2445834692587066), ('ronaldo', 0.2445834692587066), ('united', 0.2445834692587066), ('club', 0.22505233553492093)]\n",
      "concetto_8 [('prime_minister', 0.33657579199808135), ('freeze', 0.3013500439658754), ('handgun_sale', 0.2772858338039833), ('introduce', 0.2772858338039833), ('justin_trudeau', 0.2772858338039833)]\n"
     ]
    }
   ],
   "source": [
    "for i, j in p.items():\n",
    "    print(i, j)"
   ]
  },
  {
   "cell_type": "code",
   "execution_count": 165,
   "metadata": {},
   "outputs": [],
   "source": [
    "hdpModel=gensim.models.hdpmodel.HdpModel(new_corpus2, id2word=id2word)"
   ]
  },
  {
   "cell_type": "code",
   "execution_count": 166,
   "metadata": {},
   "outputs": [
    {
     "name": "stdout",
     "output_type": "stream",
     "text": [
      "(0, '0.018*use_chocolate + 0.015*score + 0.015*trench + 0.013*title + 0.012*odesa + 0.011*swath + 0.010*recirculating + 0.010*holder + 0.010*hamilton + 0.009*exception')\n",
      "(1, '0.014*ventilation + 0.013*verstappen + 0.012*caper + 0.010*sterling + 0.009*olympics + 0.009*favourite + 0.009*germany + 0.009*pickford + 0.009*birria + 0.008*engage')\n",
      "(2, '0.018*swimming + 0.017*employee + 0.014*overrule_roe + 0.014*westberg_write + 0.011*simon + 0.011*asher + 0.010*tomato + 0.010*restriction_effect + 0.009*soft + 0.008*pregnant_option')\n",
      "(3, '0.018*sterling + 0.015*winner + 0.013*dina + 0.012*health_worker + 0.011*general_election + 0.010*prematurely + 0.010*sky + 0.010*console + 0.009*westberg_write + 0.009*global_scale')\n",
      "(4, '0.016*gay_days + 0.014*cauliflower + 0.013*northern_california + 0.012*swimming + 0.011*olio + 0.011*ventilation + 0.011*shatter + 0.010*pick + 0.010*kane + 0.010*recirculating')\n",
      "(5, '0.014*democracy + 0.013*longlifeforall + 0.011*crisp + 0.011*ghana + 0.011*husband_queen + 0.011*emma + 0.011*windows + 0.010*fraser + 0.010*golf + 0.010*european_leader')\n",
      "(6, '0.018*ohio + 0.015*peppermint + 0.014*nephew + 0.014*mike_pence + 0.012*black_woman + 0.012*fraser + 0.011*cough + 0.011*engage + 0.009*provider + 0.009*relationship')\n",
      "(7, '0.013*china + 0.011*judge_cooper + 0.010*hochul + 0.010*convention + 0.010*germany + 0.009*pull + 0.009*health_worker + 0.009*abortion_week + 0.008*hirst + 0.008*sky')\n",
      "(8, '0.020*barr + 0.014*gallery + 0.011*thompson + 0.011*cream + 0.011*prince_philip + 0.010*emma + 0.009*smith + 0.009*merkel + 0.009*inter + 0.009*final_euro')\n",
      "(9, '0.016*trudeau + 0.014*knife + 0.014*north_korean + 0.011*dumpling + 0.011*employ + 0.011*swimming + 0.011*speed + 0.011*peppermint + 0.010*katarina + 0.010*triumph')\n",
      "(10, '0.020*conditioner + 0.011*taipei + 0.010*indoor_air + 0.010*stuart + 0.010*breaststroke + 0.009*husband_queen + 0.009*ashes + 0.009*congress + 0.009*graphic + 0.008*famous')\n",
      "(11, '0.015*infection + 0.015*bagel + 0.012*preview + 0.012*ghana + 0.012*penalty + 0.012*taipei + 0.011*mccraw + 0.011*puttanesca + 0.010*pearl + 0.010*delay')\n",
      "(12, '0.019*natural_disaster + 0.015*judge + 0.012*garlic + 0.012*bagel + 0.011*exception + 0.011*distract + 0.010*narrowly + 0.010*hansen + 0.009*speed + 0.009*journalist')\n",
      "(13, '0.017*greek + 0.013*wild_rice + 0.011*visit_obama + 0.009*humiliation + 0.009*taiwan + 0.009*saturday_morning + 0.009*astonishing + 0.008*estimate_people + 0.008*soft + 0.008*matt_dickinson')\n",
      "(14, '0.022*classic + 0.014*yuan + 0.013*taiwan + 0.012*bacteria + 0.012*estimate_people + 0.012*thrill + 0.011*paul + 0.011*parmesan + 0.010*glory + 0.010*flake')\n",
      "(15, '0.019*svalbard_archipelago + 0.015*rugby + 0.012*final_euro + 0.011*evolve + 0.011*trudeau + 0.011*pickford + 0.010*antoniy + 0.009*clean + 0.009*lawton + 0.009*yang')\n",
      "(16, '0.017*olympic + 0.016*swath + 0.016*rugby + 0.012*eu + 0.012*spike + 0.011*speak_protest + 0.011*husband_queen + 0.010*dyke + 0.009*fearless + 0.009*podcast')\n",
      "(17, '0.019*cake + 0.017*sesame + 0.015*simon + 0.013*independent + 0.013*mask + 0.012*gay_days + 0.010*penalty + 0.009*risotto + 0.009*recirculating + 0.009*paprika')\n",
      "(18, '0.019*ashes + 0.012*husband_queen + 0.011*elbow + 0.010*icing + 0.010*pence + 0.010*privacy + 0.009*mask + 0.009*variant + 0.009*employ + 0.009*inter')\n",
      "(19, '0.016*french_toast + 0.015*console + 0.014*gold + 0.012*infected + 0.011*spike + 0.011*democracy + 0.010*bagel + 0.010*germany + 0.010*breaststroke + 0.010*heal')\n"
     ]
    }
   ],
   "source": [
    "for topic in hdpModel.print_topics():\n",
    "    print(topic)"
   ]
  },
  {
   "cell_type": "code",
   "execution_count": 66,
   "metadata": {},
   "outputs": [
    {
     "data": {
      "text/plain": [
       "[(4, 0.9926481)]"
      ]
     },
     "execution_count": 66,
     "metadata": {},
     "output_type": "execute_result"
    }
   ],
   "source": [
    "result"
   ]
  },
  {
   "cell_type": "code",
   "execution_count": 69,
   "metadata": {},
   "outputs": [],
   "source": []
  },
  {
   "cell_type": "code",
   "execution_count": 70,
   "metadata": {},
   "outputs": [
    {
     "data": {
      "text/plain": [
       "4"
      ]
     },
     "execution_count": 70,
     "metadata": {},
     "output_type": "execute_result"
    }
   ],
   "source": [
    "massimo"
   ]
  },
  {
   "cell_type": "code",
   "execution_count": 74,
   "metadata": {},
   "outputs": [
    {
     "data": {
      "text/plain": [
       "'0.001*\"making\" + 0.001*\"party\" + 0.001*\"dumpling\" + 0.001*\"florida\" + 0.001*\"bagel\" + 0.001*\"abortion\" + 0.001*\"recipe\" + 0.001*\"indoor_air\" + 0.001*\"air\" + 0.001*\"s\"'"
      ]
     },
     "execution_count": 74,
     "metadata": {},
     "output_type": "execute_result"
    }
   ],
   "source": []
  },
  {
   "cell_type": "code",
   "execution_count": 72,
   "metadata": {},
   "outputs": [
    {
     "data": {
      "text/plain": [
       "\"The fall of Roe v. Wade has pushed the U.S. into turbulence that feels all too familiar to those who lived through the pre-Roe era. We spoke to women who remember a time without Roe — and the early years after the 1973 ruling.\\nCatherine Starr told The New York Times in an interview that she had become pregnant when she was 16, and, without the option of a safe, legal abortion, she gave her baby up for adoption. She was 17 when she attended her first demonstration to push for abortion rights outside City Hall in St. Louis. It was May 24, 1973, just months after the Supreme Court ruled on Roe v. Wade. Starr went to the rally because she “wanted to be able to make sure that the next little girl that gets pregnant has an option,” she said.\\nThe same year that Roe was decided, our photographer William E. Sauro documented scenes inside Women's Medical Services (second and fourth photo), an abortion clinic on Walnut Street in downtown Philadelphia, and our photographer Librado Romero took pictures of workers inside the Women’s National Abortion Action Coalition office in New York (third photo).\\nIn 1981, our photographer John Sotomayor captured abortion rights activists dancing at a demonstration at Liberty and Church Streets in Manhattan to commemorate the eighth anniversary of the Supreme Court’s decision.\""
      ]
     },
     "execution_count": 72,
     "metadata": {},
     "output_type": "execute_result"
    }
   ],
   "source": [
    "corpus[0]"
   ]
  },
  {
   "cell_type": "code",
   "execution_count": 44,
   "metadata": {},
   "outputs": [
    {
     "data": {
      "text/plain": [
       "\"The fall of Roe v. Wade has pushed the U.S. into turbulence that feels all too familiar to those who lived through the pre-Roe era. We spoke to women who remember a time without Roe — and the early years after the 1973 ruling.\\nCatherine Starr told The New York Times in an interview that she had become pregnant when she was 16, and, without the option of a safe, legal abortion, she gave her baby up for adoption. She was 17 when she attended her first demonstration to push for abortion rights outside City Hall in St. Louis. It was May 24, 1973, just months after the Supreme Court ruled on Roe v. Wade. Starr went to the rally because she “wanted to be able to make sure that the next little girl that gets pregnant has an option,” she said.\\nThe same year that Roe was decided, our photographer William E. Sauro documented scenes inside Women's Medical Services (second and fourth photo), an abortion clinic on Walnut Street in downtown Philadelphia, and our photographer Librado Romero took pictures of workers inside the Women’s National Abortion Action Coalition office in New York (third photo).\\nIn 1981, our photographer John Sotomayor captured abortion rights activists dancing at a demonstration at Liberty and Church Streets in Manhattan to commemorate the eighth anniversary of the Supreme Court’s decision.\""
      ]
     },
     "execution_count": 44,
     "metadata": {},
     "output_type": "execute_result"
    }
   ],
   "source": [
    "corpus[0]"
   ]
  },
  {
   "cell_type": "code",
   "execution_count": 41,
   "metadata": {},
   "outputs": [
    {
     "data": {
      "text/plain": [
       "[(0,\n",
       "  '0.001*\"roll\" + 0.001*\"new_york\" + 0.001*\"roesie\" + 0.001*\"pickford\" + 0.001*\"covid\" + 0.001*\"woman\" + 0.001*\"holiday\" + 0.001*\"dough\" + 0.001*\"birria\" + 0.001*\"yang\"'),\n",
       " (1,\n",
       "  '0.001*\"year\" + 0.001*\"climate_change\" + 0.001*\"people\" + 0.001*\"said\" + 0.001*\"look\" + 0.001*\"temperature\" + 0.001*\"pandemic\" + 0.001*\"s\" + 0.001*\"heat_wave\" + 0.001*\"covid\"'),\n",
       " (2,\n",
       "  '0.001*\"school\" + 0.001*\"shooting\" + 0.001*\"insight\" + 0.001*\"student\" + 0.001*\"people\" + 0.001*\"classroom\" + 0.001*\"use\" + 0.001*\"tournament\" + 0.001*\"illinois\" + 0.001*\"team_game\"'),\n",
       " (3,\n",
       "  '0.001*\"club\" + 0.001*\"manchester\" + 0.001*\"justice\" + 0.001*\"royal\" + 0.001*\"s\" + 0.001*\"journalist\" + 0.001*\"league\" + 0.001*\"introducing\" + 0.001*\"freeze\" + 0.001*\"win\"'),\n",
       " (4,\n",
       "  '0.001*\"making\" + 0.001*\"party\" + 0.001*\"dumpling\" + 0.001*\"florida\" + 0.001*\"bagel\" + 0.001*\"abortion\" + 0.001*\"recipe\" + 0.001*\"indoor_air\" + 0.001*\"air\" + 0.001*\"s\"')]"
      ]
     },
     "execution_count": 41,
     "metadata": {},
     "output_type": "execute_result"
    }
   ],
   "source": [
    "ldamodel10.print_topics()"
   ]
  },
  {
   "cell_type": "code",
   "execution_count": 40,
   "metadata": {},
   "outputs": [
    {
     "name": "stdout",
     "output_type": "stream",
     "text": [
      "[[(0, 1), (1, 2), (2, 2), (3, 1), (4, 1), (5, 1), (6, 1), (7, 1), (8, 1), (9, 1), (10, 1), (11, 1), (12, 1), (13, 1), (14, 1), (15, 1), (16, 1), (17, 1), (18, 2), (19, 1), (20, 1), (21, 1), (22, 1), (23, 1), (24, 1), (25, 1), (26, 1), (27, 1), (28, 1), (29, 1), (30, 1), (31, 1), (32, 2), (33, 1), (34, 1), (35, 1), (36, 1), (37, 1), (38, 1), (39, 1), (40, 1), (41, 1), (42, 1), (43, 1), (44, 1), (45, 1), (46, 1), (47, 2), (48, 1), (49, 1), (50, 1), (51, 2), (52, 3), (53, 1), (54, 1), (55, 2), (56, 1), (57, 1), (58, 1), (59, 1), (60, 3), (61, 2), (62, 1), (63, 1), (64, 1), (65, 2), (66, 1), (67, 1), (68, 1), (69, 1), (70, 1), (71, 1), (72, 1), (73, 1), (74, 1), (75, 1), (76, 2), (77, 2), (78, 2), (79, 2), (80, 1), (81, 1), (82, 1), (83, 1), (84, 2), (85, 1), (86, 1), (87, 1), (88, 1), (89, 1), (90, 1), (91, 2)], [(1, 2), (13, 1), (65, 1), (66, 1), (78, 1), (92, 1), (93, 1), (94, 1), (95, 1), (96, 2), (97, 1), (98, 1), (99, 1), (100, 3), (101, 1), (102, 1), (103, 1), (104, 1), (105, 1), (106, 1), (107, 1), (108, 1), (109, 1), (110, 1), (111, 1), (112, 1), (113, 1), (114, 1), (115, 1), (116, 2), (117, 1), (118, 1), (119, 1), (120, 1), (121, 1)], [(1, 4), (2, 1), (33, 1), (36, 1), (61, 1), (67, 1), (68, 1), (78, 1), (83, 1), (84, 1), (89, 7), (96, 1), (116, 1), (122, 1), (123, 2), (124, 1), (125, 1), (126, 1), (127, 1), (128, 1), (129, 1), (130, 1), (131, 1), (132, 2), (133, 1), (134, 2), (135, 1), (136, 1), (137, 1), (138, 1), (139, 1), (140, 1), (141, 1), (142, 1), (143, 1), (144, 1), (145, 1), (146, 1), (147, 1), (148, 1), (149, 2), (150, 1), (151, 1), (152, 1), (153, 1), (154, 1), (155, 1), (156, 1), (157, 1), (158, 1), (159, 1), (160, 1), (161, 1), (162, 1), (163, 1), (164, 1), (165, 1), (166, 1), (167, 1), (168, 1), (169, 1), (170, 1), (171, 1), (172, 1), (173, 1), (174, 1), (175, 1), (176, 1), (177, 1), (178, 1), (179, 1), (180, 1), (181, 1), (182, 1), (183, 1), (184, 1), (185, 1), (186, 1), (187, 1), (188, 1), (189, 1)], [(2, 2), (4, 1), (15, 1), (64, 1), (68, 1), (72, 1), (78, 2), (97, 1), (99, 2), (108, 1), (116, 1), (122, 1), (131, 1), (134, 3), (149, 1), (151, 1), (169, 1), (173, 1), (177, 1), (190, 1), (191, 1), (192, 1), (193, 1), (194, 1), (195, 1), (196, 1), (197, 1), (198, 1), (199, 1), (200, 1), (201, 1), (202, 2), (203, 2), (204, 1), (205, 1), (206, 1), (207, 1), (208, 2), (209, 1), (210, 1), (211, 1), (212, 1), (213, 1), (214, 1), (215, 1), (216, 1), (217, 1), (218, 1), (219, 1), (220, 1), (221, 1), (222, 1), (223, 1), (224, 1), (225, 1), (226, 1), (227, 1), (228, 1), (229, 1), (230, 1), (231, 1), (232, 1), (233, 1), (234, 1), (235, 1), (236, 1), (237, 1), (238, 1), (239, 1), (240, 1), (241, 1), (242, 1), (243, 1), (244, 1), (245, 1), (246, 1), (247, 1), (248, 1), (249, 1), (250, 1), (251, 1), (252, 1), (253, 1), (254, 1)], [(1, 1), (22, 1), (34, 1), (60, 2), (61, 1), (64, 2), (68, 1), (78, 1), (84, 1), (91, 1), (95, 1), (99, 1), (116, 2), (123, 1), (131, 1), (134, 2), (149, 1), (151, 2), (203, 1), (207, 1), (242, 1), (255, 1), (256, 1), (257, 1), (258, 1), (259, 1), (260, 1), (261, 2), (262, 1), (263, 1), (264, 1), (265, 1), (266, 1), (267, 1), (268, 1), (269, 1), (270, 1), (271, 1), (272, 1), (273, 1), (274, 1), (275, 3), (276, 1), (277, 1), (278, 1), (279, 1), (280, 1), (281, 1), (282, 1), (283, 1), (284, 1), (285, 1), (286, 1), (287, 1), (288, 1), (289, 1), (290, 1), (291, 1), (292, 1), (293, 1), (294, 1), (295, 1), (296, 1), (297, 1), (298, 1), (299, 1), (300, 1), (301, 1), (302, 1), (303, 1), (304, 1), (305, 1), (306, 1), (307, 1), (308, 1), (309, 1), (310, 1), (311, 1), (312, 1), (313, 1), (314, 1), (315, 1), (316, 1), (317, 1), (318, 1), (319, 1), (320, 1)], [(1, 4), (8, 1), (13, 1), (27, 1), (46, 1), (47, 1), (56, 1), (61, 1), (65, 2), (72, 1), (79, 2), (83, 1), (84, 1), (89, 1), (91, 1), (93, 1), (105, 1), (110, 1), (113, 1), (116, 2), (134, 1), (135, 1), (153, 1), (163, 1), (193, 1), (218, 1), (276, 1), (303, 1), (321, 1), (322, 1), (323, 1), (324, 2), (325, 1), (326, 1), (327, 1), (328, 1), (329, 1), (330, 1), (331, 1), (332, 1), (333, 1), (334, 1), (335, 1), (336, 1), (337, 1), (338, 1), (339, 1), (340, 1), (341, 4), (342, 1), (343, 1), (344, 1), (345, 1), (346, 1), (347, 1), (348, 2), (349, 1), (350, 1), (351, 1), (352, 1), (353, 1), (354, 1), (355, 1), (356, 1), (357, 1), (358, 1), (359, 2), (360, 1), (361, 1), (362, 1), (363, 1), (364, 1), (365, 1), (366, 1), (367, 1), (368, 1), (369, 1), (370, 1), (371, 1), (372, 1), (373, 1), (374, 1), (375, 1), (376, 1), (377, 1), (378, 2), (379, 1), (380, 1), (381, 1), (382, 1), (383, 1), (384, 1), (385, 1), (386, 1)], [(1, 6), (13, 1), (64, 2), (78, 1), (83, 1), (91, 2), (93, 1), (110, 2), (116, 3), (121, 3), (122, 1), (172, 1), (196, 1), (241, 1), (252, 1), (326, 2), (327, 1), (355, 1), (368, 1), (374, 1), (380, 1), (382, 1), (387, 1), (388, 1), (389, 1), (390, 1), (391, 2), (392, 1), (393, 1), (394, 1), (395, 1), (396, 1), (397, 2), (398, 1), (399, 1), (400, 1), (401, 1), (402, 1), (403, 1), (404, 5), (405, 1), (406, 1), (407, 2), (408, 1), (409, 1), (410, 1), (411, 1), (412, 1), (413, 1), (414, 1), (415, 1), (416, 1), (417, 1), (418, 1), (419, 1), (420, 1), (421, 1), (422, 1), (423, 1), (424, 1), (425, 1), (426, 1), (427, 2), (428, 2), (429, 1), (430, 1), (431, 2), (432, 1), (433, 2), (434, 1), (435, 2), (436, 1), (437, 1), (438, 2), (439, 1), (440, 1), (441, 1), (442, 2), (443, 1), (444, 1), (445, 1), (446, 1), (447, 1), (448, 1), (449, 1), (450, 2), (451, 1), (452, 1), (453, 1), (454, 1), (455, 1), (456, 1)], [(1, 1), (34, 1), (63, 2), (68, 2), (71, 1), (78, 1), (110, 1), (116, 4), (131, 1), (161, 1), (173, 1), (203, 1), (245, 1), (261, 2), (275, 2), (303, 1), (332, 1), (389, 1), (391, 1), (393, 1), (401, 2), (404, 3), (412, 2), (415, 1), (423, 1), (426, 1), (435, 3), (446, 1), (447, 1), (457, 2), (458, 1), (459, 1), (460, 1), (461, 2), (462, 1), (463, 1), (464, 1), (465, 1), (466, 1), (467, 1), (468, 2), (469, 1), (470, 1), (471, 1), (472, 1), (473, 1), (474, 1), (475, 3), (476, 2), (477, 1), (478, 1), (479, 1), (480, 1), (481, 1), (482, 1), (483, 1), (484, 1), (485, 1), (486, 1), (487, 2), (488, 1), (489, 1), (490, 1), (491, 1), (492, 1), (493, 1), (494, 1), (495, 1), (496, 2), (497, 1), (498, 1), (499, 1), (500, 2), (501, 1), (502, 1), (503, 1), (504, 1), (505, 1), (506, 1)], [(1, 4), (8, 5), (28, 1), (60, 1), (68, 1), (78, 1), (87, 1), (89, 4), (91, 1), (92, 1), (112, 1), (114, 1), (116, 2), (128, 1), (129, 1), (131, 1), (150, 1), (155, 1), (187, 1), (196, 1), (219, 1), (230, 1), (232, 1), (249, 3), (252, 1), (262, 1), (324, 2), (326, 1), (328, 1), (360, 1), (378, 4), (410, 1), (467, 1), (470, 1), (479, 1), (504, 1), (507, 1), (508, 1), (509, 1), (510, 1), (511, 1), (512, 1), (513, 1), (514, 2), (515, 1), (516, 1), (517, 1), (518, 2), (519, 1), (520, 1), (521, 1), (522, 1), (523, 1), (524, 1), (525, 1), (526, 1), (527, 1), (528, 1), (529, 3), (530, 1), (531, 1), (532, 1), (533, 1), (534, 1), (535, 1), (536, 1), (537, 1), (538, 1), (539, 1), (540, 1), (541, 1), (542, 2), (543, 1), (544, 1), (545, 1), (546, 1), (547, 1), (548, 1), (549, 1), (550, 1), (551, 1), (552, 1), (553, 1), (554, 3), (555, 1), (556, 1), (557, 1), (558, 1), (559, 1), (560, 1), (561, 2), (562, 2), (563, 1), (564, 1), (565, 1), (566, 1), (567, 1), (568, 1), (569, 1), (570, 2), (571, 1), (572, 1), (573, 1), (574, 1), (575, 1), (576, 1), (577, 1), (578, 1), (579, 2), (580, 2), (581, 1), (582, 1), (583, 1), (584, 1), (585, 1)], [(47, 1), (68, 1), (79, 2), (83, 1), (91, 1), (123, 1), (143, 1), (152, 1), (158, 1), (216, 1), (221, 2), (281, 1), (327, 2), (408, 1), (409, 1), (423, 1), (454, 1), (479, 1), (508, 1), (521, 1), (565, 1), (586, 1), (587, 1), (588, 1), (589, 1), (590, 1), (591, 1), (592, 1), (593, 1), (594, 1), (595, 1), (596, 1), (597, 1), (598, 1), (599, 1), (600, 1), (601, 1), (602, 1), (603, 2), (604, 1), (605, 1), (606, 1), (607, 1), (608, 1), (609, 1), (610, 1), (611, 1), (612, 1), (613, 1), (614, 1), (615, 1), (616, 1), (617, 1), (618, 1), (619, 1), (620, 1), (621, 1), (622, 1), (623, 1), (624, 1), (625, 1), (626, 1), (627, 3), (628, 1), (629, 1), (630, 1), (631, 1), (632, 1), (633, 1), (634, 1), (635, 1), (636, 1), (637, 1), (638, 1), (639, 1), (640, 1), (641, 1), (642, 1), (643, 1), (644, 1), (645, 1), (646, 1), (647, 1), (648, 1), (649, 1), (650, 1), (651, 1), (652, 1), (653, 1), (654, 1), (655, 1), (656, 1), (657, 1)], [(43, 1), (46, 1), (47, 3), (54, 1), (72, 2), (99, 1), (118, 1), (407, 1), (594, 2), (658, 1), (659, 2), (660, 1), (661, 1), (662, 1), (663, 1), (664, 1), (665, 1), (666, 1), (667, 1), (668, 1), (669, 1), (670, 1), (671, 1), (672, 2), (673, 1), (674, 1), (675, 1), (676, 1), (677, 1), (678, 2), (679, 1), (680, 1), (681, 1), (682, 1), (683, 1), (684, 1), (685, 1), (686, 1), (687, 1), (688, 1), (689, 1), (690, 1), (691, 2), (692, 1), (693, 2), (694, 1), (695, 1), (696, 1), (697, 1), (698, 2), (699, 1), (700, 1), (701, 1), (702, 1), (703, 2)], [(11, 1), (22, 1), (65, 2), (68, 1), (70, 1), (99, 1), (100, 1), (104, 1), (116, 1), (120, 1), (135, 1), (221, 2), (232, 1), (326, 1), (344, 1), (408, 1), (438, 1), (473, 1), (619, 1), (698, 2), (704, 1), (705, 1), (706, 1), (707, 1), (708, 1), (709, 1), (710, 1), (711, 1), (712, 1), (713, 2), (714, 1), (715, 1), (716, 1), (717, 1), (718, 1), (719, 1), (720, 1), (721, 2), (722, 1), (723, 1), (724, 1), (725, 1), (726, 1), (727, 1), (728, 1), (729, 1), (730, 1), (731, 1), (732, 1), (733, 1), (734, 1), (735, 2), (736, 1), (737, 1), (738, 1), (739, 1), (740, 1), (741, 1), (742, 1), (743, 1), (744, 1), (745, 1), (746, 1), (747, 1), (748, 1), (749, 1), (750, 1), (751, 1), (752, 1), (753, 1), (754, 1), (755, 2), (756, 1), (757, 2), (758, 1), (759, 1), (760, 1), (761, 3), (762, 1), (763, 1), (764, 1), (765, 1), (766, 1), (767, 1), (768, 1)], [(52, 1), (91, 1), (102, 1), (141, 1), (150, 1), (334, 1), (596, 1), (614, 1), (639, 2), (654, 2), (660, 1), (769, 1), (770, 1), (771, 1), (772, 1), (773, 1), (774, 1), (775, 1), (776, 1), (777, 1), (778, 1), (779, 1), (780, 2), (781, 1), (782, 1), (783, 1), (784, 1), (785, 1), (786, 1), (787, 1), (788, 1), (789, 1), (790, 1), (791, 1), (792, 3), (793, 1), (794, 1), (795, 1), (796, 1), (797, 1), (798, 1), (799, 1), (800, 1), (801, 1), (802, 1), (803, 1), (804, 1), (805, 1), (806, 1), (807, 1), (808, 1), (809, 1), (810, 1), (811, 1), (812, 1), (813, 1), (814, 1), (815, 2), (816, 2), (817, 1), (818, 1), (819, 1), (820, 1), (821, 1), (822, 1), (823, 1), (824, 1), (825, 2), (826, 1), (827, 1)], [(65, 1), (262, 2), (297, 1), (348, 1), (422, 1), (430, 1), (595, 1), (635, 1), (650, 1), (817, 1), (819, 1), (828, 1), (829, 1), (830, 2), (831, 1), (832, 1), (833, 1), (834, 1), (835, 1), (836, 1), (837, 1), (838, 1), (839, 1), (840, 2), (841, 1), (842, 1), (843, 1), (844, 1), (845, 2), (846, 1), (847, 1), (848, 1), (849, 2), (850, 1), (851, 3), (852, 1), (853, 1), (854, 1), (855, 1), (856, 1), (857, 1), (858, 1), (859, 1), (860, 1), (861, 1), (862, 1), (863, 1), (864, 1), (865, 1), (866, 1), (867, 4), (868, 1), (869, 1), (870, 1)], [(3, 1), (65, 1), (68, 3), (101, 1), (114, 1), (153, 2), (232, 1), (259, 1), (262, 1), (281, 1), (482, 1), (553, 1), (592, 1), (596, 2), (604, 1), (617, 1), (629, 1), (636, 1), (639, 1), (654, 1), (687, 1), (704, 1), (726, 1), (738, 1), (777, 2), (779, 1), (782, 1), (817, 1), (839, 1), (852, 1), (863, 1), (871, 1), (872, 1), (873, 1), (874, 1), (875, 1), (876, 1), (877, 1), (878, 1), (879, 1), (880, 1), (881, 1), (882, 1), (883, 1), (884, 1), (885, 1), (886, 1), (887, 1), (888, 1), (889, 1), (890, 1), (891, 1), (892, 1), (893, 1), (894, 2), (895, 1), (896, 1), (897, 1), (898, 1), (899, 1), (900, 1), (901, 1), (902, 1), (903, 1), (904, 1), (905, 1), (906, 1), (907, 1), (908, 1), (909, 1), (910, 1), (911, 1), (912, 1), (913, 1), (914, 1), (915, 1), (916, 1), (917, 1), (918, 2), (919, 1), (920, 1), (921, 1), (922, 1), (923, 1), (924, 1), (925, 1), (926, 1), (927, 1), (928, 1), (929, 1), (930, 1), (931, 1), (932, 2), (933, 1), (934, 1), (935, 1)], [(25, 2), (65, 1), (68, 1), (144, 1), (306, 1), (327, 1), (407, 1), (430, 1), (440, 1), (536, 3), (559, 1), (578, 1), (602, 2), (609, 2), (660, 1), (664, 1), (669, 1), (677, 1), (686, 1), (696, 1), (698, 4), (738, 1), (798, 1), (866, 1), (936, 1), (937, 1), (938, 1), (939, 1), (940, 1), (941, 2), (942, 1), (943, 1), (944, 1), (945, 1), (946, 1), (947, 2), (948, 1), (949, 1), (950, 1), (951, 4), (952, 1), (953, 1), (954, 1), (955, 1), (956, 1), (957, 1), (958, 1), (959, 1), (960, 1), (961, 1), (962, 1), (963, 1), (964, 3), (965, 1), (966, 1), (967, 1), (968, 2), (969, 1), (970, 1), (971, 1), (972, 2), (973, 1), (974, 1), (975, 1), (976, 2), (977, 1), (978, 1), (979, 1), (980, 1), (981, 1), (982, 1), (983, 1), (984, 1), (985, 1), (986, 1), (987, 1), (988, 1), (989, 2), (990, 2)], [(4, 2), (6, 1), (35, 1), (65, 1), (68, 1), (91, 3), (99, 1), (112, 1), (127, 1), (128, 3), (169, 1), (185, 1), (216, 1), (249, 1), (299, 1), (327, 1), (337, 1), (346, 1), (354, 1), (423, 1), (440, 1), (481, 1), (521, 1), (596, 3), (629, 1), (635, 1), (714, 1), (790, 1), (799, 1), (808, 1), (846, 1), (863, 1), (869, 2), (879, 1), (907, 1), (927, 1), (932, 1), (991, 1), (992, 3), (993, 1), (994, 1), (995, 2), (996, 1), (997, 1), (998, 1), (999, 1), (1000, 1), (1001, 1), (1002, 1), (1003, 1), (1004, 1), (1005, 1), (1006, 2), (1007, 1), (1008, 1), (1009, 1), (1010, 2), (1011, 1), (1012, 1), (1013, 1), (1014, 1), (1015, 1), (1016, 1), (1017, 1), (1018, 1), (1019, 1), (1020, 1), (1021, 1), (1022, 1), (1023, 1), (1024, 1), (1025, 1), (1026, 1), (1027, 1), (1028, 1), (1029, 1), (1030, 1), (1031, 1), (1032, 1), (1033, 1), (1034, 1), (1035, 1), (1036, 2), (1037, 1), (1038, 1), (1039, 2)], [(48, 1), (65, 2), (152, 1), (185, 1), (221, 1), (232, 2), (266, 1), (407, 1), (413, 1), (422, 1), (467, 1), (473, 1), (497, 1), (500, 1), (530, 1), (594, 1), (660, 1), (714, 1), (733, 1), (738, 1), (744, 1), (769, 2), (805, 1), (855, 1), (941, 1), (954, 1), (986, 2), (997, 1), (1020, 1), (1040, 2), (1041, 1), (1042, 4), (1043, 1), (1044, 1), (1045, 1), (1046, 1), (1047, 1), (1048, 2), (1049, 2), (1050, 1), (1051, 1), (1052, 1), (1053, 1), (1054, 1), (1055, 3), (1056, 1), (1057, 2), (1058, 1), (1059, 2), (1060, 1), (1061, 1), (1062, 1), (1063, 1), (1064, 1), (1065, 1), (1066, 3), (1067, 1), (1068, 1), (1069, 1), (1070, 1), (1071, 1), (1072, 1), (1073, 1), (1074, 1), (1075, 1), (1076, 2), (1077, 2), (1078, 1), (1079, 1), (1080, 1), (1081, 1), (1082, 1), (1083, 1), (1084, 1), (1085, 1), (1086, 1), (1087, 4), (1088, 1)], [(65, 2), (68, 1), (70, 1), (72, 1), (102, 2), (146, 1), (221, 1), (259, 1), (327, 1), (514, 1), (609, 1), (610, 1), (617, 1), (620, 1), (634, 1), (683, 1), (782, 1), (866, 1), (873, 1), (921, 1), (940, 1), (942, 1), (1004, 1), (1040, 1), (1078, 1), (1089, 1), (1090, 1), (1091, 1), (1092, 1), (1093, 1), (1094, 1), (1095, 1), (1096, 2), (1097, 1), (1098, 1), (1099, 1), (1100, 1), (1101, 1), (1102, 1), (1103, 1), (1104, 1), (1105, 1), (1106, 1), (1107, 1), (1108, 2), (1109, 1), (1110, 2), (1111, 1), (1112, 2), (1113, 1), (1114, 2), (1115, 1), (1116, 1), (1117, 2), (1118, 3), (1119, 1), (1120, 1), (1121, 1), (1122, 1), (1123, 2), (1124, 1), (1125, 1), (1126, 1), (1127, 1), (1128, 1), (1129, 1), (1130, 1), (1131, 1), (1132, 1), (1133, 1), (1134, 1), (1135, 1), (1136, 1), (1137, 1), (1138, 1), (1139, 1), (1140, 1), (1141, 1)], [(45, 1), (77, 1), (116, 1), (185, 2), (221, 1), (225, 1), (232, 1), (345, 1), (357, 1), (374, 1), (397, 1), (401, 1), (422, 1), (523, 1), (596, 1), (636, 1), (685, 1), (687, 1), (745, 1), (768, 1), (769, 1), (817, 5), (845, 1), (851, 1), (936, 1), (941, 1), (947, 1), (952, 1), (955, 1), (960, 1), (1073, 1), (1088, 1), (1100, 1), (1115, 1), (1120, 2), (1142, 1), (1143, 1), (1144, 1), (1145, 1), (1146, 2), (1147, 2), (1148, 1), (1149, 1), (1150, 1), (1151, 1), (1152, 1), (1153, 1), (1154, 1), (1155, 1), (1156, 1), (1157, 1), (1158, 1), (1159, 2), (1160, 1), (1161, 1), (1162, 2), (1163, 1), (1164, 1), (1165, 1), (1166, 1), (1167, 1), (1168, 1), (1169, 1), (1170, 1), (1171, 1), (1172, 2), (1173, 1), (1174, 1), (1175, 1), (1176, 1)], [(35, 2), (68, 5), (91, 1), (145, 1), (185, 1), (189, 1), (408, 1), (438, 1), (594, 1), (595, 2), (596, 2), (617, 6), (635, 4), (643, 1), (650, 1), (691, 1), (726, 1), (762, 1), (803, 1), (817, 1), (838, 1), (845, 2), (863, 1), (903, 1), (929, 1), (971, 1), (1087, 1), (1100, 1), (1120, 1), (1140, 1), (1143, 1), (1162, 1), (1163, 1), (1166, 1), (1168, 1), (1172, 1), (1177, 1), (1178, 1), (1179, 1), (1180, 1), (1181, 1), (1182, 1), (1183, 1), (1184, 1), (1185, 1), (1186, 1), (1187, 1), (1188, 1), (1189, 1), (1190, 1), (1191, 1), (1192, 1), (1193, 1), (1194, 1), (1195, 1), (1196, 1), (1197, 1), (1198, 1), (1199, 1), (1200, 1), (1201, 1), (1202, 1), (1203, 1), (1204, 1), (1205, 1), (1206, 1), (1207, 1), (1208, 1), (1209, 1), (1210, 1), (1211, 1), (1212, 1), (1213, 1), (1214, 1), (1215, 2), (1216, 1), (1217, 1), (1218, 1), (1219, 1), (1220, 1), (1221, 1), (1222, 2), (1223, 1)], [(144, 1), (276, 1), (327, 1), (332, 1), (346, 1), (408, 1), (467, 1), (566, 1), (596, 1), (603, 1), (612, 2), (629, 2), (654, 1), (664, 1), (748, 1), (782, 1), (790, 1), (848, 1), (878, 1), (887, 1), (901, 1), (912, 1), (914, 1), (998, 1), (1134, 1), (1136, 1), (1150, 1), (1224, 1), (1225, 1), (1226, 1), (1227, 1), (1228, 1), (1229, 1), (1230, 1), (1231, 1), (1232, 1), (1233, 1), (1234, 1), (1235, 1), (1236, 1), (1237, 1), (1238, 1), (1239, 1), (1240, 1), (1241, 1)], [(42, 1), (79, 1), (91, 1), (137, 1), (144, 1), (150, 1), (179, 1), (219, 1), (232, 2), (306, 1), (332, 1), (372, 1), (419, 1), (452, 2), (520, 1), (600, 1), (627, 4), (644, 1), (738, 1), (946, 2), (1136, 1), (1232, 1), (1242, 1), (1243, 1), (1244, 1), (1245, 1), (1246, 1), (1247, 4), (1248, 1), (1249, 1), (1250, 1), (1251, 1), (1252, 1), (1253, 3), (1254, 1), (1255, 1), (1256, 3), (1257, 1), (1258, 1), (1259, 1), (1260, 1), (1261, 1), (1262, 1), (1263, 1), (1264, 1), (1265, 1), (1266, 1), (1267, 1), (1268, 1), (1269, 1), (1270, 1), (1271, 1), (1272, 2), (1273, 1), (1274, 1), (1275, 1), (1276, 1), (1277, 1), (1278, 1), (1279, 1), (1280, 1), (1281, 1), (1282, 1), (1283, 1), (1284, 1), (1285, 1), (1286, 1), (1287, 1), (1288, 1), (1289, 1), (1290, 1), (1291, 1), (1292, 1)], [(90, 1), (232, 2), (260, 1), (398, 1), (440, 1), (466, 1), (1157, 1), (1247, 1), (1257, 1), (1293, 1), (1294, 1), (1295, 1), (1296, 1), (1297, 1), (1298, 1), (1299, 1)], [(144, 1), (232, 2), (479, 1), (528, 1), (808, 1), (1289, 1), (1298, 1), (1300, 1), (1301, 1), (1302, 1), (1303, 1)], [(149, 1), (325, 1), (397, 1), (808, 1), (977, 1), (1247, 1), (1299, 1), (1304, 1), (1305, 1), (1306, 1), (1307, 1), (1308, 1), (1309, 1), (1310, 1), (1311, 1), (1312, 1), (1313, 1), (1314, 1), (1315, 1), (1316, 1), (1317, 1), (1318, 1), (1319, 1), (1320, 1), (1321, 1), (1322, 1), (1323, 1), (1324, 1), (1325, 1), (1326, 1), (1327, 1)], [(91, 1), (159, 1), (169, 1), (553, 1), (1247, 1), (1272, 2), (1328, 1), (1329, 1), (1330, 1), (1331, 1), (1332, 1), (1333, 1), (1334, 1), (1335, 1), (1336, 1), (1337, 1), (1338, 1), (1339, 1), (1340, 1), (1341, 1)], [(46, 1), (71, 1), (153, 1), (184, 1), (189, 1), (196, 1), (215, 1), (221, 1), (254, 1), (410, 1), (422, 1), (423, 1), (427, 1), (435, 1), (534, 1), (572, 1), (669, 1), (726, 1), (747, 1), (942, 1), (1064, 1), (1074, 1), (1205, 1), (1220, 1), (1247, 1), (1253, 1), (1258, 4), (1342, 1), (1343, 1), (1344, 2), (1345, 1), (1346, 1), (1347, 1), (1348, 2), (1349, 1), (1350, 1), (1351, 1), (1352, 1), (1353, 1), (1354, 1), (1355, 1), (1356, 1), (1357, 2), (1358, 1), (1359, 1), (1360, 1), (1361, 1), (1362, 1), (1363, 1), (1364, 1), (1365, 1), (1366, 1), (1367, 1), (1368, 1), (1369, 1), (1370, 1), (1371, 1), (1372, 1), (1373, 1), (1374, 1), (1375, 1)], [(90, 1), (185, 1), (195, 1), (250, 1), (340, 1), (427, 1), (641, 1), (1075, 1), (1147, 2), (1155, 1), (1247, 1), (1258, 1), (1262, 1), (1286, 1), (1296, 1), (1376, 1), (1377, 1), (1378, 1), (1379, 1), (1380, 1), (1381, 1), (1382, 1), (1383, 1), (1384, 1), (1385, 1), (1386, 1), (1387, 1), (1388, 1), (1389, 1), (1390, 1), (1391, 1), (1392, 1), (1393, 1)], [(65, 1), (205, 1), (381, 1), (574, 1), (628, 1), (684, 1), (808, 1), (1247, 1), (1298, 1), (1387, 1), (1394, 1), (1395, 1), (1396, 1), (1397, 1), (1398, 1), (1399, 1), (1400, 1), (1401, 1), (1402, 1), (1403, 1), (1404, 1)], [(49, 1), (383, 1), (408, 1), (769, 2), (1233, 1), (1247, 1), (1257, 1), (1302, 1), (1328, 1), (1402, 1), (1405, 1), (1406, 1), (1407, 1), (1408, 1), (1409, 2), (1410, 1), (1411, 1), (1412, 1), (1413, 1), (1414, 1), (1415, 1), (1416, 1), (1417, 1)], [(1013, 1), (1247, 2), (1298, 1), (1390, 1), (1418, 1), (1419, 1), (1420, 1)], [(205, 1), (249, 1), (346, 1), (423, 1), (481, 1), (687, 1), (775, 1), (923, 1), (1124, 1), (1179, 1), (1182, 1), (1257, 1), (1421, 1), (1422, 1), (1423, 1), (1424, 1), (1425, 1), (1426, 1), (1427, 1), (1428, 1), (1429, 1), (1430, 1), (1431, 1), (1432, 1), (1433, 1), (1434, 1), (1435, 1), (1436, 1), (1437, 1), (1438, 1), (1439, 2), (1440, 1), (1441, 2), (1442, 1), (1443, 1), (1444, 1), (1445, 1), (1446, 1), (1447, 1), (1448, 1), (1449, 1), (1450, 1), (1451, 1), (1452, 1), (1453, 1), (1454, 1), (1455, 1), (1456, 1), (1457, 1), (1458, 1), (1459, 1), (1460, 1), (1461, 1), (1462, 1), (1463, 3), (1464, 1), (1465, 1), (1466, 1), (1467, 1), (1468, 1), (1469, 1), (1470, 1), (1471, 1), (1472, 1), (1473, 1), (1474, 1), (1475, 1), (1476, 1), (1477, 1), (1478, 1), (1479, 1), (1480, 1), (1481, 1), (1482, 1), (1483, 1), (1484, 1), (1485, 1), (1486, 1), (1487, 1), (1488, 1), (1489, 1), (1490, 1), (1491, 1), (1492, 1), (1493, 1), (1494, 1), (1495, 1), (1496, 1), (1497, 1), (1498, 1), (1499, 1), (1500, 1), (1501, 1), (1502, 1), (1503, 1), (1504, 2), (1505, 1), (1506, 1), (1507, 1), (1508, 1), (1509, 1), (1510, 1), (1511, 1)], [(8, 1), (91, 1), (256, 1), (346, 1), (383, 1), (1029, 1), (1240, 2), (1439, 1), (1454, 1), (1486, 1), (1512, 1), (1513, 1), (1514, 1), (1515, 1), (1516, 1), (1517, 1), (1518, 1), (1519, 1), (1520, 2), (1521, 1), (1522, 1), (1523, 1), (1524, 1), (1525, 1), (1526, 1), (1527, 1), (1528, 2), (1529, 1), (1530, 1), (1531, 1), (1532, 1), (1533, 1), (1534, 1), (1535, 1), (1536, 1), (1537, 1), (1538, 1), (1539, 1)], [(8, 1), (65, 3), (187, 1), (346, 1), (395, 1), (481, 2), (655, 1), (684, 1), (703, 1), (960, 1), (1240, 1), (1411, 1), (1421, 1), (1441, 1), (1467, 3), (1484, 2), (1500, 1), (1510, 1), (1522, 1), (1533, 1), (1538, 1), (1540, 1), (1541, 1), (1542, 1), (1543, 1), (1544, 2), (1545, 2), (1546, 1), (1547, 1), (1548, 1), (1549, 1), (1550, 1), (1551, 1), (1552, 1), (1553, 1), (1554, 1), (1555, 1), (1556, 1), (1557, 1), (1558, 1), (1559, 1), (1560, 1), (1561, 1), (1562, 1), (1563, 1), (1564, 1), (1565, 1), (1566, 1), (1567, 1), (1568, 1), (1569, 1), (1570, 1), (1571, 2), (1572, 1), (1573, 1), (1574, 1), (1575, 1), (1576, 1), (1577, 1), (1578, 2)], [(65, 1), (299, 1), (346, 2), (349, 1), (655, 1), (717, 1), (1232, 1), (1263, 1), (1285, 1), (1439, 1), (1496, 1), (1533, 1), (1576, 1), (1579, 1), (1580, 1), (1581, 3), (1582, 1), (1583, 1), (1584, 2), (1585, 1), (1586, 1), (1587, 1), (1588, 1), (1589, 1), (1590, 1), (1591, 2), (1592, 1), (1593, 1), (1594, 1), (1595, 1), (1596, 1), (1597, 1), (1598, 1), (1599, 1), (1600, 2), (1601, 1), (1602, 1), (1603, 1), (1604, 1), (1605, 2), (1606, 1), (1607, 1), (1608, 1), (1609, 1), (1610, 2), (1611, 1), (1612, 1), (1613, 1), (1614, 1), (1615, 1), (1616, 1), (1617, 1), (1618, 1), (1619, 1), (1620, 1), (1621, 1), (1622, 1)], [(65, 2), (79, 1), (83, 1), (101, 1), (144, 1), (250, 1), (328, 1), (378, 1), (383, 1), (460, 1), (534, 1), (655, 1), (832, 1), (957, 1), (1023, 1), (1079, 1), (1092, 1), (1120, 1), (1153, 1), (1174, 1), (1421, 1), (1439, 1), (1484, 3), (1515, 1), (1525, 1), (1534, 1), (1535, 1), (1547, 1), (1549, 1), (1577, 1), (1582, 1), (1586, 1), (1588, 1), (1605, 1), (1623, 1), (1624, 1), (1625, 1), (1626, 2), (1627, 1), (1628, 5), (1629, 1), (1630, 2), (1631, 1), (1632, 1), (1633, 1), (1634, 1), (1635, 1), (1636, 1), (1637, 1), (1638, 1), (1639, 1), (1640, 1), (1641, 1), (1642, 1), (1643, 1), (1644, 1), (1645, 1), (1646, 1), (1647, 1), (1648, 1), (1649, 1), (1650, 1), (1651, 1), (1652, 1), (1653, 1), (1654, 1), (1655, 1), (1656, 1), (1657, 1), (1658, 1), (1659, 1), (1660, 1), (1661, 1), (1662, 1), (1663, 1), (1664, 1), (1665, 1), (1666, 1), (1667, 1), (1668, 1), (1669, 1), (1670, 1), (1671, 1), (1672, 1), (1673, 1), (1674, 1), (1675, 1), (1676, 1), (1677, 1), (1678, 1), (1679, 1), (1680, 1), (1681, 1), (1682, 1), (1683, 2), (1684, 1), (1685, 1), (1686, 1), (1687, 2), (1688, 1)], [(831, 1), (1092, 1), (1445, 1), (1477, 1), (1484, 1), (1496, 1), (1531, 1), (1674, 1), (1689, 1), (1690, 1), (1691, 1), (1692, 1), (1693, 1), (1694, 1), (1695, 1), (1696, 1), (1697, 1), (1698, 1), (1699, 1), (1700, 1)], [(380, 1), (481, 1), (655, 1), (1452, 1), (1484, 1), (1491, 1), (1500, 1), (1504, 1), (1701, 1), (1702, 1), (1703, 1), (1704, 2), (1705, 1), (1706, 1), (1707, 1), (1708, 1), (1709, 1), (1710, 1), (1711, 1)], [(65, 1), (135, 1), (190, 1), (221, 1), (296, 1), (306, 1), (481, 2), (582, 1), (681, 1), (758, 1), (830, 1), (1088, 1), (1441, 1), (1457, 1), (1475, 1), (1484, 1), (1542, 2), (1548, 1), (1589, 1), (1602, 1), (1605, 1), (1660, 1), (1672, 1), (1700, 1), (1712, 3), (1713, 1), (1714, 1), (1715, 1), (1716, 1), (1717, 1), (1718, 1), (1719, 1), (1720, 1), (1721, 1), (1722, 1), (1723, 1), (1724, 1), (1725, 1), (1726, 1), (1727, 1), (1728, 1), (1729, 1), (1730, 1)], [(234, 1), (346, 1), (684, 1), (737, 1), (1005, 1), (1426, 1), (1489, 1), (1515, 1), (1559, 1), (1586, 1), (1639, 1), (1650, 1), (1671, 1), (1681, 1), (1731, 1), (1732, 1), (1733, 1), (1734, 1), (1735, 1), (1736, 1), (1737, 1), (1738, 1), (1739, 1), (1740, 1), (1741, 1), (1742, 1), (1743, 1)], [(39, 1), (59, 1), (65, 1), (306, 1), (383, 1), (481, 1), (644, 1), (1092, 3), (1240, 1), (1484, 1), (1504, 1), (1547, 1), (1588, 2), (1601, 1), (1605, 1), (1644, 1), (1744, 1), (1745, 1), (1746, 1), (1747, 1), (1748, 1), (1749, 3), (1750, 1), (1751, 3), (1752, 1), (1753, 1), (1754, 1), (1755, 1), (1756, 1), (1757, 1), (1758, 1), (1759, 1), (1760, 1), (1761, 1), (1762, 1), (1763, 1), (1764, 1), (1765, 1), (1766, 1), (1767, 1), (1768, 1), (1769, 1), (1770, 3), (1771, 1), (1772, 1)], [(21, 1), (79, 1), (137, 1), (146, 1), (299, 1), (334, 1), (368, 1), (482, 1), (1235, 1), (1421, 1), (1425, 1), (1439, 2), (1519, 1), (1524, 1), (1547, 1), (1577, 1), (1656, 1), (1773, 1), (1774, 1), (1775, 1), (1776, 1), (1777, 1), (1778, 1), (1779, 1), (1780, 1), (1781, 3), (1782, 1), (1783, 1)], [(65, 1), (205, 1), (654, 1), (851, 1), (947, 1), (1240, 1), (1351, 1), (1395, 1), (1453, 2), (1504, 1), (1542, 1), (1545, 1), (1602, 1), (1700, 1), (1737, 2), (1751, 1), (1753, 1), (1784, 1), (1785, 2), (1786, 1), (1787, 1), (1788, 1), (1789, 1), (1790, 1), (1791, 1), (1792, 1), (1793, 1), (1794, 2), (1795, 3), (1796, 1), (1797, 1), (1798, 2), (1799, 1), (1800, 1), (1801, 1), (1802, 1), (1803, 1), (1804, 1)], [(145, 1), (655, 1), (1232, 1), (1467, 1), (1471, 1), (1484, 1), (1525, 1), (1534, 1), (1621, 1), (1677, 1), (1678, 1), (1708, 1), (1743, 1), (1805, 1), (1806, 1), (1807, 1), (1808, 1), (1809, 1), (1810, 1)], [(281, 1), (323, 1), (1088, 1), (1357, 1), (1408, 1), (1475, 1), (1504, 1), (1586, 1), (1811, 1), (1812, 1), (1813, 1), (1814, 1), (1815, 1), (1816, 2)], [(671, 1), (817, 1), (971, 1), (1255, 1), (1369, 1), (1408, 1), (1412, 1), (1605, 1), (1674, 1), (1700, 1), (1715, 1), (1717, 2), (1816, 1), (1817, 1), (1818, 1), (1819, 1), (1820, 1)], [(49, 1), (65, 2), (467, 1), (582, 1), (871, 1), (954, 1), (976, 1), (1179, 1), (1411, 1), (1429, 1), (1441, 1), (1472, 2), (1475, 1), (1530, 1), (1582, 1), (1703, 1), (1798, 1), (1821, 1), (1822, 1), (1823, 1), (1824, 1), (1825, 1), (1826, 1), (1827, 1), (1828, 2), (1829, 1), (1830, 1), (1831, 1), (1832, 1), (1833, 1), (1834, 1), (1835, 1), (1836, 1), (1837, 2), (1838, 1), (1839, 1), (1840, 1)], [(123, 1), (506, 1), (703, 1), (1180, 1), (1436, 2), (1442, 1), (1484, 1), (1493, 1), (1522, 1), (1531, 1), (1575, 1), (1749, 2), (1836, 2), (1839, 1), (1841, 1), (1842, 1), (1843, 1), (1844, 1), (1845, 1), (1846, 1), (1847, 1), (1848, 1), (1849, 1), (1850, 1), (1851, 1), (1852, 1), (1853, 1), (1854, 1), (1855, 1)], [(27, 1), (65, 1), (80, 1), (81, 1), (83, 1), (128, 1), (144, 1), (249, 1), (327, 1), (346, 1), (506, 1), (536, 1), (591, 1), (612, 1), (655, 1), (693, 1), (780, 1), (818, 1), (874, 1), (926, 1), (992, 1), (1079, 1), (1165, 1), (1227, 1), (1255, 1), (1394, 1), (1605, 1), (1668, 1), (1792, 1), (1856, 1), (1857, 1), (1858, 1), (1859, 1), (1860, 1), (1861, 1), (1862, 1), (1863, 1), (1864, 1), (1865, 1), (1866, 1), (1867, 1), (1868, 1), (1869, 1), (1870, 1), (1871, 1), (1872, 1), (1873, 1), (1874, 1), (1875, 1), (1876, 1), (1877, 1), (1878, 1), (1879, 1), (1880, 1), (1881, 1), (1882, 1), (1883, 1), (1884, 1), (1885, 1), (1886, 1), (1887, 1), (1888, 2), (1889, 1), (1890, 2), (1891, 1), (1892, 1), (1893, 1), (1894, 1), (1895, 1), (1896, 1)], [(18, 2), (45, 1), (46, 1), (58, 2), (79, 1), (213, 1), (232, 2), (235, 2), (245, 1), (259, 1), (342, 1), (404, 1), (546, 1), (573, 1), (585, 1), (594, 1), (717, 1), (726, 2), (861, 1), (1176, 2), (1240, 1), (1386, 1), (1863, 1), (1875, 2), (1888, 1), (1890, 1), (1897, 1), (1898, 1), (1899, 1), (1900, 1), (1901, 1), (1902, 1), (1903, 1), (1904, 1), (1905, 1), (1906, 1), (1907, 1), (1908, 1), (1909, 1), (1910, 1), (1911, 1), (1912, 1), (1913, 1), (1914, 1), (1915, 1), (1916, 1), (1917, 1), (1918, 1), (1919, 1), (1920, 1), (1921, 2), (1922, 1), (1923, 1), (1924, 1), (1925, 1), (1926, 1), (1927, 1), (1928, 1), (1929, 1), (1930, 1), (1931, 1), (1932, 1), (1933, 1), (1934, 1), (1935, 1), (1936, 1), (1937, 1), (1938, 1), (1939, 1), (1940, 1), (1941, 1), (1942, 1), (1943, 1), (1944, 1), (1945, 1), (1946, 1), (1947, 1), (1948, 1), (1949, 1), (1950, 1), (1951, 1), (1952, 1), (1953, 1), (1954, 1)], [(12, 1), (18, 1), (22, 1), (45, 1), (47, 1), (70, 1), (77, 1), (79, 1), (83, 2), (91, 1), (98, 1), (145, 1), (149, 1), (159, 1), (177, 2), (184, 1), (206, 1), (232, 1), (281, 1), (327, 1), (328, 1), (339, 1), (342, 1), (345, 1), (346, 1), (359, 1), (378, 3), (395, 1), (397, 1), (404, 1), (415, 1), (481, 1), (500, 1), (510, 1), (554, 1), (582, 1), (594, 1), (658, 1), (693, 2), (808, 1), (861, 1), (890, 1), (911, 1), (955, 1), (992, 1), (1018, 1), (1019, 1), (1038, 2), (1095, 1), (1122, 1), (1159, 1), (1163, 1), (1227, 1), (1416, 1), (1605, 1), (1863, 1), (1865, 1), (1888, 1), (1890, 2), (1895, 1), (1901, 1), (1907, 1), (1912, 3), (1917, 2), (1918, 1), (1919, 1), (1921, 2), (1927, 1), (1934, 1), (1935, 1), (1936, 1), (1943, 1), (1949, 1), (1954, 1), (1955, 2), (1956, 1), (1957, 1), (1958, 1), (1959, 1), (1960, 1), (1961, 1), (1962, 1), (1963, 1), (1964, 1), (1965, 1), (1966, 1), (1967, 1), (1968, 1), (1969, 1), (1970, 1), (1971, 1), (1972, 1), (1973, 2), (1974, 1), (1975, 1), (1976, 1), (1977, 1), (1978, 1), (1979, 1), (1980, 1), (1981, 1), (1982, 1), (1983, 1), (1984, 1), (1985, 1), (1986, 1), (1987, 1), (1988, 1), (1989, 2), (1990, 1), (1991, 1), (1992, 1), (1993, 1), (1994, 1), (1995, 1), (1996, 1), (1997, 2), (1998, 1)], [(29, 1), (49, 1), (65, 1), (68, 1), (80, 1), (128, 1), (218, 1), (232, 1), (467, 1), (541, 1), (666, 1), (1087, 1), (1223, 1), (1258, 1), (1274, 1), (1353, 1), (1369, 1), (1576, 1), (1602, 1), (1865, 1), (1890, 1), (1894, 1), (1902, 1), (1953, 1), (1958, 1), (1997, 1), (1999, 1), (2000, 1), (2001, 1), (2002, 1), (2003, 1), (2004, 1), (2005, 1), (2006, 1), (2007, 2), (2008, 1), (2009, 1), (2010, 1), (2011, 1), (2012, 1), (2013, 1), (2014, 1), (2015, 1), (2016, 1), (2017, 1), (2018, 1), (2019, 1), (2020, 1), (2021, 1), (2022, 1), (2023, 1), (2024, 1), (2025, 1), (2026, 1), (2027, 1), (2028, 1), (2029, 1), (2030, 1), (2031, 1), (2032, 1), (2033, 1), (2034, 1), (2035, 1), (2036, 1), (2037, 1), (2038, 2), (2039, 1), (2040, 1), (2041, 1), (2042, 1), (2043, 1), (2044, 1), (2045, 2), (2046, 1), (2047, 1), (2048, 1)], [(28, 1), (54, 1), (65, 3), (67, 1), (80, 1), (86, 1), (128, 1), (145, 1), (232, 1), (327, 1), (328, 1), (513, 2), (528, 1), (573, 1), (582, 1), (693, 2), (717, 1), (762, 1), (808, 1), (900, 1), (1046, 1), (1073, 1), (1087, 1), (1220, 1), (1274, 1), (1394, 1), (1476, 1), (1598, 1), (1861, 1), (1864, 1), (1865, 1), (1869, 1), (1870, 1), (1875, 1), (1876, 1), (1888, 1), (1890, 2), (1894, 1), (1902, 1), (1921, 1), (1932, 1), (1964, 1), (1969, 1), (1997, 1), (2000, 1), (2002, 1), (2003, 1), (2004, 1), (2006, 1), (2008, 1), (2011, 1), (2012, 1), (2014, 1), (2015, 1), (2016, 1), (2017, 1), (2019, 1), (2021, 1), (2023, 1), (2024, 1), (2025, 2), (2029, 1), (2030, 1), (2031, 1), (2032, 1), (2033, 1), (2035, 1), (2036, 1), (2039, 1), (2040, 1), (2041, 1), (2043, 1), (2045, 1), (2046, 1), (2049, 1), (2050, 1), (2051, 1), (2052, 3), (2053, 1), (2054, 1), (2055, 1), (2056, 1), (2057, 1), (2058, 1), (2059, 1), (2060, 1), (2061, 1), (2062, 1), (2063, 1), (2064, 1), (2065, 1), (2066, 1), (2067, 3), (2068, 1), (2069, 1), (2070, 1), (2071, 1), (2072, 1), (2073, 1), (2074, 1), (2075, 2), (2076, 1), (2077, 1), (2078, 1), (2079, 1), (2080, 1), (2081, 1), (2082, 1), (2083, 1), (2084, 2), (2085, 1), (2086, 1)], [(35, 1), (45, 1), (65, 2), (67, 1), (68, 3), (91, 1), (117, 1), (149, 1), (155, 1), (213, 1), (217, 1), (249, 1), (283, 1), (299, 1), (333, 1), (402, 1), (407, 1), (415, 2), (423, 1), (500, 1), (510, 1), (521, 1), (529, 2), (536, 1), (548, 1), (553, 1), (576, 1), (627, 1), (803, 1), (1056, 1), (1116, 1), (1143, 1), (1161, 2), (1176, 1), (1215, 1), (1414, 1), (1418, 1), (1637, 1), (1872, 1), (1875, 1), (1876, 1), (1912, 1), (1921, 1), (1944, 1), (1950, 2), (1964, 1), (1984, 1), (1995, 1), (2006, 1), (2087, 2), (2088, 1), (2089, 1), (2090, 2), (2091, 2), (2092, 2), (2093, 1), (2094, 2), (2095, 1), (2096, 1), (2097, 1), (2098, 1), (2099, 1), (2100, 1), (2101, 1), (2102, 1), (2103, 1), (2104, 1), (2105, 1), (2106, 1), (2107, 1), (2108, 1), (2109, 1), (2110, 1), (2111, 1), (2112, 1), (2113, 1), (2114, 1), (2115, 1), (2116, 1), (2117, 1), (2118, 1), (2119, 1), (2120, 1), (2121, 1), (2122, 1), (2123, 1), (2124, 1), (2125, 1), (2126, 1), (2127, 1), (2128, 1), (2129, 1)], [(65, 1), (68, 1), (113, 1), (135, 1), (177, 1), (232, 1), (259, 1), (313, 1), (339, 2), (357, 1), (381, 1), (391, 2), (415, 1), (423, 2), (470, 1), (733, 1), (915, 1), (921, 1), (1022, 1), (1181, 1), (1329, 1), (1774, 1), (1915, 2), (1923, 1), (1950, 1), (1983, 1), (1991, 1), (2000, 1), (2061, 2), (2111, 1), (2114, 1), (2130, 1), (2131, 1), (2132, 2), (2133, 2), (2134, 1), (2135, 1), (2136, 1), (2137, 2), (2138, 1), (2139, 1), (2140, 1), (2141, 4), (2142, 2), (2143, 1), (2144, 1), (2145, 1), (2146, 1), (2147, 1), (2148, 1), (2149, 1), (2150, 1), (2151, 1), (2152, 1), (2153, 1), (2154, 1), (2155, 1), (2156, 1), (2157, 1), (2158, 1), (2159, 1), (2160, 1), (2161, 1), (2162, 1), (2163, 1), (2164, 1), (2165, 1), (2166, 2), (2167, 1)], [(7, 1), (11, 2), (51, 2), (128, 1), (149, 1), (178, 1), (185, 1), (205, 2), (283, 1), (374, 1), (378, 2), (414, 1), (467, 1), (529, 1), (658, 1), (911, 1), (914, 2), (1064, 1), (1216, 1), (1290, 1), (1399, 1), (1649, 1), (1766, 1), (1914, 1), (1932, 2), (1936, 1), (1943, 1), (2026, 1), (2028, 1), (2057, 1), (2092, 3), (2113, 2), (2126, 1), (2127, 1), (2168, 1), (2169, 1), (2170, 1), (2171, 1), (2172, 1), (2173, 1), (2174, 1), (2175, 1), (2176, 1), (2177, 1), (2178, 1), (2179, 1), (2180, 1), (2181, 1), (2182, 1), (2183, 1), (2184, 1), (2185, 1)], [(11, 1), (48, 1), (71, 1), (83, 2), (91, 1), (116, 1), (128, 1), (193, 1), (195, 1), (232, 2), (250, 1), (256, 1), (364, 1), (378, 1), (399, 1), (412, 1), (447, 1), (511, 3), (566, 4), (650, 1), (693, 2), (791, 1), (830, 1), (843, 1), (890, 1), (932, 1), (983, 1), (992, 1), (1030, 1), (1074, 1), (1220, 1), (1341, 1), (1364, 1), (1371, 1), (1470, 1), (1564, 2), (1599, 1), (1618, 2), (1835, 1), (1875, 1), (1888, 2), (1894, 1), (1902, 1), (1921, 1), (1942, 1), (1992, 1), (2015, 2), (2100, 1), (2109, 1), (2134, 1), (2138, 1), (2141, 2), (2149, 1), (2186, 1), (2187, 1), (2188, 1), (2189, 1), (2190, 1), (2191, 1), (2192, 1), (2193, 1), (2194, 2), (2195, 2), (2196, 1), (2197, 1), (2198, 1), (2199, 1), (2200, 1), (2201, 1), (2202, 1), (2203, 1), (2204, 2), (2205, 1), (2206, 2), (2207, 1), (2208, 1), (2209, 1), (2210, 1), (2211, 1), (2212, 2), (2213, 1), (2214, 1), (2215, 1), (2216, 1), (2217, 1), (2218, 1), (2219, 1), (2220, 1)], [(28, 1), (31, 1), (35, 1), (68, 1), (71, 1), (97, 1), (99, 1), (106, 1), (146, 2), (169, 1), (262, 2), (346, 1), (363, 1), (529, 1), (551, 1), (582, 1), (594, 1), (658, 1), (693, 4), (846, 1), (866, 1), (983, 1), (984, 1), (1254, 1), (1257, 1), (1476, 1), (1865, 2), (1890, 2), (1894, 1), (1932, 2), (1943, 2), (1984, 1), (1989, 1), (2006, 2), (2027, 1), (2028, 1), (2064, 1), (2066, 1), (2074, 2), (2080, 2), (2089, 1), (2102, 1), (2126, 2), (2137, 1), (2138, 1), (2221, 1), (2222, 1), (2223, 1), (2224, 1), (2225, 1), (2226, 1), (2227, 1), (2228, 1), (2229, 1), (2230, 1), (2231, 1), (2232, 2), (2233, 1), (2234, 1), (2235, 1), (2236, 1), (2237, 1), (2238, 1), (2239, 2), (2240, 1), (2241, 1), (2242, 1), (2243, 1), (2244, 1), (2245, 1), (2246, 1), (2247, 1), (2248, 1), (2249, 1), (2250, 1), (2251, 1), (2252, 2), (2253, 1), (2254, 1), (2255, 1), (2256, 1), (2257, 1), (2258, 2), (2259, 1), (2260, 1), (2261, 1), (2262, 1), (2263, 1), (2264, 1), (2265, 1), (2266, 1), (2267, 1)], [(29, 1), (49, 1), (68, 1), (79, 2), (99, 1), (126, 1), (134, 2), (144, 1), (232, 1), (260, 1), (378, 1), (395, 1), (407, 1), (422, 1), (430, 1), (442, 1), (655, 1), (680, 2), (693, 2), (714, 1), (747, 2), (872, 1), (914, 1), (946, 1), (997, 1), (1018, 1), (1194, 1), (1253, 1), (1296, 1), (1337, 1), (1411, 2), (1865, 4), (1888, 2), (1890, 1), (1894, 1), (1968, 1), (1989, 1), (2001, 1), (2057, 1), (2058, 1), (2061, 2), (2148, 1), (2155, 1), (2268, 1), (2269, 1), (2270, 1), (2271, 1), (2272, 1), (2273, 1), (2274, 1), (2275, 1), (2276, 1), (2277, 1), (2278, 1), (2279, 1), (2280, 1), (2281, 1), (2282, 3), (2283, 1), (2284, 1), (2285, 1), (2286, 1), (2287, 1), (2288, 1), (2289, 4), (2290, 1), (2291, 1), (2292, 1), (2293, 1), (2294, 1), (2295, 1), (2296, 1), (2297, 1), (2298, 1), (2299, 1), (2300, 1), (2301, 1), (2302, 1), (2303, 1), (2304, 1), (2305, 1)], [(46, 1), (49, 2), (51, 2), (113, 1), (123, 1), (206, 2), (213, 1), (303, 1), (326, 1), (339, 1), (368, 1), (378, 2), (415, 1), (473, 1), (561, 1), (790, 1), (861, 1), (1009, 1), (1219, 1), (1329, 1), (1696, 1), (1843, 1), (1872, 1), (1877, 1), (1888, 1), (1892, 1), (1894, 1), (1911, 1), (1925, 1), (1967, 1), (1993, 1), (1997, 1), (2016, 1), (2045, 1), (2052, 1), (2080, 1), (2109, 1), (2113, 1), (2117, 1), (2126, 1), (2306, 1), (2307, 1), (2308, 1), (2309, 1), (2310, 1), (2311, 1), (2312, 1), (2313, 3), (2314, 1), (2315, 1), (2316, 1), (2317, 2), (2318, 1), (2319, 1), (2320, 1), (2321, 1), (2322, 1), (2323, 1), (2324, 1), (2325, 1), (2326, 1), (2327, 1), (2328, 2), (2329, 1), (2330, 1), (2331, 1), (2332, 1), (2333, 1), (2334, 1), (2335, 2), (2336, 1)], [(45, 1), (65, 6), (68, 2), (74, 1), (91, 1), (133, 1), (153, 1), (190, 1), (205, 1), (232, 2), (292, 1), (313, 1), (323, 1), (346, 1), (438, 1), (538, 1), (588, 1), (607, 1), (645, 1), (658, 1), (666, 1), (679, 1), (683, 1), (684, 1), (686, 1), (726, 2), (740, 1), (1034, 1), (1088, 1), (1119, 1), (1130, 1), (1148, 1), (1177, 1), (1189, 1), (1213, 1), (1461, 1), (1473, 1), (1535, 1), (1572, 1), (1618, 1), (1727, 1), (1940, 1), (1973, 1), (2220, 1), (2307, 1), (2337, 1), (2338, 1), (2339, 1), (2340, 1), (2341, 1), (2342, 1), (2343, 1), (2344, 1), (2345, 1), (2346, 1), (2347, 1), (2348, 1), (2349, 1), (2350, 1), (2351, 1), (2352, 4), (2353, 2), (2354, 1), (2355, 1), (2356, 1), (2357, 1), (2358, 1), (2359, 1), (2360, 1), (2361, 1), (2362, 1), (2363, 1), (2364, 1), (2365, 1), (2366, 1), (2367, 2), (2368, 1), (2369, 1), (2370, 2), (2371, 1), (2372, 1), (2373, 1), (2374, 1), (2375, 1), (2376, 1), (2377, 1), (2378, 1), (2379, 1), (2380, 1), (2381, 2), (2382, 1), (2383, 1), (2384, 1), (2385, 1), (2386, 1), (2387, 1), (2388, 2), (2389, 1), (2390, 1), (2391, 1), (2392, 1), (2393, 1), (2394, 1), (2395, 1), (2396, 2), (2397, 1), (2398, 1), (2399, 1), (2400, 1), (2401, 1), (2402, 1), (2403, 1), (2404, 1), (2405, 2), (2406, 1), (2407, 2)], [(65, 2), (81, 1), (131, 1), (145, 1), (154, 1), (159, 1), (218, 1), (239, 3), (249, 1), (254, 1), (258, 1), (357, 1), (395, 1), (404, 1), (421, 1), (423, 1), (467, 1), (473, 1), (528, 1), (548, 2), (574, 1), (686, 2), (726, 3), (744, 1), (757, 1), (818, 1), (824, 1), (861, 1), (992, 2), (1064, 1), (1088, 1), (1159, 2), (1618, 1), (1934, 1), (2069, 1), (2163, 1), (2177, 1), (2292, 1), (2346, 1), (2350, 1), (2359, 1), (2363, 1), (2383, 1), (2388, 1), (2407, 1), (2408, 1), (2409, 1), (2410, 1), (2411, 1), (2412, 1), (2413, 1), (2414, 1), (2415, 1), (2416, 1), (2417, 1), (2418, 1), (2419, 1), (2420, 6), (2421, 4), (2422, 1), (2423, 1), (2424, 1), (2425, 1), (2426, 1), (2427, 1), (2428, 1), (2429, 1), (2430, 1), (2431, 4), (2432, 1), (2433, 2), (2434, 1), (2435, 1), (2436, 1), (2437, 1), (2438, 1), (2439, 2), (2440, 2), (2441, 1), (2442, 1), (2443, 1), (2444, 1), (2445, 1), (2446, 1), (2447, 1), (2448, 1), (2449, 1), (2450, 1), (2451, 1), (2452, 1), (2453, 1), (2454, 1), (2455, 2), (2456, 1), (2457, 1), (2458, 1), (2459, 1), (2460, 1), (2461, 1), (2462, 1), (2463, 1), (2464, 1), (2465, 1), (2466, 1), (2467, 1), (2468, 1), (2469, 1), (2470, 1), (2471, 2)], [(27, 1), (46, 1), (68, 1), (83, 1), (112, 1), (116, 2), (357, 1), (409, 1), (423, 2), (572, 1), (585, 2), (595, 1), (658, 1), (713, 1), (839, 1), (861, 1), (992, 2), (995, 1), (1037, 1), (1038, 1), (1186, 1), (1189, 1), (1213, 1), (1234, 1), (1271, 1), (1985, 1), (1996, 1), (2071, 1), (2115, 1), (2214, 1), (2220, 1), (2362, 1), (2472, 1), (2473, 1), (2474, 1), (2475, 2), (2476, 1), (2477, 1), (2478, 1), (2479, 1), (2480, 1), (2481, 1), (2482, 1), (2483, 1), (2484, 1), (2485, 1), (2486, 1), (2487, 1), (2488, 1), (2489, 2), (2490, 1)], [(1, 1), (2, 1), (17, 1), (35, 1), (37, 1), (43, 1), (47, 1), (65, 3), (68, 2), (78, 1), (83, 1), (89, 1), (91, 1), (116, 1), (132, 1), (134, 1), (145, 1), (178, 2), (218, 2), (232, 1), (252, 1), (271, 1), (333, 1), (340, 1), (345, 1), (425, 1), (431, 2), (467, 1), (473, 1), (646, 1), (726, 2), (818, 1), (971, 1), (1002, 1), (1225, 1), (1696, 1), (1899, 1), (1903, 1), (1917, 2), (1927, 1), (1930, 1), (1954, 1), (1974, 1), (1984, 1), (2016, 1), (2157, 1), (2300, 1), (2343, 3), (2363, 1), (2381, 1), (2382, 1), (2388, 1), (2396, 1), (2430, 1), (2489, 1), (2491, 1), (2492, 1), (2493, 1), (2494, 1), (2495, 1), (2496, 1), (2497, 1), (2498, 1), (2499, 1), (2500, 1), (2501, 1), (2502, 1), (2503, 1), (2504, 1), (2505, 1), (2506, 2), (2507, 1), (2508, 1), (2509, 1), (2510, 1), (2511, 1), (2512, 1), (2513, 1), (2514, 1), (2515, 1), (2516, 1), (2517, 1), (2518, 1), (2519, 1), (2520, 1), (2521, 1), (2522, 1), (2523, 1), (2524, 1), (2525, 1), (2526, 1), (2527, 1), (2528, 1), (2529, 1), (2530, 1)], [(78, 1), (203, 1), (230, 1), (252, 1), (612, 1), (1954, 1), (2388, 1), (2491, 1), (2495, 1), (2506, 1), (2516, 1), (2519, 1), (2531, 1), (2532, 1), (2533, 1), (2534, 1), (2535, 1)], [(46, 1), (51, 1), (65, 1), (79, 1), (114, 1), (128, 2), (131, 1), (136, 1), (137, 1), (165, 1), (185, 1), (195, 1), (245, 1), (249, 1), (250, 1), (404, 2), (412, 1), (468, 1), (470, 1), (472, 1), (507, 1), (528, 1), (529, 1), (577, 1), (590, 1), (628, 1), (693, 1), (740, 3), (861, 1), (1058, 1), (1216, 1), (1274, 2), (1296, 1), (1416, 1), (1693, 1), (1696, 1), (1775, 1), (1865, 2), (1890, 1), (1915, 1), (1943, 1), (2057, 1), (2064, 1), (2113, 1), (2157, 1), (2311, 1), (2355, 1), (2373, 2), (2430, 1), (2455, 1), (2478, 1), (2481, 2), (2506, 1), (2536, 1), (2537, 1), (2538, 1), (2539, 1), (2540, 1), (2541, 1), (2542, 1), (2543, 2), (2544, 1), (2545, 1), (2546, 1), (2547, 1), (2548, 1), (2549, 1), (2550, 1), (2551, 1), (2552, 1), (2553, 2), (2554, 1), (2555, 1), (2556, 1), (2557, 1), (2558, 1), (2559, 1), (2560, 1), (2561, 1), (2562, 1), (2563, 1), (2564, 1), (2565, 1), (2566, 1), (2567, 1), (2568, 1), (2569, 1), (2570, 1), (2571, 1), (2572, 1), (2573, 1), (2574, 1), (2575, 1), (2576, 1), (2577, 1), (2578, 1), (2579, 1), (2580, 1)], [(68, 1), (78, 2), (91, 1), (275, 4), (284, 1), (313, 1), (389, 1), (500, 1), (862, 1), (1674, 2), (1843, 1), (1893, 1), (1947, 1), (2127, 1), (2343, 1), (2405, 2), (2486, 1), (2581, 1), (2582, 2), (2583, 1), (2584, 1), (2585, 2), (2586, 1), (2587, 1), (2588, 1), (2589, 1), (2590, 1), (2591, 1)], [(4, 1), (47, 3), (48, 1), (51, 2), (65, 2), (71, 1), (81, 1), (83, 1), (91, 1), (100, 2), (102, 1), (131, 1), (177, 1), (179, 1), (183, 1), (253, 3), (281, 1), (295, 1), (303, 3), (374, 1), (395, 1), (447, 1), (470, 1), (473, 2), (503, 2), (509, 1), (522, 1), (526, 1), (594, 1), (645, 1), (731, 1), (757, 2), (977, 1), (983, 2), (1587, 1), (1797, 1), (1897, 1), (1914, 1), (2071, 1), (2191, 1), (2265, 3), (2291, 1), (2300, 1), (2329, 2), (2333, 1), (2383, 1), (2497, 1), (2592, 1), (2593, 1), (2594, 1), (2595, 1), (2596, 1), (2597, 1), (2598, 1), (2599, 1), (2600, 2), (2601, 1), (2602, 1), (2603, 1), (2604, 1), (2605, 2), (2606, 1), (2607, 1), (2608, 1), (2609, 1), (2610, 1), (2611, 1), (2612, 3), (2613, 1), (2614, 2), (2615, 1), (2616, 1), (2617, 1), (2618, 1), (2619, 1), (2620, 1), (2621, 3), (2622, 1), (2623, 1), (2624, 1), (2625, 1), (2626, 4), (2627, 1), (2628, 1), (2629, 1), (2630, 1), (2631, 1), (2632, 1), (2633, 1), (2634, 1), (2635, 1), (2636, 1), (2637, 1), (2638, 1), (2639, 1), (2640, 1), (2641, 4), (2642, 1), (2643, 2), (2644, 2), (2645, 1), (2646, 1), (2647, 1), (2648, 1), (2649, 1), (2650, 1), (2651, 1), (2652, 1), (2653, 1), (2654, 1), (2655, 1), (2656, 1), (2657, 1), (2658, 1), (2659, 1), (2660, 1), (2661, 2), (2662, 1), (2663, 1), (2664, 2)], [(3, 1), (34, 1), (39, 1), (45, 1), (65, 1), (72, 1), (80, 1), (127, 1), (131, 1), (146, 1), (149, 1), (155, 1), (159, 1), (175, 1), (197, 1), (295, 1), (317, 1), (345, 1), (407, 1), (422, 1), (500, 1), (521, 1), (577, 1), (608, 1), (658, 1), (698, 1), (919, 1), (951, 1), (1095, 1), (1332, 1), (1377, 1), (1408, 1), (1782, 1), (1866, 1), (2020, 1), (2043, 1), (2052, 1), (2055, 1), (2063, 1), (2071, 1), (2073, 1), (2227, 1), (2244, 1), (2291, 1), (2292, 1), (2601, 1), (2616, 1), (2657, 2), (2665, 1), (2666, 1), (2667, 1), (2668, 1), (2669, 2), (2670, 1), (2671, 1), (2672, 1), (2673, 1), (2674, 1), (2675, 1), (2676, 1), (2677, 1), (2678, 1), (2679, 1), (2680, 1), (2681, 1), (2682, 1), (2683, 1), (2684, 2), (2685, 1), (2686, 1), (2687, 1), (2688, 2), (2689, 1), (2690, 1), (2691, 1), (2692, 1), (2693, 1), (2694, 1), (2695, 1), (2696, 2)], [(33, 1), (65, 2), (80, 2), (295, 1), (302, 1), (317, 1), (658, 1), (730, 1), (747, 1), (828, 1), (915, 1), (1302, 1), (1744, 1), (1767, 1), (2043, 1), (2063, 1), (2069, 2), (2073, 1), (2082, 1), (2601, 1), (2616, 3), (2620, 1), (2657, 1), (2687, 2), (2697, 1), (2698, 1), (2699, 1), (2700, 3), (2701, 1), (2702, 1), (2703, 1), (2704, 1), (2705, 2), (2706, 1), (2707, 1), (2708, 1), (2709, 1), (2710, 1), (2711, 1), (2712, 1), (2713, 1), (2714, 1), (2715, 1), (2716, 1), (2717, 1), (2718, 1), (2719, 1), (2720, 1), (2721, 1), (2722, 1), (2723, 1), (2724, 1), (2725, 1), (2726, 1), (2727, 1)], [(45, 1), (65, 1), (77, 1), (91, 2), (97, 1), (131, 1), (151, 1), (179, 1), (253, 4), (283, 1), (292, 1), (294, 1), (306, 1), (309, 1), (320, 1), (332, 1), (374, 1), (430, 1), (612, 2), (638, 1), (881, 1), (882, 2), (911, 1), (915, 1), (921, 1), (949, 1), (959, 1), (1053, 1), (1058, 1), (1180, 1), (1360, 2), (1394, 1), (1496, 1), (1601, 1), (1876, 1), (1953, 1), (1985, 1), (2087, 1), (2125, 1), (2137, 1), (2363, 1), (2383, 6), (2418, 1), (2485, 2), (2498, 1), (2503, 1), (2603, 1), (2683, 1), (2698, 1), (2728, 1), (2729, 2), (2730, 1), (2731, 1), (2732, 1), (2733, 1), (2734, 1), (2735, 1), (2736, 1), (2737, 1), (2738, 1), (2739, 1), (2740, 1), (2741, 1), (2742, 1), (2743, 1), (2744, 1), (2745, 3), (2746, 1), (2747, 1), (2748, 1), (2749, 1), (2750, 1), (2751, 1), (2752, 1), (2753, 1), (2754, 1), (2755, 1), (2756, 1), (2757, 2), (2758, 1), (2759, 2), (2760, 1), (2761, 1), (2762, 1), (2763, 1), (2764, 1)], [(8, 1), (29, 1), (65, 2), (68, 2), (91, 1), (118, 1), (153, 2), (196, 1), (357, 1), (364, 3), (423, 1), (438, 1), (467, 1), (527, 2), (607, 1), (873, 2), (983, 1), (1002, 1), (1051, 1), (1095, 1), (1176, 1), (1257, 1), (1263, 1), (1290, 2), (1369, 1), (1540, 1), (1819, 1), (2051, 1), (2072, 1), (2092, 4), (2112, 2), (2113, 1), (2127, 3), (2405, 1), (2414, 1), (2459, 1), (2486, 1), (2557, 1), (2696, 2), (2716, 1), (2765, 1), (2766, 1), (2767, 1), (2768, 1), (2769, 1), (2770, 1), (2771, 1), (2772, 1), (2773, 1), (2774, 1), (2775, 1), (2776, 1), (2777, 1), (2778, 1), (2779, 1), (2780, 1), (2781, 1), (2782, 1), (2783, 1), (2784, 1), (2785, 1), (2786, 1), (2787, 1), (2788, 1), (2789, 1), (2790, 1), (2791, 5), (2792, 1), (2793, 1), (2794, 1), (2795, 1), (2796, 1), (2797, 1), (2798, 1), (2799, 1), (2800, 1), (2801, 1), (2802, 1), (2803, 1), (2804, 1)], [(47, 2), (65, 1), (79, 1), (91, 2), (101, 1), (123, 1), (127, 1), (202, 2), (284, 1), (332, 1), (414, 1), (469, 1), (470, 1), (506, 1), (731, 1), (750, 1), (799, 1), (837, 1), (911, 1), (1087, 1), (1274, 1), (1657, 2), (1985, 1), (2112, 1), (2427, 1), (2494, 1), (2805, 1), (2806, 1), (2807, 1), (2808, 1), (2809, 1), (2810, 1), (2811, 1), (2812, 4), (2813, 1), (2814, 2), (2815, 1), (2816, 1), (2817, 1), (2818, 1), (2819, 1), (2820, 1), (2821, 1), (2822, 1), (2823, 1), (2824, 1), (2825, 1), (2826, 1), (2827, 1), (2828, 2), (2829, 1), (2830, 1), (2831, 1), (2832, 2), (2833, 1), (2834, 1), (2835, 1), (2836, 1), (2837, 1), (2838, 1), (2839, 1), (2840, 2), (2841, 1), (2842, 3)], [(48, 1), (52, 1), (65, 1), (79, 2), (80, 1), (86, 1), (91, 1), (97, 1), (149, 1), (264, 1), (271, 1), (280, 1), (281, 1), (292, 1), (295, 1), (317, 1), (528, 1), (582, 2), (597, 1), (645, 1), (717, 1), (760, 1), (869, 2), (882, 1), (921, 1), (925, 1), (935, 1), (1015, 1), (1020, 1), (1083, 1), (1087, 1), (1182, 1), (1213, 1), (1340, 1), (1535, 1), (1537, 1), (1693, 1), (1696, 1), (1763, 1), (1871, 1), (1946, 1), (1985, 1), (2112, 1), (2127, 1), (2359, 1), (2768, 1), (2843, 1), (2844, 1), (2845, 1), (2846, 1), (2847, 1), (2848, 2), (2849, 2), (2850, 1), (2851, 2), (2852, 1), (2853, 1), (2854, 1), (2855, 2), (2856, 1), (2857, 1), (2858, 1), (2859, 1), (2860, 1), (2861, 1), (2862, 1), (2863, 1), (2864, 4), (2865, 1), (2866, 1), (2867, 1), (2868, 1), (2869, 1), (2870, 1), (2871, 1), (2872, 1), (2873, 1), (2874, 1), (2875, 1), (2876, 1), (2877, 1), (2878, 2), (2879, 1), (2880, 1), (2881, 1), (2882, 1)], [(54, 1), (65, 1), (68, 1), (71, 1), (79, 1), (99, 1), (144, 1), (176, 1), (187, 1), (529, 1), (606, 1), (669, 1), (689, 1), (722, 1), (818, 1), (869, 1), (977, 1), (1046, 1), (1062, 1), (1075, 1), (1147, 1), (1188, 1), (1218, 3), (1225, 1), (1290, 1), (1293, 1), (1299, 1), (1348, 1), (1537, 1), (1605, 1), (1668, 1), (1827, 1), (1880, 1), (1893, 2), (1910, 1), (1984, 1), (2038, 1), (2060, 1), (2089, 1), (2130, 1), (2467, 1), (2486, 1), (2517, 1), (2744, 1), (2753, 1), (2757, 1), (2786, 1), (2883, 1), (2884, 1), (2885, 1), (2886, 1), (2887, 1), (2888, 1), (2889, 1), (2890, 1), (2891, 1), (2892, 1), (2893, 1), (2894, 1), (2895, 1), (2896, 1), (2897, 1), (2898, 1), (2899, 1), (2900, 1), (2901, 2), (2902, 1), (2903, 2), (2904, 1), (2905, 1), (2906, 1), (2907, 2), (2908, 1), (2909, 1), (2910, 1), (2911, 2), (2912, 1), (2913, 1), (2914, 1), (2915, 3), (2916, 1), (2917, 1), (2918, 2), (2919, 1), (2920, 1), (2921, 1), (2922, 1), (2923, 1), (2924, 1), (2925, 1), (2926, 1), (2927, 1), (2928, 1), (2929, 1)], [(22, 1), (26, 1), (43, 1), (47, 5), (68, 1), (79, 2), (99, 1), (150, 1), (185, 1), (187, 1), (276, 1), (291, 1), (292, 2), (314, 1), (346, 1), (348, 1), (397, 1), (423, 1), (454, 2), (521, 1), (529, 1), (554, 1), (556, 2), (573, 1), (575, 1), (582, 1), (594, 3), (606, 1), (666, 1), (693, 1), (869, 1), (872, 1), (884, 1), (926, 1), (997, 1), (1018, 1), (1058, 1), (1075, 1), (1115, 1), (1166, 1), (1272, 3), (1425, 1), (1605, 1), (1800, 1), (1819, 1), (1879, 1), (2010, 1), (2060, 1), (2130, 1), (2339, 1), (2435, 2), (2643, 2), (2741, 1), (2808, 1), (2850, 1), (2930, 1), (2931, 1), (2932, 1), (2933, 1), (2934, 2), (2935, 1), (2936, 1), (2937, 1), (2938, 1), (2939, 2), (2940, 1), (2941, 1), (2942, 1), (2943, 1), (2944, 1), (2945, 1), (2946, 1), (2947, 1), (2948, 1), (2949, 1), (2950, 1), (2951, 1), (2952, 1), (2953, 1), (2954, 1), (2955, 1), (2956, 1), (2957, 1), (2958, 1), (2959, 1), (2960, 1), (2961, 1), (2962, 1), (2963, 1), (2964, 1), (2965, 1), (2966, 5), (2967, 1)], [(65, 1), (134, 1), (185, 2), (283, 1), (412, 1), (438, 1), (529, 1), (573, 1), (585, 1), (681, 1), (689, 1), (714, 1), (726, 1), (1218, 2), (1580, 1), (1652, 1), (1668, 1), (1789, 1), (1800, 1), (2128, 1), (2291, 1), (2892, 2), (2917, 1), (2961, 1), (2968, 2), (2969, 1), (2970, 1), (2971, 1), (2972, 1), (2973, 1), (2974, 1), (2975, 1), (2976, 1), (2977, 1), (2978, 1), (2979, 1), (2980, 1), (2981, 1), (2982, 1), (2983, 1)], [(46, 1), (65, 1), (68, 1), (259, 1), (921, 1), (1181, 1), (2143, 1), (2147, 1), (2984, 1), (2985, 1)], [(7, 1), (116, 1), (232, 1), (259, 1), (747, 2), (776, 1), (911, 1), (926, 1), (1234, 1), (1247, 1), (1311, 1), (1390, 1), (1959, 1), (2112, 1), (2137, 1), (2469, 1), (2837, 1), (2968, 1), (2986, 1), (2987, 1), (2988, 1), (2989, 1), (2990, 2), (2991, 1), (2992, 1), (2993, 1), (2994, 1), (2995, 1), (2996, 2), (2997, 1), (2998, 1), (2999, 2), (3000, 1), (3001, 1), (3002, 1)], [(395, 1), (486, 1), (521, 1), (921, 1), (998, 1), (1355, 1), (1723, 1), (2418, 1), (2526, 1), (3003, 1), (3004, 1), (3005, 1), (3006, 1), (3007, 1), (3008, 1), (3009, 1)], [(68, 1), (187, 2), (201, 1), (334, 1), (423, 1), (523, 1), (747, 1), (750, 1), (773, 1), (808, 1), (955, 1), (998, 1), (1025, 1), (1037, 1), (1329, 1), (1565, 1), (1605, 1), (1657, 1), (1776, 1), (1859, 1), (1884, 1), (2112, 1), (2291, 1), (2314, 1), (2315, 1), (2356, 1), (2710, 1), (2753, 1), (2756, 1), (2968, 1), (3010, 1), (3011, 1), (3012, 1), (3013, 1), (3014, 2), (3015, 1), (3016, 1), (3017, 1), (3018, 1), (3019, 1), (3020, 2), (3021, 1), (3022, 2), (3023, 5), (3024, 1), (3025, 2), (3026, 1), (3027, 1), (3028, 1), (3029, 1), (3030, 2), (3031, 1), (3032, 1), (3033, 1), (3034, 1), (3035, 1), (3036, 1), (3037, 2), (3038, 1), (3039, 1), (3040, 1), (3041, 1), (3042, 1), (3043, 2), (3044, 1), (3045, 1), (3046, 1), (3047, 1)], [(65, 3), (68, 1), (80, 1), (91, 2), (183, 2), (253, 2), (470, 1), (577, 2), (680, 1), (694, 1), (911, 1), (951, 1), (1155, 1), (1157, 1), (1205, 1), (1693, 1), (1696, 1), (2112, 3), (2249, 1), (2265, 2), (2293, 1), (2616, 1), (2662, 1), (2989, 1), (3015, 1), (3048, 1), (3049, 1), (3050, 1), (3051, 1), (3052, 1), (3053, 1), (3054, 1), (3055, 2), (3056, 1), (3057, 1), (3058, 1), (3059, 1), (3060, 2), (3061, 1)], [(52, 3), (53, 1), (65, 1), (79, 1), (153, 1), (178, 1), (187, 3), (232, 1), (249, 1), (349, 1), (375, 1), (386, 1), (553, 1), (582, 1), (654, 1), (774, 1), (818, 1), (1037, 1), (1285, 1), (1416, 1), (1475, 1), (1776, 1), (1819, 1), (1889, 1), (2539, 1), (2643, 1), (2935, 1), (3062, 1), (3063, 1), (3064, 1), (3065, 1), (3066, 1), (3067, 1), (3068, 1), (3069, 1), (3070, 1), (3071, 1), (3072, 1), (3073, 1), (3074, 4), (3075, 1), (3076, 1), (3077, 1), (3078, 1), (3079, 1), (3080, 1)], [(264, 1), (1391, 1), (1411, 1), (2952, 1), (3081, 1), (3082, 1), (3083, 1), (3084, 1), (3085, 1), (3086, 1), (3087, 1), (3088, 1), (3089, 1)], [(65, 1), (79, 1), (314, 1), (349, 2), (422, 2), (1188, 1), (1812, 1), (2186, 1), (2608, 1), (3081, 1), (3090, 1), (3091, 1), (3092, 1), (3093, 1), (3094, 1)], [(374, 1), (1088, 1), (1153, 1), (1535, 1), (2643, 2), (2663, 1), (3095, 1), (3096, 1), (3097, 1), (3098, 1), (3099, 1), (3100, 1), (3101, 1), (3102, 1), (3103, 1), (3104, 1), (3105, 1), (3106, 1), (3107, 1)], [(47, 1), (684, 1), (946, 1), (1391, 1), (2047, 1), (2836, 1), (3108, 1), (3109, 1), (3110, 1), (3111, 1), (3112, 1), (3113, 1), (3114, 1), (3115, 1)], [(65, 1), (222, 1), (1221, 1), (1843, 1), (2745, 1), (3116, 1), (3117, 1), (3118, 1), (3119, 1), (3120, 1), (3121, 1)], [(65, 1), (655, 1), (714, 1), (866, 1), (2165, 1), (3108, 1), (3122, 1), (3123, 1), (3124, 1), (3125, 1), (3126, 1)], [(185, 2), (249, 1), (332, 1), (480, 1), (882, 1), (995, 1), (1092, 1), (1232, 2), (1436, 1), (2265, 1), (2679, 1), (3103, 1), (3127, 1), (3128, 1), (3129, 1), (3130, 1), (3131, 1), (3132, 1), (3133, 1)], [(195, 1), (328, 1), (1088, 1), (2149, 1), (2485, 1), (2631, 1), (3121, 1), (3129, 1), (3134, 1), (3135, 1), (3136, 1), (3137, 1), (3138, 1), (3139, 1), (3140, 1), (3141, 1), (3142, 1), (3143, 2), (3144, 1), (3145, 1)], [(3, 1), (480, 1), (672, 1), (995, 1), (1240, 1), (2149, 1), (2485, 1), (3121, 1), (3130, 1), (3138, 1), (3142, 1), (3146, 1), (3147, 1), (3148, 1)], [(52, 1), (91, 1), (185, 1), (651, 1), (2663, 1), (3010, 1), (3033, 1), (3067, 1), (3094, 1), (3136, 1), (3149, 1), (3150, 1), (3151, 1), (3152, 1), (3153, 1), (3154, 1), (3155, 1), (3156, 1), (3157, 1)], [(249, 1), (623, 1), (1153, 1), (1188, 1), (3158, 1), (3159, 1), (3160, 1), (3161, 1), (3162, 1), (3163, 2), (3164, 1), (3165, 1), (3166, 1), (3167, 1)], [(369, 1), (1192, 1), (1371, 1), (1654, 1), (3162, 1), (3168, 1), (3169, 1), (3170, 1), (3171, 1)], [(65, 1), (178, 1), (374, 1), (1399, 1), (3107, 1), (3170, 1), (3171, 1), (3172, 1), (3173, 1), (3174, 1), (3175, 1), (3176, 1)], [(45, 1), (266, 1), (327, 1), (506, 1), (594, 1), (876, 1), (1088, 1), (2662, 1), (3109, 1), (3122, 1), (3124, 1), (3177, 1), (3178, 1), (3179, 1), (3180, 1), (3181, 2), (3182, 1), (3183, 1), (3184, 1), (3185, 1), (3186, 1), (3187, 1), (3188, 1)], [(89, 1), (123, 1), (869, 1), (1005, 1), (1666, 1), (2405, 1), (2542, 1), (2643, 1), (2714, 1), (2858, 1), (3140, 1), (3189, 1), (3190, 1), (3191, 1), (3192, 1), (3193, 1), (3194, 1), (3195, 1), (3196, 1), (3197, 1), (3198, 1), (3199, 1), (3200, 1)], [(865, 1), (995, 1), (1146, 1), (1153, 1), (1192, 1), (1221, 1), (2752, 1), (2974, 1), (3023, 1), (3138, 1), (3159, 1), (3201, 1), (3202, 1), (3203, 1), (3204, 1), (3205, 1), (3206, 1), (3207, 1), (3208, 1), (3209, 1)], [(65, 1), (79, 1), (381, 1), (420, 1), (623, 1), (1529, 2), (1605, 1), (2429, 1), (3140, 1), (3210, 1), (3211, 1), (3212, 1), (3213, 1), (3214, 1), (3215, 1), (3216, 1), (3217, 1), (3218, 1), (3219, 1)], [(155, 1), (195, 1), (1188, 1), (2422, 1), (2485, 1), (2590, 1), (2599, 1), (3053, 1), (3135, 1), (3220, 1), (3221, 1), (3222, 1), (3223, 1), (3224, 1), (3225, 1)], [(314, 1), (467, 1), (1092, 1), (1225, 1), (2569, 1), (3084, 1), (3226, 1), (3227, 1), (3228, 1), (3229, 1), (3230, 1)], [(65, 1), (481, 1), (680, 1), (733, 1), (869, 1), (1166, 1), (3134, 1), (3199, 1), (3231, 1), (3232, 1), (3233, 1), (3234, 1), (3235, 1)], [(40, 1), (65, 1), (149, 1), (3236, 1), (3237, 1), (3238, 1), (3239, 1), (3240, 1), (3241, 1), (3242, 1), (3243, 1), (3244, 1), (3245, 1)], [(79, 1), (384, 1), (536, 1), (1146, 1), (1655, 1), (3094, 1), (3150, 1), (3156, 1), (3246, 1), (3247, 1), (3248, 1)], [(183, 1), (682, 1), (1630, 1), (2187, 1), (2382, 1), (2662, 1), (3249, 1), (3250, 1), (3251, 1)], [(52, 1), (53, 1), (65, 1), (79, 1), (91, 1), (155, 1), (376, 1), (3094, 1), (3209, 1), (3247, 1), (3252, 1), (3253, 1), (3254, 1), (3255, 1)], [(0, 1), (8, 1), (10, 1), (19, 1), (65, 1), (67, 1), (72, 5), (103, 1), (117, 1), (122, 3), (128, 1), (149, 2), (179, 1), (196, 4), (219, 2), (232, 2), (331, 1), (332, 1), (345, 1), (365, 1), (367, 1), (369, 1), (398, 1), (427, 1), (514, 1), (553, 3), (641, 1), (664, 1), (694, 1), (776, 1), (779, 1), (794, 2), (809, 1), (873, 2), (874, 1), (920, 1), (934, 1), (1147, 1), (1239, 1), (1247, 1), (1297, 1), (1320, 1), (1333, 1), (1419, 1), (1945, 1), (1995, 1), (1997, 1), (2052, 3), (2118, 1), (2148, 1), (2479, 3), (2513, 1), (2549, 1), (2871, 1), (2879, 2), (2989, 1), (3012, 1), (3046, 1), (3147, 1), (3256, 1), (3257, 1), (3258, 1), (3259, 4), (3260, 1), (3261, 1), (3262, 1), (3263, 1), (3264, 1), (3265, 3), (3266, 1), (3267, 1), (3268, 2), (3269, 1), (3270, 1), (3271, 2), (3272, 1), (3273, 1), (3274, 1), (3275, 1), (3276, 3), (3277, 1), (3278, 1), (3279, 1), (3280, 3), (3281, 2), (3282, 1), (3283, 1), (3284, 1), (3285, 1), (3286, 2), (3287, 2), (3288, 1), (3289, 1), (3290, 2), (3291, 1), (3292, 2), (3293, 1), (3294, 1), (3295, 1), (3296, 1), (3297, 1), (3298, 1), (3299, 1), (3300, 1), (3301, 1), (3302, 1), (3303, 1), (3304, 1), (3305, 1), (3306, 1), (3307, 1)], [(52, 1), (68, 1), (90, 1), (103, 1), (114, 1), (135, 1), (158, 1), (187, 1), (202, 1), (328, 1), (332, 1), (346, 1), (527, 1), (529, 1), (587, 1), (646, 1), (769, 1), (814, 1), (817, 1), (861, 1), (901, 1), (909, 1), (951, 1), (1100, 1), (1115, 1), (1154, 1), (1226, 6), (1248, 1), (1253, 1), (1297, 3), (1599, 1), (1789, 1), (1875, 1), (1999, 1), (2038, 1), (2137, 1), (2356, 1), (2487, 2), (2731, 1), (2753, 1), (2879, 2), (2880, 2), (3145, 1), (3308, 1), (3309, 1), (3310, 1), (3311, 1), (3312, 1), (3313, 1), (3314, 1), (3315, 1), (3316, 1), (3317, 2), (3318, 1), (3319, 1), (3320, 1), (3321, 1), (3322, 1), (3323, 1), (3324, 1), (3325, 1), (3326, 1), (3327, 1), (3328, 1), (3329, 1), (3330, 1), (3331, 1), (3332, 1), (3333, 1), (3334, 1), (3335, 1), (3336, 1), (3337, 1), (3338, 1), (3339, 1), (3340, 1), (3341, 1), (3342, 1), (3343, 1), (3344, 1), (3345, 2), (3346, 3), (3347, 1), (3348, 1), (3349, 1), (3350, 1), (3351, 1), (3352, 1), (3353, 1), (3354, 1), (3355, 1), (3356, 1), (3357, 1), (3358, 1), (3359, 1), (3360, 1), (3361, 1), (3362, 1), (3363, 1), (3364, 1)], [(35, 1), (68, 1), (153, 1), (175, 1), (190, 1), (232, 2), (473, 1), (594, 1), (691, 1), (692, 1), (718, 1), (723, 1), (754, 1), (865, 1), (885, 1), (898, 1), (915, 1), (973, 1), (983, 2), (1029, 1), (1197, 1), (1744, 1), (1892, 1), (1916, 2), (1969, 1), (1999, 1), (2016, 1), (2084, 1), (2872, 1), (2902, 1), (3301, 1), (3365, 1), (3366, 1), (3367, 1), (3368, 1), (3369, 1), (3370, 1), (3371, 1), (3372, 2), (3373, 1), (3374, 1), (3375, 1), (3376, 1), (3377, 1), (3378, 1), (3379, 1), (3380, 1), (3381, 1), (3382, 1), (3383, 1)], [(4, 3), (65, 1), (99, 1), (114, 1), (145, 1), (187, 1), (315, 2), (332, 1), (346, 2), (423, 1), (454, 1), (612, 1), (629, 1), (700, 1), (813, 1), (911, 2), (921, 1), (987, 1), (1011, 1), (1025, 1), (1037, 2), (1053, 1), (1098, 1), (1110, 1), (1347, 1), (1355, 2), (1789, 1), (1977, 2), (1981, 1), (2316, 1), (2434, 1), (2618, 1), (2751, 1), (2879, 1), (3052, 1), (3053, 1), (3298, 1), (3306, 1), (3328, 1), (3353, 1), (3381, 1), (3384, 1), (3385, 1), (3386, 1), (3387, 2), (3388, 1), (3389, 1), (3390, 1), (3391, 1), (3392, 1), (3393, 1), (3394, 1), (3395, 1), (3396, 1), (3397, 1), (3398, 1), (3399, 1), (3400, 1), (3401, 1), (3402, 1), (3403, 1), (3404, 1), (3405, 1), (3406, 1), (3407, 1), (3408, 1), (3409, 1), (3410, 1), (3411, 1), (3412, 1), (3413, 1), (3414, 1), (3415, 1), (3416, 1), (3417, 2), (3418, 1), (3419, 1), (3420, 1), (3421, 1), (3422, 1), (3423, 1), (3424, 1), (3425, 1), (3426, 1), (3427, 1), (3428, 1), (3429, 1)], [(27, 1), (35, 1), (45, 1), (67, 1), (68, 2), (90, 2), (185, 1), (221, 1), (249, 1), (266, 1), (285, 1), (309, 1), (369, 1), (408, 1), (467, 2), (529, 1), (530, 1), (541, 1), (594, 1), (717, 2), (753, 1), (796, 1), (1037, 1), (1051, 1), (1076, 1), (1106, 1), (1113, 1), (1146, 1), (1147, 1), (1189, 1), (1217, 1), (1353, 1), (1618, 1), (1637, 1), (1668, 1), (1693, 1), (2112, 1), (2247, 1), (2274, 1), (2406, 1), (2787, 1), (2835, 1), (2880, 2), (2990, 3), (3216, 1), (3342, 1), (3364, 2), (3375, 1), (3430, 1), (3431, 2), (3432, 1), (3433, 1), (3434, 1), (3435, 1), (3436, 1), (3437, 1), (3438, 1), (3439, 1), (3440, 1), (3441, 1), (3442, 2), (3443, 1), (3444, 1), (3445, 1), (3446, 1), (3447, 2), (3448, 1), (3449, 1), (3450, 1), (3451, 1), (3452, 1), (3453, 1), (3454, 1), (3455, 1), (3456, 1), (3457, 1), (3458, 1), (3459, 1), (3460, 1), (3461, 1), (3462, 1)], [(28, 1), (45, 2), (49, 1), (68, 1), (72, 1), (107, 1), (232, 1), (301, 1), (348, 1), (389, 1), (421, 1), (489, 1), (531, 1), (594, 3), (666, 1), (717, 2), (722, 1), (747, 1), (762, 1), (861, 1), (869, 1), (909, 1), (997, 1), (1074, 1), (1194, 1), (1329, 1), (1789, 1), (1945, 1), (2278, 1), (2290, 1), (2405, 1), (2483, 1), (2487, 1), (2579, 1), (2705, 1), (2850, 1), (2879, 1), (2905, 1), (2923, 1), (2974, 1), (3066, 1), (3265, 1), (3306, 1), (3327, 1), (3353, 1), (3364, 2), (3381, 2), (3400, 1), (3435, 1), (3457, 1), (3463, 2), (3464, 1), (3465, 1), (3466, 1), (3467, 2), (3468, 1), (3469, 1), (3470, 1), (3471, 1), (3472, 1), (3473, 2), (3474, 1), (3475, 1), (3476, 1), (3477, 1), (3478, 1), (3479, 1), (3480, 1), (3481, 4), (3482, 1), (3483, 2), (3484, 2), (3485, 1), (3486, 1), (3487, 1), (3488, 1), (3489, 1), (3490, 1), (3491, 1), (3492, 1), (3493, 2), (3494, 1), (3495, 1), (3496, 2), (3497, 1), (3498, 1), (3499, 1), (3500, 2)], [(65, 2), (68, 1), (179, 1), (328, 1), (500, 2), (546, 1), (606, 1), (664, 1), (769, 1), (911, 2), (921, 1), (997, 1), (1103, 1), (1111, 2), (1241, 1), (1290, 2), (1512, 1), (1774, 1), (1781, 1), (1950, 1), (1997, 1), (2071, 1), (2076, 2), (2112, 2), (2485, 1), (2531, 1), (2810, 1), (2849, 1), (2856, 1), (2866, 1), (2868, 1), (2872, 2), (2879, 1), (2982, 1), (3005, 1), (3006, 1), (3052, 1), (3053, 2), (3075, 1), (3148, 1), (3171, 2), (3353, 1), (3354, 1), (3360, 2), (3364, 2), (3375, 1), (3383, 1), (3462, 1), (3484, 1), (3501, 1), (3502, 1), (3503, 1), (3504, 1), (3505, 1), (3506, 1), (3507, 1), (3508, 1), (3509, 1), (3510, 2), (3511, 1), (3512, 1), (3513, 2), (3514, 1), (3515, 1), (3516, 1), (3517, 1), (3518, 1), (3519, 1), (3520, 1), (3521, 1), (3522, 1), (3523, 1), (3524, 1), (3525, 1), (3526, 1), (3527, 1), (3528, 1), (3529, 1), (3530, 1), (3531, 1), (3532, 1), (3533, 1), (3534, 1)], [(47, 1), (49, 1), (51, 1), (52, 1), (65, 2), (75, 1), (77, 1), (79, 1), (144, 1), (177, 1), (178, 1), (183, 1), (185, 2), (232, 2), (254, 1), (301, 1), (337, 1), (373, 1), (376, 1), (426, 1), (447, 1), (471, 1), (480, 1), (489, 1), (493, 1), (531, 1), (594, 3), (610, 1), (636, 1), (691, 1), (855, 1), (915, 3), (938, 2), (950, 1), (983, 1), (1076, 1), (1102, 2), (1113, 1), (1165, 1), (1179, 1), (1199, 1), (1213, 1), (1258, 1), (1328, 1), (1329, 1), (1355, 1), (1393, 1), (1716, 1), (1875, 1), (1880, 1), (1917, 1), (1959, 1), (1998, 1), (2051, 1), (2097, 1), (2200, 1), (2289, 1), (2296, 1), (2375, 1), (2406, 2), (2567, 1), (2641, 1), (2679, 1), (2702, 1), (2820, 1), (2868, 1), (2871, 1), (2872, 1), (2880, 1), (2940, 1), (2997, 1), (3012, 1), (3082, 1), (3155, 1), (3178, 1), (3220, 1), (3353, 1), (3364, 2), (3381, 2), (3400, 1), (3402, 1), (3446, 1), (3447, 1), (3456, 1), (3457, 2), (3460, 1), (3464, 2), (3469, 1), (3481, 2), (3493, 4), (3498, 1), (3504, 1), (3517, 1), (3518, 1), (3519, 1), (3528, 1), (3535, 1), (3536, 1), (3537, 1), (3538, 1), (3539, 2), (3540, 1), (3541, 1), (3542, 1), (3543, 1), (3544, 1), (3545, 1), (3546, 2), (3547, 1), (3548, 1), (3549, 1), (3550, 1), (3551, 1), (3552, 1), (3553, 1), (3554, 1), (3555, 1), (3556, 1), (3557, 1), (3558, 2), (3559, 1), (3560, 1), (3561, 1), (3562, 1), (3563, 2), (3564, 1), (3565, 1), (3566, 1), (3567, 1), (3568, 1), (3569, 1), (3570, 1), (3571, 1), (3572, 1), (3573, 2), (3574, 1), (3575, 1), (3576, 1), (3577, 1), (3578, 1)], [(65, 1), (68, 1), (81, 1), (90, 1), (102, 1), (106, 1), (144, 1), (175, 1), (232, 1), (281, 1), (328, 1), (357, 1), (481, 1), (531, 1), (553, 1), (598, 1), (616, 1), (726, 1), (750, 2), (855, 1), (946, 1), (1203, 1), (1958, 2), (2052, 2), (2291, 1), (2315, 1), (2333, 1), (2683, 1), (2705, 1), (2868, 1), (2869, 1), (2879, 1), (2997, 1), (3044, 2), (3220, 1), (3265, 1), (3306, 2), (3354, 1), (3372, 1), (3463, 1), (3556, 1), (3579, 1), (3580, 1), (3581, 1), (3582, 2), (3583, 1), (3584, 1), (3585, 1), (3586, 1), (3587, 1), (3588, 1), (3589, 1), (3590, 1), (3591, 1), (3592, 1), (3593, 1), (3594, 1), (3595, 1), (3596, 1), (3597, 1), (3598, 1), (3599, 1), (3600, 1), (3601, 1), (3602, 1), (3603, 1), (3604, 1), (3605, 1), (3606, 1), (3607, 2), (3608, 1), (3609, 1), (3610, 1), (3611, 1), (3612, 1), (3613, 2), (3614, 2), (3615, 2), (3616, 1), (3617, 1), (3618, 1), (3619, 1), (3620, 1)], [(0, 1), (35, 1), (46, 1), (65, 2), (68, 1), (79, 1), (99, 1), (143, 1), (155, 1), (183, 1), (185, 1), (258, 1), (306, 1), (406, 1), (426, 1), (435, 1), (467, 2), (519, 1), (582, 1), (594, 2), (631, 1), (647, 1), (743, 1), (747, 1), (790, 1), (809, 1), (869, 1), (997, 1), (1051, 1), (1060, 1), (1146, 1), (1285, 1), (1618, 1), (1744, 1), (1835, 1), (1906, 1), (2064, 1), (2076, 1), (2384, 2), (2539, 1), (2587, 1), (2872, 1), (2901, 1), (2904, 1), (2997, 1), (3300, 1), (3364, 3), (3381, 1), (3492, 1), (3516, 1), (3555, 1), (3564, 1), (3566, 1), (3568, 1), (3621, 1), (3622, 1), (3623, 1), (3624, 1), (3625, 1), (3626, 1), (3627, 1), (3628, 1), (3629, 1), (3630, 1), (3631, 1), (3632, 1), (3633, 1), (3634, 1), (3635, 1), (3636, 1), (3637, 1), (3638, 3), (3639, 1), (3640, 3), (3641, 1), (3642, 2), (3643, 1), (3644, 1), (3645, 1), (3646, 1), (3647, 1), (3648, 1), (3649, 1), (3650, 1), (3651, 1), (3652, 1), (3653, 1), (3654, 1), (3655, 2), (3656, 1), (3657, 1), (3658, 3), (3659, 1), (3660, 1), (3661, 1)]]\n"
     ]
    }
   ],
   "source": [
    "print(corpus_tfidf)"
   ]
  },
  {
   "cell_type": "code",
   "execution_count": 11,
   "metadata": {},
   "outputs": [],
   "source": [
    "ldamodel2=gensim.models.ldamodel.LdaModel(corpus_tfidf, num_topics=9, id2word=dictionary,\\\n",
    "    passes=30, iterations=100,eval_every = 10, random_state=20)"
   ]
  },
  {
   "cell_type": "code",
   "execution_count": 20,
   "metadata": {},
   "outputs": [],
   "source": [
    "ldamodel3=gensim.models.ldamodel.LdaModel(corpus_tfidf, num_topics=9, id2word=dictionary,\\\n",
    "    passes=60, iterations=100,eval_every = 10, random_state=20)"
   ]
  },
  {
   "cell_type": "code",
   "execution_count": 25,
   "metadata": {},
   "outputs": [],
   "source": [
    "ldamodel4=gensim.models.ldamodel.LdaModel(corpus_tfidf, num_topics=9, id2word=dictionary,\\\n",
    "    passes=30, iterations=200,eval_every = 10, random_state=20)"
   ]
  },
  {
   "cell_type": "code",
   "execution_count": 28,
   "metadata": {},
   "outputs": [],
   "source": [
    "ldamodel5=gensim.models.ldamodel.LdaModel(corpus_tfidf, num_topics=9, id2word=dictionary,\\\n",
    "    passes=30, iterations=200,eval_every = 10)"
   ]
  },
  {
   "cell_type": "code",
   "execution_count": 35,
   "metadata": {},
   "outputs": [],
   "source": [
    "ldamodel6=gensim.models.ldamodel.LdaModel(corpus_tfidf, num_topics=9, id2word=dictionary,passes=500)"
   ]
  },
  {
   "cell_type": "code",
   "execution_count": 36,
   "metadata": {},
   "outputs": [
    {
     "data": {
      "text/plain": [
       "[(0,\n",
       "  '0.001*\"people\" + 0.001*\"vaccinated\" + 0.001*\"analysis\" + 0.001*\"coal\" + 0.001*\"supply\" + 0.001*\"max\" + 0.001*\"t\" + 0.001*\"best\" + 0.001*\"worker\" + 0.001*\"tea\"'),\n",
       " (1,\n",
       "  '0.001*\"sport_photographer\" + 0.001*\"bradley_ormesher\" + 0.001*\"heat_wave\" + 0.001*\"league\" + 0.001*\"prematurely\" + 0.001*\"covid\" + 0.001*\"peppermint\" + 0.001*\"researcher\" + 0.001*\"catching\" + 0.001*\"inbetween\"'),\n",
       " (2,\n",
       "  '0.002*\"justice\" + 0.001*\"firearm\" + 0.001*\"roll\" + 0.001*\"summer_temperature\" + 0.001*\"bagel\" + 0.001*\"yang\" + 0.001*\"people\" + 0.001*\"city\" + 0.001*\"test\" + 0.001*\"pandemic\"'),\n",
       " (3,\n",
       "  '0.001*\"final_euro\" + 0.001*\"italy\" + 0.001*\"illinois\" + 0.001*\"hand\" + 0.001*\"disney\" + 0.001*\"cnn\" + 0.001*\"ready\" + 0.001*\"s\" + 0.001*\"despair\" + 0.001*\"delight\"'),\n",
       " (4,\n",
       "  '0.001*\"biden\" + 0.001*\"woman\" + 0.001*\"tokyo\" + 0.001*\"obama\" + 0.001*\"abortion\" + 0.001*\"indoor_air\" + 0.001*\"human_coalition\" + 0.001*\"texas\" + 0.001*\"avocado\" + 0.001*\"moment\"'),\n",
       " (5,\n",
       "  '0.001*\"roesie\" + 0.001*\"s\" + 0.001*\"royal\" + 0.001*\"death\" + 0.001*\"bowl\" + 0.001*\"birria\" + 0.001*\"journalist\" + 0.001*\"introducing\" + 0.001*\"freeze\" + 0.001*\"photographer\"'),\n",
       " (6,\n",
       "  '0.001*\"school\" + 0.001*\"merkel\" + 0.001*\"president\" + 0.001*\"cristiano\" + 0.001*\"united\" + 0.001*\"ronaldo\" + 0.001*\"supporter\" + 0.001*\"classroom\" + 0.001*\"official\" + 0.001*\"police\"'),\n",
       " (7,\n",
       "  '0.001*\"england\" + 0.001*\"pickford\" + 0.001*\"tom\" + 0.001*\"dumpling\" + 0.001*\"click_link\" + 0.001*\"congratulation\" + 0.001*\"look\" + 0.001*\"pandemic\" + 0.001*\"marc_aspland\" + 0.001*\"need\"'),\n",
       " (8,\n",
       "  '0.001*\"pasta\" + 0.001*\"dough\" + 0.001*\"party\" + 0.001*\"hospital\" + 0.001*\"future\" + 0.001*\"oil\" + 0.001*\"pudding\" + 0.001*\"cake\" + 0.001*\"miah\" + 0.001*\"room\"')]"
      ]
     },
     "execution_count": 36,
     "metadata": {},
     "output_type": "execute_result"
    }
   ],
   "source": [
    "ldamodel6.print_topics()"
   ]
  },
  {
   "cell_type": "code",
   "execution_count": 8,
   "metadata": {},
   "outputs": [],
   "source": [
    "ldamodel.update(corpus_tfidf)"
   ]
  },
  {
   "cell_type": "code",
   "execution_count": 9,
   "metadata": {},
   "outputs": [
    {
     "data": {
      "text/plain": [
       "[(0,\n",
       "  '0.003*\"covid\" + 0.002*\"vaccinated\" + 0.002*\"birria\" + 0.002*\"prematurely\" + 0.002*\"low\" + 0.002*\"obama\" + 0.002*\"catching\" + 0.002*\"inbetween\" + 0.002*\"illness\" + 0.002*\"delivering\"'),\n",
       " (1,\n",
       "  '0.003*\"abortion\" + 0.002*\"roll\" + 0.002*\"illinois\" + 0.002*\"summer_temperature\" + 0.002*\"league\" + 0.002*\"nation\" + 0.002*\"dumpling\" + 0.002*\"sweet\" + 0.002*\"stephen\" + 0.002*\"peppermint\"'),\n",
       " (2,\n",
       "  '0.002*\"funeral\" + 0.002*\"coal\" + 0.002*\"bagel\" + 0.002*\"school\" + 0.002*\"ready\" + 0.001*\"process\" + 0.001*\"classroom\" + 0.001*\"shooting\" + 0.001*\"police\" + 0.001*\"ukraine_s\"'),\n",
       " (3,\n",
       "  '0.002*\"disney\" + 0.002*\"people\" + 0.002*\"pandemic\" + 0.001*\"barr\" + 0.001*\"gay_day\" + 0.001*\"dyke\" + 0.001*\"course\" + 0.001*\"climate_change\" + 0.001*\"including_health\" + 0.001*\"older\"'),\n",
       " (4,\n",
       "  '0.002*\"astonishing\" + 0.002*\"date\" + 0.002*\"indoor_air\" + 0.002*\"brown\" + 0.002*\"human_coalition\" + 0.002*\"air\" + 0.001*\"birth\" + 0.001*\"firearm\" + 0.001*\"new_york\" + 0.001*\"woman\"'),\n",
       " (5,\n",
       "  '0.002*\"pasta\" + 0.002*\"roesie\" + 0.002*\"tom\" + 0.002*\"game\" + 0.002*\"pickford\" + 0.002*\"penalty\" + 0.002*\"ceremony\" + 0.002*\"journalist\" + 0.002*\"temperature\" + 0.002*\"cnn\"'),\n",
       " (6,\n",
       "  '0.002*\"adult\" + 0.002*\"dough\" + 0.002*\"race\" + 0.002*\"heat_wave\" + 0.002*\"liii\" + 0.002*\"patriot\" + 0.002*\"getting\" + 0.002*\"avocado\" + 0.002*\"researcher\" + 0.001*\"boston\"'),\n",
       " (7,\n",
       "  '0.002*\"vote\" + 0.002*\"report\" + 0.002*\"england_s\" + 0.002*\"ash\" + 0.002*\"yang\" + 0.002*\"s\" + 0.002*\"party\" + 0.002*\"test\" + 0.002*\"freeze\" + 0.002*\"introducing\"'),\n",
       " (8,\n",
       "  '0.002*\"great\" + 0.002*\"life\" + 0.002*\"woman\" + 0.002*\"listen\" + 0.002*\"click_link\" + 0.001*\"bio\" + 0.001*\"week\" + 0.001*\"world\" + 0.001*\"merkel\" + 0.001*\"analysis\"')]"
      ]
     },
     "execution_count": 9,
     "metadata": {},
     "output_type": "execute_result"
    }
   ],
   "source": [
    "ldamodel.print_topics()"
   ]
  },
  {
   "cell_type": "code",
   "execution_count": null,
   "metadata": {},
   "outputs": [],
   "source": [
    "num_topics = 5\n",
    "\n",
    "ldamodel = gensim.models.ldamodel.LdaModel(corpus, num_topics=num_topics, id2word = dictionary, passes=30, iterations=100,\n",
    "                   chunksize = 10000, eval_every = 10, random_state=20)"
   ]
  },
  {
   "cell_type": "code",
   "execution_count": 31,
   "metadata": {},
   "outputs": [],
   "source": [
    "ldaModel=ftd.LDAModel(corpus)"
   ]
  },
  {
   "cell_type": "code",
   "execution_count": 32,
   "metadata": {},
   "outputs": [
    {
     "data": {
      "text/plain": [
       "[(0,\n",
       "  '0.001*\"race\" + 0.001*\"firearm\" + 0.001*\"birria\" + 0.001*\"ve\" + 0.001*\"rate\"'),\n",
       " (1,\n",
       "  '0.001*\"week\" + 0.001*\"dough\" + 0.001*\"pandemic\" + 0.001*\"great\" + 0.001*\"maria\"'),\n",
       " (2,\n",
       "  '0.001*\"ash\" + 0.001*\"report\" + 0.001*\"follow\" + 0.001*\"look\" + 0.001*\"doubt\"'),\n",
       " (3,\n",
       "  '0.002*\"abortion\" + 0.002*\"woman\" + 0.001*\"summer_temperature\" + 0.001*\"human_coalition\" + 0.001*\"time\"'),\n",
       " (4,\n",
       "  '0.001*\"illinois\" + 0.001*\"yang\" + 0.001*\"indoor_air\" + 0.001*\"way\" + 0.001*\"classroom\"'),\n",
       " (5,\n",
       "  '0.001*\"pickford\" + 0.001*\"league\" + 0.001*\"delivering\" + 0.001*\"coal\" + 0.001*\"dumpling\"'),\n",
       " (6,\n",
       "  '0.001*\"heat_wave\" + 0.001*\"roll\" + 0.001*\"bagel\" + 0.001*\"listen\" + 0.001*\"introducing\"'),\n",
       " (7,\n",
       "  '0.001*\"tom\" + 0.001*\"service\" + 0.001*\"mask\" + 0.001*\"north_korean\" + 0.001*\"ice\"'),\n",
       " (8,\n",
       "  '0.002*\"roesie\" + 0.001*\"pasta\" + 0.001*\"game\" + 0.001*\"liii\" + 0.001*\"patriot\"'),\n",
       " (9,\n",
       "  '0.001*\"report\" + 0.001*\"journalist\" + 0.001*\"hand\" + 0.001*\"party\" + 0.001*\"europe\"')]"
      ]
     },
     "execution_count": 32,
     "metadata": {},
     "output_type": "execute_result"
    }
   ],
   "source": [
    "ldaModel.print_topics()"
   ]
  },
  {
   "cell_type": "code",
   "execution_count": null,
   "metadata": {},
   "outputs": [],
   "source": [
    "lsaModel=ftd.LSAModel(corpus,9)"
   ]
  },
  {
   "cell_type": "code",
   "execution_count": 41,
   "metadata": {},
   "outputs": [],
   "source": [
    "hdpModel=ftd.HDPModel(corpus)"
   ]
  },
  {
   "cell_type": "code",
   "execution_count": 42,
   "metadata": {},
   "outputs": [
    {
     "data": {
      "text/plain": [
       "[(0,\n",
       "  '0.002*assisting + 0.002*warming_planet + 0.002*tony + 0.002*essentially + 0.002*unlike + 0.002*french_toast + 0.001*right_abortion + 0.001*attacked + 0.001*policy + 0.001*rotation'),\n",
       " (1,\n",
       "  '0.002*half + 0.002*indication + 0.002*boat + 0.002*consequential + 0.002*tofu + 0.002*hugging + 0.002*adversarial + 0.002*self + 0.002*element + 0.002*classroom'),\n",
       " (2,\n",
       "  '0.003*dimension + 0.002*preparation + 0.002*normalcy + 0.002*duke_edinburgh + 0.002*alice + 0.002*expand + 0.002*spending + 0.001*delightfully + 0.001*washington + 0.001*embargo'),\n",
       " (3,\n",
       "  '0.002*houston + 0.002*decade + 0.002*hotel + 0.002*capital_kyiv + 0.002*receive + 0.002*carried + 0.002*stefanie + 0.001*texture + 0.001*hot + 0.001*neighboring'),\n",
       " (4,\n",
       "  '0.002*temperature_record + 0.002*shelter + 0.002*disparaged + 0.002*peer + 0.002*varicella + 0.002*ghana + 0.002*zelensky + 0.002*earned + 0.002*reopened + 0.002*woman_seeking')]"
      ]
     },
     "execution_count": 42,
     "metadata": {},
     "output_type": "execute_result"
    }
   ],
   "source": [
    "hdpModel.print_topics()"
   ]
  },
  {
   "cell_type": "code",
   "execution_count": null,
   "metadata": {},
   "outputs": [],
   "source": [
    "lsaModel.print_topics()"
   ]
  },
  {
   "cell_type": "code",
   "execution_count": 44,
   "metadata": {},
   "outputs": [
    {
     "data": {
      "text/plain": [
       "[(5,\n",
       "  '0.001*\"dumpling\" + 0.001*\"disney\" + 0.001*\"abortion\" + 0.001*\"new_year\" + 0.001*\"liii\" + 0.001*\"patriot\" + 0.001*\"human_coalition\" + 0.001*\"new_york\" + 0.001*\"parade\" + 0.001*\"justice\"'),\n",
       " (6,\n",
       "  '0.001*\"temperature\" + 0.001*\"summer_temperature\" + 0.001*\"birria\" + 0.001*\"ready\" + 0.001*\"europe\" + 0.001*\"hot\" + 0.001*\"police\" + 0.001*\"dyke\" + 0.001*\"mental_health\" + 0.001*\"fear\"')]"
      ]
     },
     "execution_count": 44,
     "metadata": {},
     "output_type": "execute_result"
    }
   ],
   "source": [
    "ldaModel.print_topics(2)"
   ]
  }
 ],
 "metadata": {
  "interpreter": {
   "hash": "2c5217a3946e5a84d5ff067ec86c6c29aba46ea34fb35a222c2c09d02c172ab5"
  },
  "kernelspec": {
   "display_name": "Python 3.9.12 ('base')",
   "language": "python",
   "name": "python3"
  },
  "language_info": {
   "codemirror_mode": {
    "name": "ipython",
    "version": 3
   },
   "file_extension": ".py",
   "mimetype": "text/x-python",
   "name": "python",
   "nbconvert_exporter": "python",
   "pygments_lexer": "ipython3",
   "version": "3.9.12"
  },
  "orig_nbformat": 4
 },
 "nbformat": 4,
 "nbformat_minor": 2
}
