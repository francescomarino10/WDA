{
  "nbformat": 4,
  "nbformat_minor": 0,
  "metadata": {
    "colab": {
      "name": "TOPIC_RECOGNITION_DEF(1).ipynb",
      "provenance": [],
      "collapsed_sections": []
    },
    "kernelspec": {
      "name": "python3",
      "display_name": "Python 3"
    },
    "language_info": {
      "name": "python"
    }
  },
  "cells": [
    {
      "cell_type": "markdown",
      "source": [
        "TOPIC RECOGNITION\n",
        "\n",
        "ci sono 3 importanti parametri:\n",
        "-numero di topic\n",
        "-numero di parole per topic\n",
        "-numero di topic per documento\n",
        "\n",
        "STEP:\n",
        "-TOKENIZZARE E RIPULIRE OGNI DOCUMENTO (QUINDI OGNI POST)(utilizziamo tokenizer per fare prima questa volta)\n",
        "Lasciare #parola?? (boh decidere)\n",
        "\n",
        "-per farlo con LSA il prof usa sklearn\n",
        "\n"
      ],
      "metadata": {
        "id": "szdUqbuRMosV"
      }
    },
    {
      "cell_type": "code",
      "execution_count": null,
      "metadata": {
        "id": "7GQ19mwuMmhS"
      },
      "outputs": [],
      "source": [
        "from google.colab import files\n",
        " \n",
        " \n",
        "uploaded = files.upload()"
      ]
    },
    {
      "cell_type": "code",
      "source": [
        "import csv\n",
        "from collections import Counter\n",
        "from tkinter.tix import COLUMN\n",
        "import matplotlib.pyplot as plt\n",
        "import re\n",
        "import pandas as pd\n",
        "from math import log2\n",
        "import spacy\n",
        "import nltk\n",
        "nltk.download('omw-1.4')\n",
        "nltk.download('wordnet')\n",
        "from nltk.stem import WordNetLemmatizer\n",
        "import gensim, pprint\n",
        "\n"
      ],
      "metadata": {
        "colab": {
          "base_uri": "https://localhost:8080/"
        },
        "id": "FT3HDf1MTLck",
        "outputId": "a4aafcf2-441c-436a-e114-7b4e0bed03c9"
      },
      "execution_count": 1,
      "outputs": [
        {
          "output_type": "stream",
          "name": "stderr",
          "text": [
            "[nltk_data] Downloading package omw-1.4 to /root/nltk_data...\n",
            "[nltk_data]   Unzipping corpora/omw-1.4.zip.\n",
            "[nltk_data] Downloading package wordnet to /root/nltk_data...\n",
            "[nltk_data]   Unzipping corpora/wordnet.zip.\n"
          ]
        }
      ]
    },
    {
      "cell_type": "code",
      "source": [
        "corpus=[\"https://colab.research.google.com/drive/1dduOM7M3RubSeqpogrM1H7PhL2S9ZMbt#scrollTo=1eeVrjeBpn1x\",\n",
        "        \"is not happy capitol riot vote forces , not happy Republican to pick truth or Trump not good is not yours\",\n",
        "        \"EU not good agrees to allow entry to vaccinated travelers\",\n",
        "        \"Why the United Nation is stuck on the Israeli-Palestinian conflict\",\n",
        "        \"New York attorney general adds 'criminal capacity' to probe of Trump Organization\",\n",
        "        \"Given the recent accusations against the European Commission on land registry, beach resorts, PNRR, public accounts, etc., it is clear that many think that the EU should behave as if it were our ATM that gives money and is silent. But the ATM gives you your money, the EU gives us other people's money.\",\n",
        "        \"ANSA FORUM | Lega secretary Matteo Salvini responds live to questions from director Luigi Contu and colleague of the political-parliamentary editorial staff Michela Suglia #ANSA\",\n",
        "        \"Murder Willy, Bianchi in the courtroom: I didn't even touch him with a finger\",\n",
        "        \"The positives at #vaiolodellescimmie in Lombardy have risen to three. The Region has already communicated the protocol that hospitals must follow in the event of symptoms appearing\",\n",
        "        \"An assault rifle in the hand of an 18-year-old. An assault rifle. #Texas\",\n",
        "        \"Transfer market live: Pogba-Juve in the final close, Napoli and Fiorentina on Deulofeu [by Giulio Cardone, Enrico De Lellis]\",\n",
        "        \"#Economia circular and #gestione environmental: limits and opportunities. The #aziende must carefully screen #investimenti , #costi and perspectives and must show #flessibilità and a rapid propensity for change\",\n",
        "        \"Fire on the island of Stromboli, flames extinguished after a night of fire #ANSA\",\n",
        "        \"A new anti-cancer vaccine, tested in mice and monkeys, has been shown to be able to break down the defenses that tumors put in place to protect themselves from attacks by the immune system by blocking diseased cells\",\n",
        "        \"Term of the day: Computational fluid dynamics Definition: The numerical solution of flow equations in practical problems such as aircraft design or hydraulic structures.\",\n",
        "        \"The mayor of Kiev: 'The Russian war will not stop in Ukraine'\",\n",
        "        \"The killer of elementary school in #Uvalde in #Texas Salvador Ramos worked in a restaurant not far from the scene of the massacre. He would have been able to save around 4,000 dollars (3.7 thousand euros) to buy the weapons he used in the massacre\"]"
      ],
      "metadata": {
        "id": "IEonHZttdj6Q"
      },
      "execution_count": 2,
      "outputs": []
    },
    {
      "cell_type": "code",
      "source": [
        "my_not=set()\n",
        "for frase in corpus[1:]:\n",
        "  regex=re.compile(\"not \\w+\")\n",
        "  for a in regex.findall(frase):\n",
        "    my_not.add(a)\n"
      ],
      "metadata": {
        "id": "uUoBTWMHllXD"
      },
      "execution_count": 3,
      "outputs": []
    },
    {
      "cell_type": "code",
      "source": [
        "my_not"
      ],
      "metadata": {
        "colab": {
          "base_uri": "https://localhost:8080/"
        },
        "id": "JFxTwCA3qDiY",
        "outputId": "9cd2ac89-d5f1-4c4b-bb6e-5ce1686f9d5b"
      },
      "execution_count": null,
      "outputs": [
        {
          "output_type": "execute_result",
          "data": {
            "text/plain": [
              "{'not far', 'not good', 'not happy', 'not stop', 'not yours'}"
            ]
          },
          "metadata": {},
          "execution_count": 208
        }
      ]
    },
    {
      "cell_type": "code",
      "source": [
        "pattern_link=\"https\\S+\"\n",
        "pattern_menzione=\"@\\S+\"\n",
        "#list_of_word=['impressed','sure','good','bad','happy','worry','able','fast','super','know','peaceful','cool','sad','confused','cool','attractive','gracious','sick','best','fan','care','love','sunny','funny','dead','annoying','easy','great','cold','regret','sick','like','hard','fun','enjoying','nice','bored','true','mad','angry','afraid']\n",
        "\n",
        "tmp=''\n",
        "lemmatized_string=[]\n",
        "\n",
        "\n",
        "sp = spacy.load('en_core_web_sm')\n",
        "all_stopwords = sp.Defaults.stop_words\n",
        "wnl = WordNetLemmatizer()"
      ],
      "metadata": {
        "id": "VqtbBc0GrruA"
      },
      "execution_count": 4,
      "outputs": []
    },
    {
      "cell_type": "code",
      "source": [
        "len(all_stopwords)"
      ],
      "metadata": {
        "colab": {
          "base_uri": "https://localhost:8080/"
        },
        "id": "57RViCkuo44c",
        "outputId": "c0412129-48de-441c-8083-07c4d1276b18"
      },
      "execution_count": null,
      "outputs": [
        {
          "output_type": "execute_result",
          "data": {
            "text/plain": [
              "326"
            ]
          },
          "metadata": {},
          "execution_count": 199
        }
      ]
    },
    {
      "cell_type": "code",
      "source": [
        "def remove(doc):\n",
        "  #parole_esaminate=list()\n",
        "  doc=re.sub(pattern_link, '',doc)\n",
        "  doc=re.sub(pattern_menzione,\" \",doc)\n",
        "  \n",
        "  return doc\n"
      ],
      "metadata": {
        "id": "sypFb4lGNWt-"
      },
      "execution_count": 5,
      "outputs": []
    },
    {
      "cell_type": "markdown",
      "source": [
        "unisco il not con good o altri aggettivi perchè bigram mi unisce le parole 'not' con 'good' se almeno ce ne sono come minimo due e inoltre non posso levare le stop word perchè mi leva anche not prima di fare bigram, anche perchè se non lo faccio poi mi unisce 'is not' se ce ne sono almeno due"
      ],
      "metadata": {
        "id": "VOgo2LhRcguX"
      }
    },
    {
      "cell_type": "code",
      "source": [
        "tokens_=[]\n",
        "#parole_esaminate=list()\n",
        "lemmatized_string=list()\n",
        "post=list()\n",
        "\n",
        "tokens_ = [list(gensim.utils.tokenize(remove(doc), lower=True)) for doc in corpus]\n",
        "\n",
        "for lista in tokens_:\n",
        "  #if len(lista)>0: #per togliermi quelle vuote che magari contenevano solo link\n",
        "  parole_esaminate=[]\n",
        "  \n",
        "  for parole in lista:\n",
        "    #if not parole in all_stopwords:\n",
        "          if parole == 'not':\n",
        "            tmp='not_'\n",
        "          elif tmp=='not_' and parole not in all_stopwords:\n",
        "              parole=tmp+parole\n",
        "              #parole_esaminate.append(parole)\n",
        "              tmp=''\n",
        "          if parole != 'not' and parole not in all_stopwords:\n",
        "            parole_esaminate.append(parole)\n",
        "\n",
        "  lemmatized_string.append([wnl.lemmatize(words) for words in parole_esaminate ]) \n",
        "\n",
        "bigram_mdl = gensim.models.phrases.Phrases(lemmatized_string, min_count=1, threshold=2)##farglielo fare su tutto il corpus tokenizzato altrimenti non funziona se lo fai su una sola frase\n",
        "for l in lemmatized_string:\n",
        "\n",
        "  bigrams = bigram_mdl[l]\n",
        "  post.append(bigrams)"
      ],
      "metadata": {
        "colab": {
          "base_uri": "https://localhost:8080/"
        },
        "id": "HHSDMR0PP3AO",
        "outputId": "709cad7e-6c34-4104-b255-4161b44eeed5"
      },
      "execution_count": 6,
      "outputs": [
        {
          "output_type": "stream",
          "name": "stderr",
          "text": [
            "/usr/local/lib/python3.7/dist-packages/gensim/models/phrases.py:598: UserWarning: For a faster implementation, use the gensim.models.phrases.Phraser class\n",
            "  warnings.warn(\"For a faster implementation, use the gensim.models.phrases.Phraser class\")\n"
          ]
        }
      ]
    },
    {
      "cell_type": "code",
      "source": [
        "post"
      ],
      "metadata": {
        "id": "OxSu4VASPkcP"
      },
      "execution_count": null,
      "outputs": []
    },
    {
      "cell_type": "markdown",
      "source": [
        "VETTORIZZARE I DOCUMENTI CON TF-IDF"
      ],
      "metadata": {
        "id": "U6pXzQEFxdKf"
      }
    },
    {
      "cell_type": "code",
      "source": [
        "from sklearn.feature_extraction.text import TfidfVectorizer,CountVectorizer"
      ],
      "metadata": {
        "id": "ICzfstEgyMS2"
      },
      "execution_count": 7,
      "outputs": []
    },
    {
      "cell_type": "code",
      "source": [
        "\n",
        "lemmatized_bigram_string=[' '.join(word) for word in post]"
      ],
      "metadata": {
        "id": "6tHy9Xn25fzi"
      },
      "execution_count": 8,
      "outputs": []
    },
    {
      "cell_type": "code",
      "source": [
        "lemmatized_bigram_string"
      ],
      "metadata": {
        "colab": {
          "base_uri": "https://localhost:8080/"
        },
        "id": "rQI1l4KpwJMY",
        "outputId": "ab9033d7-9d92-4fd2-d921-776bfaee2b30"
      },
      "execution_count": null,
      "outputs": [
        {
          "output_type": "execute_result",
          "data": {
            "text/plain": [
              "['',\n",
              " 'not_happy capitol riot vote force not_happy republican pick truth trump not_good',\n",
              " 'not_eu not_good agrees allow entry vaccinated traveler',\n",
              " 'united nation stuck israeli palestinian conflict',\n",
              " 'new york attorney general add criminal capacity probe trump organization',\n",
              " 'given recent accusation european commission land registry beach resort pnrr public account etc clear think eu behave atm_give money silent atm_give money eu give people s money',\n",
              " 'ansa forum lega secretary matteo salvini responds live question director luigi contu colleague political parliamentary editorial staff michela suglia ansa',\n",
              " 'murder willy bianchi courtroom didn t touch finger',\n",
              " 'positive vaiolodellescimmie lombardy risen region communicated protocol hospital follow event symptom appearing',\n",
              " 'assault_rifle hand year old assault_rifle texas',\n",
              " 'transfer market live pogba juve final close napoli fiorentina deulofeu giulio cardone enrico de lellis',\n",
              " 'economia circular gestione environmental limit opportunity aziende carefully screen investimenti costi perspective flessibilità rapid propensity change',\n",
              " 'fire island stromboli flame extinguished night fire ansa',\n",
              " 'new anti cancer vaccine tested mouse monkey shown able break defense tumor place protect attack immune system blocking diseased cell',\n",
              " 'term day computational fluid dynamic definition numerical solution flow equation practical problem aircraft design hydraulic structure',\n",
              " 'mayor kiev russian war not_stop ukraine',\n",
              " 'killer elementary school uvalde texas salvador ramos worked restaurant not_far scene massacre able save dollar thousand euro buy weapon massacre']"
            ]
          },
          "metadata": {},
          "execution_count": 223
        }
      ]
    },
    {
      "cell_type": "code",
      "source": [
        "modello= TfidfVectorizer()\n",
        "M=modello.fit_transform(lemmatized_bigram_string)"
      ],
      "metadata": {
        "id": "y_aAYMmBxlVc"
      },
      "execution_count": 9,
      "outputs": []
    },
    {
      "cell_type": "code",
      "source": [
        "M.shape"
      ],
      "metadata": {
        "colab": {
          "base_uri": "https://localhost:8080/"
        },
        "id": "IT4lo5wR74mN",
        "outputId": "56aca4f8-1200-49eb-820d-f9ffe7133124"
      },
      "execution_count": null,
      "outputs": [
        {
          "output_type": "execute_result",
          "data": {
            "text/plain": [
              "(17, 188)"
            ]
          },
          "metadata": {},
          "execution_count": 127
        }
      ]
    },
    {
      "cell_type": "code",
      "source": [
        "M.toarray()"
      ],
      "metadata": {
        "id": "qAArZISL77DG",
        "colab": {
          "base_uri": "https://localhost:8080/"
        },
        "outputId": "e5291d89-63fc-42f3-af4f-b7ec47ce0cc9"
      },
      "execution_count": null,
      "outputs": [
        {
          "output_type": "execute_result",
          "data": {
            "text/plain": [
              "array([[0.        , 0.        , 0.        , ..., 0.        , 0.        ,\n",
              "        0.        ],\n",
              "       [0.        , 0.        , 0.        , ..., 0.        , 0.        ,\n",
              "        0.        ],\n",
              "       [0.        , 0.        , 0.        , ..., 0.        , 0.        ,\n",
              "        0.        ],\n",
              "       ...,\n",
              "       [0.        , 0.        , 0.        , ..., 0.        , 0.        ,\n",
              "        0.        ],\n",
              "       [0.        , 0.        , 0.        , ..., 0.        , 0.        ,\n",
              "        0.        ],\n",
              "       [0.        , 0.        , 0.        , ..., 0.21436118, 0.        ,\n",
              "        0.        ]])"
            ]
          },
          "metadata": {},
          "execution_count": 128
        }
      ]
    },
    {
      "cell_type": "code",
      "source": [
        "modello.get_feature_names()"
      ],
      "metadata": {
        "id": "xwX-7FgO8GKz"
      },
      "execution_count": null,
      "outputs": []
    },
    {
      "cell_type": "code",
      "source": [
        "len(modello.get_feature_names())"
      ],
      "metadata": {
        "id": "5edyJ3HR8Se1"
      },
      "execution_count": null,
      "outputs": []
    },
    {
      "cell_type": "markdown",
      "source": [
        "n_components è il nostro k\n",
        "l'algoritmo è iterativo qui\n",
        "c'è una libreria ancora più adeguata per i testi"
      ],
      "metadata": {
        "id": "fCq6OPg0bvZP"
      }
    },
    {
      "cell_type": "code",
      "source": [
        "from sklearn.decomposition import TruncatedSVD\n",
        "\n",
        "lsa = TruncatedSVD(n_components=10,n_iter=300)\n",
        "lsa.fit(M)"
      ],
      "metadata": {
        "colab": {
          "base_uri": "https://localhost:8080/"
        },
        "id": "AZf72_ph8W6u",
        "outputId": "4966b215-c820-46cb-87be-93a188fdab5c"
      },
      "execution_count": 10,
      "outputs": [
        {
          "output_type": "execute_result",
          "data": {
            "text/plain": [
              "TruncatedSVD(n_components=10, n_iter=300)"
            ]
          },
          "metadata": {},
          "execution_count": 10
        }
      ]
    },
    {
      "cell_type": "code",
      "source": [
        "lsa.components_"
      ],
      "metadata": {
        "colab": {
          "base_uri": "https://localhost:8080/"
        },
        "id": "vfjKoTun9YZb",
        "outputId": "8f02c626-9f3b-4144-9ab6-518e6873221c"
      },
      "execution_count": null,
      "outputs": [
        {
          "output_type": "execute_result",
          "data": {
            "text/plain": [
              "array([[-7.37843588e-14,  6.72205189e-18,  6.39541270e-18, ...,\n",
              "        -1.27228912e-13,  6.81740376e-17,  6.81740376e-17],\n",
              "       [ 1.16396828e-01,  2.42960739e-15,  2.39725983e-15, ...,\n",
              "         2.08072822e-01, -7.26735775e-19, -7.26735775e-19],\n",
              "       [-4.17455883e-15,  1.02904045e-01,  1.02904045e-01, ...,\n",
              "        -4.29482847e-15, -6.47432027e-21, -6.47432027e-21],\n",
              "       ...,\n",
              "       [-3.72626624e-02,  7.93044625e-16,  7.17401528e-16, ...,\n",
              "         1.76740175e-16,  1.39562132e-17,  1.39562132e-17],\n",
              "       [-5.18798609e-02,  1.46032231e-16,  1.28762764e-16, ...,\n",
              "        -1.39732684e-16, -3.82114173e-17, -3.82114173e-17],\n",
              "       [ 3.99308219e-03, -2.34777650e-16, -1.96275406e-16, ...,\n",
              "        -1.36584972e-16,  1.16399319e-17,  1.16399319e-17]])"
            ]
          },
          "metadata": {},
          "execution_count": 142
        }
      ]
    },
    {
      "cell_type": "markdown",
      "source": [
        "10 sono le direzioni di troncamento\n",
        "200 è il nostro insieme di parole\n",
        "\n",
        "quindi ho una codifica delle nostrre parole nei 10 assi"
      ],
      "metadata": {
        "id": "6pgyNeioc5gP"
      }
    },
    {
      "cell_type": "code",
      "source": [
        "lsa.components_.shape"
      ],
      "metadata": {
        "id": "YStSpkWL99B7",
        "colab": {
          "base_uri": "https://localhost:8080/"
        },
        "outputId": "63efe802-4999-410a-f4db-de8f6f887195"
      },
      "execution_count": null,
      "outputs": [
        {
          "output_type": "execute_result",
          "data": {
            "text/plain": [
              "(10, 188)"
            ]
          },
          "metadata": {},
          "execution_count": 312
        }
      ]
    },
    {
      "cell_type": "code",
      "source": [
        "termini=modello.get_feature_names()\n",
        "print(termini)"
      ],
      "metadata": {
        "colab": {
          "base_uri": "https://localhost:8080/"
        },
        "id": "a2Qpgwc0dugn",
        "outputId": "75bb5d59-c710-4105-fd91-f99c4eb7f617"
      },
      "execution_count": 11,
      "outputs": [
        {
          "output_type": "stream",
          "name": "stdout",
          "text": [
            "['able', 'account', 'accusation', 'add', 'agrees', 'aircraft', 'allow', 'ansa', 'anti', 'appearing', 'assault_rifle', 'atm_give', 'attack', 'attorney', 'aziende', 'beach', 'behave', 'bianchi', 'blocking', 'break', 'buy', 'cancer', 'capacity', 'capitol', 'cardone', 'carefully', 'cell', 'change', 'circular', 'clear', 'close', 'colleague', 'commission', 'communicated', 'computational', 'conflict', 'contu', 'costi', 'courtroom', 'criminal', 'day', 'de', 'defense', 'definition', 'design', 'deulofeu', 'didn', 'director', 'diseased', 'dollar', 'dynamic', 'economia', 'editorial', 'elementary', 'enrico', 'entry', 'environmental', 'equation', 'etc', 'eu', 'euro', 'european', 'event', 'extinguished', 'final', 'finger', 'fiorentina', 'fire', 'flame', 'flessibilità', 'flow', 'fluid', 'follow', 'force', 'forum', 'general', 'gestione', 'giulio', 'give', 'given', 'hand', 'hospital', 'hydraulic', 'immune', 'investimenti', 'island', 'israeli', 'juve', 'kiev', 'killer', 'land', 'lega', 'lellis', 'limit', 'live', 'lombardy', 'luigi', 'market', 'massacre', 'matteo', 'mayor', 'michela', 'money', 'monkey', 'mouse', 'murder', 'napoli', 'nation', 'new', 'night', 'not_eu', 'not_far', 'not_good', 'not_happy', 'not_stop', 'numerical', 'old', 'opportunity', 'organization', 'palestinian', 'parliamentary', 'people', 'perspective', 'pick', 'place', 'pnrr', 'pogba', 'political', 'positive', 'practical', 'probe', 'problem', 'propensity', 'protect', 'protocol', 'public', 'question', 'ramos', 'rapid', 'recent', 'region', 'registry', 'republican', 'resort', 'responds', 'restaurant', 'riot', 'risen', 'russian', 'salvador', 'salvini', 'save', 'scene', 'school', 'screen', 'secretary', 'shown', 'silent', 'solution', 'staff', 'stromboli', 'structure', 'stuck', 'suglia', 'symptom', 'system', 'term', 'tested', 'texas', 'think', 'thousand', 'touch', 'transfer', 'traveler', 'trump', 'truth', 'tumor', 'ukraine', 'united', 'uvalde', 'vaccinated', 'vaccine', 'vaiolodellescimmie', 'vote', 'war', 'weapon', 'willy', 'worked', 'year', 'york']\n"
          ]
        },
        {
          "output_type": "stream",
          "name": "stderr",
          "text": [
            "/usr/local/lib/python3.7/dist-packages/sklearn/utils/deprecation.py:87: FutureWarning: Function get_feature_names is deprecated; get_feature_names is deprecated in 1.0 and will be removed in 1.2. Please use get_feature_names_out instead.\n",
            "  warnings.warn(msg, category=FutureWarning)\n"
          ]
        }
      ]
    },
    {
      "cell_type": "markdown",
      "source": [
        "ora voglio associare le parole alle nostre componenti.\n",
        "quindi abbiamo il nostro elemento e il vettore corrispondente"
      ],
      "metadata": {
        "id": "Hjxi_O3pd5VA"
      }
    },
    {
      "cell_type": "code",
      "source": [
        "for i,j in enumerate(lsa.components_):\n",
        "  print(i,j)"
      ],
      "metadata": {
        "id": "U5xMS5K3d_wn"
      },
      "execution_count": null,
      "outputs": []
    },
    {
      "cell_type": "markdown",
      "source": [
        "ora prendo la parola e il valore del concetto e li associo\n",
        "\n",
        "con lsa parole simili dovrebbero avere lo stesso vettore"
      ],
      "metadata": {
        "id": "hda3WBgSeZhI"
      }
    },
    {
      "cell_type": "markdown",
      "source": [
        "siccome 200 sono un pò troppe mi prendo ad esempio le prime 10 parole più rilevanti per il mio asse concettuale\n",
        "\n",
        "l'informazione con il segno negativo è comunque rilevante quindi potrei prendere il modulo dei valori"
      ],
      "metadata": {
        "id": "N9yH0kTCgc3o"
      }
    },
    {
      "cell_type": "code",
      "source": [
        "for i,j in enumerate(lsa.components_):\n",
        "  parolaChiave=zip(termini,abs(j))\n",
        "paroleOrdinate = sorted(parolaChiave,key=lambda x:x[1], reverse = True)\n",
        "paroleOrdinate = paroleOrdinate[:10]"
      ],
      "metadata": {
        "id": "dVJvGIg_eYxA"
      },
      "execution_count": 12,
      "outputs": []
    },
    {
      "cell_type": "code",
      "source": [
        "paroleOrdinate"
      ],
      "metadata": {
        "colab": {
          "base_uri": "https://localhost:8080/"
        },
        "id": "HhUfa85NiE83",
        "outputId": "19d35630-6957-48c4-8c35-eeabe1a6cd0d"
      },
      "execution_count": 45,
      "outputs": [
        {
          "output_type": "execute_result",
          "data": {
            "text/plain": [
              "('russian', 0.19532322340331493)"
            ]
          },
          "metadata": {},
          "execution_count": 45
        }
      ]
    },
    {
      "cell_type": "code",
      "source": [
        ""
      ],
      "metadata": {
        "id": "mElNSemdiEH6"
      },
      "execution_count": null,
      "outputs": []
    },
    {
      "cell_type": "code",
      "source": [
        "for i in paroleOrdinate:\n",
        "  print(i)"
      ],
      "metadata": {
        "colab": {
          "base_uri": "https://localhost:8080/"
        },
        "id": "7ajpE6sQez2P",
        "outputId": "d3ddf351-efad-43c3-d58e-d77661b96714"
      },
      "execution_count": null,
      "outputs": [
        {
          "output_type": "stream",
          "name": "stdout",
          "text": [
            "('computational', 0.14287182875138013)\n",
            "('day', 0.14287182875138013)\n",
            "('definition', 0.14287182875138013)\n",
            "('design', 0.14287182875138013)\n",
            "('dynamic', 0.14287182875138013)\n",
            "('equation', 0.14287182875138013)\n",
            "('flow', 0.14287182875138013)\n",
            "('fluid', 0.14287182875138013)\n",
            "('hydraulic', 0.14287182875138013)\n",
            "('numerical', 0.14287182875138013)\n"
          ]
        }
      ]
    },
    {
      "cell_type": "code",
      "source": [
        "len(paroleOrdinate)"
      ],
      "metadata": {
        "colab": {
          "base_uri": "https://localhost:8080/"
        },
        "id": "Wof2oA3rgZdP",
        "outputId": "b10c088f-1cf8-405e-81f3-323913abee68"
      },
      "execution_count": null,
      "outputs": [
        {
          "output_type": "execute_result",
          "data": {
            "text/plain": [
              "10"
            ]
          },
          "metadata": {},
          "execution_count": 230
        }
      ]
    },
    {
      "cell_type": "markdown",
      "source": [
        "siccome l'asse non è più una parola ma è indotto dall'lsa sto tentando di etichettare ciscun asse secondo il valore..poichè le colonnne di U sono la nostra base se considero le parole, quindi la riga iesima è associata ad una parola, quindi prendo i valori più alti delle componenti di un singolo asse e catturo la porzione di parola che è associata di più per l'asse.\n",
        "la parola può essere ripetuta negli altri assi proprio perchè ciascun asse non è più associato ad una singola parola"
      ],
      "metadata": {
        "id": "ZbxqT_L5kGIp"
      }
    },
    {
      "cell_type": "code",
      "source": [
        "\n",
        "for i,j in enumerate(lsa.components_):\n",
        "  parolaChiave=zip(termini,abs(j))\n",
        "  paroleOrdinate = sorted(parolaChiave,key=lambda x:x[1], reverse = True)\n",
        "  paroleOrdinate = paroleOrdinate[:10]\n",
        "  print(\"Asse concettuale n. \",i, \": \")\n",
        "  for k in paroleOrdinate:\n",
        "    print(k)\n",
        "  print('\\n\\n')\n"
      ],
      "metadata": {
        "id": "2ssficOfkrc4"
      },
      "execution_count": null,
      "outputs": []
    },
    {
      "cell_type": "markdown",
      "source": [
        "ci creiamo un dizionario con le parole asociate agli assi"
      ],
      "metadata": {
        "id": "mudSA_0DmRd5"
      }
    },
    {
      "cell_type": "code",
      "source": [
        "concetti={}\n",
        "#usare questo quelli di prima sono prove\n",
        "for i,j in enumerate(lsa.components_):\n",
        "  parolaChiave=zip(termini,abs(j))\n",
        "  paroleOrdinate = sorted(parolaChiave,key=lambda x:x[1], reverse = True)\n",
        "  paroleOrdinate = paroleOrdinate[:10]\n",
        "  concetti[\"concetto_\" + str(i)]=[]\n",
        "  print(\"Asse concettuale n. \",i, \": \")\n",
        "  for k in paroleOrdinate:\n",
        "    concetti[\"concetto_\" + str(i)].append(k)\n",
        "    print(k)\n",
        "  print('\\n\\n')"
      ],
      "metadata": {
        "id": "7_UDIn2lmVSy"
      },
      "execution_count": null,
      "outputs": []
    },
    {
      "cell_type": "code",
      "source": [
        "concetti"
      ],
      "metadata": {
        "colab": {
          "base_uri": "https://localhost:8080/"
        },
        "id": "L6XxRba6ng-Z",
        "outputId": "c71cfd08-4a35-4ac5-ae0d-991d8c5f40db"
      },
      "execution_count": null,
      "outputs": [
        {
          "output_type": "execute_result",
          "data": {
            "text/plain": [
              "{'concetto_0': [('not_happy', 0.34253734485146925),\n",
              "  ('not_good', 0.2945522174674141),\n",
              "  ('trump', 0.2902105029711441),\n",
              "  ('new', 0.19544515300786056),\n",
              "  ('capitol', 0.17126867242573462),\n",
              "  ('force', 0.17126867242573462),\n",
              "  ('pick', 0.17126867242573462),\n",
              "  ('republican', 0.17126867242573462),\n",
              "  ('riot', 0.17126867242573462),\n",
              "  ('truth', 0.17126867242573462)],\n",
              " 'concetto_1': [('ansa', 0.4296107681688967),\n",
              "  ('fire', 0.39699055206882033),\n",
              "  ('extinguished', 0.19849527603441017),\n",
              "  ('flame', 0.19849527603441017),\n",
              "  ('island', 0.19849527603441017),\n",
              "  ('night', 0.19849527603441017),\n",
              "  ('stromboli', 0.19849527603441017),\n",
              "  ('live', 0.18545345258172588),\n",
              "  ('colleague', 0.1467553077626638),\n",
              "  ('contu', 0.1467553077626638)],\n",
              " 'concetto_2': [('assault_rifle', 0.3695762996161747),\n",
              "  ('texas', 0.27897141345003224),\n",
              "  ('massacre', 0.2694001374930685),\n",
              "  ('able', 0.19400753191751557),\n",
              "  ('hand', 0.18478814980808736),\n",
              "  ('old', 0.18478814980808736),\n",
              "  ('year', 0.18478814980808736),\n",
              "  ('not_good', 0.14499453626466066),\n",
              "  ('buy', 0.13470006874653426),\n",
              "  ('dollar', 0.13470006874653426)],\n",
              " 'concetto_3': [('assault_rifle', 0.32512475412448294),\n",
              "  ('new', 0.22779983505898216),\n",
              "  ('not_good', 0.1987464453983344),\n",
              "  ('texas', 0.18937019293946172),\n",
              "  ('agrees', 0.17629896697893976),\n",
              "  ('allow', 0.17629896697893976),\n",
              "  ('entry', 0.17629896697893976),\n",
              "  ('not_eu', 0.17629896697893976),\n",
              "  ('traveler', 0.17629896697893976),\n",
              "  ('vaccinated', 0.17629896697893976)],\n",
              " 'concetto_4': [('money', 0.2125657449727962),\n",
              "  ('aziende', 0.14502992915308216),\n",
              "  ('carefully', 0.14502992915308216),\n",
              "  ('change', 0.14502992915308216),\n",
              "  ('circular', 0.14502992915308216),\n",
              "  ('costi', 0.14502992915308216),\n",
              "  ('economia', 0.14502992915308216),\n",
              "  ('environmental', 0.14502992915308216),\n",
              "  ('flessibilità', 0.14502992915308216),\n",
              "  ('gestione', 0.14502992915308216)],\n",
              " 'concetto_5': [('money', 0.19215185910989538),\n",
              "  ('appearing', 0.18914507952411552),\n",
              "  ('communicated', 0.1891450795241154),\n",
              "  ('event', 0.1891450795241154),\n",
              "  ('follow', 0.1891450795241154),\n",
              "  ('hospital', 0.1891450795241154),\n",
              "  ('lombardy', 0.1891450795241154),\n",
              "  ('positive', 0.1891450795241154),\n",
              "  ('protocol', 0.1891450795241154),\n",
              "  ('region', 0.1891450795241154)],\n",
              " 'concetto_6': [('money', 0.24654557402632502),\n",
              "  ('bianchi', 0.1797954875400537),\n",
              "  ('courtroom', 0.1797954875400537),\n",
              "  ('didn', 0.1797954875400537),\n",
              "  ('finger', 0.1797954875400537),\n",
              "  ('murder', 0.1797954875400537),\n",
              "  ('touch', 0.1797954875400537),\n",
              "  ('willy', 0.1797954875400537),\n",
              "  ('atm_give', 0.1643637160175501),\n",
              "  ('eu', 0.1643637160175501)],\n",
              " 'concetto_7': [('conflict', 0.18558865609178005),\n",
              "  ('israeli', 0.18558865609178005),\n",
              "  ('nation', 0.18558865609178005),\n",
              "  ('palestinian', 0.18558865609178005),\n",
              "  ('stuck', 0.18558865609178005),\n",
              "  ('united', 0.18558865609178005),\n",
              "  ('appearing', 0.17362547487143748),\n",
              "  ('communicated', 0.17362547487143734),\n",
              "  ('event', 0.17362547487143734),\n",
              "  ('follow', 0.17362547487143734)],\n",
              " 'concetto_8': [('conflict', 0.278235458879462),\n",
              "  ('israeli', 0.278235458879462),\n",
              "  ('nation', 0.278235458879462),\n",
              "  ('palestinian', 0.278235458879462),\n",
              "  ('stuck', 0.278235458879462),\n",
              "  ('united', 0.278235458879462),\n",
              "  ('kiev', 0.22435289970453515),\n",
              "  ('mayor', 0.22435289970453515),\n",
              "  ('not_stop', 0.22435289970453515),\n",
              "  ('russian', 0.22435289970453515)],\n",
              " 'concetto_9': [('computational', 0.14287182875138013),\n",
              "  ('day', 0.14287182875138013),\n",
              "  ('definition', 0.14287182875138013),\n",
              "  ('design', 0.14287182875138013),\n",
              "  ('dynamic', 0.14287182875138013),\n",
              "  ('equation', 0.14287182875138013),\n",
              "  ('flow', 0.14287182875138013),\n",
              "  ('fluid', 0.14287182875138013),\n",
              "  ('hydraulic', 0.14287182875138013),\n",
              "  ('numerical', 0.14287182875138013)]}"
            ]
          },
          "metadata": {},
          "execution_count": 285
        }
      ]
    },
    {
      "cell_type": "markdown",
      "source": [
        "ora vogliamo prendere le frasi che sono nel nostro corpus e vedere in quali assi concettuali sono meglio mappate"
      ],
      "metadata": {
        "id": "uyufgRPpp_Sp"
      }
    },
    {
      "cell_type": "code",
      "source": [
        "corpus[14]"
      ],
      "metadata": {
        "colab": {
          "base_uri": "https://localhost:8080/",
          "height": 35
        },
        "id": "9hbWkiHYqHAI",
        "outputId": "898cb27f-a9cd-470f-d0e9-40f7b24e3b6b"
      },
      "execution_count": null,
      "outputs": [
        {
          "output_type": "execute_result",
          "data": {
            "text/plain": [
              "'Term of the day: Computational fluid dynamics Definition: The numerical solution of flow equations in practical problems such as aircraft design or hydraulic structures.'"
            ],
            "application/vnd.google.colaboratory.intrinsic+json": {
              "type": "string"
            }
          },
          "metadata": {},
          "execution_count": 286
        }
      ]
    },
    {
      "cell_type": "code",
      "source": [
        "parole=list(gensim.utils.tokenize('the war is a universal conflict ukraine fire', lower=True))#usare poi la funzione che pulisce bene come per iol topic"
      ],
      "metadata": {
        "id": "NhD8XB5PqVQx"
      },
      "execution_count": 15,
      "outputs": []
    },
    {
      "cell_type": "markdown",
      "source": [
        "quindi vediamo come poter individuare i concetti di una certa frase nel nostro spazio ridotto lsa\n",
        "\n",
        "quindi vado a vedermi le chiavi e mi calcolo il punteggio per ciascuna parola"
      ],
      "metadata": {
        "id": "Ak_t8mPCq8ri"
      }
    },
    {
      "cell_type": "code",
      "source": [
        "punteggi=dict()\n",
        "\n",
        "for key,lista in concetti.items():\n",
        "  punteggio=0\n",
        "  for i in parole:\n",
        "    for concetto_parola,valore in lista:\n",
        "      if(i == concetto_parola):\n",
        "        punteggio+=valore\n",
        "  punteggi[key]=punteggio"
      ],
      "metadata": {
        "id": "w0hMXXO5q3vD"
      },
      "execution_count": 16,
      "outputs": []
    },
    {
      "cell_type": "code",
      "source": [
        "punteggi"
      ],
      "metadata": {
        "colab": {
          "base_uri": "https://localhost:8080/"
        },
        "id": "mhilZwaIBCqU",
        "outputId": "314bae24-55e1-4d08-c2e1-1ffeedbecd63"
      },
      "execution_count": null,
      "outputs": [
        {
          "output_type": "execute_result",
          "data": {
            "text/plain": [
              "{'concetto_0': 0,\n",
              " 'concetto_1': 0,\n",
              " 'concetto_2': 0,\n",
              " 'concetto_3': 0,\n",
              " 'concetto_4': 0,\n",
              " 'concetto_5': 0,\n",
              " 'concetto_6': 0,\n",
              " 'concetto_7': 0,\n",
              " 'concetto_8': 0,\n",
              " 'concetto_9': 1.142974630011041}"
            ]
          },
          "metadata": {},
          "execution_count": 331
        }
      ]
    },
    {
      "cell_type": "code",
      "source": [
        "def result_Topic(corpus):\n",
        "  risultato = []\n",
        "  print(\"Risultato di \", corpus)\n",
        "  for concetto,valore in punteggi.items():\n",
        "    if valore!=0:\n",
        "      print(concetto, concetti[concetto])\n",
        "  "
      ],
      "metadata": {
        "id": "MUStPtKC4vPK"
      },
      "execution_count": 17,
      "outputs": []
    },
    {
      "cell_type": "code",
      "source": [
        "result_Topic(corpus[15])"
      ],
      "metadata": {
        "colab": {
          "base_uri": "https://localhost:8080/"
        },
        "id": "_fFBg8l54v06",
        "outputId": "a1d634e2-9570-4fda-c3ab-22e0ee131b69"
      },
      "execution_count": 18,
      "outputs": [
        {
          "output_type": "stream",
          "name": "stdout",
          "text": [
            "Risultato di  The mayor of Kiev: 'The Russian war will not stop in Ukraine'\n",
            "concetto_1 [('ansa', 0.42961076816889676), ('fire', 0.3969905520688208), ('extinguished', 0.1984952760344104), ('flame', 0.1984952760344104), ('island', 0.1984952760344104), ('night', 0.1984952760344104), ('stromboli', 0.1984952760344104), ('live', 0.18545345258172544), ('colleague', 0.14675530776266377), ('contu', 0.14675530776266377)]\n",
            "concetto_5 [('conflict', 0.1927833484451045), ('israeli', 0.1927833484451045), ('nation', 0.1927833484451045), ('palestinian', 0.1927833484451045), ('stuck', 0.1927833484451045), ('united', 0.1927833484451045), ('money', 0.17938473843344024), ('cardone', 0.12713695161832528), ('close', 0.12713695161832528), ('de', 0.12713695161832528)]\n",
            "concetto_7 [('conflict', 0.17192691085304115), ('israeli', 0.17192691085304115), ('nation', 0.17192691085304115), ('palestinian', 0.17192691085304115), ('stuck', 0.17192691085304115), ('united', 0.17192691085304115), ('war', 0.15823065605135875), ('kiev', 0.1582306560513587), ('mayor', 0.1582306560513587), ('not_stop', 0.1582306560513587)]\n",
            "concetto_8 [('kiev', 0.2088064321713682), ('mayor', 0.2088064321713682), ('not_stop', 0.2088064321713682), ('russian', 0.2088064321713682), ('ukraine', 0.2088064321713682), ('war', 0.2088064321713682), ('willy', 0.19908508534554092), ('bianchi', 0.19908508534554087), ('courtroom', 0.19908508534554087), ('didn', 0.19908508534554087)]\n",
            "concetto_9 [('kiev', 0.19532322340331493), ('mayor', 0.19532322340331493), ('not_stop', 0.19532322340331493), ('russian', 0.19532322340331493), ('ukraine', 0.19532322340331493), ('war', 0.19532322340331484), ('willy', 0.15398799682126277), ('bianchi', 0.15398799682126274), ('courtroom', 0.15398799682126274), ('didn', 0.15398799682126274)]\n"
          ]
        }
      ]
    },
    {
      "cell_type": "code",
      "source": [
        "def result_Topic_max(corpus):\n",
        "  risultato = []\n",
        "  massimo = max(punteggi.values())\n",
        "  print(\"Risultato di \", corpus)\n",
        "  for concetto,valore in punteggi.items():\n",
        "    if valore == massimo:\n",
        "      risultato.append((concetto, concetti[concetto]))\n",
        "  return (risultato)"
      ],
      "metadata": {
        "id": "cIWUKnkY_I-l"
      },
      "execution_count": 19,
      "outputs": []
    },
    {
      "cell_type": "code",
      "source": [
        "result_Topic_max(corpus[15])"
      ],
      "metadata": {
        "colab": {
          "base_uri": "https://localhost:8080/"
        },
        "id": "LeUlpXbFB1dR",
        "outputId": "2db86924-8e6a-461d-9c75-91db23f34543"
      },
      "execution_count": 20,
      "outputs": [
        {
          "output_type": "stream",
          "name": "stdout",
          "text": [
            "Risultato di  The mayor of Kiev: 'The Russian war will not stop in Ukraine'\n"
          ]
        },
        {
          "output_type": "execute_result",
          "data": {
            "text/plain": [
              "[('concetto_8',\n",
              "  [('kiev', 0.2088064321713682),\n",
              "   ('mayor', 0.2088064321713682),\n",
              "   ('not_stop', 0.2088064321713682),\n",
              "   ('russian', 0.2088064321713682),\n",
              "   ('ukraine', 0.2088064321713682),\n",
              "   ('war', 0.2088064321713682),\n",
              "   ('willy', 0.19908508534554092),\n",
              "   ('bianchi', 0.19908508534554087),\n",
              "   ('courtroom', 0.19908508534554087),\n",
              "   ('didn', 0.19908508534554087)])]"
            ]
          },
          "metadata": {},
          "execution_count": 20
        }
      ]
    },
    {
      "cell_type": "markdown",
      "source": [
        "ORA FACCIO LA STESSA COSA APPLICANDO PERO' LDA"
      ],
      "metadata": {
        "id": "JZdy-qZaGwCq"
      }
    },
    {
      "cell_type": "code",
      "source": [
        "from gensim.models import LdaModel, HdpModel"
      ],
      "metadata": {
        "id": "Ql30OqjaLUZT"
      },
      "execution_count": 21,
      "outputs": []
    },
    {
      "cell_type": "code",
      "source": [
        "dictionary = gensim.corpora.Dictionary(post)\n",
        "corpus2 = [dictionary.doc2bow(text) for text in post]"
      ],
      "metadata": {
        "id": "fYvKy3HXUzCr"
      },
      "execution_count": 22,
      "outputs": []
    },
    {
      "cell_type": "code",
      "source": [
        "dictionary.token2id"
      ],
      "metadata": {
        "id": "lk7m6tbFU6zz"
      },
      "execution_count": null,
      "outputs": []
    },
    {
      "cell_type": "code",
      "source": [
        "tfidf = gensim.models.TfidfModel(corpus2)\n",
        "corpus_tfidf = tfidf[corpus2]"
      ],
      "metadata": {
        "id": "soKYpzebVdvk"
      },
      "execution_count": 24,
      "outputs": []
    },
    {
      "cell_type": "code",
      "source": [
        "list(corpus_tfidf)"
      ],
      "metadata": {
        "id": "RF6gQn8cZP1U"
      },
      "execution_count": null,
      "outputs": []
    },
    {
      "cell_type": "markdown",
      "source": [
        "più si esegue più è preciso"
      ],
      "metadata": {
        "id": "n1PyGsZRbnqF"
      }
    },
    {
      "cell_type": "code",
      "source": [
        "ldamodel = gensim.models.ldamodel.LdaModel(corpus2, num_topics=10, id2word=dictionary, passes=500)"
      ],
      "metadata": {
        "id": "HT3LePGNG1VK"
      },
      "execution_count": 27,
      "outputs": []
    },
    {
      "cell_type": "code",
      "source": [
        "topics = ldamodel.print_topics(num_words=5)\n",
        "for topic in topics:\n",
        "    print(topic)"
      ],
      "metadata": {
        "colab": {
          "base_uri": "https://localhost:8080/"
        },
        "id": "3e68B57aV2Ac",
        "outputId": "fc239cbd-b4a3-42c7-d0f9-e624c7c0cf0f"
      },
      "execution_count": 28,
      "outputs": [
        {
          "output_type": "stream",
          "name": "stdout",
          "text": [
            "(0, '0.050*\"fire\" + 0.026*\"courtroom\" + 0.026*\"didn\" + 0.026*\"traveler\" + 0.026*\"bianchi\"')\n",
            "(1, '0.038*\"new\" + 0.038*\"add\" + 0.038*\"york\" + 0.038*\"criminal\" + 0.038*\"attorney\"')\n",
            "(2, '0.033*\"money\" + 0.022*\"eu\" + 0.022*\"atm_give\" + 0.012*\"dynamic\" + 0.012*\"equation\"')\n",
            "(3, '0.027*\"kiev\" + 0.027*\"ukraine\" + 0.027*\"war\" + 0.027*\"not_stop\" + 0.027*\"mayor\"')\n",
            "(4, '0.070*\"not_happy\" + 0.036*\"not_good\" + 0.036*\"trump\" + 0.036*\"riot\" + 0.036*\"truth\"')\n",
            "(5, '0.054*\"massacre\" + 0.028*\"texas\" + 0.028*\"able\" + 0.028*\"dollar\" + 0.028*\"euro\"')\n",
            "(6, '0.054*\"ansa\" + 0.028*\"live\" + 0.028*\"question\" + 0.028*\"political\" + 0.028*\"michela\"')\n",
            "(7, '0.005*\"screen\" + 0.005*\"rapid\" + 0.005*\"flame\" + 0.005*\"fire\" + 0.005*\"extinguished\"')\n",
            "(8, '0.051*\"assault_rifle\" + 0.027*\"opportunity\" + 0.027*\"propensity\" + 0.027*\"investimenti\" + 0.027*\"limit\"')\n",
            "(9, '0.044*\"palestinian\" + 0.044*\"israeli\" + 0.044*\"united\" + 0.044*\"nation\" + 0.044*\"conflict\"')\n"
          ]
        }
      ]
    },
    {
      "cell_type": "code",
      "source": [
        "parole_valore=[]\n",
        "concetti_LDA={}\n",
        "for idx,lista_t in topics:\n",
        "  parole_valore=[]\n",
        "  tmp_p=re.sub('[\\\"]',\"\",lista_t)\n",
        "  tmp_p=tmp_p.split(' + ') \n",
        "  coppia=list(t.split('*') for t in tmp_p)\n",
        "  concetti_LDA['concetto_'+str(idx)]=[]\n",
        "  for valore,parola in coppia:\n",
        "    concetti_LDA['concetto_'+str(idx)].append((parola,valore))\n"
      ],
      "metadata": {
        "id": "AVWRfZ9ePwiZ"
      },
      "execution_count": 49,
      "outputs": []
    },
    {
      "cell_type": "code",
      "source": [
        "concetti_LDA"
      ],
      "metadata": {
        "colab": {
          "base_uri": "https://localhost:8080/"
        },
        "id": "5SgGCvoLDpZT",
        "outputId": "263b9f1a-8664-4fba-a457-87e810ef688b"
      },
      "execution_count": 50,
      "outputs": [
        {
          "output_type": "execute_result",
          "data": {
            "text/plain": [
              "{'concetto_0': [('fire', '0.050'),\n",
              "  ('courtroom', '0.026'),\n",
              "  ('didn', '0.026'),\n",
              "  ('traveler', '0.026'),\n",
              "  ('bianchi', '0.026')],\n",
              " 'concetto_1': [('new', '0.038'),\n",
              "  ('add', '0.038'),\n",
              "  ('york', '0.038'),\n",
              "  ('criminal', '0.038'),\n",
              "  ('attorney', '0.038')],\n",
              " 'concetto_2': [('money', '0.033'),\n",
              "  ('eu', '0.022'),\n",
              "  ('atm_give', '0.022'),\n",
              "  ('dynamic', '0.012'),\n",
              "  ('equation', '0.012')],\n",
              " 'concetto_3': [('kiev', '0.027'),\n",
              "  ('ukraine', '0.027'),\n",
              "  ('war', '0.027'),\n",
              "  ('not_stop', '0.027'),\n",
              "  ('mayor', '0.027')],\n",
              " 'concetto_4': [('not_happy', '0.070'),\n",
              "  ('not_good', '0.036'),\n",
              "  ('trump', '0.036'),\n",
              "  ('riot', '0.036'),\n",
              "  ('truth', '0.036')],\n",
              " 'concetto_5': [('massacre', '0.054'),\n",
              "  ('texas', '0.028'),\n",
              "  ('able', '0.028'),\n",
              "  ('dollar', '0.028'),\n",
              "  ('euro', '0.028')],\n",
              " 'concetto_6': [('ansa', '0.054'),\n",
              "  ('live', '0.028'),\n",
              "  ('question', '0.028'),\n",
              "  ('political', '0.028'),\n",
              "  ('michela', '0.028')],\n",
              " 'concetto_7': [('screen', '0.005'),\n",
              "  ('rapid', '0.005'),\n",
              "  ('flame', '0.005'),\n",
              "  ('fire', '0.005'),\n",
              "  ('extinguished', '0.005')],\n",
              " 'concetto_8': [('assault_rifle', '0.051'),\n",
              "  ('opportunity', '0.027'),\n",
              "  ('propensity', '0.027'),\n",
              "  ('investimenti', '0.027'),\n",
              "  ('limit', '0.027')],\n",
              " 'concetto_9': [('palestinian', '0.044'),\n",
              "  ('israeli', '0.044'),\n",
              "  ('united', '0.044'),\n",
              "  ('nation', '0.044'),\n",
              "  ('conflict', '0.044')]}"
            ]
          },
          "metadata": {},
          "execution_count": 50
        }
      ]
    },
    {
      "cell_type": "code",
      "source": [
        "concetti_LDA['concetto_1']"
      ],
      "metadata": {
        "colab": {
          "base_uri": "https://localhost:8080/"
        },
        "id": "Am9A4M7qRfE0",
        "outputId": "428e98dc-d6e5-414d-8585-1a8d9f991353"
      },
      "execution_count": null,
      "outputs": [
        {
          "output_type": "execute_result",
          "data": {
            "text/plain": [
              "[('screen', '0.005'),\n",
              " ('rapid', '0.005'),\n",
              " ('flame', '0.005'),\n",
              " ('fire', '0.005'),\n",
              " ('extinguished', '0.005')]"
            ]
          },
          "metadata": {},
          "execution_count": 361
        }
      ]
    },
    {
      "cell_type": "code",
      "source": [
        "def punteggioLDA(concetti_LDA,parole):\n",
        "  punteggi=dict()\n",
        "  for key in concetti_LDA.keys():\n",
        "    punteggio=0\n",
        "    for i in parole:\n",
        "      for concetto_parola,valore in concetti_LDA[key]:\n",
        "        if(i == concetto_parola):\n",
        "         punteggio+=float(valore)\n",
        "    punteggi[key]=punteggio\n",
        "  return punteggi"
      ],
      "metadata": {
        "id": "Op_ND174MdCn"
      },
      "execution_count": 30,
      "outputs": []
    },
    {
      "cell_type": "code",
      "source": [
        "punteggioLDA(concetti_LDA,parole)"
      ],
      "metadata": {
        "colab": {
          "base_uri": "https://localhost:8080/"
        },
        "id": "bnH8oobHFBqj",
        "outputId": "e9f6ae0a-d169-4e0d-d956-24a8f5597dda"
      },
      "execution_count": 31,
      "outputs": [
        {
          "output_type": "execute_result",
          "data": {
            "text/plain": [
              "{'concetto_0': 0.05,\n",
              " 'concetto_1': 0,\n",
              " 'concetto_2': 0,\n",
              " 'concetto_3': 0.054,\n",
              " 'concetto_4': 0,\n",
              " 'concetto_5': 0,\n",
              " 'concetto_6': 0,\n",
              " 'concetto_7': 0.005,\n",
              " 'concetto_8': 0,\n",
              " 'concetto_9': 0.044}"
            ]
          },
          "metadata": {},
          "execution_count": 31
        }
      ]
    },
    {
      "cell_type": "code",
      "source": [
        "def result_TopicLDA(corpus,concetti_LDA):\n",
        "  risultato = []\n",
        "  p=punteggioLDA(concetti_LDA,parole)\n",
        "  massimo = max(p.values())\n",
        "  print(\"Risultato di \", corpus)\n",
        "  for concetto,valore in p.items():\n",
        "    if valore == massimo:\n",
        "      risultato.append((concetto, concetti_LDA[concetto]))\n",
        "  return (risultato)"
      ],
      "metadata": {
        "id": "1FBYu2aCMVed"
      },
      "execution_count": 32,
      "outputs": []
    },
    {
      "cell_type": "code",
      "source": [
        "result_TopicLDA(corpus[14],concetti_LDA)"
      ],
      "metadata": {
        "colab": {
          "base_uri": "https://localhost:8080/"
        },
        "id": "CR-nCYYVMZnc",
        "outputId": "a93805ec-0a84-46c2-dbc3-2cd350a8a5c3"
      },
      "execution_count": 33,
      "outputs": [
        {
          "output_type": "stream",
          "name": "stdout",
          "text": [
            "Risultato di  Term of the day: Computational fluid dynamics Definition: The numerical solution of flow equations in practical problems such as aircraft design or hydraulic structures.\n"
          ]
        },
        {
          "output_type": "execute_result",
          "data": {
            "text/plain": [
              "[('concetto_3',\n",
              "  [('kiev', '0.027'),\n",
              "   ('ukraine', '0.027'),\n",
              "   ('war', '0.027'),\n",
              "   ('not_stop', '0.027'),\n",
              "   ('mayor', '0.027')])]"
            ]
          },
          "metadata": {},
          "execution_count": 33
        }
      ]
    },
    {
      "cell_type": "code",
      "source": [
        "pip install pyLDAvis"
      ],
      "metadata": {
        "id": "6V1mO7t1RlI1"
      },
      "execution_count": null,
      "outputs": []
    },
    {
      "cell_type": "code",
      "source": [
        "import pyLDAvis\n",
        "import pyLDAvis.gensim_models as gensimvis\n",
        "import pickle\n",
        "from gensim.corpora import Dictionary\n",
        "pyLDAvis.enable_notebook()\n",
        "\n",
        "#dictionary = Dictionary.load('dictionary.gensim')\n",
        "#corpus = pickle.load(open('corpus.pkl', 'rb'))\n",
        "\n",
        "#lda = gensim.models.ldamodel.LdaModel.load('model5.gensim')\n",
        "lda_display = gensimvis.prepare(ldamodel, corpus2, dictionary, sort_topics=False)\n",
        "\n",
        "pyLDAvis.display(lda_display)"
      ],
      "metadata": {
        "id": "TQdhjkM0YItr",
        "colab": {
          "base_uri": "https://localhost:8080/",
          "height": 916
        },
        "outputId": "6115cc7a-e7e3-4ed8-dc6f-973eb6ee5856"
      },
      "execution_count": 39,
      "outputs": [
        {
          "output_type": "stream",
          "name": "stderr",
          "text": [
            "/usr/local/lib/python3.7/dist-packages/pyLDAvis/_prepare.py:247: FutureWarning: In a future version of pandas all arguments of DataFrame.drop except for the argument 'labels' will be keyword-only\n",
            "  by='saliency', ascending=False).head(R).drop('saliency', 1)\n"
          ]
        },
        {
          "output_type": "execute_result",
          "data": {
            "text/plain": [
              "<IPython.core.display.HTML object>"
            ],
            "text/html": [
              "\n",
              "<link rel=\"stylesheet\" type=\"text/css\" href=\"https://cdn.jsdelivr.net/gh/bmabey/pyLDAvis@3.3.1/pyLDAvis/js/ldavis.v1.0.0.css\">\n",
              "\n",
              "\n",
              "<div id=\"ldavis_el591405171999511849156042748\"></div>\n",
              "<script type=\"text/javascript\">\n",
              "\n",
              "var ldavis_el591405171999511849156042748_data = {\"mdsDat\": {\"x\": [-0.0680210262298523, 0.011659989595292417, 0.20518075444640782, -0.046937261622814364, -0.0034132647222432475, -0.020355071422703118, -0.052460457596181474, 0.015440007062962318, -0.04996418841911177, 0.008870518908243736], \"y\": [-0.10543502871869302, -0.00028122786737121597, -0.015124956283437012, -0.010623371949975485, -0.011852353581252148, 0.07968965779376305, -0.06313832226782498, -0.00019697589063727265, 0.12607551890826466, 0.0008870598571633201], \"topics\": [1, 2, 3, 4, 5, 6, 7, 8, 9, 10], \"cluster\": [1, 1, 1, 1, 1, 1, 1, 1, 1, 1], \"Freq\": [10.48492325378316, 5.0732427835759255, 34.94255078001995, 9.935956701935002, 5.550369656954702, 9.860122898132797, 9.860125649788213, 0.7026116559482718, 10.41495738817526, 3.1751392316867166]}, \"tinfo\": {\"Term\": [\"not_happy\", \"ansa\", \"massacre\", \"assault_rifle\", \"fire\", \"trump\", \"new\", \"not_good\", \"israeli\", \"conflict\", \"nation\", \"palestinian\", \"united\", \"stuck\", \"live\", \"texas\", \"add\", \"attorney\", \"probe\", \"general\", \"organization\", \"criminal\", \"york\", \"capacity\", \"force\", \"capitol\", \"riot\", \"pick\", \"vote\", \"truth\", \"fire\", \"agrees\", \"allow\", \"entry\", \"not_eu\", \"traveler\", \"vaccinated\", \"bianchi\", \"courtroom\", \"didn\", \"finger\", \"murder\", \"t\", \"touch\", \"willy\", \"extinguished\", \"flame\", \"island\", \"night\", \"stromboli\", \"not_good\", \"ansa\", \"conflict\", \"israeli\", \"nation\", \"palestinian\", \"stuck\", \"united\", \"add\", \"attorney\", \"capitol\", \"force\", \"not_happy\", \"pick\", \"republican\", \"riot\", \"trump\", \"truth\", \"add\", \"attorney\", \"capacity\", \"criminal\", \"general\", \"organization\", \"probe\", \"york\", \"trump\", \"new\", \"conflict\", \"israeli\", \"nation\", \"palestinian\", \"stuck\", \"united\", \"capitol\", \"force\", \"pick\", \"republican\", \"riot\", \"truth\", \"vote\", \"cardone\", \"close\", \"de\", \"deulofeu\", \"enrico\", \"final\", \"fiorentina\", \"not_good\", \"not_happy\", \"agrees\", \"allow\", \"entry\", \"not_eu\", \"traveler\", \"vaccinated\", \"money\", \"atm_give\", \"eu\", \"account\", \"accusation\", \"beach\", \"behave\", \"clear\", \"commission\", \"etc\", \"european\", \"give\", \"given\", \"land\", \"people\", \"pnrr\", \"public\", \"recent\", \"registry\", \"resort\", \"s\", \"silent\", \"think\", \"appearing\", \"communicated\", \"event\", \"follow\", \"hospital\", \"lombardy\", \"positive\", \"kiev\", \"mayor\", \"not_stop\", \"russian\", \"ukraine\", \"war\", \"cardone\", \"close\", \"de\", \"deulofeu\", \"enrico\", \"final\", \"fiorentina\", \"giulio\", \"juve\", \"lellis\", \"market\", \"napoli\", \"pogba\", \"transfer\", \"live\", \"conflict\", \"israeli\", \"nation\", \"palestinian\", \"stuck\", \"united\", \"add\", \"attorney\", \"capacity\", \"capitol\", \"force\", \"not_good\", \"not_happy\", \"pick\", \"republican\", \"riot\", \"trump\", \"truth\", \"not_happy\", \"capitol\", \"force\", \"pick\", \"republican\", \"riot\", \"truth\", \"vote\", \"trump\", \"not_good\", \"conflict\", \"israeli\", \"nation\", \"palestinian\", \"stuck\", \"united\", \"add\", \"attorney\", \"capacity\", \"criminal\", \"general\", \"organization\", \"probe\", \"york\", \"cardone\", \"close\", \"de\", \"deulofeu\", \"enrico\", \"final\", \"agrees\", \"allow\", \"entry\", \"not_eu\", \"traveler\", \"vaccinated\", \"new\", \"massacre\", \"buy\", \"dollar\", \"elementary\", \"euro\", \"killer\", \"not_far\", \"ramos\", \"restaurant\", \"salvador\", \"save\", \"scene\", \"school\", \"thousand\", \"uvalde\", \"weapon\", \"worked\", \"texas\", \"able\", \"conflict\", \"israeli\", \"nation\", \"palestinian\", \"stuck\", \"united\", \"add\", \"attorney\", \"capacity\", \"criminal\", \"general\", \"capitol\", \"force\", \"not_good\", \"not_happy\", \"pick\", \"republican\", \"riot\", \"trump\", \"truth\", \"vote\", \"agrees\", \"colleague\", \"contu\", \"director\", \"editorial\", \"forum\", \"lega\", \"luigi\", \"matteo\", \"michela\", \"parliamentary\", \"political\", \"question\", \"responds\", \"salvini\", \"secretary\", \"staff\", \"suglia\", \"ansa\", \"live\", \"conflict\", \"israeli\", \"nation\", \"palestinian\", \"stuck\", \"united\", \"add\", \"attorney\", \"capacity\", \"criminal\", \"general\", \"capitol\", \"force\", \"not_good\", \"not_happy\", \"pick\", \"republican\", \"riot\", \"trump\", \"truth\", \"vote\", \"agrees\", \"conflict\", \"israeli\", \"nation\", \"palestinian\", \"stuck\", \"united\", \"add\", \"attorney\", \"capacity\", \"criminal\", \"general\", \"organization\", \"probe\", \"york\", \"capitol\", \"force\", \"pick\", \"republican\", \"riot\", \"truth\", \"vote\", \"cardone\", \"close\", \"de\", \"deulofeu\", \"enrico\", \"final\", \"fiorentina\", \"giulio\", \"juve\", \"not_good\", \"not_happy\", \"trump\", \"agrees\", \"allow\", \"entry\", \"not_eu\", \"traveler\", \"vaccinated\", \"new\", \"assault_rifle\", \"aziende\", \"carefully\", \"change\", \"circular\", \"costi\", \"economia\", \"environmental\", \"flessibilit\\u00e0\", \"gestione\", \"investimenti\", \"limit\", \"opportunity\", \"perspective\", \"propensity\", \"rapid\", \"screen\", \"hand\", \"old\", \"year\", \"texas\", \"conflict\", \"israeli\", \"nation\", \"palestinian\", \"stuck\", \"united\", \"add\", \"attorney\", \"capacity\", \"capitol\", \"force\", \"not_good\", \"not_happy\", \"pick\", \"republican\", \"riot\", \"trump\", \"truth\", \"conflict\", \"israeli\", \"nation\", \"palestinian\", \"stuck\", \"united\", \"add\", \"attorney\", \"capacity\", \"criminal\", \"general\", \"organization\", \"probe\", \"york\", \"capitol\", \"force\", \"pick\", \"republican\", \"riot\", \"truth\", \"vote\", \"cardone\", \"close\", \"de\", \"deulofeu\", \"enrico\", \"final\", \"fiorentina\", \"giulio\", \"juve\", \"not_good\", \"not_happy\", \"trump\", \"agrees\", \"allow\", \"entry\", \"not_eu\", \"traveler\", \"vaccinated\", \"new\"], \"Freq\": [1.0, 2.0, 1.0, 1.0, 1.0, 1.0, 1.0, 1.0, 0.0, 0.0, 0.0, 0.0, 0.0, 0.0, 1.0, 1.0, 0.0, 0.0, 0.0, 0.0, 0.0, 0.0, 0.0, 0.0, 0.0, 0.0, 0.0, 0.0, 0.0, 0.0, 1.0852643060403133, 0.5684718954166084, 0.5684718954166084, 0.5684718954166084, 0.5684718954166084, 0.5684718954166084, 0.5684718954166084, 0.5684718954166084, 0.5684718954166084, 0.5684718954166084, 0.5684718954166084, 0.5684718954166084, 0.5684718954166084, 0.5684718954166084, 0.5684718954166084, 0.5684715704425645, 0.5684715704425645, 0.5684715704425645, 0.5684715704425645, 0.5684715704425645, 0.5684694987330347, 0.5684668176971724, 0.05167926137324824, 0.05167926137324824, 0.05167926137324824, 0.05167926137324824, 0.05167926137324824, 0.05167926137324824, 0.05167926137324824, 0.05167926137324824, 0.05167926137324824, 0.05167926137324824, 0.05167926137324824, 0.05167926137324824, 0.05167926137324824, 0.05167926137324824, 0.05167926137324824, 0.05167926137324824, 0.39751975711379745, 0.39751975711379745, 0.39751975711379745, 0.39751975711379745, 0.39751975711379745, 0.39751975711379745, 0.39751975711379745, 0.39751975711379745, 0.3975195998716143, 0.39752129022508365, 0.03613816509814692, 0.03613816509814692, 0.03613816509814692, 0.03613816509814692, 0.03613816509814692, 0.03613816509814692, 0.03613816509814692, 0.03613816509814692, 0.03613816509814692, 0.03613816509814692, 0.03613816509814692, 0.03613816509814692, 0.03613816509814692, 0.03613816509814692, 0.03613816509814692, 0.03613816509814692, 0.03613816509814692, 0.03613816509814692, 0.03613816509814692, 0.03613816509814692, 0.03613816509814692, 0.03613816509814692, 0.03613816509814692, 0.03613816509814692, 0.03613816509814692, 0.03613816509814692, 0.03613816509814692, 0.03613816509814692, 2.391821637949949, 1.6202662359330668, 1.6202662359330668, 0.8487108339161846, 0.8487108339161846, 0.8487108339161846, 0.8487108339161846, 0.8487108339161846, 0.8487108339161846, 0.8487108339161846, 0.8487108339161846, 0.8487108339161846, 0.8487108339161846, 0.8487108339161846, 0.8487108339161846, 0.8487108339161846, 0.8487108339161846, 0.8487108339161846, 0.8487108339161846, 0.8487108339161846, 0.8487108339161846, 0.8487108339161846, 0.8487108339161846, 0.8487108339161846, 0.8487108339161846, 0.8487108339161846, 0.8487108339161846, 0.8487108339161846, 0.8487108339161846, 0.8487108339161846, 0.5655092325068571, 0.5655092325068571, 0.5655092325068571, 0.5655092325068571, 0.5655092325068571, 0.5655092325068571, 0.5655091940119636, 0.5655091940119636, 0.5655091940119636, 0.5655091940119636, 0.5655091940119636, 0.5655091940119636, 0.5655091940119636, 0.5655091940119636, 0.5655091940119636, 0.5655091940119636, 0.5655091940119636, 0.5655091940119636, 0.5655091940119636, 0.5655091940119636, 0.5655088860528159, 0.051409930227896104, 0.051409930227896104, 0.051409930227896104, 0.051409930227896104, 0.051409930227896104, 0.051409930227896104, 0.051409930227896104, 0.051409930227896104, 0.051409930227896104, 0.051409930227896104, 0.051409930227896104, 0.051409930227896104, 0.051409930227896104, 0.051409930227896104, 0.051409930227896104, 0.051409930227896104, 0.051409930227896104, 0.051409930227896104, 0.8027816463229787, 0.42050473946685635, 0.42050473946685635, 0.42050473946685635, 0.42050473946685635, 0.42050473946685635, 0.42050473946685635, 0.42050473946685635, 0.42050473946685635, 0.4205063737561377, 0.03822770358789603, 0.03822770358789603, 0.03822770358789603, 0.03822770358789603, 0.03822770358789603, 0.03822770358789603, 0.03822770358789603, 0.03822770358789603, 0.03822770358789603, 0.03822770358789603, 0.03822770358789603, 0.03822770358789603, 0.03822770358789603, 0.03822770358789603, 0.03822770358789603, 0.03822770358789603, 0.03822770358789603, 0.03822770358789603, 0.03822770358789603, 0.03822770358789603, 0.03822770358789603, 0.03822770358789603, 0.03822770358789603, 0.03822770358789603, 0.03822770358789603, 0.03822770358789603, 0.03822770358789603, 1.0986985059900747, 0.575509054118018, 0.575509054118018, 0.575509054118018, 0.575509054118018, 0.575509054118018, 0.575509054118018, 0.575509054118018, 0.575509054118018, 0.575509054118018, 0.575509054118018, 0.575509054118018, 0.575509054118018, 0.575509054118018, 0.575509054118018, 0.575509054118018, 0.575509054118018, 0.5755112315801729, 0.5755107349659973, 0.05231901012905942, 0.05231901012905942, 0.05231901012905942, 0.05231901012905942, 0.05231901012905942, 0.05231901012905942, 0.05231901012905942, 0.05231901012905942, 0.05231901012905942, 0.05231901012905942, 0.05231901012905942, 0.05231901012905942, 0.05231901012905942, 0.05231901012905942, 0.05231901012905942, 0.05231901012905942, 0.05231901012905942, 0.05231901012905942, 0.05231901012905942, 0.05231901012905942, 0.05231901012905942, 0.05231901012905942, 0.5755091001214963, 0.5755091001214963, 0.5755091001214963, 0.5755091001214963, 0.5755091001214963, 0.5755091001214963, 0.5755091001214963, 0.5755091001214963, 0.5755091001214963, 0.5755091001214963, 0.5755091001214963, 0.5755091001214963, 0.5755091001214963, 0.5755091001214963, 0.5755091001214963, 0.5755091001214963, 0.5755091001214963, 1.098704313561413, 0.5755095967358106, 0.05231902472967739, 0.05231902472967739, 0.05231902472967739, 0.05231902472967739, 0.05231902472967739, 0.05231902472967739, 0.05231902472967739, 0.05231902472967739, 0.05231902472967739, 0.05231902472967739, 0.05231902472967739, 0.05231902472967739, 0.05231902472967739, 0.05231902472967739, 0.05231902472967739, 0.05231902472967739, 0.05231902472967739, 0.05231902472967739, 0.05231902472967739, 0.05231902472967739, 0.05231902472967739, 0.05231902472967739, 0.007611624631782647, 0.007611624631782647, 0.007611624631782647, 0.007611624631782647, 0.007611624631782647, 0.007611624631782647, 0.007611624631782647, 0.007611624631782647, 0.007611624631782647, 0.007611624631782647, 0.007611624631782647, 0.007611624631782647, 0.007611624631782647, 0.007611624631782647, 0.007611624631782647, 0.007611624631782647, 0.007611624631782647, 0.007611624631782647, 0.007611624631782647, 0.007611624631782647, 0.007611624631782647, 0.007611624631782647, 0.007611624631782647, 0.007611624631782647, 0.007611624631782647, 0.007611624631782647, 0.007611624631782647, 0.007611624631782647, 0.007611624631782647, 0.007611624631782647, 0.007611624631782647, 0.007611624631782647, 0.007611624631782647, 0.007611624631782647, 0.007611624631782647, 0.007611624631782647, 0.007611624631782647, 0.007611624631782647, 0.007611624631782647, 0.007611624631782647, 1.104187904289194, 0.5783841192058847, 0.5783841192058847, 0.5783841192058847, 0.5783841192058847, 0.5783841192058847, 0.5783841192058847, 0.5783841192058847, 0.5783841192058847, 0.5783841192058847, 0.5783841192058847, 0.5783841192058847, 0.5783841192058847, 0.5783841192058847, 0.5783841192058847, 0.5783841192058847, 0.5783841192058847, 0.5783839578031383, 0.5783839578031383, 0.5783839578031383, 0.5783817788660609, 0.05258037951709808, 0.05258037951709808, 0.05258037951709808, 0.05258037951709808, 0.05258037951709808, 0.05258037951709808, 0.05258037951709808, 0.05258037951709808, 0.05258037951709808, 0.05258037951709808, 0.05258037951709808, 0.05258037951709808, 0.05258037951709808, 0.05258037951709808, 0.05258037951709808, 0.05258037951709808, 0.05258037951709808, 0.05258037951709808, 0.2882824216437384, 0.2882824216437384, 0.2882824216437384, 0.2882824216437384, 0.2882824216437384, 0.2882824216437384, 0.02620749511333025, 0.02620749511333025, 0.02620749511333025, 0.02620749511333025, 0.02620749511333025, 0.02620749511333025, 0.02620749511333025, 0.02620749511333025, 0.02620749511333025, 0.02620749511333025, 0.02620749511333025, 0.02620749511333025, 0.02620749511333025, 0.02620749511333025, 0.02620749511333025, 0.02620749511333025, 0.02620749511333025, 0.02620749511333025, 0.02620749511333025, 0.02620749511333025, 0.02620749511333025, 0.02620749511333025, 0.02620749511333025, 0.02620749511333025, 0.02620749511333025, 0.02620749511333025, 0.02620749511333025, 0.02620749511333025, 0.02620749511333025, 0.02620749511333025, 0.02620749511333025, 0.02620749511333025, 0.02620749511333025, 0.02620749511333025], \"Total\": [1.0, 2.0, 1.0, 1.0, 1.0, 1.0, 1.0, 1.0, 0.0, 0.0, 0.0, 0.0, 0.0, 0.0, 1.0, 1.0, 0.0, 0.0, 0.0, 0.0, 0.0, 0.0, 0.0, 0.0, 0.0, 0.0, 0.0, 0.0, 0.0, 0.0, 1.479233172507989, 0.9624407618842843, 0.9624407618842843, 0.9624407618842843, 0.9624407618842843, 0.9624407618842843, 0.9624407618842843, 0.9624407618842843, 0.9624407618842843, 0.9624407618842843, 0.9624407618842843, 0.9624407618842843, 0.9624407618842843, 0.9624407618842843, 0.9624407618842843, 0.9624404369102404, 0.9624404369102404, 0.9624404369102404, 0.9624404369102404, 0.9624404369102404, 1.3447170353689522, 2.008820972996584, 0.7077230543713324, 0.7077230543713324, 0.7077230543713324, 0.7077230543713324, 0.7077230543713324, 0.7077230543713324, 0.8070297198565747, 0.8070297198565747, 0.8279251637198844, 0.8279251637198844, 1.2102020705760066, 0.8279251637198844, 0.8279251637198844, 0.8279251637198844, 1.1893065984933517, 0.8279251637198844, 0.8070297198565747, 0.8070297198565747, 0.8070297198565747, 0.8070297198565747, 0.8070297198565747, 0.8070297198565747, 0.8070297198565747, 0.8070297198565747, 1.1893065984933517, 1.5785831690017005, 0.7077230543713324, 0.7077230543713324, 0.7077230543713324, 0.7077230543713324, 0.7077230543713324, 0.7077230543713324, 0.8279251637198844, 0.8279251637198844, 0.8279251637198844, 0.8279251637198844, 0.8279251637198844, 0.8279251637198844, 0.8279251637198844, 0.9597473916249917, 0.9597473916249917, 0.9597473916249917, 0.9597473916249917, 0.9597473916249917, 0.9597473916249917, 0.9597473916249917, 1.3447170353689522, 1.2102020705760066, 0.9624407618842843, 0.9624407618842843, 0.9624407618842843, 0.9624407618842843, 0.9624407618842843, 0.9624407618842843, 2.760314232358084, 1.9887588303412016, 1.9887588303412016, 1.2172034283243194, 1.2172034283243194, 1.2172034283243194, 1.2172034283243194, 1.2172034283243194, 1.2172034283243194, 1.2172034283243194, 1.2172034283243194, 1.2172034283243194, 1.2172034283243194, 1.2172034283243194, 1.2172034283243194, 1.2172034283243194, 1.2172034283243194, 1.2172034283243194, 1.2172034283243194, 1.2172034283243194, 1.2172034283243194, 1.2172034283243194, 1.2172034283243194, 1.2172034283243194, 1.2172034283243194, 1.2172034283243194, 1.2172034283243194, 1.2172034283243194, 1.2172034283243194, 1.2172034283243194, 0.9597474301198852, 0.9597474301198852, 0.9597474301198852, 0.9597474301198852, 0.9597474301198852, 0.9597474301198852, 0.9597473916249917, 0.9597473916249917, 0.9597473916249917, 0.9597473916249917, 0.9597473916249917, 0.9597473916249917, 0.9597473916249917, 0.9597473916249917, 0.9597473916249917, 0.9597473916249917, 0.9597473916249917, 0.9597473916249917, 0.9597473916249917, 0.9597473916249917, 1.4829376556719769, 0.7077230543713324, 0.7077230543713324, 0.7077230543713324, 0.7077230543713324, 0.7077230543713324, 0.7077230543713324, 0.8070297198565747, 0.8070297198565747, 0.8070297198565747, 0.8279251637198844, 0.8279251637198844, 1.3447170353689522, 1.2102020705760066, 0.8279251637198844, 0.8279251637198844, 0.8279251637198844, 1.1893065984933517, 0.8279251637198844, 1.2102020705760066, 0.8279251637198844, 0.8279251637198844, 0.8279251637198844, 0.8279251637198844, 0.8279251637198844, 0.8279251637198844, 0.8279251637198844, 1.1893065984933517, 1.3447170353689522, 0.7077230543713324, 0.7077230543713324, 0.7077230543713324, 0.7077230543713324, 0.7077230543713324, 0.7077230543713324, 0.8070297198565747, 0.8070297198565747, 0.8070297198565747, 0.8070297198565747, 0.8070297198565747, 0.8070297198565747, 0.8070297198565747, 0.8070297198565747, 0.9597473916249917, 0.9597473916249917, 0.9597473916249917, 0.9597473916249917, 0.9597473916249917, 0.9597473916249917, 0.9624407618842843, 0.9624407618842843, 0.9624407618842843, 0.9624407618842843, 0.9624407618842843, 0.9624407618842843, 1.5785831690017005, 1.4920276237019394, 0.9688381718298827, 0.9688381718298827, 0.9688381718298827, 0.9688381718298827, 0.9688381718298827, 0.9688381718298827, 0.9688381718298827, 0.9688381718298827, 0.9688381718298827, 0.9688381718298827, 0.9688381718298827, 0.9688381718298827, 0.9688381718298827, 0.9688381718298827, 0.9688381718298827, 0.9688381718298827, 1.4946417486410004, 1.7403926486685861, 0.7077230543713324, 0.7077230543713324, 0.7077230543713324, 0.7077230543713324, 0.7077230543713324, 0.7077230543713324, 0.8070297198565747, 0.8070297198565747, 0.8070297198565747, 0.8070297198565747, 0.8070297198565747, 0.8279251637198844, 0.8279251637198844, 1.3447170353689522, 1.2102020705760066, 0.8279251637198844, 0.8279251637198844, 0.8279251637198844, 1.1893065984933517, 0.8279251637198844, 0.8279251637198844, 0.9624407618842843, 0.9688382032327431, 0.9688382032327431, 0.9688382032327431, 0.9688382032327431, 0.9688382032327431, 0.9688382032327431, 0.9688382032327431, 0.9688382032327431, 0.9688382032327431, 0.9688382032327431, 0.9688382032327431, 0.9688382032327431, 0.9688382032327431, 0.9688382032327431, 0.9688382032327431, 0.9688382032327431, 0.9688382032327431, 2.008820972996584, 1.4829376556719769, 0.7077230543713324, 0.7077230543713324, 0.7077230543713324, 0.7077230543713324, 0.7077230543713324, 0.7077230543713324, 0.8070297198565747, 0.8070297198565747, 0.8070297198565747, 0.8070297198565747, 0.8070297198565747, 0.8279251637198844, 0.8279251637198844, 1.3447170353689522, 1.2102020705760066, 0.8279251637198844, 0.8279251637198844, 0.8279251637198844, 1.1893065984933517, 0.8279251637198844, 0.8279251637198844, 0.9624407618842843, 0.7077230543713324, 0.7077230543713324, 0.7077230543713324, 0.7077230543713324, 0.7077230543713324, 0.7077230543713324, 0.8070297198565747, 0.8070297198565747, 0.8070297198565747, 0.8070297198565747, 0.8070297198565747, 0.8070297198565747, 0.8070297198565747, 0.8070297198565747, 0.8279251637198844, 0.8279251637198844, 0.8279251637198844, 0.8279251637198844, 0.8279251637198844, 0.8279251637198844, 0.8279251637198844, 0.9597473916249917, 0.9597473916249917, 0.9597473916249917, 0.9597473916249917, 0.9597473916249917, 0.9597473916249917, 0.9597473916249917, 0.9597473916249917, 0.9597473916249917, 1.3447170353689522, 1.2102020705760066, 1.1893065984933517, 0.9624407618842843, 0.9624407618842843, 0.9624407618842843, 0.9624407618842843, 0.9624407618842843, 0.9624407618842843, 1.5785831690017005, 1.49725565261302, 0.9714518675297108, 0.9714518675297108, 0.9714518675297108, 0.9714518675297108, 0.9714518675297108, 0.9714518675297108, 0.9714518675297108, 0.9714518675297108, 0.9714518675297108, 0.9714518675297108, 0.9714518675297108, 0.9714518675297108, 0.9714518675297108, 0.9714518675297108, 0.9714518675297108, 0.9714518675297108, 0.9714517061269644, 0.9714517061269644, 0.9714517061269644, 1.4946417486410004, 0.7077230543713324, 0.7077230543713324, 0.7077230543713324, 0.7077230543713324, 0.7077230543713324, 0.7077230543713324, 0.8070297198565747, 0.8070297198565747, 0.8070297198565747, 0.8279251637198844, 0.8279251637198844, 1.3447170353689522, 1.2102020705760066, 0.8279251637198844, 0.8279251637198844, 0.8279251637198844, 1.1893065984933517, 0.8279251637198844, 0.7077230543713324, 0.7077230543713324, 0.7077230543713324, 0.7077230543713324, 0.7077230543713324, 0.7077230543713324, 0.8070297198565747, 0.8070297198565747, 0.8070297198565747, 0.8070297198565747, 0.8070297198565747, 0.8070297198565747, 0.8070297198565747, 0.8070297198565747, 0.8279251637198844, 0.8279251637198844, 0.8279251637198844, 0.8279251637198844, 0.8279251637198844, 0.8279251637198844, 0.8279251637198844, 0.9597473916249917, 0.9597473916249917, 0.9597473916249917, 0.9597473916249917, 0.9597473916249917, 0.9597473916249917, 0.9597473916249917, 0.9597473916249917, 0.9597473916249917, 1.3447170353689522, 1.2102020705760066, 1.1893065984933517, 0.9624407618842843, 0.9624407618842843, 0.9624407618842843, 0.9624407618842843, 0.9624407618842843, 0.9624407618842843, 1.5785831690017005], \"Category\": [\"Default\", \"Default\", \"Default\", \"Default\", \"Default\", \"Default\", \"Default\", \"Default\", \"Default\", \"Default\", \"Default\", \"Default\", \"Default\", \"Default\", \"Default\", \"Default\", \"Default\", \"Default\", \"Default\", \"Default\", \"Default\", \"Default\", \"Default\", \"Default\", \"Default\", \"Default\", \"Default\", \"Default\", \"Default\", \"Default\", \"Topic1\", \"Topic1\", \"Topic1\", \"Topic1\", \"Topic1\", \"Topic1\", \"Topic1\", \"Topic1\", \"Topic1\", \"Topic1\", \"Topic1\", \"Topic1\", \"Topic1\", \"Topic1\", \"Topic1\", \"Topic1\", \"Topic1\", \"Topic1\", \"Topic1\", \"Topic1\", \"Topic1\", \"Topic1\", \"Topic1\", \"Topic1\", \"Topic1\", \"Topic1\", \"Topic1\", \"Topic1\", \"Topic1\", \"Topic1\", \"Topic1\", \"Topic1\", \"Topic1\", \"Topic1\", \"Topic1\", \"Topic1\", \"Topic1\", \"Topic1\", \"Topic2\", \"Topic2\", \"Topic2\", \"Topic2\", \"Topic2\", \"Topic2\", \"Topic2\", \"Topic2\", \"Topic2\", \"Topic2\", \"Topic2\", \"Topic2\", \"Topic2\", \"Topic2\", \"Topic2\", \"Topic2\", \"Topic2\", \"Topic2\", \"Topic2\", \"Topic2\", \"Topic2\", \"Topic2\", \"Topic2\", \"Topic2\", \"Topic2\", \"Topic2\", \"Topic2\", \"Topic2\", \"Topic2\", \"Topic2\", \"Topic2\", \"Topic2\", \"Topic2\", \"Topic2\", \"Topic2\", \"Topic2\", \"Topic2\", \"Topic2\", \"Topic3\", \"Topic3\", \"Topic3\", \"Topic3\", \"Topic3\", \"Topic3\", \"Topic3\", \"Topic3\", \"Topic3\", \"Topic3\", \"Topic3\", \"Topic3\", \"Topic3\", \"Topic3\", \"Topic3\", \"Topic3\", \"Topic3\", \"Topic3\", \"Topic3\", \"Topic3\", \"Topic3\", \"Topic3\", \"Topic3\", \"Topic3\", \"Topic3\", \"Topic3\", \"Topic3\", \"Topic3\", \"Topic3\", \"Topic3\", \"Topic4\", \"Topic4\", \"Topic4\", \"Topic4\", \"Topic4\", \"Topic4\", \"Topic4\", \"Topic4\", \"Topic4\", \"Topic4\", \"Topic4\", \"Topic4\", \"Topic4\", \"Topic4\", \"Topic4\", \"Topic4\", \"Topic4\", \"Topic4\", \"Topic4\", \"Topic4\", \"Topic4\", \"Topic4\", \"Topic4\", \"Topic4\", \"Topic4\", \"Topic4\", \"Topic4\", \"Topic4\", \"Topic4\", \"Topic4\", \"Topic4\", \"Topic4\", \"Topic4\", \"Topic4\", \"Topic4\", \"Topic4\", \"Topic4\", \"Topic4\", \"Topic4\", \"Topic5\", \"Topic5\", \"Topic5\", \"Topic5\", \"Topic5\", \"Topic5\", \"Topic5\", \"Topic5\", \"Topic5\", \"Topic5\", \"Topic5\", \"Topic5\", \"Topic5\", \"Topic5\", \"Topic5\", \"Topic5\", \"Topic5\", \"Topic5\", \"Topic5\", \"Topic5\", \"Topic5\", \"Topic5\", \"Topic5\", \"Topic5\", \"Topic5\", \"Topic5\", \"Topic5\", \"Topic5\", \"Topic5\", \"Topic5\", \"Topic5\", \"Topic5\", \"Topic5\", \"Topic5\", \"Topic5\", \"Topic5\", \"Topic5\", \"Topic6\", \"Topic6\", \"Topic6\", \"Topic6\", \"Topic6\", \"Topic6\", \"Topic6\", \"Topic6\", \"Topic6\", \"Topic6\", \"Topic6\", \"Topic6\", \"Topic6\", \"Topic6\", \"Topic6\", \"Topic6\", \"Topic6\", \"Topic6\", \"Topic6\", \"Topic6\", \"Topic6\", \"Topic6\", \"Topic6\", \"Topic6\", \"Topic6\", \"Topic6\", \"Topic6\", \"Topic6\", \"Topic6\", \"Topic6\", \"Topic6\", \"Topic6\", \"Topic6\", \"Topic6\", \"Topic6\", \"Topic6\", \"Topic6\", \"Topic6\", \"Topic6\", \"Topic6\", \"Topic6\", \"Topic7\", \"Topic7\", \"Topic7\", \"Topic7\", \"Topic7\", \"Topic7\", \"Topic7\", \"Topic7\", \"Topic7\", \"Topic7\", \"Topic7\", \"Topic7\", \"Topic7\", \"Topic7\", \"Topic7\", \"Topic7\", \"Topic7\", \"Topic7\", \"Topic7\", \"Topic7\", \"Topic7\", \"Topic7\", \"Topic7\", \"Topic7\", \"Topic7\", \"Topic7\", \"Topic7\", \"Topic7\", \"Topic7\", \"Topic7\", \"Topic7\", \"Topic7\", \"Topic7\", \"Topic7\", \"Topic7\", \"Topic7\", \"Topic7\", \"Topic7\", \"Topic7\", \"Topic7\", \"Topic7\", \"Topic8\", \"Topic8\", \"Topic8\", \"Topic8\", \"Topic8\", \"Topic8\", \"Topic8\", \"Topic8\", \"Topic8\", \"Topic8\", \"Topic8\", \"Topic8\", \"Topic8\", \"Topic8\", \"Topic8\", \"Topic8\", \"Topic8\", \"Topic8\", \"Topic8\", \"Topic8\", \"Topic8\", \"Topic8\", \"Topic8\", \"Topic8\", \"Topic8\", \"Topic8\", \"Topic8\", \"Topic8\", \"Topic8\", \"Topic8\", \"Topic8\", \"Topic8\", \"Topic8\", \"Topic8\", \"Topic8\", \"Topic8\", \"Topic8\", \"Topic8\", \"Topic8\", \"Topic8\", \"Topic9\", \"Topic9\", \"Topic9\", \"Topic9\", \"Topic9\", \"Topic9\", \"Topic9\", \"Topic9\", \"Topic9\", \"Topic9\", \"Topic9\", \"Topic9\", \"Topic9\", \"Topic9\", \"Topic9\", \"Topic9\", \"Topic9\", \"Topic9\", \"Topic9\", \"Topic9\", \"Topic9\", \"Topic9\", \"Topic9\", \"Topic9\", \"Topic9\", \"Topic9\", \"Topic9\", \"Topic9\", \"Topic9\", \"Topic9\", \"Topic9\", \"Topic9\", \"Topic9\", \"Topic9\", \"Topic9\", \"Topic9\", \"Topic9\", \"Topic9\", \"Topic9\", \"Topic10\", \"Topic10\", \"Topic10\", \"Topic10\", \"Topic10\", \"Topic10\", \"Topic10\", \"Topic10\", \"Topic10\", \"Topic10\", \"Topic10\", \"Topic10\", \"Topic10\", \"Topic10\", \"Topic10\", \"Topic10\", \"Topic10\", \"Topic10\", \"Topic10\", \"Topic10\", \"Topic10\", \"Topic10\", \"Topic10\", \"Topic10\", \"Topic10\", \"Topic10\", \"Topic10\", \"Topic10\", \"Topic10\", \"Topic10\", \"Topic10\", \"Topic10\", \"Topic10\", \"Topic10\", \"Topic10\", \"Topic10\", \"Topic10\", \"Topic10\", \"Topic10\", \"Topic10\"], \"logprob\": [30.0, 29.0, 28.0, 27.0, 26.0, 25.0, 24.0, 23.0, 22.0, 21.0, 20.0, 19.0, 18.0, 17.0, 16.0, 15.0, 14.0, 13.0, 12.0, 11.0, 10.0, 9.0, 8.0, 7.0, 6.0, 5.0, 4.0, 3.0, 2.0, 1.0, -3.0005, -3.6471, -3.6471, -3.6471, -3.6471, -3.6471, -3.6471, -3.6471, -3.6471, -3.6471, -3.6471, -3.6471, -3.6471, -3.6471, -3.6471, -3.6471, -3.6471, -3.6471, -3.6471, -3.6471, -3.6471, -3.6471, -6.045, -6.045, -6.045, -6.045, -6.045, -6.045, -6.045, -6.045, -6.045, -6.045, -6.045, -6.045, -6.045, -6.045, -6.045, -6.045, -3.2789, -3.2789, -3.2789, -3.2789, -3.2789, -3.2789, -3.2789, -3.2789, -3.2789, -3.2789, -5.6768, -5.6768, -5.6768, -5.6768, -5.6768, -5.6768, -5.6768, -5.6768, -5.6768, -5.6768, -5.6768, -5.6768, -5.6768, -5.6768, -5.6768, -5.6768, -5.6768, -5.6768, -5.6768, -5.6768, -5.6768, -5.6768, -5.6768, -5.6768, -5.6768, -5.6768, -5.6768, -5.6768, -3.414, -3.8035, -3.8035, -4.4501, -4.4501, -4.4501, -4.4501, -4.4501, -4.4501, -4.4501, -4.4501, -4.4501, -4.4501, -4.4501, -4.4501, -4.4501, -4.4501, -4.4501, -4.4501, -4.4501, -4.4501, -4.4501, -4.4501, -4.4501, -4.4501, -4.4501, -4.4501, -4.4501, -4.4501, -4.4501, -3.5986, -3.5986, -3.5986, -3.5986, -3.5986, -3.5986, -3.5986, -3.5986, -3.5986, -3.5986, -3.5986, -3.5986, -3.5986, -3.5986, -3.5986, -3.5986, -3.5986, -3.5986, -3.5986, -3.5986, -3.5986, -5.9965, -5.9965, -5.9965, -5.9965, -5.9965, -5.9965, -5.9965, -5.9965, -5.9965, -5.9965, -5.9965, -5.9965, -5.9965, -5.9965, -5.9965, -5.9965, -5.9965, -5.9965, -2.6659, -3.3125, -3.3125, -3.3125, -3.3125, -3.3125, -3.3125, -3.3125, -3.3125, -3.3125, -5.7104, -5.7104, -5.7104, -5.7104, -5.7104, -5.7104, -5.7104, -5.7104, -5.7104, -5.7104, -5.7104, -5.7104, -5.7104, -5.7104, -5.7104, -5.7104, -5.7104, -5.7104, -5.7104, -5.7104, -5.7104, -5.7104, -5.7104, -5.7104, -5.7104, -5.7104, -5.7104, -2.9267, -3.5734, -3.5734, -3.5734, -3.5734, -3.5734, -3.5734, -3.5734, -3.5734, -3.5734, -3.5734, -3.5734, -3.5734, -3.5734, -3.5734, -3.5734, -3.5734, -3.5734, -3.5734, -5.9713, -5.9713, -5.9713, -5.9713, -5.9713, -5.9713, -5.9713, -5.9713, -5.9713, -5.9713, -5.9713, -5.9713, -5.9713, -5.9713, -5.9713, -5.9713, -5.9713, -5.9713, -5.9713, -5.9713, -5.9713, -5.9713, -3.5734, -3.5734, -3.5734, -3.5734, -3.5734, -3.5734, -3.5734, -3.5734, -3.5734, -3.5734, -3.5734, -3.5734, -3.5734, -3.5734, -3.5734, -3.5734, -3.5734, -2.9267, -3.5734, -5.9713, -5.9713, -5.9713, -5.9713, -5.9713, -5.9713, -5.9713, -5.9713, -5.9713, -5.9713, -5.9713, -5.9713, -5.9713, -5.9713, -5.9713, -5.9713, -5.9713, -5.9713, -5.9713, -5.9713, -5.9713, -5.9713, -5.2575, -5.2575, -5.2575, -5.2575, -5.2575, -5.2575, -5.2575, -5.2575, -5.2575, -5.2575, -5.2575, -5.2575, -5.2575, -5.2575, -5.2575, -5.2575, -5.2575, -5.2575, -5.2575, -5.2575, -5.2575, -5.2575, -5.2575, -5.2575, -5.2575, -5.2575, -5.2575, -5.2575, -5.2575, -5.2575, -5.2575, -5.2575, -5.2575, -5.2575, -5.2575, -5.2575, -5.2575, -5.2575, -5.2575, -5.2575, -2.9765, -3.6231, -3.6231, -3.6231, -3.6231, -3.6231, -3.6231, -3.6231, -3.6231, -3.6231, -3.6231, -3.6231, -3.6231, -3.6231, -3.6231, -3.6231, -3.6231, -3.6231, -3.6231, -3.6231, -3.6231, -6.021, -6.021, -6.021, -6.021, -6.021, -6.021, -6.021, -6.021, -6.021, -6.021, -6.021, -6.021, -6.021, -6.021, -6.021, -6.021, -6.021, -6.021, -3.1315, -3.1315, -3.1315, -3.1315, -3.1315, -3.1315, -5.5294, -5.5294, -5.5294, -5.5294, -5.5294, -5.5294, -5.5294, -5.5294, -5.5294, -5.5294, -5.5294, -5.5294, -5.5294, -5.5294, -5.5294, -5.5294, -5.5294, -5.5294, -5.5294, -5.5294, -5.5294, -5.5294, -5.5294, -5.5294, -5.5294, -5.5294, -5.5294, -5.5294, -5.5294, -5.5294, -5.5294, -5.5294, -5.5294, -5.5294], \"loglift\": [30.0, 29.0, 28.0, 27.0, 26.0, 25.0, 24.0, 23.0, 22.0, 21.0, 20.0, 19.0, 18.0, 17.0, 16.0, 15.0, 14.0, 13.0, 12.0, 11.0, 10.0, 9.0, 8.0, 7.0, 6.0, 5.0, 4.0, 3.0, 2.0, 1.0, 1.9455, 1.7287, 1.7287, 1.7287, 1.7287, 1.7287, 1.7287, 1.7287, 1.7287, 1.7287, 1.7287, 1.7287, 1.7287, 1.7287, 1.7287, 1.7287, 1.7287, 1.7287, 1.7287, 1.7287, 1.3942, 0.9929, -0.3618, -0.3618, -0.3618, -0.3618, -0.3618, -0.3618, -0.4931, -0.4931, -0.5186, -0.5186, -0.8983, -0.5186, -0.5186, -0.5186, -0.8808, -0.5186, 2.2731, 2.2731, 2.2731, 2.2731, 2.2731, 2.2731, 2.2731, 2.2731, 1.8853, 1.6022, 0.0065, 0.0065, 0.0065, 0.0065, 0.0065, 0.0065, -0.1504, -0.1504, -0.1504, -0.1504, -0.1504, -0.1504, -0.1504, -0.2981, -0.2981, -0.2981, -0.2981, -0.2981, -0.2981, -0.2981, -0.6354, -0.53, -0.3009, -0.3009, -0.3009, -0.3009, -0.3009, -0.3009, 0.9082, 0.8465, 0.8465, 0.6909, 0.6909, 0.6909, 0.6909, 0.6909, 0.6909, 0.6909, 0.6909, 0.6909, 0.6909, 0.6909, 0.6909, 0.6909, 0.6909, 0.6909, 0.6909, 0.6909, 0.6909, 0.6909, 0.6909, 0.6909, 0.6909, 0.6909, 0.6909, 0.6909, 0.6909, 0.6909, 1.7801, 1.7801, 1.7801, 1.7801, 1.7801, 1.7801, 1.7801, 1.7801, 1.7801, 1.7801, 1.7801, 1.7801, 1.7801, 1.7801, 1.7801, 1.7801, 1.7801, 1.7801, 1.7801, 1.7801, 1.345, -0.3132, -0.3132, -0.3132, -0.3132, -0.3132, -0.3132, -0.4445, -0.4445, -0.4445, -0.4701, -0.4701, -0.9551, -0.8497, -0.4701, -0.4701, -0.4701, -0.8323, -0.4701, 2.4808, 2.2138, 2.2138, 2.2138, 2.2138, 2.2138, 2.2138, 2.2138, 1.8516, 1.7288, -0.0272, -0.0272, -0.0272, -0.0272, -0.0272, -0.0272, -0.1585, -0.1585, -0.1585, -0.1585, -0.1585, -0.1585, -0.1585, -0.1585, -0.3318, -0.3318, -0.3318, -0.3318, -0.3318, -0.3318, -0.3346, -0.3346, -0.3346, -0.3346, -0.3346, -0.3346, -0.8294, 2.0107, 1.7958, 1.7958, 1.7958, 1.7958, 1.7958, 1.7958, 1.7958, 1.7958, 1.7958, 1.7958, 1.7958, 1.7958, 1.7958, 1.7958, 1.7958, 1.7958, 1.3623, 1.2101, -0.288, -0.288, -0.288, -0.288, -0.288, -0.288, -0.4193, -0.4193, -0.4193, -0.4193, -0.4193, -0.4449, -0.4449, -0.9299, -0.8245, -0.4449, -0.4449, -0.4449, -0.8071, -0.4449, -0.4449, -0.5954, 1.7958, 1.7958, 1.7958, 1.7958, 1.7958, 1.7958, 1.7958, 1.7958, 1.7958, 1.7958, 1.7958, 1.7958, 1.7958, 1.7958, 1.7958, 1.7958, 1.7958, 1.7133, 1.3701, -0.288, -0.288, -0.288, -0.288, -0.288, -0.288, -0.4193, -0.4193, -0.4193, -0.4193, -0.4193, -0.4449, -0.4449, -0.9299, -0.8245, -0.4449, -0.4449, -0.4449, -0.8071, -0.4449, -0.4449, -0.5954, 0.4257, 0.4257, 0.4257, 0.4257, 0.4257, 0.4257, 0.2944, 0.2944, 0.2944, 0.2944, 0.2944, 0.2944, 0.2944, 0.2944, 0.2689, 0.2689, 0.2689, 0.2689, 0.2689, 0.2689, 0.2689, 0.1211, 0.1211, 0.1211, 0.1211, 0.1211, 0.1211, 0.1211, 0.1211, 0.1211, -0.2161, -0.1107, -0.0933, 0.1183, 0.1183, 0.1183, 0.1183, 0.1183, 0.1183, -0.3765, 1.9574, 1.7434, 1.7434, 1.7434, 1.7434, 1.7434, 1.7434, 1.7434, 1.7434, 1.7434, 1.7434, 1.7434, 1.7434, 1.7434, 1.7434, 1.7434, 1.7434, 1.7434, 1.7434, 1.7434, 1.3125, -0.3378, -0.3378, -0.3378, -0.3378, -0.3378, -0.3378, -0.4691, -0.4691, -0.4691, -0.4947, -0.4947, -0.9797, -0.8743, -0.4947, -0.4947, -0.4947, -0.8569, -0.4947, 2.5517, 2.5517, 2.5517, 2.5517, 2.5517, 2.5517, 0.0225, 0.0225, 0.0225, 0.0225, 0.0225, 0.0225, 0.0225, 0.0225, -0.0031, -0.0031, -0.0031, -0.0031, -0.0031, -0.0031, -0.0031, -0.1508, -0.1508, -0.1508, -0.1508, -0.1508, -0.1508, -0.1508, -0.1508, -0.1508, -0.4881, -0.3827, -0.3653, -0.1536, -0.1536, -0.1536, -0.1536, -0.1536, -0.1536, -0.6484]}, \"token.table\": {\"Topic\": [3, 6, 3, 3, 1, 1, 1, 7, 3, 9, 3, 9, 3, 3, 1, 6, 4, 9, 9, 9, 3, 4, 7, 3, 3, 7, 9, 1, 4, 4, 1, 7, 6, 9, 7, 6, 4, 1, 9, 3, 3, 6, 3, 3, 1, 4, 1, 4, 1, 1, 9, 3, 7, 9, 4, 3, 3, 9, 3, 9, 1, 4, 4, 6, 3, 7, 4, 9, 4, 7, 3, 7, 4, 6, 7, 4, 7, 3, 1, 4, 3, 1, 1, 6, 1, 5, 4, 9, 9, 7, 3, 9, 3, 4, 7, 3, 9, 3, 7, 6, 9, 3, 3, 3, 7, 6, 4, 3, 6, 7, 6, 6, 6, 9, 7, 3, 7, 1, 7, 1, 6, 9, 3, 6, 1, 4, 1, 4, 6, 1, 4, 6, 1, 6, 9], \"Freq\": [0.5745829831934809, 0.5745829831934809, 0.8215553593836524, 0.8215553593836524, 1.0390249868908104, 1.0390249868908104, 0.49780444023754256, 0.49780444023754256, 0.8215553593836524, 0.6678886122452059, 1.0056523543666025, 1.0293870786855182, 0.8215553593836524, 0.8215553593836524, 1.0390249868908104, 1.0321641209813819, 1.0419408364391123, 1.0293870786855182, 1.0293870786855182, 1.0293870786855182, 0.8215553593836524, 1.0419408364391123, 1.0321640875259448, 0.8215553593836524, 0.8215553593836524, 1.0321640875259448, 1.0293870786855182, 1.0390249868908104, 1.0419408364391123, 1.0419408364391123, 1.0390249868908104, 1.0321640875259448, 1.0321641209813819, 1.0293870786855182, 1.0321640875259448, 1.0321641209813819, 1.0419408364391123, 1.0390249868908104, 1.0293870786855182, 0.8215553593836524, 1.0056523543666025, 1.0321641209813819, 0.8215553593836524, 0.8215553593836524, 1.0390253377241074, 1.0419408364391123, 1.0390249868908104, 1.0419408364391123, 0.6760259427555524, 1.0390253377241074, 1.0293870786855182, 0.8215553593836524, 1.0321640875259448, 1.0293870786855182, 1.0419408364391123, 0.8215553593836524, 0.8215553593836524, 1.0293872497139909, 0.8215553593836524, 1.0293870786855182, 1.0390253377241074, 1.0419408364391123, 1.0419407946474906, 1.0321641209813819, 0.8215553593836524, 1.0321640875259448, 1.0419408364391123, 1.0293870786855182, 0.6743371821297915, 0.6743371821297915, 0.8215553593836524, 1.0321640875259448, 1.0419408364391123, 0.6702288778801918, 1.0321640875259448, 1.0419407946474906, 1.0321640875259448, 0.7245551888820418, 1.0390249868908104, 1.0419408364391123, 0.6334794514706515, 1.0390253377241074, 1.0390249868908104, 1.0321641209813819, 0.7436508750152246, 0.8263082871144328, 1.0419407946474906, 1.0293872497139909, 1.0293870786855182, 1.0321640875259448, 0.8215553593836524, 1.0293870786855182, 0.8215553593836524, 1.0419408364391123, 1.0321640875259448, 0.8215553593836524, 1.0293870786855182, 0.8215553593836524, 1.0321640875259448, 1.0321641209813819, 1.0293870786855182, 0.8215553593836524, 0.8215553593836524, 0.8215553593836524, 1.0321640875259448, 1.0321641209813819, 1.0419407946474906, 0.8215553593836524, 1.0321641209813819, 1.0321640875259448, 1.0321641209813819, 1.0321641209813819, 1.0321641209813819, 1.0293870786855182, 1.0321640875259448, 0.8215553593836524, 1.0321640875259448, 1.0390253377241074, 1.0321640875259448, 1.0390249868908104, 0.6690566491329764, 0.6690566491329764, 0.8215553593836524, 1.0321641209813819, 1.0390249868908104, 1.0419408364391123, 1.0390249868908104, 1.0419407946474906, 1.0321641209813819, 1.0390249868908104, 1.0419407946474906, 1.0321641209813819, 1.0390249868908104, 1.0321641209813819, 1.0293872497139909], \"Term\": [\"able\", \"able\", \"account\", \"accusation\", \"agrees\", \"allow\", \"ansa\", \"ansa\", \"appearing\", \"assault_rifle\", \"atm_give\", \"aziende\", \"beach\", \"behave\", \"bianchi\", \"buy\", \"cardone\", \"carefully\", \"change\", \"circular\", \"clear\", \"close\", \"colleague\", \"commission\", \"communicated\", \"contu\", \"costi\", \"courtroom\", \"de\", \"deulofeu\", \"didn\", \"director\", \"dollar\", \"economia\", \"editorial\", \"elementary\", \"enrico\", \"entry\", \"environmental\", \"etc\", \"eu\", \"euro\", \"european\", \"event\", \"extinguished\", \"final\", \"finger\", \"fiorentina\", \"fire\", \"flame\", \"flessibilit\\u00e0\", \"follow\", \"forum\", \"gestione\", \"giulio\", \"give\", \"given\", \"hand\", \"hospital\", \"investimenti\", \"island\", \"juve\", \"kiev\", \"killer\", \"land\", \"lega\", \"lellis\", \"limit\", \"live\", \"live\", \"lombardy\", \"luigi\", \"market\", \"massacre\", \"matteo\", \"mayor\", \"michela\", \"money\", \"murder\", \"napoli\", \"new\", \"night\", \"not_eu\", \"not_far\", \"not_good\", \"not_happy\", \"not_stop\", \"old\", \"opportunity\", \"parliamentary\", \"people\", \"perspective\", \"pnrr\", \"pogba\", \"political\", \"positive\", \"propensity\", \"public\", \"question\", \"ramos\", \"rapid\", \"recent\", \"registry\", \"resort\", \"responds\", \"restaurant\", \"russian\", \"s\", \"salvador\", \"salvini\", \"save\", \"scene\", \"school\", \"screen\", \"secretary\", \"silent\", \"staff\", \"stromboli\", \"suglia\", \"t\", \"texas\", \"texas\", \"think\", \"thousand\", \"touch\", \"transfer\", \"traveler\", \"ukraine\", \"uvalde\", \"vaccinated\", \"war\", \"weapon\", \"willy\", \"worked\", \"year\"]}, \"R\": 30, \"lambda.step\": 0.01, \"plot.opts\": {\"xlab\": \"PC1\", \"ylab\": \"PC2\"}, \"topic.order\": [1, 2, 3, 4, 5, 6, 7, 8, 9, 10]};\n",
              "\n",
              "function LDAvis_load_lib(url, callback){\n",
              "  var s = document.createElement('script');\n",
              "  s.src = url;\n",
              "  s.async = true;\n",
              "  s.onreadystatechange = s.onload = callback;\n",
              "  s.onerror = function(){console.warn(\"failed to load library \" + url);};\n",
              "  document.getElementsByTagName(\"head\")[0].appendChild(s);\n",
              "}\n",
              "\n",
              "if(typeof(LDAvis) !== \"undefined\"){\n",
              "   // already loaded: just create the visualization\n",
              "   !function(LDAvis){\n",
              "       new LDAvis(\"#\" + \"ldavis_el591405171999511849156042748\", ldavis_el591405171999511849156042748_data);\n",
              "   }(LDAvis);\n",
              "}else if(typeof define === \"function\" && define.amd){\n",
              "   // require.js is available: use it to load d3/LDAvis\n",
              "   require.config({paths: {d3: \"https://d3js.org/d3.v5\"}});\n",
              "   require([\"d3\"], function(d3){\n",
              "      window.d3 = d3;\n",
              "      LDAvis_load_lib(\"https://cdn.jsdelivr.net/gh/bmabey/pyLDAvis@3.3.1/pyLDAvis/js/ldavis.v3.0.0.js\", function(){\n",
              "        new LDAvis(\"#\" + \"ldavis_el591405171999511849156042748\", ldavis_el591405171999511849156042748_data);\n",
              "      });\n",
              "    });\n",
              "}else{\n",
              "    // require.js not available: dynamically load d3 & LDAvis\n",
              "    LDAvis_load_lib(\"https://d3js.org/d3.v5.js\", function(){\n",
              "         LDAvis_load_lib(\"https://cdn.jsdelivr.net/gh/bmabey/pyLDAvis@3.3.1/pyLDAvis/js/ldavis.v3.0.0.js\", function(){\n",
              "                 new LDAvis(\"#\" + \"ldavis_el591405171999511849156042748\", ldavis_el591405171999511849156042748_data);\n",
              "            })\n",
              "         });\n",
              "}\n",
              "</script>"
            ]
          },
          "metadata": {},
          "execution_count": 39
        }
      ]
    },
    {
      "cell_type": "markdown",
      "source": [
        "HDP"
      ],
      "metadata": {
        "id": "ifGebaDDYci7"
      }
    },
    {
      "cell_type": "code",
      "source": [
        "hdpmodel = HdpModel(corpus=corpus2, id2word=dictionary)"
      ],
      "metadata": {
        "id": "njJzdDlfYajT"
      },
      "execution_count": null,
      "outputs": []
    },
    {
      "cell_type": "code",
      "source": [
        "hdpmodel.show_topics()"
      ],
      "metadata": {
        "id": "oOMoki_6Yiar"
      },
      "execution_count": null,
      "outputs": []
    },
    {
      "cell_type": "code",
      "source": [
        "hdptopics = hdpmodel.show_topics(formatted=False)"
      ],
      "metadata": {
        "id": "N_eXuQy0Ytd7"
      },
      "execution_count": null,
      "outputs": []
    },
    {
      "cell_type": "code",
      "source": [
        "hdptopics[:1]"
      ],
      "metadata": {
        "colab": {
          "base_uri": "https://localhost:8080/"
        },
        "id": "LVdAF5scYvck",
        "outputId": "eb000a24-42df-41ca-e0d9-1e0b471a844d"
      },
      "execution_count": null,
      "outputs": [
        {
          "output_type": "execute_result",
          "data": {
            "text/plain": [
              "[(0,\n",
              "  [('rapid', 0.026388423739676745),\n",
              "   ('positive', 0.02256674618708974),\n",
              "   ('public', 0.02015745470582611),\n",
              "   ('probe', 0.02005634209831726),\n",
              "   ('hand', 0.0177586347389796),\n",
              "   ('opportunity', 0.017699737866041),\n",
              "   ('account', 0.01662331024054387),\n",
              "   ('beach', 0.016175630379051554),\n",
              "   ('equation', 0.015340894646176379),\n",
              "   ('deulofeu', 0.015121851070173248),\n",
              "   ('cell', 0.014399329012534868),\n",
              "   ('atm_give', 0.014372568335939927),\n",
              "   ('monkey', 0.013488524333942353),\n",
              "   ('able', 0.013469600213790187),\n",
              "   ('stuck', 0.013410868062506742),\n",
              "   ('definition', 0.013348230706980912),\n",
              "   ('nation', 0.013286717207109848),\n",
              "   ('united', 0.013223687568071373),\n",
              "   ('question', 0.01284812601737425),\n",
              "   ('force', 0.011604739482081548)])]"
            ]
          },
          "metadata": {},
          "execution_count": 425
        }
      ]
    },
    {
      "cell_type": "code",
      "source": [
        "def punteggioHDP(concetti_HDP,parole):\n",
        "  punteggi=dict()\n",
        "  risultato = []\n",
        "  for key,lista in concetti_HDP:\n",
        "    punteggio=0\n",
        "    for i in parole:\n",
        "      for concetto_parola,valore in lista:\n",
        "        if(i == concetto_parola):\n",
        "         punteggio+=valore\n",
        "    if punteggio!=0:\n",
        "        risultato.append((key,lista))\n",
        "    punteggi[key]=punteggio\n",
        "  return punteggi"
      ],
      "metadata": {
        "id": "LzuV0oT7aD8p"
      },
      "execution_count": null,
      "outputs": []
    },
    {
      "cell_type": "code",
      "source": [
        "def result_TopicHDP(concetti_HDP,parole):\n",
        "  risultato = []\n",
        "  p=punteggioHDP(concetti_HDP,parole)\n",
        "  massimo = max(p.values())\n",
        "  #print(\"Risultato di \", corpus)\n",
        "  for concetto,valore in p.items():\n",
        "    if valore == massimo:\n",
        "      risultato.append((concetto, concetti_HDP[concetto]))\n",
        "  return (risultato)"
      ],
      "metadata": {
        "id": "hK6dRXa7Itf4"
      },
      "execution_count": null,
      "outputs": []
    },
    {
      "cell_type": "code",
      "source": [
        "punteggioHDP(hdptopics,parole)"
      ],
      "metadata": {
        "colab": {
          "base_uri": "https://localhost:8080/"
        },
        "id": "ucJ0Qx8If-R2",
        "outputId": "5aeb4408-8418-440a-f2b8-989509895d3a"
      },
      "execution_count": null,
      "outputs": [
        {
          "output_type": "execute_result",
          "data": {
            "text/plain": [
              "{0: 0,\n",
              " 1: 0,\n",
              " 2: 0,\n",
              " 3: 0,\n",
              " 4: 0.02143479555038231,\n",
              " 5: 0.014914906246592573,\n",
              " 6: 0,\n",
              " 7: 0.02268286324993809,\n",
              " 8: 0,\n",
              " 9: 0,\n",
              " 10: 0.026977405353737945,\n",
              " 11: 0,\n",
              " 12: 0,\n",
              " 13: 0.012773643789369888,\n",
              " 14: 0.01614796660543255,\n",
              " 15: 0,\n",
              " 16: 0.013467613952374564,\n",
              " 17: 0,\n",
              " 18: 0.021211031349542803,\n",
              " 19: 0}"
            ]
          },
          "metadata": {},
          "execution_count": 448
        }
      ]
    },
    {
      "cell_type": "code",
      "source": [
        "result_TopicHDP(hdptopics,parole)"
      ],
      "metadata": {
        "colab": {
          "base_uri": "https://localhost:8080/"
        },
        "id": "_KXfKN9VdIyg",
        "outputId": "189279a1-9e1a-42be-a45c-c6d9a958efb1"
      },
      "execution_count": null,
      "outputs": [
        {
          "output_type": "execute_result",
          "data": {
            "text/plain": [
              "[(10,\n",
              "  (10,\n",
              "   [('accusation', 0.023182417915928313),\n",
              "    ('didn', 0.015552451897551627),\n",
              "    ('napoli', 0.015488321782834387),\n",
              "    ('region', 0.014906694483395965),\n",
              "    ('school', 0.014790589307035756),\n",
              "    ('united', 0.014098983074299833),\n",
              "    ('elementary', 0.013741346977794014),\n",
              "    ('fire', 0.013686568664676754),\n",
              "    ('ukraine', 0.01329083668906119),\n",
              "    ('not_stop', 0.01288337661873256),\n",
              "    ('colleague', 0.012828222459810211),\n",
              "    ('mouse', 0.012779963842487859),\n",
              "    ('dynamic', 0.012561569984835564),\n",
              "    ('blocking', 0.01251071145957598),\n",
              "    ('carefully', 0.01228873421590331),\n",
              "    ('shown', 0.01219955619880648),\n",
              "    ('cancer', 0.011913965093047535),\n",
              "    ('appearing', 0.011138520431367547),\n",
              "    ('market', 0.010956963753746449),\n",
              "    ('limit', 0.010838727751770652)]))]"
            ]
          },
          "metadata": {},
          "execution_count": 449
        }
      ]
    }
  ]
}
