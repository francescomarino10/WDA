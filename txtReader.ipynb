{
 "cells": [
  {
   "cell_type": "code",
   "execution_count": 30,
   "metadata": {},
   "outputs": [
    {
     "name": "stdout",
     "output_type": "stream",
     "text": [
      "9\n"
     ]
    }
   ],
   "source": [
    "with open(\"dataset\\#abortion.txt\") as file:\n",
    "    documentsAbortion=file.read().split(\"\\n\\n\")\n",
    "print(len(documentsAbortion))"
   ]
  },
  {
   "cell_type": "code",
   "execution_count": 31,
   "metadata": {},
   "outputs": [
    {
     "name": "stdout",
     "output_type": "stream",
     "text": [
      "13\n"
     ]
    }
   ],
   "source": [
    "with open(\"dataset\\#climate.txt\") as file:\n",
    "    documentsClimate=file.read().split(\"\\n\\n\")\n",
    "print(len(documentsClimate))"
   ]
  },
  {
   "cell_type": "code",
   "execution_count": 32,
   "metadata": {},
   "outputs": [
    {
     "name": "stdout",
     "output_type": "stream",
     "text": [
      "10\n"
     ]
    }
   ],
   "source": [
    "with open(\"dataset\\#covid.txt\") as file:\n",
    "    documentsCovid=file.read().split(\"\\n\\n\")\n",
    "print(len(documentsCovid))"
   ]
  },
  {
   "cell_type": "code",
   "execution_count": 33,
   "metadata": {},
   "outputs": [
    {
     "name": "stdout",
     "output_type": "stream",
     "text": [
      "17\n"
     ]
    }
   ],
   "source": [
    "with open(\"dataset\\#food.txt\") as file:\n",
    "    documentsFood=file.read().split(\"\\n\\n\")\n",
    "print(len(documentsFood))"
   ]
  },
  {
   "cell_type": "code",
   "execution_count": 34,
   "metadata": {},
   "outputs": [
    {
     "name": "stdout",
     "output_type": "stream",
     "text": [
      "12\n"
     ]
    }
   ],
   "source": [
    "with open(\"dataset\\#guns_violence.txt\") as file:\n",
    "    documentsGunViolence=file.read().split(\"\\n\\n\")\n",
    "print(len(documentsGunViolence))"
   ]
  },
  {
   "cell_type": "code",
   "execution_count": 35,
   "metadata": {},
   "outputs": [
    {
     "name": "stdout",
     "output_type": "stream",
     "text": [
      "6\n"
     ]
    }
   ],
   "source": [
    "with open(\"dataset\\#LGBTQ.txt\") as file:\n",
    "    documentsLGBTQ=file.read().split(\"\\n\\n\")\n",
    "print(len(documentsLGBTQ))"
   ]
  },
  {
   "cell_type": "code",
   "execution_count": 36,
   "metadata": {},
   "outputs": [
    {
     "name": "stdout",
     "output_type": "stream",
     "text": [
      "16\n"
     ]
    }
   ],
   "source": [
    "with open(\"dataset\\#politics.txt\") as file:\n",
    "    documentsPolitics=file.read().split(\"\\n\\n\")\n",
    "print(len(documentsPolitics))"
   ]
  },
  {
   "cell_type": "code",
   "execution_count": 37,
   "metadata": {},
   "outputs": [
    {
     "name": "stdout",
     "output_type": "stream",
     "text": [
      "25\n"
     ]
    }
   ],
   "source": [
    "with open(\"dataset\\#sport.txt\") as file:\n",
    "    documentsSport=file.read().split(\"\\n\\n\")\n",
    "print(len(documentsSport))"
   ]
  },
  {
   "cell_type": "code",
   "execution_count": 38,
   "metadata": {},
   "outputs": [
    {
     "name": "stdout",
     "output_type": "stream",
     "text": [
      "10\n"
     ]
    }
   ],
   "source": [
    "with open(\"dataset\\#ukraine.txt\") as file:\n",
    "    documentsUkraine=file.read().split(\"\\n\\n\")\n",
    "print(len(documentsUkraine))"
   ]
  },
  {
   "cell_type": "code",
   "execution_count": 39,
   "metadata": {},
   "outputs": [],
   "source": [
    "allDocuments=\\\n",
    "documentsAbortion+\\\n",
    "documentsClimate+\\\n",
    "documentsCovid+\\\n",
    "documentsFood+\\\n",
    "documentsGunViolence+\\\n",
    "documentsLGBTQ+\\\n",
    "documentsPolitics+\\\n",
    "documentsSport+\\\n",
    "documentsUkraine"
   ]
  },
  {
   "cell_type": "code",
   "execution_count": 40,
   "metadata": {},
   "outputs": [
    {
     "data": {
      "text/plain": [
       "118"
      ]
     },
     "execution_count": 40,
     "metadata": {},
     "output_type": "execute_result"
    }
   ],
   "source": [
    "len(allDocuments)"
   ]
  },
  {
   "cell_type": "code",
   "execution_count": 41,
   "metadata": {},
   "outputs": [],
   "source": [
    "import json"
   ]
  },
  {
   "cell_type": "code",
   "execution_count": 42,
   "metadata": {},
   "outputs": [],
   "source": [
    "json.dump(allDocuments, open(\"allDocuments2.json\", \"w\"))"
   ]
  },
  {
   "cell_type": "code",
   "execution_count": null,
   "metadata": {},
   "outputs": [],
   "source": []
  }
 ],
 "metadata": {
  "interpreter": {
   "hash": "2c5217a3946e5a84d5ff067ec86c6c29aba46ea34fb35a222c2c09d02c172ab5"
  },
  "kernelspec": {
   "display_name": "Python 3.9.12 ('base')",
   "language": "python",
   "name": "python3"
  },
  "language_info": {
   "codemirror_mode": {
    "name": "ipython",
    "version": 3
   },
   "file_extension": ".py",
   "mimetype": "text/x-python",
   "name": "python",
   "nbconvert_exporter": "python",
   "pygments_lexer": "ipython3",
   "version": "3.9.12"
  },
  "orig_nbformat": 4
 },
 "nbformat": 4,
 "nbformat_minor": 2
}
