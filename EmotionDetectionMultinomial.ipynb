{
 "cells": [
  {
   "cell_type": "code",
   "execution_count": 1,
   "metadata": {},
   "outputs": [],
   "source": [
    "import funzioni_progetto_webdata as fpw"
   ]
  },
  {
   "cell_type": "code",
   "execution_count": 2,
   "metadata": {},
   "outputs": [],
   "source": [
    "#se non abbiamo un modello salvato lo creaiamo allenandolo\n",
    "model=fpw.ModelEmotionDetection(\"text_emotion_esercizio.csv\")"
   ]
  },
  {
   "cell_type": "code",
   "execution_count": 5,
   "metadata": {},
   "outputs": [],
   "source": [
    "#se abbiamo un modello salvato lo carichiamo\n",
    "model=fpw.ModelEmotionDetection()"
   ]
  },
  {
   "cell_type": "code",
   "execution_count": null,
   "metadata": {},
   "outputs": [],
   "source": [
    "#return singola emotion\n",
    "model.get_emotion(\"I am so happy\")"
   ]
  },
  {
   "cell_type": "code",
   "execution_count": null,
   "metadata": {},
   "outputs": [],
   "source": [
    "#return lista emotion con probabilita\n",
    "model.list_prob(\"I am so happy\")"
   ]
  }
 ],
 "metadata": {
  "interpreter": {
   "hash": "2c5217a3946e5a84d5ff067ec86c6c29aba46ea34fb35a222c2c09d02c172ab5"
  },
  "kernelspec": {
   "display_name": "Python 3.9.12 ('base')",
   "language": "python",
   "name": "python3"
  },
  "language_info": {
   "codemirror_mode": {
    "name": "ipython",
    "version": 3
   },
   "file_extension": ".py",
   "mimetype": "text/x-python",
   "name": "python",
   "nbconvert_exporter": "python",
   "pygments_lexer": "ipython3",
   "version": "3.9.12"
  },
  "orig_nbformat": 4
 },
 "nbformat": 4,
 "nbformat_minor": 2
}
