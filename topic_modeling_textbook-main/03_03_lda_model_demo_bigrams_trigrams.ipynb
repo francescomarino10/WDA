{
 "cells": [
  {
   "cell_type": "code",
   "execution_count": 7,
   "metadata": {},
   "outputs": [],
   "source": [
    "import spacy\n",
    "import gensim\n",
    "from gensim.models import TfidfModel"
   ]
  },
  {
   "cell_type": "code",
   "execution_count": 81,
   "metadata": {},
   "outputs": [],
   "source": [
    "data=[\"i love my mum\",\"i love my mum\",\"i love my mum\",\"my dad in better shape\",\"i love my dad and my dad\",\"i love my mum and dad\"]"
   ]
  },
  {
   "cell_type": "code",
   "execution_count": 155,
   "metadata": {},
   "outputs": [],
   "source": [
    "class LDAModel2:\n",
    "\n",
    "    def __text2bow(self,text):\n",
    "        a=self.__lem_tok_1(text)\n",
    "        if self.__ngram == \"bigram\":\n",
    "            b=self.__bigram_mod[a[0]]  \n",
    "        else:\n",
    "            b=self.__trigram_mod[self.__bigram_mod[a]]\n",
    "        return self.__id2word.doc2bow(b)\n",
    "    \n",
    "    def __lem_tok_1(self,texts):\n",
    "        nlp = spacy.load(\"en_core_web_sm\", disable=[\"parser\", \"ner\"])\n",
    "        lemmatized_text = \" \".join([token.lemma_ for token in nlp(text) if token.pos_ in self.__allowed_postags])\n",
    "        return gensim.utils.simple_preprocess(lemmatized_text, deacc=True)\n",
    "        \n",
    "    def __lem_tok(self):\n",
    "        nlp = spacy.load(\"en_core_web_sm\", disable=[\"parser\", \"ner\"])\n",
    "        lemmatized_texts = [\" \".join([token.lemma_ for token in nlp(text) if token.pos_ in self.__allowed_postags]) for text in self.__texts]\n",
    "        self.__data_words = [gensim.utils.simple_preprocess(text, deacc=True) for text in lemmatized_texts]\n",
    "\n",
    "    def __set_bigram(self):\n",
    "        bigram = gensim.models.Phrases(self.__data_words, min_count=5, threshold=100)\n",
    "        self.__bigram_mod = gensim.models.phrases.Phraser(bigram)\n",
    "        self.__data_words_ngram = [self.__bigram_mod[text] for text in self.__data_words]\n",
    "    \n",
    "    def __set_trigram(self):\n",
    "        bigram = gensim.models.Phrases(self.__data_words, min_count=5, threshold=100)\n",
    "        self.__bigram_mod = gensim.models.phrases.Phraser(bigram)\n",
    "        trigram = gensim.models.Phrases(self.__data_words, min_count=5, threshold=100)\n",
    "        self.__trigram_mod = gensim.models.phrases.Phraser(trigram)\n",
    "        self.__data_words_ngram = [self.__trigram_mod[self.__bigram_mod[text]] for text in self.__data_words]\n",
    "        \n",
    "    def __tfidfRemoval(self):\n",
    "        self.__id2word = gensim.corpora.Dictionary(self.__data_words_ngram)\n",
    "        self.__corpus = [self.__id2word.doc2bow(text) for text in self.__data_words_ngram]\n",
    "        tfidf = TfidfModel(self.__corpus, id2word=self.__id2word)\n",
    "        words  = []\n",
    "        words_missing_in_tfidf = []\n",
    "        for i in range(len(self.__corpus)):\n",
    "            bow = self.__corpus[i]\n",
    "            low_value_words = [] #reinitialize to be safe. You can skip this.\n",
    "            tfidf_ids = [id for id, _ in tfidf[bow]]\n",
    "            bow_ids = [id for id, _ in bow]\n",
    "            low_value_words = [id for id, value in tfidf[bow] if value < self.__low_value]\n",
    "            drops = low_value_words+words_missing_in_tfidf\n",
    "            words.extend(self.__id2word[item] for item in drops)\n",
    "            words_missing_in_tfidf = [id for id in bow_ids if id not in tfidf_ids] # The words with tf-idf score 0 will be missing\n",
    "\n",
    "            new_bow = [b for b in bow if b[0] not in low_value_words and b[0] not in words_missing_in_tfidf]\n",
    "            self.__corpus[i] = new_bow\n",
    "\n",
    "    def __init__(self,texts,num_topics=100,allowed_postags=[\"NOUN\", \"ADJ\", \"VERB\", \"ADV\"],ngram=\"trigram\",low_value=0.03,save=False):\n",
    "        self.__ngram=ngram\n",
    "        self.__low_value=low_value\n",
    "        self.__texts=texts\n",
    "        self.__allowed_postags=allowed_postags\n",
    "\n",
    "        self.__lem_tok()\n",
    "        \n",
    "        if ngram == \"bigram\":\n",
    "            self.__set_bigram()\n",
    "        elif ngram == \"trigram\":\n",
    "            self.__set_trigram()\n",
    "        else:\n",
    "            raise ValueError(\"ngram must be either bigram or trigram\")\n",
    "        \n",
    "        self.__tfidfRemoval()\n",
    "\n",
    "        self.__lda_model = gensim.models.ldamodel.LdaModel(corpus=self.__corpus,\n",
    "                                           id2word=self.__id2word,\n",
    "                                           num_topics=num_topics,\n",
    "                                           random_state=100,\n",
    "                                           update_every=1,\n",
    "                                           chunksize=100,\n",
    "                                           passes=10,\n",
    "                                           alpha=\"auto\")\n",
    "    \n",
    "    def print_topics(self,num_words=10):\n",
    "        return self.__lda_model.print_topics(num_words)\n",
    "    \n",
    "    def get_document_topics(self,text):\n",
    "        a=self.__text2bow(text)\n",
    "        return self.__lda_model.get_document_topics(a)\n",
    "    \n",
    "    def get_document_topic(self,text):\n",
    "        result=self.get_document_topics(text)\n",
    "        idxMax=max(result,key=lambda x:x[1])[0]\n",
    "        return self.__lda_model.show_topic(idxMax)"
   ]
  },
  {
   "cell_type": "code",
   "execution_count": 156,
   "metadata": {},
   "outputs": [],
   "source": [
    "lm2=LDAModel2(data,num_topics=10)"
   ]
  },
  {
   "cell_type": "code",
   "execution_count": 159,
   "metadata": {},
   "outputs": [
    {
     "name": "stdout",
     "output_type": "stream",
     "text": [
      "[('love', 0.40297326), ('mum', 0.32395872), ('dad', 0.25726476), ('well', 0.0079016), ('shape', 0.007901599)]\n"
     ]
    }
   ],
   "source": [
    "print(lm2.get_document_topic(data[-1]))"
   ]
  }
 ],
 "metadata": {
  "interpreter": {
   "hash": "2c5217a3946e5a84d5ff067ec86c6c29aba46ea34fb35a222c2c09d02c172ab5"
  },
  "kernelspec": {
   "display_name": "Python 3.9.12 ('base')",
   "language": "python",
   "name": "python3"
  },
  "language_info": {
   "codemirror_mode": {
    "name": "ipython",
    "version": 3
   },
   "file_extension": ".py",
   "mimetype": "text/x-python",
   "name": "python",
   "nbconvert_exporter": "python",
   "pygments_lexer": "ipython3",
   "version": "3.9.12"
  }
 },
 "nbformat": 4,
 "nbformat_minor": 4
}
