{
 "cells": [
  {
   "cell_type": "markdown",
   "metadata": {},
   "source": [
    "# <center>Bigrams and Trigrams</center>"
   ]
  },
  {
   "cell_type": "markdown",
   "metadata": {},
   "source": [
    "<center>Dr. W.J.B. Mattingly</center>\n",
    "\n",
    "<center>Smithsonian Data Science Lab and United States Holocaust Memorial Museum</center>\n",
    "\n",
    "<center>February 2021</center>"
   ]
  },
  {
   "cell_type": "markdown",
   "metadata": {},
   "source": [
    "## Key Concepts in this Notebook"
   ]
  },
  {
   "cell_type": "markdown",
   "metadata": {},
   "source": [
    "1) unigrams<br>\n",
    "2) bigrams<br>\n",
    "3) trigrams<br>"
   ]
  },
  {
   "cell_type": "markdown",
   "metadata": {},
   "source": [
    "## Introduction"
   ]
  },
  {
   "cell_type": "markdown",
   "metadata": {},
   "source": [
    "Let's take a moment and step away from the subject of this textbook, topic modeling. Instead, let's think about language, the essential medium of topic modeling. This notebook will be exclusively about one aspect of langauge: bigrams and trigrams. When we use words, those words correspond to something distinct.\n",
    "\n",
    "If I use the word apple, you likely are thinking of something like this:\n",
    "\n",
    "<p style=\"text-align:center;\">\n",
    "<img src=\"https://i2.wp.com/ceklog.kindel.com/wp-content/uploads/2013/02/firefox_2018-07-10_07-50-11.png?fit=641%2C618&ssl=1\" height=\"240\" align=\"center\"/>\n",
    "</p>\n",
    "\n",
    "Apple is a simple word, yet it can mean different things in different contexts. What if I said the following: \"My Apple is better than a PC.\" Now, what image comes to mind? Perhaps this?\n",
    "<p style=\"text-align:center;\">\n",
    "<img src=\"https://images-na.ssl-images-amazon.com/images/I/71pheYd9W0L._AC_SX466_.jpg\" height=\"240\" align=\"center\"/>\n",
    "</p>\n",
    "This is an example of textual ambiguity. Syntactical context helps eliminate textual ambiguity. Apple is a single word here that contains a single concept. It's a relatively simple word. Perhaps one of the earliest a native speaker of English learns as a child. And yet it has textual ambiguity. Because \"apple\" is a single word, it is known as a unigram. A **unigram** is a single word that represents a single concept.\n",
    "\n",
    "Textual ambiguity, however, occurs in more dynamic ways when we think about concepts beyond the single span of a single word. In this notebook, we will focus on two such cases that are essential for natural language processing: bigrams and trigrams. **Bigrams** are two words that contain a distinct meaning when used together, while **trigrams** are three words that contain a distinct meaning when used together.\n",
    "\n",
    "Understanding bigrams and trigrams are essential because in order for a computer to truly understand langauge the way a human does, it must be able to understand the nuances of a single word and how a word's meaning not only shifts in context, but shifts in meaning when used in conjunction with other words."
   ]
  },
  {
   "cell_type": "markdown",
   "metadata": {},
   "source": [
    "## Bigrams"
   ]
  },
  {
   "cell_type": "markdown",
   "metadata": {},
   "source": [
    "As noted above, a bigram is a combination of two words that have a distinct meaning. To demonstrate this, let us consider quickly the word \"French\". A single word, that may have multiple meanings. Perhaps the word French refers to the language:\n",
    "<p style=\"text-align:center;\">\n",
    "<img src=\"https://www.unb.ca/cel/_assets/images/enrichment/ll-fred/ll-french-beginners.jpg\" height=\"240\" align=\"center\"/>\n",
    "</p>\n",
    "Perhaps it references a French person:\n",
    "<p style=\"text-align:center;\">\n",
    "<img src=\"https://images.movehub.com/wp-content/uploads/2017/09/15150656/living-in-france.jpg\"  height=\"240\" align=\"center\"/>\n",
    "</p>\n",
    "Let's hold off on the word French for just a moment. Let's now use the word \"revolution\". Again, there is textual ambiguity, but perhaps I am referencing the concept of revolution in the sense of the Earth.\n",
    "<p style=\"text-align:center;\">\n",
    "<img src=\"https://i.ytimg.com/vi/CqkQv617bcw/maxresdefault.jpg\" height=\"240\" align=\"center\"/>\n",
    "</p>\n",
    "\n",
    "Now you may already see where I am going with this, but let's now think about what happens when I put those two textually ambiguous unigrams together \"The French Revolution\". \"The\" here is a stop word that is frequently dropped in natural language processing, so \"French Revolution\" is all that we should consider. This two words when combined have a distinct concept. Now, you may be thinking of this:\n",
    "<p style=\"text-align:center;\">\n",
    "<img src=\"https://images.immediate.co.uk/production/volatile/sites/7/2018/04/GettyImages-917743986-5ffaa22.jpg?quality=45&resize=768,574\" height=\"240\" align=\"center\"/>\n",
    "</p>\n",
    "But we can think about language in even more nuanced ways."
   ]
  },
  {
   "cell_type": "markdown",
   "metadata": {},
   "source": [
    "## Trigrams"
   ]
  },
  {
   "cell_type": "markdown",
   "metadata": {},
   "source": [
    "Trigrams, as noted above, are the same as bigrams, except with three words, instead of two. Let's continue with our example of \"French\". What might you think about if I used the word \"army\". Perhaps something distinct to your own experiences with the word. For me, as a modern American, I think initially about the American Army in the modern sense of the word. So I may picture something like this:\n",
    "<p style=\"text-align:center;\">\n",
    "<img src=\"https://www.goarmy.com/content/dam/goarmy/refresh/redesign-nav-images/Desktop_Navigation_IMG_1.jpg\" height=\"240\" align=\"center\"/>\n",
    "</p>\n",
    "For others in other parts of the world, other images may be more relevant. However, when I use the phrase \"The French Revolutionary Army\", I now have something defined, something distinct. I have this:\n",
    "<p style=\"text-align:center;\">\n",
    "<img src=\"https://upload.wikimedia.org/wikipedia/commons/4/47/Bataille_Jemmapes.jpg\" height=\"240\" align=\"center\"/>\n",
    "</p>\n",
    "This is a trigram, a distinct concept consisting of three words that may have individual meanings when used alone."
   ]
  },
  {
   "cell_type": "markdown",
   "metadata": {},
   "source": [
    "## Why are these Important?"
   ]
  },
  {
   "cell_type": "markdown",
   "metadata": {},
   "source": [
    "So, why are bigrams and trigrams so important? The reason comes down to getting machines to understand that when certain words are used together, they bear a distinct meaning. In order to produce a good topic model, therefore, the model must be able to understand and process words in this manner, the way we humans use the language we are trying to get the machine to understand."
   ]
  },
  {
   "cell_type": "code",
   "execution_count": 5,
   "metadata": {},
   "outputs": [
    {
     "data": {
      "text/html": [
       "<div align=\"center\">\n",
       "<iframe width=\"560\" height=\"315\" src=\"https://www.youtube.com/embed/GBQFelgzjKQ\" frameborder=\"0\" allow=\"accelerometer; autoplay; clipboard-write; encrypted-media; gyroscope; picture-in-picture\" allowfullscreen></iframe>\n",
       "</div>\n"
      ],
      "text/plain": [
       "<IPython.core.display.HTML object>"
      ]
     },
     "metadata": {},
     "output_type": "display_data"
    }
   ],
   "source": [
    "%%html\n",
    "<div align=\"center\">\n",
    "<iframe width=\"560\" height=\"315\" src=\"https://www.youtube.com/embed/GBQFelgzjKQ\" frameborder=\"0\" allow=\"accelerometer; autoplay; clipboard-write; encrypted-media; gyroscope; picture-in-picture\" allowfullscreen></iframe>\n",
    "</div>"
   ]
  },
  {
   "cell_type": "code",
   "execution_count": null,
   "metadata": {},
   "outputs": [],
   "source": []
  }
 ],
 "metadata": {
  "kernelspec": {
   "display_name": "Python 3",
   "language": "python",
   "name": "python3"
  },
  "language_info": {
   "codemirror_mode": {
    "name": "ipython",
    "version": 3
   },
   "file_extension": ".py",
   "mimetype": "text/x-python",
   "name": "python",
   "nbconvert_exporter": "python",
   "pygments_lexer": "ipython3",
   "version": "3.8.3"
  }
 },
 "nbformat": 4,
 "nbformat_minor": 4
}
