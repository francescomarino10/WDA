{
  "cells": [
    {
      "cell_type": "markdown",
      "metadata": {
        "id": "szdUqbuRMosV"
      },
      "source": [
        "TOPIC RECOGNITION\n",
        "\n",
        "ci sono 3 importanti parametri:\n",
        "-numero di topic\n",
        "-numero di parole per topic\n",
        "-numero di topic per documento\n",
        "\n",
        "STEP:\n",
        "-TOKENIZZARE E RIPULIRE OGNI DOCUMENTO (QUINDI OGNI POST)(utilizziamo tokenizer per fare prima questa volta)\n",
        "Lasciare #parola?? (boh decidere)\n",
        "\n",
        "-per farlo con LSA il prof usa sklearn\n",
        "\n"
      ]
    },
    {
      "cell_type": "code",
      "execution_count": null,
      "metadata": {},
      "outputs": [],
      "source": [
        "import funzioni_progetto_webdata as fpw"
      ]
    },
    {
      "cell_type": "code",
      "execution_count": null,
      "metadata": {
        "id": "7GQ19mwuMmhS"
      },
      "outputs": [],
      "source": [
        "from google.colab import files\n",
        " \n",
        " \n",
        "uploaded = files.upload()"
      ]
    },
    {
      "cell_type": "code",
      "execution_count": null,
      "metadata": {
        "colab": {
          "base_uri": "https://localhost:8080/"
        },
        "id": "FT3HDf1MTLck",
        "outputId": "a4aafcf2-441c-436a-e114-7b4e0bed03c9"
      },
      "outputs": [],
      "source": [
        "# import csv\n",
        "# from collections import Counter\n",
        "# from tkinter.tix import COLUMN\n",
        "# import matplotlib.pyplot as plt\n",
        "# import re\n",
        "# import pandas as pd\n",
        "# from math import log2\n",
        "# import spacy\n",
        "# import nltk\n",
        "# nltk.download('omw-1.4')\n",
        "# nltk.download('wordnet')\n",
        "# from nltk.stem import WordNetLemmatizer\n",
        "# import gensim, pprint\n",
        "\n"
      ]
    },
    {
      "cell_type": "code",
      "execution_count": 2,
      "metadata": {
        "id": "IEonHZttdj6Q"
      },
      "outputs": [],
      "source": [
        "corpus=[\"https://colab.research.google.com/drive/1dduOM7M3RubSeqpogrM1H7PhL2S9ZMbt#scrollTo=1eeVrjeBpn1x\",\n",
        "        \"is not happy capitol riot vote forces , not happy Republican to pick truth or Trump not good is not yours\",\n",
        "        \"EU not good agrees to allow entry to vaccinated travelers\",\n",
        "        \"Why the United Nation is stuck on the Israeli-Palestinian conflict\",\n",
        "        \"New York attorney general adds 'criminal capacity' to probe of Trump Organization\",\n",
        "        \"Given the recent accusations against the European Commission on land registry, beach resorts, PNRR, public accounts, etc., it is clear that many think that the EU should behave as if it were our ATM that gives money and is silent. But the ATM gives you your money, the EU gives us other people's money.\",\n",
        "        \"ANSA FORUM | Lega secretary Matteo Salvini responds live to questions from director Luigi Contu and colleague of the political-parliamentary editorial staff Michela Suglia #ANSA\",\n",
        "        \"Murder Willy, Bianchi in the courtroom: I didn't even touch him with a finger\",\n",
        "        \"The positives at #vaiolodellescimmie in Lombardy have risen to three. The Region has already communicated the protocol that hospitals must follow in the event of symptoms appearing\",\n",
        "        \"An assault rifle in the hand of an 18-year-old. An assault rifle. #Texas\",\n",
        "        \"Transfer market live: Pogba-Juve in the final close, Napoli and Fiorentina on Deulofeu [by Giulio Cardone, Enrico De Lellis]\",\n",
        "        \"#Economia circular and #gestione environmental: limits and opportunities. The #aziende must carefully screen #investimenti , #costi and perspectives and must show #flessibilità and a rapid propensity for change\",\n",
        "        \"Fire on the island of Stromboli, flames extinguished after a night of fire #ANSA\",\n",
        "        \"A new anti-cancer vaccine, tested in mice and monkeys, has been shown to be able to break down the defenses that tumors put in place to protect themselves from attacks by the immune system by blocking diseased cells\",\n",
        "        \"Term of the day: Computational fluid dynamics Definition: The numerical solution of flow equations in practical problems such as aircraft design or hydraulic structures.\",\n",
        "        \"The mayor of Kiev: 'The Russian war will not stop in Ukraine'\",\n",
        "        \"The killer of elementary school in #Uvalde in #Texas Salvador Ramos worked in a restaurant not far from the scene of the massacre. He would have been able to save around 4,000 dollars (3.7 thousand euros) to buy the weapons he used in the massacre\"]"
      ]
    },
    {
      "cell_type": "code",
      "execution_count": 8,
      "metadata": {
        "id": "6tHy9Xn25fzi"
      },
      "outputs": [],
      "source": [
        "bigram_mdl,vectorizer,concetti=fpw.create_lsa_model(corpus)\n",
        "\n",
        "#parole=list(gensim.utils.tokenize('the war is a universal conflict ukraine fire', lower=True))#usare poi la funzione che pulisce bene come per iol topic\n",
        "lista_token = gensim.utils.tokenize(remove_link_menzione(\"the war is a universal conflict ukraine fire\"), lower=True)\n",
        "sp = spacy.load('en_core_web_sm')\n",
        "all_stopwords = sp.Defaults.stop_words\n",
        "wnl = WordNetLemmatizer()\n",
        "lemmatized_string=[wnl.lemmatize(words) for words in find_and_merge_not(lista_token,all_stopwords)]\n",
        "post=bigram_mdl[lemmatized_string]\n",
        "\n",
        "\n",
        "punteggi_LSA=fpw.punteggi_LSA(concetti,parole)\n",
        "\n",
        "risultatoTopicLSA=fpw.result_TopicLSA(punteggi_LSA,concetti)\n",
        "risultatoTopicLSAMax=fpw.result_Topic_max(punteggi_LSA,concetti)"
      ]
    },
    {
      "cell_type": "markdown",
      "metadata": {
        "id": "JZdy-qZaGwCq"
      },
      "source": [
        "LDA"
      ]
    },
    {
      "cell_type": "code",
      "execution_count": null,
      "metadata": {},
      "outputs": [],
      "source": [
        "ldamodel,concetti_LDA,corpus2,dictionary=fpw.lda(post)\n",
        "\n",
        "punteggi_LDA=fpw.punteggioLDA(concetti_LDA,parole)\n",
        "\n",
        "risultatoTopicMax=fpw.result_TopicLDA(concetti_LDA)\n",
        "\n",
        "#fpw.grafico_LDA(ldamodel,corpus2,dictionary)"
      ]
    },
    {
      "cell_type": "markdown",
      "metadata": {
        "id": "ifGebaDDYci7"
      },
      "source": [
        "HDP"
      ]
    },
    {
      "cell_type": "code",
      "execution_count": null,
      "metadata": {},
      "outputs": [],
      "source": [
        "hdpmodel,hdptopics=fpw.hdp(corpus2,dictionary)\n",
        "punteggioHDP=fpw.punteggioHDP(hdptopics,parole)\n",
        "risultatoTopicHDP=fpw.result_TopicHDP(hdptopics,parole)"
      ]
    }
  ],
  "metadata": {
    "colab": {
      "collapsed_sections": [],
      "name": "TOPIC_RECOGNITION_DEF(1).ipynb",
      "provenance": []
    },
    "kernelspec": {
      "display_name": "Python 3",
      "name": "python3"
    },
    "language_info": {
      "name": "python"
    }
  },
  "nbformat": 4,
  "nbformat_minor": 0
}
